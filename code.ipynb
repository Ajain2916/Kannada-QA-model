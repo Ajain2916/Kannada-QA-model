{
 "cells": [
  {
   "cell_type": "code",
   "execution_count": 1,
   "metadata": {},
   "outputs": [
    {
     "name": "stderr",
     "output_type": "stream",
     "text": [
      "c:\\Users\\DELL\\AppData\\Local\\Programs\\Python\\Python312\\Lib\\site-packages\\tqdm\\auto.py:21: TqdmWarning: IProgress not found. Please update jupyter and ipywidgets. See https://ipywidgets.readthedocs.io/en/stable/user_install.html\n",
      "  from .autonotebook import tqdm as notebook_tqdm\n"
     ]
    }
   ],
   "source": [
    "import torch\n",
    "from transformers import pipeline\n",
    "\n"
   ]
  },
  {
   "cell_type": "code",
   "execution_count": 2,
   "metadata": {},
   "outputs": [],
   "source": [
    "audio='D:/IIIT-B-ML/data_converted/SandalWoodNewsStories_23.wav'\n",
    "device = \"cuda:0\" if torch.cuda.is_available() else \"cpu\""
   ]
  },
  {
   "cell_type": "code",
   "execution_count": 3,
   "metadata": {},
   "outputs": [
    {
     "name": "stdout",
     "output_type": "stream",
     "text": [
      "WARNING:tensorflow:From c:\\Users\\DELL\\AppData\\Local\\Programs\\Python\\Python312\\Lib\\site-packages\\tf_keras\\src\\losses.py:2976: The name tf.losses.sparse_softmax_cross_entropy is deprecated. Please use tf.compat.v1.losses.sparse_softmax_cross_entropy instead.\n",
      "\n"
     ]
    }
   ],
   "source": [
    "transcribe = pipeline(task=\"automatic-speech-recognition\", model=\"vasista22/whisper-kannada-tiny\", chunk_length_s=30, device=device)\n",
    "transcribe.model.config.forced_decoder_ids = transcribe.tokenizer.get_decoder_prompt_ids(language=\"kn\", task=\"transcribe\")"
   ]
  },
  {
   "cell_type": "code",
   "execution_count": 4,
   "metadata": {},
   "outputs": [
    {
     "name": "stdout",
     "output_type": "stream",
     "text": [
      "PyTorch version: 2.4.1+cpu\n",
      "Device: cpu\n",
      "\n",
      "Starting transcription...\n",
      "Setting up model...\n",
      "Loading audio from D:/IIIT-B-ML/data_converted/SandalWoodNewsStories_23.wav\n"
     ]
    },
    {
     "name": "stderr",
     "output_type": "stream",
     "text": [
      "The attention mask is not set and cannot be inferred from input because pad token is same as eos token. As a consequence, you may observe unexpected behavior. Please pass your input's `attention_mask` to obtain reliable results.\n"
     ]
    },
    {
     "name": "stdout",
     "output_type": "stream",
     "text": [
      "Audio loaded - Shape: (1216355,), Sample rate: 16000\n",
      "Processing audio in 3 chunks\n",
      "Processing chunk 1/3\n",
      "Processing chunk 2/3\n",
      "Processing chunk 3/3\n",
      "\n",
      "Transcription completed successfully!\n",
      "\n",
      "Transcription: ನವಿರೋಧವು ಗಂಧದ ಗುಡಿಯಲ್ಲಿ ಜಗತ್ತಿಗೆ ಗಂಧದ ಪರಿಮಳವನ್ನು ಹಬ್ಬಿಸಿದಂಥ ಗಂಧದ ನಾಡಿನಲ್ಲಿ ಇಂಥ ಗಂಧದ ನಾಡಿನ ಕಂಪನವನ್ನು ಮತ್ತಷ್ಟು ಹೆಚ್ಚಿಸುವುದಕ್ಕೆ ಪಣತೊಟ್ಟು ನಿಂತಿದ್ದಾರೆ ಗಂಧದ ಗುಡಿಯ ಗಂಡುಗಳಿಗೆ ಇವರ ಹೆಸರು ರಮೇಶ್ ಬಲೂಟೆ ಕುಪ್ಪಳದ ಕುಷ್ಟಗಿಯವರು ಕೃಷಿಯನೇ ಬುದಕ್ಕಾಗಿಸಿಕೊಂಡಿರುವಂತಾ ರಮೇಶ್ ಗಂಧದ ನಾಡನ ಬೆಳಗು� ಸಿರಿಗಂಧವನ್ನು ಬೆಳೆದು ಸಿರಿವಂತನಾಗುವಂತಹ ಯುವ ರೈತರಿಗೆ ಕರೆಕೊಟ್ಟ ರಮೇಶ್ ಶ್ರೀಗಂಧವನ್ನು ಬೆಳೆಯುವುದು ಹೇಗೆ ಅಂತ ಕೂಡ ರೈನಿಂಗನ ಕೊಟ್ಟಿದ್ದ ಇವರ ಶ್ರಮದ ಫಲವಾಗಿ ಕುಶ್ರಗೀಯ ಸಾವಿರದ ಅಯ್ದು ನೂರು ಎಕರೆ ಪ್ರದೇಶದಲ್ಲಿ ಶ್ರೀಗಂಧ ಪರಿಮಳ ಹತ್ತಿದೆ ಶ್ರೀಗಂಧ ಬೆಳೆಯುವ ಬಗ್ಗೆ ಸುಮಾರು ಎನ್ನೂರು ಐವತ್ತು ಕ್ಕೂ ಹೆಚ್ಚು ಯುವ ರೈತರಿಗ ಶ್ರೀಗಂಧದ ಕಂಪನಿಗೆ ಹೆಚ್ಚಿಸುತ್ತಿರುವ ಈ ಕಣ್ಮನಿಗೆ ಕನ್ನಡ ಪ್ರಭಾ ಹಾಗೂ ದಶಕದ ಸಂಭ್ರಮದಲ್ಲಿರುವಂತಹ ಸುವರ್ಣ ನ್ಯೂಸ್ ವತಿಯಿಂದ ಅಸಾಮಾನ್ಯ ಕನ್ನಡಿಗ ಪ್ರಶಸ್ತಿಯ ಗೌರವ\n"
     ]
    }
   ],
   "source": [
    "import torch\n",
    "import warnings\n",
    "from transformers import WhisperProcessor, WhisperForConditionalGeneration\n",
    "import librosa\n",
    "import numpy as np\n",
    "from pathlib import Path\n",
    "\n",
    "def load_audio(file_path, target_sr=16000):\n",
    "    \"\"\"\n",
    "    Load and preprocess audio file\n",
    "    \"\"\"\n",
    "    try:\n",
    "        print(f\"Loading audio from {file_path}\")\n",
    "        # Load audio with explicit sample rate\n",
    "        y, sr = librosa.load(file_path, sr=target_sr)\n",
    "        print(f\"Audio loaded - Shape: {y.shape}, Sample rate: {sr}\")\n",
    "        \n",
    "        # Normalize audio\n",
    "        y = librosa.util.normalize(y)\n",
    "        \n",
    "        return y\n",
    "    except Exception as e:\n",
    "        print(f\"Error loading audio: {e}\")\n",
    "        return None\n",
    "\n",
    "def setup_model():\n",
    "    \"\"\"\n",
    "    Set up Whisper model with correct configuration\n",
    "    \"\"\"\n",
    "    try:\n",
    "        model_id = \"vasista22/whisper-kannada-tiny\"\n",
    "        processor = WhisperProcessor.from_pretrained(model_id)\n",
    "        model = WhisperForConditionalGeneration.from_pretrained(model_id)\n",
    "        \n",
    "        # Set specific generation parameters\n",
    "        model.config.forced_decoder_ids = processor.get_decoder_prompt_ids(\n",
    "            language=\"kn\",\n",
    "            task=\"transcribe\"\n",
    "        )\n",
    "        \n",
    "        # Ensure suppress_tokens is properly initialized\n",
    "        if not hasattr(model.config, 'suppress_tokens'):\n",
    "            model.config.suppress_tokens = []\n",
    "        \n",
    "        return model, processor\n",
    "    except Exception as e:\n",
    "        print(f\"Error setting up model: {e}\")\n",
    "        return None, None\n",
    "\n",
    "def transcribe_chunk(chunk, model, processor):\n",
    "    \"\"\"\n",
    "    Transcribe a single chunk of audio\n",
    "    \"\"\"\n",
    "    try:\n",
    "        # Process audio chunk\n",
    "        inputs = processor(\n",
    "            chunk,\n",
    "            sampling_rate=16000,\n",
    "            return_tensors=\"pt\"\n",
    "        ).input_features\n",
    "        \n",
    "        # Generate with specific parameters to avoid token suppression issue\n",
    "        with torch.no_grad():\n",
    "            generated_ids = model.generate(\n",
    "                inputs,\n",
    "                do_sample=False,\n",
    "                num_beams=1,\n",
    "                max_length=448,\n",
    "                min_length=1,\n",
    "                length_penalty=1.0,\n",
    "                temperature=0.0,\n",
    "                use_cache=True,\n",
    "                suppress_tokens=None  # Explicitly disable token suppression\n",
    "            )\n",
    "        \n",
    "        # Decode generated ids\n",
    "        transcribed_text = processor.batch_decode(\n",
    "            generated_ids,\n",
    "            skip_special_tokens=True\n",
    "        )[0].strip()\n",
    "        \n",
    "        return transcribed_text\n",
    "    except Exception as e:\n",
    "        print(f\"Error transcribing chunk: {e}\")\n",
    "        return \"\"\n",
    "\n",
    "def transcribe_audio(file_path, chunk_duration=30):\n",
    "    \"\"\"\n",
    "    Main transcription function\n",
    "    \"\"\"\n",
    "    try:\n",
    "        # Load model and processor\n",
    "        print(\"Setting up model...\")\n",
    "        model, processor = setup_model()\n",
    "        if model is None or processor is None:\n",
    "            return None\n",
    "        \n",
    "        # Load audio\n",
    "        audio = load_audio(file_path)\n",
    "        if audio is None:\n",
    "            return None\n",
    "        \n",
    "        # Calculate chunk parameters\n",
    "        chunk_length = 16000 * chunk_duration\n",
    "        num_chunks = int(np.ceil(len(audio) / chunk_length))\n",
    "        print(f\"Processing audio in {num_chunks} chunks\")\n",
    "        \n",
    "        transcription = []\n",
    "        \n",
    "        # Process each chunk\n",
    "        for i in range(num_chunks):\n",
    "            print(f\"Processing chunk {i+1}/{num_chunks}\")\n",
    "            \n",
    "            # Extract chunk\n",
    "            start = i * chunk_length\n",
    "            end = min((i + 1) * chunk_length, len(audio))\n",
    "            chunk = audio[start:end]\n",
    "            \n",
    "            # Pad last chunk if necessary\n",
    "            if len(chunk) < chunk_length:\n",
    "                chunk = np.pad(chunk, (0, chunk_length - len(chunk)))\n",
    "            \n",
    "            # Transcribe chunk\n",
    "            chunk_text = transcribe_chunk(chunk, model, processor)\n",
    "            if chunk_text:\n",
    "                transcription.append(chunk_text)\n",
    "            \n",
    "        return \" \".join(transcription)\n",
    "        \n",
    "    except Exception as e:\n",
    "        print(f\"Error in transcribe_audio: {e}\")\n",
    "        return None\n",
    "\n",
    "def main():\n",
    "    # Your audio file path\n",
    "    audio_path = \"D:/IIIT-B-ML/data_converted/SandalWoodNewsStories_23.wav\"\n",
    "    \n",
    "    print(f\"PyTorch version: {torch.__version__}\")\n",
    "    print(f\"Device: {'cuda' if torch.cuda.is_available() else 'cpu'}\")\n",
    "    \n",
    "    # Suppress warnings\n",
    "    warnings.filterwarnings(\"ignore\", category=UserWarning)\n",
    "    \n",
    "    # Perform transcription\n",
    "    print(\"\\nStarting transcription...\")\n",
    "    result = transcribe_audio(audio_path)\n",
    "    \n",
    "    if result:\n",
    "        print(\"\\nTranscription completed successfully!\")\n",
    "        print(\"\\nTranscription:\", result)\n",
    "    else:\n",
    "        print(\"\\nTranscription failed\")\n",
    "\n",
    "if __name__ == \"__main__\":\n",
    "    main()"
   ]
  },
  {
   "cell_type": "markdown",
   "metadata": {},
   "source": [
    "## audio to text 1"
   ]
  },
  {
   "cell_type": "code",
   "execution_count": null,
   "metadata": {},
   "outputs": [
    {
     "name": "stdout",
     "output_type": "stream",
     "text": [
      "PyTorch version: 2.4.1+cpu\n",
      "Device: cpu\n",
      "Initializing Whisper model...\n",
      "Model initialized successfully\n",
      "Found 71 WAV files to process\n"
     ]
    },
    {
     "name": "stderr",
     "output_type": "stream",
     "text": [
      "Processing files:   0%|          | 0/71 [00:00<?, ?it/s]"
     ]
    },
    {
     "name": "stdout",
     "output_type": "stream",
     "text": [
      "\n",
      "Processing: SandalWoodNewsStories_1.wav\n"
     ]
    },
    {
     "name": "stderr",
     "output_type": "stream",
     "text": [
      "Processing files:   1%|▏         | 1/71 [01:52<2:10:44, 112.07s/it]"
     ]
    },
    {
     "name": "stdout",
     "output_type": "stream",
     "text": [
      "Success: SandalWoodNewsStories_1.wav\n",
      "\n",
      "Processing: SandalWoodNewsStories_107.wav\n"
     ]
    },
    {
     "name": "stderr",
     "output_type": "stream",
     "text": [
      "Processing files:   3%|▎         | 2/71 [01:56<55:58, 48.68s/it]   "
     ]
    },
    {
     "name": "stdout",
     "output_type": "stream",
     "text": [
      "Success: SandalWoodNewsStories_107.wav\n",
      "\n",
      "Processing: SandalWoodNewsStories_112.wav\n"
     ]
    },
    {
     "name": "stderr",
     "output_type": "stream",
     "text": [
      "Processing files:   4%|▍         | 3/71 [01:58<30:54, 27.27s/it]"
     ]
    },
    {
     "name": "stdout",
     "output_type": "stream",
     "text": [
      "Success: SandalWoodNewsStories_112.wav\n",
      "\n",
      "Processing: SandalWoodNewsStories_144.wav\n"
     ]
    },
    {
     "name": "stderr",
     "output_type": "stream",
     "text": [
      "Processing files:   6%|▌         | 4/71 [03:07<48:46, 43.68s/it]"
     ]
    },
    {
     "name": "stdout",
     "output_type": "stream",
     "text": [
      "Success: SandalWoodNewsStories_144.wav\n",
      "\n",
      "Processing: SandalWoodNewsStories_146.wav\n"
     ]
    },
    {
     "name": "stderr",
     "output_type": "stream",
     "text": [
      "Processing files:   7%|▋         | 5/71 [03:42<44:42, 40.65s/it]"
     ]
    },
    {
     "name": "stdout",
     "output_type": "stream",
     "text": [
      "Success: SandalWoodNewsStories_146.wav\n",
      "\n",
      "Processing: SandalWoodNewsStories_148.wav\n"
     ]
    },
    {
     "name": "stderr",
     "output_type": "stream",
     "text": [
      "Processing files:   8%|▊         | 6/71 [03:46<30:39, 28.29s/it]"
     ]
    },
    {
     "name": "stdout",
     "output_type": "stream",
     "text": [
      "Success: SandalWoodNewsStories_148.wav\n",
      "\n",
      "Processing: SandalWoodNewsStories_156.wav\n"
     ]
    },
    {
     "name": "stderr",
     "output_type": "stream",
     "text": [
      "Processing files:  10%|▉         | 7/71 [05:19<52:48, 49.51s/it]"
     ]
    },
    {
     "name": "stdout",
     "output_type": "stream",
     "text": [
      "Success: SandalWoodNewsStories_156.wav\n",
      "\n",
      "Processing: SandalWoodNewsStories_158.wav\n"
     ]
    },
    {
     "name": "stderr",
     "output_type": "stream",
     "text": [
      "Processing files:  11%|█▏        | 8/71 [06:10<52:16, 49.79s/it]"
     ]
    },
    {
     "name": "stdout",
     "output_type": "stream",
     "text": [
      "Success: SandalWoodNewsStories_158.wav\n",
      "\n",
      "Processing: SandalWoodNewsStories_159.wav\n"
     ]
    },
    {
     "name": "stderr",
     "output_type": "stream",
     "text": [
      "Processing files:  13%|█▎        | 9/71 [11:15<2:13:56, 129.62s/it]"
     ]
    },
    {
     "name": "stdout",
     "output_type": "stream",
     "text": [
      "Success: SandalWoodNewsStories_159.wav\n",
      "\n",
      "Processing: SandalWoodNewsStories_167.wav\n"
     ]
    },
    {
     "name": "stderr",
     "output_type": "stream",
     "text": [
      "Processing files:  14%|█▍        | 10/71 [11:57<1:44:17, 102.58s/it]"
     ]
    },
    {
     "name": "stdout",
     "output_type": "stream",
     "text": [
      "Success: SandalWoodNewsStories_167.wav\n",
      "\n",
      "Processing: SandalWoodNewsStories_168.wav\n"
     ]
    },
    {
     "name": "stderr",
     "output_type": "stream",
     "text": [
      "Processing files:  15%|█▌        | 11/71 [12:44<1:25:43, 85.73s/it] "
     ]
    },
    {
     "name": "stdout",
     "output_type": "stream",
     "text": [
      "Success: SandalWoodNewsStories_168.wav\n",
      "\n",
      "Processing: SandalWoodNewsStories_169.wav\n"
     ]
    },
    {
     "name": "stderr",
     "output_type": "stream",
     "text": [
      "Processing files:  17%|█▋        | 12/71 [17:23<2:22:01, 144.42s/it]"
     ]
    },
    {
     "name": "stdout",
     "output_type": "stream",
     "text": [
      "Success: SandalWoodNewsStories_169.wav\n",
      "\n",
      "Processing: SandalWoodNewsStories_171.wav\n"
     ]
    },
    {
     "name": "stderr",
     "output_type": "stream",
     "text": [
      "Processing files:  18%|█▊        | 13/71 [18:14<1:52:17, 116.17s/it]"
     ]
    },
    {
     "name": "stdout",
     "output_type": "stream",
     "text": [
      "Success: SandalWoodNewsStories_171.wav\n",
      "\n",
      "Processing: SandalWoodNewsStories_172.wav\n"
     ]
    },
    {
     "name": "stderr",
     "output_type": "stream",
     "text": [
      "Processing files:  20%|█▉        | 14/71 [19:52<1:45:03, 110.58s/it]"
     ]
    },
    {
     "name": "stdout",
     "output_type": "stream",
     "text": [
      "Success: SandalWoodNewsStories_172.wav\n",
      "\n",
      "Processing: SandalWoodNewsStories_173.wav\n"
     ]
    },
    {
     "name": "stderr",
     "output_type": "stream",
     "text": [
      "Processing files:  21%|██        | 15/71 [20:42<1:26:18, 92.47s/it] "
     ]
    },
    {
     "name": "stdout",
     "output_type": "stream",
     "text": [
      "Success: SandalWoodNewsStories_173.wav\n",
      "\n",
      "Processing: SandalWoodNewsStories_174.wav\n"
     ]
    },
    {
     "name": "stderr",
     "output_type": "stream",
     "text": [
      "Processing files:  23%|██▎       | 16/71 [22:42<1:32:09, 100.54s/it]"
     ]
    },
    {
     "name": "stdout",
     "output_type": "stream",
     "text": [
      "Success: SandalWoodNewsStories_174.wav\n",
      "\n",
      "Processing: SandalWoodNewsStories_175.wav\n"
     ]
    },
    {
     "name": "stderr",
     "output_type": "stream",
     "text": [
      "Processing files:  24%|██▍       | 17/71 [25:35<1:50:14, 122.49s/it]"
     ]
    },
    {
     "name": "stdout",
     "output_type": "stream",
     "text": [
      "Success: SandalWoodNewsStories_175.wav\n",
      "\n",
      "Processing: SandalWoodNewsStories_176.wav\n"
     ]
    },
    {
     "name": "stderr",
     "output_type": "stream",
     "text": [
      "Processing files:  25%|██▌       | 18/71 [28:10<1:56:41, 132.10s/it]"
     ]
    },
    {
     "name": "stdout",
     "output_type": "stream",
     "text": [
      "Success: SandalWoodNewsStories_176.wav\n",
      "\n",
      "Processing: SandalWoodNewsStories_179.wav\n"
     ]
    },
    {
     "name": "stderr",
     "output_type": "stream",
     "text": [
      "Processing files:  27%|██▋       | 19/71 [30:15<1:52:43, 130.07s/it]"
     ]
    },
    {
     "name": "stdout",
     "output_type": "stream",
     "text": [
      "Success: SandalWoodNewsStories_179.wav\n",
      "\n",
      "Processing: SandalWoodNewsStories_181.wav\n"
     ]
    },
    {
     "name": "stderr",
     "output_type": "stream",
     "text": [
      "Processing files:  28%|██▊       | 20/71 [30:30<1:21:06, 95.42s/it] "
     ]
    },
    {
     "name": "stdout",
     "output_type": "stream",
     "text": [
      "Success: SandalWoodNewsStories_181.wav\n",
      "\n",
      "Processing: SandalWoodNewsStories_184.wav\n"
     ]
    },
    {
     "name": "stderr",
     "output_type": "stream",
     "text": [
      "Processing files:  30%|██▉       | 21/71 [31:20<1:08:13, 81.86s/it]"
     ]
    },
    {
     "name": "stdout",
     "output_type": "stream",
     "text": [
      "Success: SandalWoodNewsStories_184.wav\n",
      "\n",
      "Processing: SandalWoodNewsStories_191.wav\n"
     ]
    },
    {
     "name": "stderr",
     "output_type": "stream",
     "text": [
      "Processing files:  31%|███       | 22/71 [32:35<1:05:17, 79.95s/it]"
     ]
    },
    {
     "name": "stdout",
     "output_type": "stream",
     "text": [
      "Success: SandalWoodNewsStories_191.wav\n",
      "\n",
      "Processing: SandalWoodNewsStories_197.wav\n"
     ]
    },
    {
     "name": "stderr",
     "output_type": "stream",
     "text": [
      "Processing files:  32%|███▏      | 23/71 [33:29<57:35, 71.98s/it]  "
     ]
    },
    {
     "name": "stdout",
     "output_type": "stream",
     "text": [
      "Success: SandalWoodNewsStories_197.wav\n",
      "\n",
      "Processing: SandalWoodNewsStories_2.wav\n"
     ]
    },
    {
     "name": "stderr",
     "output_type": "stream",
     "text": [
      "Processing files:  34%|███▍      | 24/71 [33:38<41:40, 53.20s/it]"
     ]
    },
    {
     "name": "stdout",
     "output_type": "stream",
     "text": [
      "Success: SandalWoodNewsStories_2.wav\n",
      "\n",
      "Processing: SandalWoodNewsStories_200.wav\n"
     ]
    },
    {
     "name": "stderr",
     "output_type": "stream",
     "text": [
      "Processing files:  35%|███▌      | 25/71 [34:30<40:24, 52.70s/it]"
     ]
    },
    {
     "name": "stdout",
     "output_type": "stream",
     "text": [
      "Success: SandalWoodNewsStories_200.wav\n",
      "\n",
      "Processing: SandalWoodNewsStories_211.wav\n"
     ]
    },
    {
     "name": "stderr",
     "output_type": "stream",
     "text": [
      "Processing files:  37%|███▋      | 26/71 [34:50<32:19, 43.09s/it]"
     ]
    },
    {
     "name": "stdout",
     "output_type": "stream",
     "text": [
      "Success: SandalWoodNewsStories_211.wav\n",
      "\n",
      "Processing: SandalWoodNewsStories_215.wav\n"
     ]
    },
    {
     "name": "stderr",
     "output_type": "stream",
     "text": [
      "Processing files:  38%|███▊      | 27/71 [37:28<56:50, 77.50s/it]"
     ]
    },
    {
     "name": "stdout",
     "output_type": "stream",
     "text": [
      "Success: SandalWoodNewsStories_215.wav\n",
      "\n",
      "Processing: SandalWoodNewsStories_223.wav\n"
     ]
    },
    {
     "name": "stderr",
     "output_type": "stream",
     "text": [
      "Processing files:  39%|███▉      | 28/71 [38:05<46:52, 65.41s/it]"
     ]
    },
    {
     "name": "stdout",
     "output_type": "stream",
     "text": [
      "Success: SandalWoodNewsStories_223.wav\n",
      "\n",
      "Processing: SandalWoodNewsStories_229.wav\n"
     ]
    },
    {
     "name": "stderr",
     "output_type": "stream",
     "text": [
      "Processing files:  41%|████      | 29/71 [40:12<58:44, 83.92s/it]"
     ]
    },
    {
     "name": "stdout",
     "output_type": "stream",
     "text": [
      "Success: SandalWoodNewsStories_229.wav\n",
      "\n",
      "Processing: SandalWoodNewsStories_23.wav\n"
     ]
    },
    {
     "name": "stderr",
     "output_type": "stream",
     "text": [
      "Processing files:  42%|████▏     | 30/71 [40:37<45:12, 66.15s/it]"
     ]
    },
    {
     "name": "stdout",
     "output_type": "stream",
     "text": [
      "Success: SandalWoodNewsStories_23.wav\n",
      "\n",
      "Processing: SandalWoodNewsStories_230.wav\n"
     ]
    },
    {
     "name": "stderr",
     "output_type": "stream",
     "text": [
      "Processing files:  44%|████▎     | 31/71 [41:30<41:28, 62.22s/it]"
     ]
    },
    {
     "name": "stdout",
     "output_type": "stream",
     "text": [
      "Success: SandalWoodNewsStories_230.wav\n",
      "\n",
      "Processing: SandalWoodNewsStories_239.wav\n"
     ]
    },
    {
     "name": "stderr",
     "output_type": "stream",
     "text": [
      "Processing files:  45%|████▌     | 32/71 [42:52<44:13, 68.03s/it]"
     ]
    },
    {
     "name": "stdout",
     "output_type": "stream",
     "text": [
      "Success: SandalWoodNewsStories_239.wav\n",
      "\n",
      "Processing: SandalWoodNewsStories_242.wav\n"
     ]
    }
   ],
   "source": [
    "import torch\n",
    "import warnings\n",
    "from transformers import WhisperProcessor, WhisperForConditionalGeneration\n",
    "import librosa\n",
    "import numpy as np\n",
    "from pathlib import Path\n",
    "import json\n",
    "import time\n",
    "from tqdm import tqdm\n",
    "import os\n",
    "\n",
    "class WhisperTranscriber:\n",
    "    def __init__(self, model_id=\"vasista22/whisper-kannada-tiny\"):\n",
    "        print(\"Initializing Whisper model...\")\n",
    "        self.processor = WhisperProcessor.from_pretrained(model_id)\n",
    "        self.model = WhisperForConditionalGeneration.from_pretrained(model_id)\n",
    "        \n",
    "        # Set model configuration\n",
    "        self.model.config.forced_decoder_ids = self.processor.get_decoder_prompt_ids(\n",
    "            language=\"kn\",\n",
    "            task=\"transcribe\"\n",
    "        )\n",
    "        \n",
    "        # Disable token suppression\n",
    "        if not hasattr(self.model.config, 'suppress_tokens'):\n",
    "            self.model.config.suppress_tokens = []\n",
    "            \n",
    "        print(\"Model initialized successfully\")\n",
    "\n",
    "    def load_audio(self, file_path, target_sr=16000):\n",
    "        \"\"\"Load and preprocess audio file\"\"\"\n",
    "        try:\n",
    "            y, sr = librosa.load(file_path, sr=target_sr)\n",
    "            y = librosa.util.normalize(y)\n",
    "            return y\n",
    "        except Exception as e:\n",
    "            print(f\"Error loading {file_path}: {e}\")\n",
    "            return None\n",
    "\n",
    "    def transcribe_chunk(self, chunk):\n",
    "        \"\"\"Transcribe a single chunk of audio\"\"\"\n",
    "        try:\n",
    "            inputs = self.processor(\n",
    "                chunk,\n",
    "                sampling_rate=16000,\n",
    "                return_tensors=\"pt\"\n",
    "            ).input_features\n",
    "            \n",
    "            with torch.no_grad():\n",
    "                generated_ids = self.model.generate(\n",
    "                    inputs,\n",
    "                    do_sample=False,\n",
    "                    num_beams=1,\n",
    "                    max_length=448,\n",
    "                    min_length=1,\n",
    "                    length_penalty=1.0,\n",
    "                    temperature=0.0,\n",
    "                    use_cache=True,\n",
    "                    suppress_tokens=None\n",
    "                )\n",
    "            \n",
    "            return self.processor.batch_decode(\n",
    "                generated_ids,\n",
    "                skip_special_tokens=True\n",
    "            )[0].strip()\n",
    "        except Exception as e:\n",
    "            print(f\"Error transcribing chunk: {e}\")\n",
    "            return \"\"\n",
    "\n",
    "    def transcribe_audio(self, file_path, chunk_duration=30):\n",
    "        \"\"\"Transcribe complete audio file\"\"\"\n",
    "        try:\n",
    "            # Load audio\n",
    "            audio = self.load_audio(file_path)\n",
    "            if audio is None:\n",
    "                return None\n",
    "            \n",
    "            # Process in chunks\n",
    "            chunk_length = 16000 * chunk_duration\n",
    "            num_chunks = int(np.ceil(len(audio) / chunk_length))\n",
    "            transcription = []\n",
    "            \n",
    "            # Process each chunk\n",
    "            for i in range(num_chunks):\n",
    "                start = i * chunk_length\n",
    "                end = min((i + 1) * chunk_length, len(audio))\n",
    "                chunk = audio[start:end]\n",
    "                \n",
    "                # Pad if necessary\n",
    "                if len(chunk) < chunk_length:\n",
    "                    chunk = np.pad(chunk, (0, chunk_length - len(chunk)))\n",
    "                \n",
    "                chunk_text = self.transcribe_chunk(chunk)\n",
    "                if chunk_text:\n",
    "                    transcription.append(chunk_text)\n",
    "            \n",
    "            return \" \".join(transcription)\n",
    "            \n",
    "        except Exception as e:\n",
    "            print(f\"Error transcribing {file_path}: {e}\")\n",
    "            return None\n",
    "\n",
    "def process_folder(input_folder, output_folder):\n",
    "    \"\"\"Process all audio files in a folder\"\"\"\n",
    "    # Create output folder if it doesn't exist\n",
    "    output_folder = Path(output_folder)\n",
    "    output_folder.mkdir(parents=True, exist_ok=True)\n",
    "    \n",
    "    # Initialize transcriber\n",
    "    transcriber = WhisperTranscriber()\n",
    "    \n",
    "    # Get all WAV files\n",
    "    input_folder = Path(input_folder)\n",
    "    audio_files = list(input_folder.glob(\"*.wav\"))\n",
    "    \n",
    "    print(f\"Found {len(audio_files)} WAV files to process\")\n",
    "    \n",
    "    # Dictionary to store results\n",
    "    results = {}\n",
    "    \n",
    "    # Process each file\n",
    "    for audio_file in tqdm(audio_files, desc=\"Processing files\"):\n",
    "        print(f\"\\nProcessing: {audio_file.name}\")\n",
    "        \n",
    "        try:\n",
    "            # Transcribe audio\n",
    "            transcription = transcriber.transcribe_audio(str(audio_file))\n",
    "            \n",
    "            if transcription:\n",
    "                # Save individual transcription\n",
    "                output_file = output_folder / f\"{audio_file.stem}.txt\"\n",
    "                with open(output_file, 'w', encoding='utf-8') as f:\n",
    "                    f.write(transcription)\n",
    "                \n",
    "                # Add to results dictionary\n",
    "                results[audio_file.name] = {\n",
    "                    'status': 'success',\n",
    "                    'transcription': transcription,\n",
    "                    'output_file': str(output_file)\n",
    "                }\n",
    "                print(f\"Success: {audio_file.name}\")\n",
    "            else:\n",
    "                results[audio_file.name] = {\n",
    "                    'status': 'failed',\n",
    "                    'error': 'Transcription failed'\n",
    "                }\n",
    "                print(f\"Failed: {audio_file.name}\")\n",
    "                \n",
    "        except Exception as e:\n",
    "            results[audio_file.name] = {\n",
    "                'status': 'error',\n",
    "                'error': str(e)\n",
    "            }\n",
    "            print(f\"Error processing {audio_file.name}: {e}\")\n",
    "    \n",
    "    # Save summary report\n",
    "    report_path = output_folder / 'transcription_report.json'\n",
    "    with open(report_path, 'w', encoding='utf-8') as f:\n",
    "        json.dump(results, f, ensure_ascii=False, indent=2)\n",
    "    \n",
    "    return results\n",
    "\n",
    "def main():\n",
    "    # Configure paths\n",
    "    input_folder = \"D:/IIIT-B-ML/data_converted\"\n",
    "    output_folder = \"D:/IIIT-B-ML/transcriptions\"\n",
    "    \n",
    "    print(f\"PyTorch version: {torch.__version__}\")\n",
    "    print(f\"Device: {'cuda' if torch.cuda.is_available() else 'cpu'}\")\n",
    "    \n",
    "    # Suppress warnings\n",
    "    warnings.filterwarnings(\"ignore\", category=UserWarning)\n",
    "    \n",
    "    # Process all files\n",
    "    start_time = time.time()\n",
    "    results = process_folder(input_folder, output_folder)\n",
    "    \n",
    "    # Print summary\n",
    "    total_files = len(results)\n",
    "    successful = sum(1 for r in results.values() if r['status'] == 'success')\n",
    "    failed = total_files - successful\n",
    "    \n",
    "    print(\"\\nProcessing Complete!\")\n",
    "    print(f\"Total files processed: {total_files}\")\n",
    "    print(f\"Successfully transcribed: {successful}\")\n",
    "    print(f\"Failed: {failed}\")\n",
    "    print(f\"Total time taken: {time.time() - start_time:.2f} seconds\")\n",
    "    print(f\"\\nResults saved in: {output_folder}\")\n",
    "\n",
    "if __name__ == \"__main__\":\n",
    "    main()"
   ]
  },
  {
   "cell_type": "code",
   "execution_count": 4,
   "metadata": {},
   "outputs": [],
   "source": [
    "import torch\n",
    "import warnings\n",
    "from transformers import WhisperProcessor, WhisperForConditionalGeneration\n",
    "import librosa\n",
    "import numpy as np\n",
    "from pathlib import Path\n",
    "import json\n",
    "import time\n",
    "from tqdm import tqdm\n",
    "import os\n",
    "from difflib import SequenceMatcher\n",
    "from concurrent.futures import ThreadPoolExecutor\n",
    "import re"
   ]
  },
  {
   "cell_type": "code",
   "execution_count": null,
   "metadata": {},
   "outputs": [
    {
     "name": "stdout",
     "output_type": "stream",
     "text": [
      "Initializing Whisper model...\n",
      "Model initialized successfully\n",
      "Question Transcription: ಗಂಧದ ಮರದ ಬೆಳೆ ಎಷ್ಟು ಕರೆ ವಿಸ್ತೀರ್ಣದಲ್ಲಿ ಬೆಳೆಯಲಾಗುತ್ತಿದೆ ಮತ್ತು ಎಷ್ಟು ರೈತರು ಈ ಬೆಳೆಯನ್ನು ಬೆಳೆಯುತ್ತಿದ್ದಾರೆ\n",
      "\n",
      "Relevant Answers:\n",
      "\n",
      "File: SandalWoodNewsStories_1.txt\n",
      "Similarity Score: 0.8587470650672913\n",
      "Answer: ಮುಖ್ಯಾಂಶಗಳು ಮುಖ್ಯಾಂಶಗಳು ಮುಖ್ಯಮಂತ್ರಿ ಎಚ್\n",
      "\n",
      "File: SandalWoodNewsStories_107.txt\n",
      "Similarity Score: 0.9359829425811768\n",
      "Answer: ದರಗಿರಲಿರುವ ಕೊರೊನಾ ಸೋಂಕು ಹರಡಿರುವ ಸಾಧ್ಯತೆ ಇದೆ ದರಲ್ಲಿ ಕೇಂದ್ರ ಸರ್ಕಾರದ ಸಮಿತಿ ಸಭೆಯಲ್ಲಿ ನಿನ್ನೆ ಸಿದ್ದರಾಮಯ್ಯ ಮಾತನಾಡಿದ ಅವರು ಸರ್ಕಾರಿ ಸಮಿತಿ ಸಭೆಯಲ್ಲಿ ಮಾತನಾಡಿದರು\n",
      "\n",
      "File: SandalWoodNewsStories_112.txt\n",
      "Similarity Score: 0.947618842124939\n",
      "Answer: ಗಿಡಾಗಿ ಕೊಟ್ಟರಲ್ಲ ಹಾಕಿದೆ ಬೆಳೆಗಳು ಯಾವ ಕೊಟ್ಟರೆ\n",
      "\n",
      "File: SandalWoodNewsStories_144.txt\n",
      "Similarity Score: 0.8889991641044617\n",
      "Answer: ಹೈ ಇಳಿಕೆ ಮಾಡಿದ್ದು ಇವತ್ತು ನಾವು ನಮ್ಮ ಶ್ರೀಗದ ತೋಟದಲ್ಲಿದೆವೆ ಇದು ಒಂದು ವರ್ಷದ ಹಿಂದೆ ನಾವೊಂದು ಅತಿಲಲ್ಲಿ ಡಾಲಪ್ ಮಾಡಿರುವಂತಹ ತೋಟ ಅತಿನಿಯಿಂದ ಸ್ವಲ್ಪ ದೂರಾಗುತ್ತೆ ಭಟ್ನಾವರ ಫ್ರೆನ್ಸಿಘತ್ತೆ ನಿಯಂತ್ರಿಸುತ್ತಿದ್ದೇನೆ ಯಾಕಂದ್ರೆ ಇದೇ ತೋಟದ ಬಗ್ಗೆ ನಾವು ಇದರ ಕುರಿತು ಸ್ವಲ್ಪ ಡಿಟೆಲ್ಸ್ ನಿನ್ ಹೇಳುತ್ತಿದೆ ನವಿಡುಲಿಯಲ್ಲಿ ನಮ್ಮ ರೈತರೇ ತಮ್ಮ ಅನಿಸಿಕೆ ಅಭಿಪ್ರಾಯನ ಹೇಳುತ್ತಾರೆ ನೀವು ನೋಡಬಹುದು ಚನ್ನಲ್ಗೆ ಯಾರು ಹೊಸಬೀದಿರುವ ದೈವಿಟ್ಟು ನನ್ನ ರಿಕಸ್ಟ್ ಮಾಡುತ್ತಿದ್ದೇನೆ ಸಬ್ಸ್ಪ್ಲೇಪ್ ಮಾಡುತ್ತಿಲ್ಲ ಸಬ್ಸ್ಪ್ಲೇಪ್ ಮಾಡುತ್ತಿಲ್ಲ ಸಬ್ಸ್ಪ್ಲೇಪ್ ಮಾಡುತ್ತಿಲ್ಲ ಸಬ್ಲಬ್ ಮಾಡುತ್ತಿಲ್ಲ ಸಬ್ಲಬ್ ಸಬ್ ಸಬ್ ಸಬ್ ಸಬ್ ಸಬ್ ಸಬ್ ಸಬ್ ಸಬ್ ಸಬ್ ಸಬ್ ಸಬ್ ಸಬ್ ಸಬ್ �� ದೇವೇಗೌಡ ಅವರು ಮಾತನಾಡಿದರು ಇ ಹೊಲ ಫಸ್ಟಿಗೆ ಕಬ್ಬು ಬೇಸಾಯ ಮಾಡುತ್ತಿದ್ದರೆ ಅಂತಂದ್ರೆ ಶುಗರ್ ಕೇನ್ ಕಲ್ಯೂಷನ್ ನಡೆದಿತ್ತು ಆ ಪ್ಲಾಟ್ನಾನ್ನಲ್ಲಿ ಸೆಲೆಕ್ಟ್ ಮಾಡಿದೆ ಕೇರಳದಲ್ಲಿ ಕೊರೊನಾ ಸೋಂಕು ಹರಡಿರುವ ಸಾಧ್ಯತೆ ಇದೆ ಅಂತಂದ್ರೆ ಇದರ ಗ್ರೋತ್ ಬಾಳಾ ಫಾಸ್ಟ್ ಇದೇ ಇದರ ಮೆಚುರಿಟಿ ಲೇವಾಲ್ ಹೈದರೆ ಅಮೇಲೆ ನಮ್ಮ ತೋಟದ ಇತೋಟದ ರೆಫೆನ್ಸಿಡಿದೆ ಕಬ್ಬಿನ ತೋಟಾಯಿತಾಗ ಆಕ್ಕಪಕ್ಕ ಸರಾಂಡಿಂಗ್ ಇಳಿಕ್ಕಪ್ಪ ಬೆಳೆದವರು ಏನು ಮಾಡುತ್ತಾರೆ ಹೆಚ್ಚಿನ ರೀತಿಯಲ್ಲಿ ಇಲಾಗಿದೆ ಮದರ್ ಪ್ಲಾಂಟ್ ಬಾಳ ಮುಖ್ಯ ಆಗುತ್ತೆ ನೀವು ಬೀಜಿಯಲ್ಲಿ ಕಲೆಕ್ಟ್ ಮಾಡಿದ್ದರು ಇಂದು ಮತ್ತೊಂದು ಹೊಸ್ಟು ಎರಡು ನಾವು ಪ್ರಾಪ್ತಾಪ್ರದೇಶದಲ್ಲಿದ್ದು ಬರುತ್ತೆ ಹಿಡಿತರ ನಂಬರ್ ನಾನು ಕೊಡುತ್ತೇನೆ ನಮಗೆ ನೇರ ಸಂಪರ್ಕಿಸಿದರೆ ನೆಲುಹೋಗಿ ತೋಟನ್ನು ವೀಕ್ಷಿಸಿ ನಿಮ್ಮ ಅನಿಸಿಕೆ ಅಭಿಪ್ರಾಯವನ್ನು ಕಮೆಂಟ್ ಸೆಲ್ ಹಾಕಿ ಅಮೇಲೆ ಇನ್ನೊಂದು ಭಾಗ ಬರುತ್ತಿದೆ ನಗರದಲ್ಲಿ ನಿನ್ನೆ ಸುದ್ದಿಗಾರರೊಂದಿಗೆ ಮಾತನಾಡಿದ ಅವರು ಜನಪ್ರಿಯತೆ ಕುರಿತು ಸಾರ್ವಜನಿಕರು ಸಹಕಾರಿ ಮತ್ತು ಸಹಕಾರಿ ಮತ್ತು ಸಹಕಾರಿ ಮುಂದುವರೆಯಲಿದೆ ನಂದಗುರಿನಲ್ಲಿ ನಿನ್ನೆ ನಿನ್ನೆ ಸುದ್ದಿಗೋಷ್ಟಿಯಲ್ಲಿ ನಿನ್ನೆ ಸುದ್ದಿಗೋಷ್ಟಿಯಲ್ಲಿ ಮಾತನಾಡಿದ ಅವರು ಮಾತನಾಡಿದರು ಸಮಯ ನಮ್ಮ ಎಂಟು ವರ್ಷದ ನಾಲೇಜನ್ ಹಾಕ್ತಾ ಇದ್ದಾಗ ಹೆಚ್ಚು ಕಡಿಮೆ ತಿಳಿಕೆಡಿಸಿ ಸಂಪರ್ಕಿಸಿ ನಿಮಗೆ ಅರಿಸಿ ಬೇಕೆಂದರೆ ನೀವು ಪಡಬಹುದು ನಮ್ಮ ರೈತರಿಯನ್ನು ಹೇಳ್ತಾರೆ ನೋಡೋಣ ಜಿಲ್ ಯಾವಾಗ ಬೇಕು ದರಗಿರಲಿರುವ ಹದಿನೆಂಟು ಸೆಂಟಿಮೀಟರ್ ಮಳೆಯಾಗಿದೆ ಖರೆ ಕುರಿಯಿಂದ ಸರಿ ಆದರೆ ಅವರು ಇದು ಕಡಿಮೆಗೆ ರನ್ನು ಸ್ವಲ್ಪ ಗಿಡ ಫಂಗಸ್ಟ್ ಅವರು ನಿಮ್ಮ ಅನಿಸಿಕೆ ಅಭಿಪ್ರಾಯ ಹೇಳಿ ವೀಕ್ಷಕರನ್ನು ಕೇಳಿದ್ದು ತಮ್ಮ ಒಂದು ಸಾವಿರ ಕೋಟಿ ರೂಪಾಯಿ ಮಾಡಬೇಕು ಎಂದು ಅವರು ನೀಡಿದರು ಸಿಂಧೂಮ್ ಅವರು ಮಾತನಾಡಿದ ಅವರು ಮಾತನಾಡಿದರು ನಗರದಲ್ಲಿ ನಿನ್ನೆ ನಡೆದ ಸಮಾರಂಭದಲ್ಲಿ ನಿನ್ನೆ ನಡೆದ ಸಭೆಯಲ್ಲಿ ಮಾತನಾಡಿದರು ದರಲ್ಲಿ ನಿಮ್ಮ ಸರ್ಕಾರ ಸಂಪರ್ಕಿಸಿದ್ದರು ಕೊಟ್ಟು ಒಂದು ಪ್ಲಾನ್ ಮಾಡಿ ನಿಮಗೆ ಒಂದು ಎಕ್ಸಿಕ್ಯೂಟ್ ಮಾಡುತ್ತಾರೆ\n",
      "\n",
      "File: SandalWoodNewsStories_146.txt\n",
      "Similarity Score: 0.8824718594551086\n",
      "Answer: ಸುಸ್ಥಿರ ಕೃಷಿಯಂತ ನಿವೇಶ್ ಹೇಳ್ತಿರಿ ಶಾಟಮು ಮಿಗೆಂಪ್ಟನ್ನು ಲಾಂಗ್ಟನ್ನು ಮೂರು ಇರಬೇಕು ರೈತ ರಿಟರ್ಡ್ ಆಗಿ ಅಂಕಯ್ಯಲ್ಲಿ ದವಸಾಯ ಮಾಡಾ ಕಾಗದೇ ಇದಾಗ ಬೇಲಿಯೊಳಗೆ ಬದು ಮೇಲೆ ಮತ್ತು ಮರಗುಳಿದನ್ನು ಗಿಡಮರ್ಗೊಳಿಸಿದ್ದೇನೆ ಅವನ್ನು ಸರವಾಗಿದೆ ಎಂದು ಸರ್ಕಾರವಾಗಿದೆ ಎಂದು ಜಿಲ್ಲಾಧಿಕಾರಿ ನುಡಿದರು ಗಂಧ ಒಂದು ತರಸೈಟ್ ಅಂದರೆ ಅದಾಗಿ ಅದು ತನ್ನ ನ್ಯೂಟಿನ್ನಲ್ಲಿ ಮಾಡಿಕೊಳ್ಳಲ್ಲಿ ಬೇರೆ ಬೇರೆ ಜೊತೆಗೆ ಅದರ ಬೇರೆಗೆ ಸೇರಿಕೊಂಡು ಅದರಲ್ಲಿ ಸೇನೆ ಅಬ್ಜೆಮಟ್ ಕೊಳ್ಳಲು ಇದ್ದು ಇದ್ದರು ಇನ್ನು ಇನ್ನು ಇನ್ನು ಇನ್ನು ಇನ್ನು ಇನ್ನು ಇನ್ನು ಇನ್ನು ಇನ್ನು ಇನ್ನು ಇನ್ನು ಇನ್ನು ಇನ್ನು ಇನ್ನು ಇನ್ನು ಇನ್ನು ಇನ್ನು ಇನ್ನು ಇನ್ನು ಇನ್ನು ಇನ್ನು ಇನ್ನು ಇನ್ನು ಕೇರಳದಲ್ಲಿ ನಿನ್ನೆ ಸುದ್ದಿಗೋಷ್ಟಿಯಲ್ಲಿ ಮಾತನಾಡಿದ ಅವರು ಮಾತನಾಡಿದರು ಚಾಲಿನಲ್ಲಿ ಇದುವರೆಗೆ ಬೇರೆ ಬೇರೆ ಬೇರೆ ಬೇರೆ ಬೇರೆ ಬೇರೆ ಬೇರೆ ಬೇರೆ ಬೇರೆ ಬೇರೆ ಬೇರೆ ಬೇರೆ ಬೇರೆ ಬೇರೆ ಬೇರೆ ಬೇರೆ ಬೇರೆ ಬೇರೆ ಬೇರೆ ಬೇರೆ ಬೇರೆ ಬೇರೆ ಬೇರೆ ಬೇರೆ ಬೇರೆ ಬೇರೆ ಬೇರೆ ಬೇರೆ ಬೇರೆ ಬೇರೆ ಬೇರೆ ಬೇರೆ ಬೇರೆ ಬೇರೆ ಬೇರೆ ಬೇರೆ ಬೇರೆ ಬೇರೆ ಬೇಕು ಎಂದು ಹೇಳಿದರು ನಿಮಗೆ ಏನು ಸಿಗಲಿಲ್ಲ ಅದು ಕೋಸ್ಕರ ಡೆವರ್ಸಿಟಿ ಮಧ್ಯದಲ್ಲಿ ಮಾಡಲು ಸಾಧ್ಯವಿರುವ ಸಾಧ್ಯವಾಗಿದೆ ದೇವೇಗೌಡ ಅವರು ಇಂದು ಬೆಳಗಿನಿಂದ ನಾಲ್ಕು ನೂರ ಹತ್ತು ಕೋಟಿ ರೂಪಾಯಿ ಮೌಲ್ಯದ ಮೇಲೆ ನಿಗಾ ವಹಿಸಿಕೊಳ್ಳಲಾಗಿದೆ ದುಡ್ ಕರೆ ಮಾಡಿರುವ ಕಾರ್ಯಕ್ರಮದಲ್ಲಿ ಮಾತನಾಡಿದ ಅವರು ಜಿಲ್ಲೆಯ ಸರ್ಕಾರಿ ಸಮಸ್ಯೆ ಕಾರ್ಯಕ್ರಮಗಳನ್ನು ಕೈಗೊಳ್ಳಲಾಗುವುದು ಎಂದು ಅವರು ಹೇಳಿದರು ಆದರೆ ನಮಗೆ ನಾಗರಿಕರು ಸರ್ವಜನಿಕರು ಸರ್ವಯವಲ್ಲಿ ಚೆನ್ನಾಗಿರುತ್ತದೆ ಎಂಎಸ್ ಅಧಿಕಾರಿ ಡಾ\n",
      "\n",
      "File: SandalWoodNewsStories_148.txt\n",
      "Similarity Score: 0.947618842124939\n",
      "Answer: ಗಿಡಾಗಿ ಕೊಟ್ಟರಲ್ಲ ಹಾಕಿದೆ ಬೆಳೆಗಳು ಯಾವ ಕೊಟ್ಟರೆ\n",
      "\n",
      "File: SandalWoodNewsStories_156.txt\n",
      "Similarity Score: 0.8929348587989807\n",
      "Answer: ಸರಿಗೆ ಮೊದಲ ಪ್ರಶ್ನೆ ನಂತರ ಹೇಳಿದರೆ ನಂಬಿಕೆ ಮಾಡಿದ ಅವರು ಮಾತನಾಡಿದರು ಸಿಗಂಜೆ ಮತ್ತು ಸಾರ್ವಜನಿಕರು ಸಾಮಾಜಿಕ ಅಂತರ ಕಾಯ್ದುಕೊಳ್ಳುವುದು ಸಾಮಾಜಿಕ ಅಂತರ ಕಾಯ್ದುಕೊಳ್ಳುವುದು ಸಾಮಾಜಿಕ ಅಂತರ ಕಾಯ್ದುಕೊಳ್ಳುವುದು ಸಾಮಾಜಿಕ ಅಂತರ ಕಾಯ್ದುಕೊಳ್ಳುವುದು ಸಾಮಾಜಿಕ ಅಂತರ ಕಾಯ್ದುಕೊಳ್ಳುವುದು ಸಾಮಾಜಿಕ ಅಂತರ ಕಾಯ್ದುಕೊಳ್ಳುವುದು ಸರಿಗಾದಿತ್ತು ಶಂಕೆ ಮತ್ತು ನಮ್ಮ ನಮ್ಮ ನಮ್ಮ ನಮ್ಮ ನಮ್ಮ ನಮ್ಮ ನಮಮಕಾತಿ ನಮ್ಮ ನಮ್ಮ ನಮಮಕಾತಿ ನಮ್ಮ ನಮಮಕಾತಿ ನಮ್ಮ ನಮಮಕಾತಿ ನಮ್ಮ ನಮಮಕಾತಿ ನಮ್ಮ ನಮಮಕಾತಿ ನಮ್ಮ ನಮಮಕಾತಿ ನಮ್ಮ ನಮಮಕಾತಿ ನಮ್ಮ ನಮಮಕಾತಿ ನಮ್ಮ ನಮಮಕಾತಿ ನಮ್ಮ ನಮಮಕಾತಿ ನಮ್ಮ ನಮಮಕಾತಿ ನಮ್ಮ ನಮಮಕಾತಿ ನಮ್ಮ ನಮಮಗಳು ಸಂದರ್ಭಗೊಂಡಿಸಿದ್ದಾರೆ ಗೀಗ ಸಿಕ್ಕೋದಿಲ್ಲ ಬಿಡಿಕೇರಿ ರನ್ನು ಸಿಂಗ್ ಅವರು ಮಾತನಾಡಿದರು ಬೆಲೆಗೆ ಪ್ರಕಾರ ಯಾವ ಬೆಲೆ ಅನುಕೂಲ ಸರಿಯಲ್ಲಿ ಕೂಡ ಎಲ್ಲಾ ರೀತಿಯ ಮಣ್ಣುಗಳು ಸಾಧ್ಯವಾಗದೆ ಸಿಕ್ಕಿದ್ದರು ಅಂತರಾಯಿತು ಇನಿಶಲಿ ಗೊಬ್ಬರ ಅದು ಸೊಪ್ಪು ಕಟ್ಟಿಂಗ್ ತಾಂದು ಹಾಕಬಹುದು ಬೆಳೆಯುವ ತಕ್ಕಂತಹ ಯಾವುದು ಪ್ರಶ್ನೆ ಕೇಳಿದರೆ ಮದುವೆ ಪ್ರಶ್ನೆ ಸರ್ಕಾರದ ನಿಯಮಗಳಿಗೆ ನಾವು ಮಾಡಬೇಕು ಮೊದಲನ್ನು ಅಡ್ಡಿ ಇದ್ದಿಲ್ಲ ಮುಂಚೆ ಕೂಡ ಸರ್ಕಾರದ ಸ್ವತ್ತು ಅದು ನಮ್ಮ ಡಿಪೋಗೆ ಸ್ಯಾಂಡಲ್ ವುಡ್ಡ ಅರಣ್ಯ ಇಲಾಖೆಯ ಕೋಟಿಗೆ ತಗೊಂಡು ಹಾಗೂ ಅಲ್ಲಿಯಾದನ್ನು ಡ್ರಸಿಂಗ್ ಮಾಡುತ್ತೇವೆ ದಲ್ಲಿ ನಿನ್ನೆ ಸುದ್ದಿಗಾರರೊಂದಿಗೆ ಮಾತನಾಡಿದ ಅವರು ಕೇಂದ್ರ ಸರ್ಕಾರ ಅನುಮಾನದಲ್ಲಿ ಸಾಗಿದೆ ಎಂದು ಅವರು ಹೇಳಿದರು ವಣಭೇಷಾಯದಲ್ಲಿ ಚೆನ್ನಾಗಿದೆ ರನ್ನು ಸಾರಿಗೆ ಮಾಡಿದ್ದಾರೆ ಸ್ವಲ್ಪ ತ್ಯಾಗಮಾನ ಸಿಗುತ್ತದೆ ನಂದಾಜಿರಲ್ಲಿ ಒಂದೆರೆಡ್ ಕೆಜಿ ಹಾಟು ಸಿಗುವುದು ವರ್ಷಕ್ಕೆ ನಾನು ಹೇಳೋದು ನಿರ್ದಿಷ್ಟ ಇಷ್ಟೇ ಆಗುತ್ತದೆ ಆದರೆ ನೋಡಿದ್ದರೆ ಎಷ್ಟು ಬಯಿಸಿದೆ ಚಾಗುತ್ತದೆ ಅದು ಜತೆ ನೀರಾವರಿಯಲ್ಲಿ ಕೊಟ್ಟು ಬೆಳೆದರೆ ಅನುಮರೆಡ್ಡೆ ನಮಸ್ಕಾರ ಸರ್ಕಾರದ ಸಮರ್ಥ ಅವರು ಮಾಡಿದ್ದೇನೆ ಸಿಕ್ಕಿದ್ದರೆ ಕಾಲೇಜು ಮತ್ತು ಸಾಮಾಜಿಕ ಅಂತರ ಕಾಯ್ದುಕೊಳ್ಳುವ ಸಾಧ್ಯತೆ ಇದೆ ನಗರದಲ್ಲಿ ಕೊರೋನಾ ಸೋಂಕು ಹರಡಿರುವ ಸಾಧ್ಯತೆ ಇದೆ ನಗರದಲ್ಲಿ ನಿನ್ನೆ ಸುದ್ದಿಗಾರರೊಂದಿಗೆ ಮಾತನಾಡಿದ ಅವರು ಮಾತನಾಡಿದರು ಸಿರುವ ಸಂದರ್ಭದಲ್ಲಿ ಸಾರ್ವಜನಿಕರು ಸಹಕಾರಿ ಸಂಬಂಧಿಸಿದಂತೆ ಸಚಿವರು ಸಿದ್ದರಾಮಯ್ಯ ಮಾಡಿದ್ದಾರೆ ಕ್ಕೆ ಇಲ್ಲಿ ಕೂಡ ನಾವು ಸ್ಯಾಂಡಲ್ ಎಸ್ಟೇಟ್ ಒಂದು ಕಾನ್ಸೆಪ್ಟೆನ್ನಿಸ್ ಅಧಿಕಾರಿ ನೋಡಿ ಅವರು ಅವರು ಅವರು ಮಾಡಿದ್ದಾರೆ ರನ್ನಿಸಿ ಅರಬ್ ಇಲಾಖೆ ಸಸ್ಯಗಾರಗಳು ಹತ್ತಿರದಲ್ಲಿಯೇ ಇರತಕ್ಕಂತ ಅರಣ್ಯ ಇಲಾಖೆ ಸಶಸ್ತ್ರ ಪಡೆದು ಅರಣ್ಯ ಇಲಾಖೆ ಸಚಿವರು ಸಹ ಯೋಜನೆಯಲ್ಲಿ ಅವರು ಬಿಡುಗಿಸಿದ್ದಾರೆ ನಗರದಲ್ಲಿ ನಿನ್ನೆ ಸುದ್ದಿಗಾರರೊಂದಿಗೆ ಮಾತನಾಡಿದ ಅವರು ಮಾತನಾಡಿದರು ಆ ನಾವು ಜೊತೆ ಮಾಡಿದ್ದಾರೆ ಕಂಪಿನಿಂದ ಮೇಲೆ ಏನಂತಿರಿ ಕ್ರೌನ್ ಅಂತ ಹೇಳ್ತೀವಿ ರಲ್ಲಿ ಮಾಡಬೇಕಾಗುತ್ತದೆ ಕಳೆದ ಕೊರತೆಯಲ್ಲಿ ಕಾರ್ಯಕ್ರಮಗಳನ್ನು ತಿಳಿಸಿಕೊಂಡು ಅವರು ಮಾತನಾಡಿದರು ಕೋಲರಲ್ಲಿ ಹಳ್ಳಿಗಳಲ್ಲಿ ನಾವು ನಟ್ಟಿದ್ದೇವೆ\n",
      "\n",
      "File: SandalWoodNewsStories_158.txt\n",
      "Similarity Score: 0.8793208003044128\n",
      "Answer: ಮರಳಿಧರ ಪ್ರದೇಶದಲ್ಲಿ ನಿರ್ಮಾಣಕ್ಕೆ ಸಂಬಂಧಿಸಿದಂತೆ ಸರ್ಕಾರದ ಮುಖ್ಯಮಂತ್ರಿ ಅರವಿಂದ್ ಕಾರ್ಯಕ್ರಮಗಳನ್ನು ಕೈಗೊಂಡಿದ್ದರು ರಮ್ಯಾಸ್ತ್ರ ಅಂತಾಲಾಜು ಶಿಕಾರಿ ತಾಲೂಕು ಶಮಗ ಜಿಲ್ಲೆ ಮಾವಿಗ ಸುಂಬರ್ ಹನ್ನೊಂದು ವರ್ಷಾಯ್ತು ಬೆಳೆದ ಕಲಾನುಶ್ರಮಯಗಳನ್ನು ತಮ್ಮ ಮೇಲಾಯಿತು ನಾವು ನ್ಯಾಸರಿಲ್ ತಾವು ಇದನ್ನು ಸಂಸಿದ ಸುಮಾರು ಇಪ್ಪತ್ತ್’ಐದು ಪರಿಸ್ಥಿತಿ ಇರುವ ಮೂವತ್ತ್’ಐದು ಕೊಟ್ಟು ನಿಧಿಗಾಗಿ ಆಗಿದ್ದರು ಸಾರ್ವಜನಿಕರು ಹಾಗೂ ಸಾರ್ವಜನಿಕರು ಸಾರ್ವಜನಿಕರು ಸಾರ್ವಜನಿಕರು ಸಾರ್ವಜನಿಕರು ಸಾರ್ವಜನಿಕರು ಸಾರ್ವಜನಿಕರು ಸಾರ್ವಜನಿಕರು ಸಾರ್ವಜನಿಕರು ಸಾರ್ವಜನಿಕರು ಸಾರ್ವಜನಿಕರು ಸಾರ್ವಜನಿಕರು ಸಾರ್ವಜನಿಕರು ಸಾರ್ವಜನಿಕರು ಸಾರ್ವಜನಿಕರು ಸಾರ್ವಜನಿಕರು ಸಾರ್ವಜನಿಕರು ಸಾರ್ವಜನಿಕರು ಸಾರ್ವಜನಿಕರು ಸಾರ್ವಜನಿಕರು ಸಾರ್ವಜಿಕ � ದರ್ಶಕರಿಗೆ ಹೇಳ್ತಾರೆ ಕೇರಳದಲ್ಲಿ ನಿನ್ನೆ ಸುದ್ದಿಗಾರರೊಂದಿಗೆ ಮಾತನಾಡಿದ ಅವರು ಮಾತನಾಡಿದರು ರಾಜಿಂದ ಕರ್ನಾಟಕ ಸರ್ಕಾರಿ ಸಿಗದು ಕರ್ನಾಟಕ ಸರ್ಕಾರಿ ಸಿಗದು ಕರ್ನಾಟಕ ಸರ್ಕಾರ ಕೈಗೊಂಡಿದ್ದಾರೆ ಸಿಕ್ಕಿದ್ದರೆ ಅಂತಹ ಕಾರ್ಯಕ್ರಮದಲ್ಲಿ ನಾವು ಸಹಕಾರಿಯಾಗಿದೆ ಸರಿ ಮಾಡಿ ಬೆಳೆದಿತ್ತಲ್ಲ ಅಂತರದ ಮಾತ್ರ ಸಹಿತ ಮಾಡಬೇಕು ಎಂದು ಅವರು ಮುಖ್ಯಮಂತ್ರಿ ಬೇಜವಾಲ್ ತಂದಲಿ ನರಸರಿಗೆ ಮಾಡಬೇಕು ಎಂದು ಅವರು ಮಾಡಿದರು ಕೇರಳದಲ್ಲಿ ಕಾರ್ಯಕ್ರಮಗಳನ್ನು ಕೇಂದ್ರ ಸರ್ಕಾರ ಮಾಡಿಕೊಂಡು ಸಚಿವರು ಮಾತನಾಡಿದರು ಧರಿಸಿದರೆ ಕರ್ನಾಟಕ ಜಿಲ್ಲೆಗಳಲ್ಲಿ ಕೆಂಪು ಮಣ್ಣಿನ ರೆಡ್ ಸಾಯಿಲ್ ಬಾಳು ಸೂಕ್ತವಾದ ಅಂತಹ ಮಣ್ಣಿನ ಇರುತ್ತದೆ ಸಿರುವ ಹಾಗೂ ಜಿಲ್ಲೆಯ ಸಿಲುಕಿರುವ ಸಾಧ್ಯತೆ ಇದೆ ಸಿಕ್ಕಿದ್ದರು ಸವಿದ್ದರು ಸೆಕೆಂಡ್ ನಾರಾಯಣ ಬರುತ್ತದೆ ದರಗಿರಲಿರುವ ಕೊರೋನಾ ಸೋಂಕು ಪತ್ತೆ ಹಿನ್ನೆಲೆಯಲ್ಲಿ ಸಾಮಾಜಿಕ ಅಂತರ ಕಾಪಾಡುವ ಕೆಲಸ ಮಾಡುವುದರಿಂದ ಸಾಮಾಜಿಕ ಮಾಧ್ಯಮಗಳನ್ನು ಕೇಂದ್ರ ಸರ್ಕಾರ ಕೈಗೊಂಡಿದೆ ಆಲ್ಲಿ ಕೊಡ್ತಾಗಿರುವ ನೀರು ನೀರು ನೀರು ನೀರು ನೀರು ನೀರು ನೀರು ನೀರು ನೀರು ನೀರು ನೀರು ನೀರು ನೀರು ನೀರು ಕೊಡದೆ ನೀರು ಕೊಡದು ನೀರು ನೀರಿದ್ದೇವೆ ನೀರು ನೀರು ನೀರು ಕೊಡದು ನೀರಿಕು ನೀರು ನೀರು ಕೊಡದು ನೀರಿಕು ನೀರಿಕುಳಿತು ಪೌಷಧ ಕಾಯ್ದೆಯಡಿ ಸಾಮಾಜಿಕ ಅಂತರ ಕಾಯ್ದುಕೊಳ್ಳುವ ಸಾಧ್ಯತೆ ಇದೆ\n",
      "\n",
      "File: SandalWoodNewsStories_159.txt\n",
      "Similarity Score: 0.8933851718902588\n",
      "Answer: ವಟ್ಟಿಯಾದಲ್ಲಿ ಗಿಡ ಅಮರ ಅನ್ಪಕ್ಷನ್ ಕಾಡಲೆ ಶುಭಗಾರ ತೀರ್ಥಹಳ್ಳಿ ಜಾಲಿಗೆಡಾ ಜಾಲಿಗರ ನಮಲ್ ಬಂದಾಗ ಮಲ್ಲಿನ ಬರದಲ್ಲಿ ಚನ್ನಗಿರಿ ಇಗೆ ತಮ್ಮಲ್ಲಿ ಒಂದು ಕೋಟಿ ರಲ್ಲಿ ಕಿಶ್ಸುದ್ದಲ್ಲಿ ನಾಲ್ಕು ನೀವು ನೀರು ಸಂಪೂರ್ಣ ಸಂಪರ್ಕ ಕೊಟ್ಟಿಗೆಗೆ ಬಿಸಿಲೋದಕ್ಕೆ ನಮಗೆ ಬೇಕಾಗಿದ್ದೇನೆ ಮೆಲೆ ಮತ್ತೆ ಕಡ್ಡಿಗಳನ್ನು ನೆಲ್ಲ ಎಲ್ಲಿ ಬಿಸಿಲಿ ಹೆಚ್ಚಿದೆ ಸಿಕ್ಕಿದ್ದರು ಹಿಂದಾಗಿ ಮಾಡೋಣ ನಂಬೆನ್ನೂರು ಇಷ್ಟೊಕ್ರದ ಚೆನ್ನಾಗಿರಲಿಲ್ಲ ಬೇನಿಗೆ ಜಾಲಿಗೆ ಆಮೇಲೆ ಹದಿನೇಳು ನೂರ ತೊಂಬತ್ತರ ದೇಶಕ್ಕೆ ಸರ್ಕಾರ ಕೂಡ ಸರ್ಕಾರ ಸಂಕಷ್ಟದ ಸಸ್ಯಗಳ ಅಭಿವೃದ್ಧಿ ಮಂಡಳಿಯಂತೆ ಎಕರೆ ಇಪ್ಪತ್ತ್’ಎರಡು ಸಾವಿರದ ನೂರು ಹತ್ತು ಕೋಟಿ ರೂಪಾಯಿ ಮೀರಿದರು ಕೇಂದ್ರಗಳಲ್ಲಿ ಸಾರ್ವಜನಿಕ ಸಭೆಯಲ್ಲಿ ಸಾರ್ವಜನಿಕರು ಸಹಕಾರಿ ಸಿದ್ಧತೆ ಮಾಡಿಕೊಳ್ಳಲಾಗುವುದು ಎಂದು ಸಚಿವ ಸಂಪುಟ ಸಭೆ ಸೇರಿದಂತೆ ಹಲವು ಸಚಿವರು ಸುಷ್ಮಾ ಸ್ವರತ್ನಿಂದ ಸಿದ್ದರಾಮಯ್ಯ ಮಾತನಾಡಿದರು ದು ಗುಂಡಿ ಕನ್ನಡ ಸಾರ್ವಜನಿಕರು ಕಂಡಿದ್ದರು ಮಲನಾರಣನಿಲ್ಲಿ ಬರುವ ಜಾಸ್ತಿ ದಪ್ಪ ಕೃಷಿಪಣಂಗಿ ಸಿಕ್ಕಿದ್ದರು ಅವಾಗ ಪ್ಲಾಂಟ್ ಸ್ಟ್ರಸ್ಟ್ ಇಂಗಾಲಿನ ಮಲ್ಯಾಣಿಕ್ ಭಾಗದಲ್ಲಿ ಅಲ್ಲಿಯೋದಾಗ ಅಥವಾ ರೈತರು ನಾವು ಜೊತೆಗೆ ಮತದಾರರು ಅವರಿಗೆ ಕೇಳಿದ ಗೊತ್ತಿಲ್ಲ ಮೂರು ಇಂಗರ್ ಏರ್ ಏನಾದರು ನಿವರ್ಷ ಎಲ್ಲಿದೆ ಎಲ್ಲರ ಸಾಲ ಸಮಗ ಸ್ವಲ್ಪ ಮಾಡಿದ್ದು ಮುಟ್ಟಿಸುವ ಮುಟ್ಟಿದೆ ಚೆನಾಗಿದೆ ಬಹಳ ಬರಬೇಕು ಪೆ ಹಿಂದೆ ಸರ್ಕಾರಿ ಸಮಯದಲ್ಲಿ ಸಾಧ್ಯವಾಗದಿರುವ ಕುಟುಂಬ ಸಮಯದಲ್ಲಿ ಪಕ್ಷಗಳು ಸಹಕಾರ ಸಂಬಂಧಿಸಿದರು ಕೇರಳದಲ್ಲಿ ನಿನ್ನೆ ಸುದ್ದಿಗಾರರೊಂದಿಗೆ ಮಾತನಾಡಿದ ಅವರು ಕೇಂದ್ರ ಸರ್ಕಾರದ ಮುಖ್ಯಮಂತ್ರಿ ಅವರು ಸಾವಿರ ಕೋಟಿ ರೂಪಾಯಿ ಮುಂದುವರೆಸಿದರು ಬಗುವಂತಿನಲ್ಲಿ ಪ್ರಾಣಿ ಮಾಡುವಂತಹ ಕುಟುಂಬಕುಳಿಗೆ ಕೊಡಪ್ಪ ಕೈಶಿಯರು ಕೊಡವರು ನಗರದಲ್ಲಿ ಕೊರೋನಾ ಸೋಂಕು ಹರಡಿರುವ ಸಂಖ್ಯೆ ಹದಿನಾಲ್ಕು ಸಾವಿರದ ಆರು ನೂರ ಹತ್ತೊಂಬತ್ತು ಕ್ಕೆ ಏರಿಕೆಯಾಗಿದೆ ಇಂತಹ ಮೇಟಿ ವಿದ್ಯೆ ಮೇಲಿನ ಹೇಳಿದರು ನಮ್ಮೊ ದಾರ್ಶನಿಕರು ಜ್ಞಾನಿಗಳು ಹಿಂಗಾಗಿ ಇವತ್ತು ತಾವೇ ನಿರ್ಧಾರಿತಗೊಂದರೆ ಒಂದು ದೇವರು ಸಾವಿರದ ಮೂರು ನೂರ ಹದಿನಾರು ಕೋಟಿ ರೂಪಾಯಿ ಮೌಲ್ಯದ ಮೇಲೆ ಪ್ರಸ್ತಾವನೆ ಸಾವಿರದ ಕಾರ್ಯಕ್ರಮಗಳನ್ನು ಕೈಗೊಳ್ಳಲಾಗುವುದು ಎಂದು ಅವರು ಹೇಳಿದರು ಕೇರಳದಲ್ಲಿ ನಿನ್ನೆ ಸುದ್ದಿಗಾರರೊಂದಿಗೆ ಮಾತನಾಡಿದ ಅವರು ಮಾತನಾಡಿದರು ಆನಂಬರ್ ಯುದ್ಧ ನಾನು ನೂರು ನೂರು ಕೆಟ್ಟಿದ್ದರು ನಗರದಲ್ಲಿ ಕಳೆದುಕೊಂಡಿರುವ ಕೊನೆಯ ದಿನವಾಗಿದೆ ಹಾಸಾಗರಾದ ಅವರನ್ನು ಅಲೆರೋಕ್ಯೂಟಿಸಿ ಇನಾನು ಮಾಡ್ಕೆ ನವೀರ್ ಮತದಾರರು ಬದಲಾವಣೆ ಬದಲಾವಣೆ ಚಿಂತನೆಗಳು ಬದಲಾವಣೆ ಆಗೆ ಕಳಿಗೆ ಮಲಿಲಾಂಡರ್ ನಮ್ಮ ಭಾಗ ನೋಡಿದಾಗ ನಮ್ಮ ಗೌರವ ಕೊಡಬೇಕು ಆ ಒಂದು ವಾತಾವರಣ ಮೊದಲ ಟ್ರೋಮೆಟ್ ಬಜ್ಞಿಕಾಯಿಗೆ ಸಿಕ್ಕಿದ್ದರು ಇನ್ನೈದು ಬುಡ್ತುತ್ತಿದೆ ಅವತ್ತಿನ ಅನಿವಾರ್ಯ ಏನಿದೆ ಒಂದಿಷ್ಟು ನಂದ ಬೆಳೆಬಾರದು ಸಿರುವ ಸಾಧ್ಯವಾದ ಬೆಳಗಿನ ವರ್ಷದ ಅವಧೇಯಕ ಕಟ್ಟಡಗಳನ್ನು ಕಟ್ಟುನಿಟ್ಟಿನ ಕಟ್ಟಡಗಳನ್ನು ಮಾಡಿಕೊಂಡು ಸಾಧ್ಯವಾಗಿದೆ ಅಂದು ಬೆಳಗ್ಗೆ ಏನಾದರು ಆಮಲೆ ಬಗ್ಗೆ ಪಕ್ಷಗಳ ಎಂಬತ್ತು ರದ್ದು ಸಿಂಗಲ್ ದಾಳಿಯನ್ನು ಬೆಳಗಾರರು ದಾಳಿಯಲ್ಲಿ ದಾಳಿಯಲ್ಲಿ ನಾವು ಕೊಡಲ ಅವರಿಂದ ಪ್ರಭಾವಿತರಾಗಿ ನಾವು ನಮ್ಮ ಎಜುಕೇಶನ್ ಮುಖ್ಯಮಂತ್ರಿ ಕೃಷಿ ಕಡಿಗೊಳಿಸಲು ದಾಳಿ ನಂತರದಲ್ಲಿ ಕೇರಳದಲ್ಲಿ ನಿನ್ನೆ ಮಾತನಾಡಿದ ಅವರು ಮಾತನಾಡಿದರು ಸ್ವಪಂತ್ರವಾಗಿ ಆರ್ಯಶಕ್ತಿ ಬರವರಿಗೂ ಇಲ್ಲ ಆಶರಪಡಿದೆ ನೇನು ಬಳ್ಳಿಗಳನ್ನು ನಾಪೆಗೆ ಇಲ್ಲ ಇದರಲ್ಲಿ ನಗರದಲ್ಲಿ ನಿನ್ನೆ ಸುದ್ದಿಗೋಷ್ಠಿಯಲ್ಲಿ ಮಾತನಾಡಿದ ಅವರು ಕೇಂದ್ರ ಸರ್ಕಾರ ಸರ್ಕಾರ ಕೋಟಿ ರೂಪಾಯಿ ವೆಚ್ಚ ಮಾಡಿದೆ ಚಿತಾಪಲ ಅನುಮಾಸ್ತಿಲ್ಲ ಲವಾಗಿ ಇದರಿಂದ ನಿರಂತರ ಮಾಡ್ತಿನಿತ್ತು ಇದೆಲ್ಲ ಮತ್ತು ಆಶ್ರಯ ನಗರದಲ್ಲಿ ನಿನ್ನೆ ಸುದ್ದಿಗಾರರೊಂದಿಗೆ ಮಾತನಾಡಿದ ಅವರು ಕೇಂದ್ರ ಸರ್ಕಾರ ಕೃಷಿ ಮಾಡಬೇಕಾದ ಎಷ್ಟು ಮುಖ್ಯಾಂಶಗಳು ಪಕ್ಷಗಳು ಸಹ ಇಲ್ಲಿದ್ದರು ಆಶ್ರೇಪಡಿಸಿದ್ದು ಪಕ್ಷಿ ಒಂದು ಪಕ್ಷಿ ಒಂದು ತೊಲಕಿಯಾಗಿದೆ ದರಲಿತ್ತು ಸಿಕ್ಕಿದ್ದರು ಮುಖ್ಯಾಂಶ ಎರಡು ಮಿಕ್ಸ್ ಆಗಿರುತ್ತದೆ ಆರು ಕಾರ್ಬೋನ್ ಇಷ್ಟು ಜಾಸ್ತಿ ಯಾತ್ರಾ ನಮಗೆ ಪಕ್ಷಗಳ ಬೇಕು ಸಾರ್ಕ್ ಸಾರ್ವಪ್ರಕಿನಾಥ್ ಸಾರ್ವಪಕ್ರಿಕರು ಸಿಕೆಂಬರ್ ಇಷ್ಟು ಪಕ್ಷದ ಮಾಲಿಬರಿನಿಯಾಮ್ ಸಲ್ಲಿಸಿದ್ದರು ಸಿಕೆಂಡ್ ಹೇಳಿಕೆ ನಗರದಲ್ಲಿ ನಿನ್ನೆ ಸುದ್ದಿಗಾರರೊಂದಿಗೆ ಮಾತನಾಡಿದ ಅವರು ಕೇಂದ್ರ ಸರ್ಕಾರಿ ಸರ್ಕಾರದ ಮುಂದೆ ಸರ್ಕಾರದ ಮುಂದೆ ಸರ್ಕಾರದ ಮುಂದೆ ಸರ್ಕಾರದ ಮುಂದೆ ಸರ್ಕಾರಿ ಸರ್ಕಾರಿ ಸರ್ಕಾರಿ ಸರ್ಕಾರಿ ಸರ್ಕಾರಿ ಸರ್ಕಾರಿ ಸರ್ಕಾರಿ ಸರ್ಕಾರಿ ಸರ್ಕಾರಿ ಸರ್ಕಾರಿ ಸರ್ಕಾರಿ ಸರ್ಕಾರಿ ಸರ್ಕಾರಿ ಸರ್ಕಾರಿ ಸರ್ಕಾರಿ ಸರ್ಕಾರಿ ಸರ್ಕಾರಿ ಸರ್ಕೋಷಿಸಿದರು ಸಂಸತ್ ಭವನದಲ್ಲಿ ನಿನ್ನೆ ಸುದ್ದಿಗಾರರೊಂದಿಗೆ ಮಾತನಾಡಿದ ಅವರು ಸರ್ಕಾರ ಅನುಮೋದನೆ ನೀಡಿದ್ದರು ನಿಯೋ ನೀವು ಮತ್ತು ಆಮೇಲೆ ಮತ್ತು ಡಾನ್ ನಂದಗುರುರುರುಳು ಸೇರಿದಂತೆ ಹಲವು ಕಾರ್ಯಕ್ರಮಗಳನ್ನು ಕೇಂದ್ರ ಸರ್ಕಾರ ಕೈಗೊಂಡಿದೆ ಬಹಳ ಏನಾಗಿ ಪಕ್ಷಿಗಳು ನಿರ್ಗಿಲಕ್ಕೆ ನಿರ್ಮಾಣದಲ್ಲಿ ನಿನ್ನೆ ಸುದ್ದಿಗೋಷ್ಠಿಯಲ್ಲಿ ಮಾತನಾಡಿದ ಅವರು ಕಾರ್ಯಕ್ರಮಗಳನ್ನು ಕೈಗೊಳ್ಳಲಾಗುವುದು ಎಂದು ಅವರು ಹೇಳಿದರು ಬ್ಯೂಟಿಯನ್ ಆಫ್ ಸ್ಯಾಂಡ್ ಅಂತರದಲ್ಲಿ ಬ್ಯೂಟಿಯಾಪ್ ಸ್ಯಾಂಡಲ್ ಆಫ್ ಸ್ಯಾಂಡಲ್ ಒಂದು ನೂರು ಮಾರ್ಗಸೂಚಿಗಳನ್ನು ಬ್ಯೂಟಿಯಾಪ್ ಸ್ಯಾಂಡಲ್ ಅಂತರ್ ಅಂತರ್ ಅಂದರೆ ಇದೆಲ್ಲ ಶ್ರೀಗಂಧ ತುಮಕೆಂದುತ್ತಿದ್ದು ಇಂಗೆ ನೆಟಿಸ್ ಪಿ ಕನ್ನಡ ನಾಡು ಇದು ಸಾವಿರದ ಆಟೋ ಗಂಧಕಾಡೆ ನಾರಾಯಣದಲ್ಲಿ ನಿನ್ನೆ ಸಂಜೆ ನಾಲ್ಕು ಗಂಟೆಗೆ ಸಾವಿರದ ಮೂರು ನೂರ ಹತ್ತು ಕೋಟಿ ರೂಪಾಯಿ ಮಾಡಲಾಗಿದೆ ಸಿಕ್ಕಿದ್ದರು ಏನ್ ಮಾಡ್ತಾನ್ ಐವತ್ತಿದೆ ಒಂದು ಕುಂದಕರ್ ಕೇಳಿಕೆ ಕೇವಲ ಕೃಷಿ ಬೈಯಾಗಿದೆ ಇವತ್ತು ಪ್ರಾಣಿ ಪಕ್ಷಿಗೆ ಆಹಾರ ಕೊಟ್ಟು ಪ್ರಾಣಿ ಪಕ್ಷಿಗೆ ಆಸರೆ ಕೊಟ್ಟು ಪರಿಸರಕೊಟ್ಟು ಸೋಸಿಯಲ್ ರಿಸ್ಪಾನ್ಸಿಬ್ಲಿಕ್ ಸಾಮಾಜಿಕ ಜವಾಬ್ದಾರಿ ನಿರ್ವಹಣೆ ಮಾಡಿ ಗಣಿ ಮಾಳಿ ಆ ಮನಸ್ಸಿನ ಬೆಳೆಸುವ ನಮಗುವಿರದಲ್ಲಿ ಚಿನಾನಿ ಪಕ್ಷಿಗಳ ಪಕ್ಷಿಗಳ ಜಾಪರ್ ಮಾಡಿ ಹಯೋಗಿಸಿ ಕರಗಿ ತನಪಾಡಿತ ಬರಗೆದತ್ತು ಪರಸ್ಥಿತಿ ಸೆಕೆಂಡ್ರಿ ಮೆಟ್ರಿಯಲ್ಲಿ ನಾನು ಮಾಡಿದ್ದರು ಇಂದು ಎನ್ಡಿಎಲ್ ಬಲಕ್ಸ್ ಆಕ್ಸಾಂನಲ್ಲಿ ಒಂದು ಸಾವಿರದ ಒಂಬತ್ತು ನೂರ ತೊಂಬತ್ತೊಂಬತ್ತು ಅತ್ತೂರಗಳು ಒಂದು ಸಾವಿರದ ಒಂಬತ್ತು ನೂರ ಹತ್ತೊಂಬತ್ತು ಎಂಬತ್ತು ಸಾವಿರದ ಒಂಬತ್ತು ನೂರ ಹತ್ತೊಂಬತ್ತು ಎಂಬತ್ತು ಸಾವಿರದ ಒಂಬತ್ತು ನೂರ ಹತ್ತೊಂಬತ್ತು ಎಂಬತ್ತು ಸಾವಿರದ ಒಂದು ನೂರ ಹತ್ತೊಂಬತ್ತು ಎಂಬತ್ತು ಸಾವಿರದ ಒಂದು ನೂರ ಹತ್ತೊಂಬತ್ತು ಗೆ ಕೇರಳದಲ್ಲಿ ನಿನ್ನೆ ಸುದ್ದಿಗಾರರೊಂದಿಗೆ ಮಾತನಾಡಿದ ಅವರು ಜಿಲ್ಲೆಯ ಸುಮಾರು ಒಂದು ಸಾವಿರದ ಒಂದು ನೂರ ಹದಿಮೂರು ಜಿಲ್ಲೆಗಳಲ್ಲಿ ಸುಮಾರು ಒಂದು ಸಾವಿರದ ಒಂದು ನೂರ ಹದಿಮೂರು ಜಿಲ್ಲೆಗಳಲ್ಲಿ ಸುಮಾರು ಒಂದು ಸಾವಿರದ ಒಂದು ನೂರ ಹದಿಮೂರು ಜಿಲ್ಲೆಗಳಲ್ಲಿ ಸುಮಾರು ಒಂದು ಸಾವಿರದ ಒಂದು ನೂರ ಹದಿಮೂರು ಜಿಲ್ಲೆಗಳಲ್ಲಿ ಸುಮಾರು ಒಂದು ಅಧ್ಯಯನಕ್ಕೆ ಬರುತ್ತಾರೆ ಇನ್ನೊಂದು ಕೀಟ ಪ್ರೀಡಿಯಾ ಟ್ರಾಯ್ ಆಟ್ ಮಾಡ್ತು ನಗರದಲ್ಲಿ ನಿನ್ನೆ ಸುಮ್ಮನೀರು ಪದ್ಧತಿ ಜೀವನಗಳು ಸಿಂಗಾಗಿ ಸಮಸ್ಯೆಗಳು ನೀರಾಗಿ ಅರಿವುಬಿರುತ್ತದೆ ಬದುಕನ್ ಬ್ಯಾಡ ಅಂತ ಒಬ್ಬ ಸುಮ್ಮನೆ ರೂಪದ್ದಕ್ಕೆ ಅಂತ ಅಮೆರಿಕದಾಗ ದೇವಸಕ್ಕೆ ಸಾರ್ವಜನಿಕರಿಗೆ ಸರಿ ಸರಿ ಮಧ್ಯಮ ಇಷ್ಟೇ ಇಲ್ಲ ಚಿಕ್ಕರಿಸಿ ಕೇರಳದಲ್ಲಿ ಕೊರೋನಾ ಸೋಂಕು ಹರಡಿರುವ ಸಾಧ್ಯತೆ ಇದೆ ಕಂದಿರುವ ಕಾರ್ಯಕ್ರಮದಲ್ಲಿ ನಿನ್ನೆ ನಿನ್ನೆ ಸುದ್ದಿಗೋಷ್ಠಿಯಲ್ಲಿ ಮಾತನಾಡಿದ ಅವರು ಕೋಟಿ ರೂಪಾಯಿ ಮಾಡಿಕೊಳ್ಳಲಾಗುವುದು ಎಂದು ಸಚಿವ ಸಿ ಸಿಕ್ತಾರ್ ವಿಜಯಪುರ ಇಂಡಿಯನ್ ಕಂಪನಿ ಮಾರುಕಟ್ಟೆಯಲ್ಲಿ ಅಂತ ಅಂದರೆ ಅವರಿಗೆ ಟ್ಯಾಂಕೋಟರ್ ಗಡಿಬಿಡಿ ದೊಡ್ಡ ಮಟ್ಟದ ಸಿಲಿಗೆ ನಡೆದ ಕಮಿಷನ್ ಕನ್ನಡ ಅವರು ಅವರು ಇದು ಒಳ್ಳೆಯದಲ್ಲ ರೈತರಿಗೆ ಮಲ್ಟಿಪಲ್ ಚಾಯಿಸಿಕೊಂಡರು ನಾನು ಸರಿಗಾಂತಗಳು ಸುಮಾರು ದಶಕಗಳ ತೋಟಗಾರಿಕೆಯಲ್ಲಿ ಅನುಭವ ಸ್ಯಾಂಡರ್ನಲ್ಲಿ ಪ್ಲಾಟೆಶನ್ ಮಾಡಿ ಮಂದಿನದಲ್ಲಿ ಸಾಧಿಸಿದ್ದರು ಅವರು ಒಂದು ಅರ್ಜಿ ಆಟ್ ಬಿಟ್ಟರ್ಅಪ್ ಅಂದರೆ ಅಧಿಕಾರ್ಯವನ್ನು ಮನೆಯಲ್ಲಿ ಮಾಡಬೇಕು ಅಧಿಕಾರಿ ಬರಬೇಕು ಕಾಲದಲ್ಲಿ ಕಾಲಿಗೆ ಕೊಡಬೇಕು ಮತ್ತು ಮಾಡಿದಾಗ ಯಾರಾತ್ರೆ ಕಟ್ಟಾಮಿಂಟ್ ಥಾಯ್ಲೆಂಡ್ ಅವರಿಗೆ ಪೇಮೆಂಟ್ ಕೊಟ್ಟು ಸಾವು ಹಾಸನ ಕೇರಳದಲ್ಲಿ ಕಾರ್ಯಕ್ರಮದಲ್ಲಿ ಮಾತನಾಡಿದ ಅವರು ಮಾತನಾಡಿದರು ಕಟ್ಟಿಯಲ್ಲಿ ಅವರು ಪ್ರಯತ್ನ ಮಾಡಿಕೊಂಡು ಕೇಂದ್ರ ಸರ್ಕಾರ ಸಮ್ಮು ಹೆಸರು ಊರೆಪೆ ಅನುಪಸ್ಥಿತಿ ಎದುರಿಸಲಾಗಿದೆ ಕಾಗದಿದೆ ಕೆಲವು ಪ್ರಶ್ನೆಗೆ ಆ ಫಾರ್ಮಿನಲ್ಲಿ ಇತರ ವಾತಾವರಣ ಅಮೃತಗೊಳ್ಳಿ ಇಲಿಯನ್ ಆಗುತ್ತಿದ್ದ ಸ್ವಕೃತಿಯೊಳಗೆ ತಂತ್ತನ್ನು ನೀಡುತ್ತದೆ ನಮಿಷ್ಕಾರ್ಯದಲ್ಲಿ ನಿನ್ನೆ ಸಾರ್ವಜನಿಕರು ಸಹಕಾರಿ ಮತ್ತು ಸಾರ್ವಜನಿಕರು ಸಹಕಾರ ಸಂಬಂಧಿಸಿದಂತೆ ಸಚಿವ ಸಿ ಸಿರುವ ಕಾರ್ಯಕ್ರಮದಲ್ಲಿ ನಿನ್ನೆ ಸಂಜೆ ಆರು ಗಂಟೆಗೆ ಮುಂದುವರಿಯಲಿದೆ\n",
      "\n",
      "File: SandalWoodNewsStories_167.txt\n",
      "Similarity Score: 0.8919975757598877\n",
      "Answer: ಶ್ರೀಗಂಧಾ ಕೃಷಿ ಕೋಟಿ ಸಂಪಾದಿಸಿ. ಶ್ರೀಗಂಧದ ಮಾರುಕಟ್ಟೆಯಲ್ಲಿ ಭಾರತ ವಿಶ್ವಕ್ಕೆ ಲೀಡರ್ ಕರ್ನಾಟಕ, ಹಾರತದಲ್ಲಿ ಟ್ರಾಪ್ರಸ್ತಾವಲ್ಲಿ ಎರಡು ಲಕ್ಷ ಕೋಟಿ ಮೌಲ್ಯದ ವೇಶ್ವ ಮಾರುಕಟ್ಟೆಯಲ್ಲಿ ನಮ್ಮ ದು ಸಿಂಹಪಾಲು. ಕೋಟಿ ಆದಾಯ ಕೂಡಲಿದೆ ಶ್ರೀಗಂಧ ಕೃಷಿ ಯಿಂದ ಕೋಟಿ ಖನಸು ನಿಜವಾಗಿಸಿದ ಯಶಸ್ವಿ ಕೃಷಿಕರೆ ನಿಮಗೆ ಮಾರ್ಗದರ್ಶಕ ಇಲ್ಲಿರುತ್ತದೆ ಒಂದು ಎಕರೆಗೆ ಇಪ್ಪತ್ತ್’ಎರಡು ಒಂದು ಸಾವಿರ ಸಾವಿರ ಕೋಟಿ ಒಂದು ಸಾವಿರ ಸರ್ಕಾರದ ಸರ್ಕಾರದ ಸರ್ಕಾರದ ಮುಂದೆ ಸರ್ಕಾರದ ಮುಂದೆ ಸರ್ಕಾರದ ಮೂರು ಸಾವಿರ ಕೋಟಿ ರೂಪಾಯಿ ಮೀಸಲಿಡಲಾಗಿದೆ ಮಣ್ಣು ಮತ್ತು ಅವಾಗುಣ ಏಕರಬೇಕು ಶ್ರೀಗಂಧ ಕೃಷಿಯಲ್ಲಿ ಹೋಮಿಸಿದ್ದರು ಪ್ರಾಮುಖ್ಯತೆ ಕೊಪ್ಪರ ಮತ್ತು ಏರುಪುರೇಕೆ ಕಾರ್ಮಿಕರ ಅವಶ್ಯಕತೆಯಷ್ಟೇ ಕಟಾವು ಅರಣ್ಯ ಇಲಾಖೆಯ ಅನುಮೋದಿಯ ಕುರಿತು ಸುರಕ್ಷತೆ ಮತ್ತು ಸಂಗ್ರಹಣೆ ಕುರಿತು ಬೆಲೆ ನಿಗದಿ ಮತ್ತು ಬೌಲಭಂದನೆ ಮಾಡಿದೆ ಶ್ರೀಗಂಧ ಕೃಷಿಯಿಂದ ಎಕರೆಗೆ ಮೂರು ಕೋಟಿ ಸಂವಾದಿಸುವುದು ಹೇಗೆ ಎಂದು ಮಾರ್ಗದರ್ಶಕರ ಸಲಹೆಗಳು ಲಭ್ಯ ನೋಡೋಕೆ\n",
      "\n",
      "File: SandalWoodNewsStories_168.txt\n",
      "Similarity Score: 0.8822957277297974\n",
      "Answer: ಗಂಧದ ಗುಡಿಯಲ್ಲಿ ಹುಟ್ಟಿರುವ ಕೃಷಿಕರೇ ನೀವು ಕೃಷಿಯಲ್ಲಿ ಕೋಟಿ ದುಡಿಯೋಕೆ ಸಾಧ್ಯ ಇಲ್ಲ ಕೃಷಿಕ ಕೋಟಿ ಲೆಕ್ಕದಲ್ಲಿ ಮಾತನಾಡುಕೆ ಆಗೋದೆ ಇಲ್ಲ ಈಗ ಕಾಲ ಬದಲಾಗಿದೆ ಪ್ರತಿ ಕೃಷಿಕ ಕೂಡ ಇದೀಗ ಕೇವಲ ನೂರು ಶ್ರೀಗಂಧ ಗಿಡದಲ್ಲೇ ಕೋಟಿ ಅಧಿಕ ಸಾಧ್ಯವಿದೆ ಶ್ರೀಗಂಧ ನಮ್ಮ ದೇಶದ ಗರಿಮೆ ಹೆಚ್ಚಿಸಿದ ಬೆಳೆ ಇಂದಲ್ಲ ಒಂದು ಸಾವಿರದ ಒಂಬತ್ತು ನೂರ ಅರವತ್ತೊಂದು ಅತಿ ಹೆಚ್ಚು ಶ್ರೀಗಂಧ ಉತ್ಪಾದಿಸುತ್ತಿದ್ದ ದೇಶವಂಬ ಖ್ಯಾತಿ ಪಡೆದಿತ್ತು ಅವತ್ತಿನ ಕಾಲದಲ್ಲೇ ನಾಲ್ಕು ಸಾವಿರ ಟನ್ ಉತ್ಪಾದನೆ ಮಾಡಿ ರಫ್ತು ಕೂಡ ಮಾಡಲಾಗಿತ್ತು ಕಳೆದ ರಾತ್ರಿ ನಾಲ್ಕು ನೂರ ಮೂವತ್ತ್’ನಾಲ್ಕು ಕೋಟಿ ರೂಪಾಯಿ ಮೌಲ್ಯದ ಮುಂದಿನ ಇಪ್ಪತ್ತ್’ಒಂದು ರಿಂದ ಮೂರು ನೂರ ಎಪ್ಪತ್ತು ಕೋಟಿ ರೂಪಾಯಿ ಮೌಲ್ಯದ ಮುಂದಿನ ಕೊನೆಯ ದಿನವಾಗಿದೆ ದೇವರು ಸಾವಿರ ಕೋಟಿ ರೂಪಾಯಿ ಮೌಲ್ಯದ ಮುಂದಿನ ಇಪ್ಪತ್ತ್’ಒಂದು ರಿಂದ ಮೂರು ನೂರ ಎಂಬತ್ತು ಕೋಟಿ ರೂಪಾಯಿ ಮೌಲ್ಯದ ಮೂರು ನೂರ ಎಂಬತ್ತು ಕೋಟಿ ರೂಪಾಯಿ ಮೌಲ್ಯದ ಮೂರು ನೂರ ಎಂಬತ್ತು ಕೋಟಿ ರೂಪಾಯಿ ಮೌಲ್ಯದ ಮುಂದಿನ ಕೋಟಿ ರೂಪಾಯಿ ಮೌಲ್ಯದ ಮುಂದಿನ ಕೋಟಿ ರೂಪಾಯಿ ಮೌಲ್ಯದ ಮುಂದಿನ ಆರು ನೂರ ಎಂಬತ್ತು ಕೋಟಿ ರೂಪಾಯಿಯಲ್ಲಿ ನೀಡಲಾಗಿದೆ ಕೇರಳದಲ್ಲಿ ಕೊರೋನಾ ಸೋಂಕು ಹರಡದಂತೆ ಕೇಂದ್ರ ಸರ್ಕಾರ ಕೈಗೊಂಡಿರುವ ಕುರಿತು ಸಭೆಯಲ್ಲಿ ಮಾತನಾಡಿದ ಅವರು ಕೇಂದ್ರ ಸರ್ಕಾರ ಕೈಗೊಂಡಿದ್ದರು ವಿನಿಮಾ ನಿರ್ಮಾಣದಲ್ಲಿ ನಿನ್ನೆ ಸಂಜೆ ನಿರ್ಮಾಣದ ಮೇಲೆ ನಿಗಾ ವಹಿಸಿಕೊಳ್ಳಲಾಗಿದೆ\n",
      "\n",
      "File: SandalWoodNewsStories_169.txt\n",
      "Similarity Score: 0.8841837048530579\n",
      "Answer: ಈಗಿನ ಮಾರ್ಕೆಟ್ಟೆ ಕೆಜಿಗೆ ಅಂತ ಹೇಳಿ ಹೇಳುತ್ತಾರೆ ನಾವು ಚೇಬೆಗಿಡದಲ್ಲಿ ಶ್ರೀಗಂಧ ಆಡಿಕೆ ಬದಲು ಮಾಡಬೇಕು ಅಂತ ಹೊಟ್ಟಾಗ ಬೇರೆಯವರ ತಲಾಲ ನಾವು ಚರ್ಚೆ ಮಾಡಿ ಹಲವಾರು ತೋಟಗಳಿಗೆ ಮೀಸಿಟ್ಟುಕೋಟಾಗ ನೀರಿ ಕಡಿಮೆ ಕೇಳುತ್ತದೆ ಮತ್ತು ಮುಂದೆ ಅನುಕೂಲ ಆಗುವುದೇ ತುಂಬಾ ಬೇಡಿಕೆ ಇದೆ ಅಂತೇಳಿ ಕೇಳ್ಪಟ್ಟು ನಾವು ಶ್ರೀಗಂಧವನ್ನು ನಟಿ ಮಾಡಬೇಕು ಅಂತಹ ಹೊಟೇಳಿದೆ ಇದು ಮೂರು ವರ್ಷಯಾಗಿದೆ ನಾಟಿ ಮಾಡೋದಿಕ್ಕೆ ನಾಟಿ ಮಾಡಿ ಮೂರು ವರ್ಷ ಆಗಿದೆ ಈಗ ಬೆಳವಣಿಗೆ ಆಗಿದೆ ನಗರದಲ್ಲಿ ನಿನ್ನೆ ಸುದ್ದಿಗೋಷ್ಟಿಯಲ್ಲಿ ನಿನ್ನೆ ಸಾವಿರದ ಅಯ್ದು ನೂರ ಹತ್ತೊಂಬತ್ತು ಕೋಟಿ ರೂಪಾಯಿ ಮೌಲ್ಯದ ಮೂಲಕ ನೆರವು ನೀಡಿದ್ದೇವೆ ಕೊಡಿಗೆ ಗೊಬ್ಬರವನ್ನು ಅರ್ಧದಲ್ಲಿ ಮಾಡಿದ್ದಾರೆ ಕೇರಳದಲ್ಲಿ ಕಾರ್ಯಕ್ರಮದಲ್ಲಿ ಕೇಂದ್ರ ಸರ್ಕಾರ ಕಾರ್ಯಕ್ರಮದಲ್ಲಿ ಅವರು ಕಾರ್ಯಕ್ರಮಗಳನ್ನು ಕೇಂದ್ರ ಸರ್ಕಾರ ಮಾಡಿಕೊಂಡಿದ್ದರು ಆದರೆ ಅಂತಹ ಕಾರ್ಯಕ್ರಮದಲ್ಲಿ ನಾಲ್ಕು ಸಾವಿರದ ಅಯ್ದು ನೂರು ಕೋಟಿ ರೂಪಾಯಿ ಮೌಲ್ಯದ ಮೂರು ನೂರ ಎಂಬತ್ತು ಕೋಟಿ ರೂಪಾಯಿ ಮೌಲ್ಯದ ಅಂತರದಲ್ಲಿ ನೀಡಲಾಗಿದೆ ಕ್ಕೆ ಕೊಲೋರಿಯಾಗಿ ನೀರೇನ್ ಅಂತ ಅವಶ್ಯಕತೆ ಇರೋದಿಲ್ಲ ನೀರು ವರ್ಷದವರೆಗೆ ನೀರು ಸಾಕುವಂತಿ ಹೇಳಿದ್ದಾರೆ ರನ್ನು ಸಾಮಾಜಿಕ ಅಂತರ ಕಾಯ್ದುಕೊಳ್ಳುವ ಸಾಧ್ಯತೆ ಇದೆ ಎಂದು ಅವರು ಹೇಳಿದರು ಚೆನ್ನಾಗಿ ಕೇಂದ್ರ ಸರ್ಕಾರ ಮಾಡಿಕೊಂಡಿದ್ದು ಇದು ಸಾಮಾಜಿಕ ಅಂತರ ಕಾಯ್ದುಕೊಳ್ಳಲು ಸಾಧ್ಯವಾಗಿದೆ ಪಟ್ಟ ಯಾರನ್ನು ಇಲಾಖೆಯಿದ್ದರೆ ಚೆನ್ನಾಗಿ ಬರುವವರಿಗೂ ಒಂದು ನೂರ ಹತ್ತು ಕೋಟಿ ರೂಪಾಯಿ ಮಾಡಿದೆ ಕಡಿಯೋ ಸಮಾವೇಶ ಬೇಕು ಅಂದರೆ ಕಡಿಯೋದು ಅಂದರೆ ಕಡಿಯೋದು ಅಂದರೆ ಆಗಿದೆ ಕೊಂಡು ಕೊಂಡು ಕೊಂಡು ಇತ್ತೀಚೆಗೆ ಶ್ರೀಗಾಂಧದ ಬೀಜದಿಂದ ಬೇರೆ ಬೇರೆ ಉತ್ಪನ್ನಗಳನ್ನು ಮಾಡುತ್ತೇವೆ ಅಂತ ಹೇಳಿದ್ದರೆ ನೀವು ಮೂರು ವರ್ಷದ ಮೇಲ್ಪಟ್ಟ ಅಂತ ಸೋಸಿಯಿಂದ ಬರುವಂತ ಬೀಜವನ್ನು ಕಲೆಕ್ಟ್ ಮಾಡಿ ಟ್ವೊಂಟರ್ ನಾವು ಅದನ್ನು ಬೈಬ್ ಆಕ್ ಮಾಡುತ್ತೇವೆ ಎಂದು ಹೇಳಿದರು ಇನ್ನು ಸ್ವಲ್ಪ ದಿವಸ ಬಿಟ್ಟು ಆಮೇಲೆ ಅಶೇಖರಣ್ಣ ಮಾಡೋಣ ಅಂತ ಹೇಳಿ ನಾವು ಸದ್ಯಕ್ಕೆ ಶೇಖಣೆ ಏನು ಮಾಡುತ್ತಿಲ್ಲ ಕೆಲವೊಂದು ಆದ್ದರಿಂದ ಉದಗಿರುವಂತ ಸುಸಿಗಿರುವುದರಿಂದ ನಾಟಿಯಾಗಿ ಮತ್ತೆ ಗಿಡದಲ್ಲಿ ಬರ್ತಾ ಇದೆ ಕಂದಿರುವ ಹತ್ತು ಸಾವಿರ ಕೋಟಿ ರೂಪಾಯಿ ಮಾತ್ರ ಸರ್ಕಾರಿ ಸಂಸ್ಥೆಯನ್ನು ಸಾಧ್ಯವಾಗಿದೆ ಶ್ರೀಗಂಧ ಈಗ ನಾಯಿಯಾಗಿದ್ದು ಅಂತ ನಮಗೆ ಸಾಕಷ್ಟು ಮನೆ ಸರ್ಕಾರ ಬೇಕಾದರೂ ಮಾಡಬಹುದು ಮೊದಲು ಸರ್ಕಾರಕ್ಕೆ ಕೊಡಬೇಕಾಗಿತ್ತು ನೇರವಾಗಿ ಮಾರಾಟ ಮಾಡಬಹುದು ಸರ್ಕಾರದಿಂದ ಪರಮಿಷನ್ ಪಡೆದುವಂತೆ ಹೇಳುತ್ತಿದ್ದಾರೆ ಪರದೇಶದ ಮೇಲೆ ಲೆಕ್ಕಾಕ್ಕಂಡ್ರೆ ಸರ್ಕಾರಕ್ಕೂ ಅದಾದ ರೈತರಲ್ಲಿ ಹೇಳಿದರೆ ಬೇರೆಬೇರೆ ಈ ವಿಷಯ ತಜ್ಞರು ಬೆಳೆದಿರುವ ಅಂತ ಬೆಳೆಗಾರರು ನಮಗೆ ಮಾಹಿತಿ ತಿಳಿಸುತ್ತಾರೆ ನರ್ಸಾರ್ಕ್ ಹೋಗಿದೆ ಮುಂದೆ ಇರಿದ್ದ ಇದೇ ರೀತಿ ಬೇಡಿಕೆ ಹೆಚ್ಚು ಹೋಗುತ್ತಿದ್ದೇನೆ ತಿಳಿಸಿದೆ ಅದೇ ರೀತಿ ಮಾಡುತ್ತಿದ್ದಾರೆ ಎಂದು ಬಿಜೆಪಿ ಮಾಹಿತಿ ನೀಡಿದೆ ಅದನ್ನೇ ತರಕಾರಿ ಬೆಳೆಯಲು ಅವರಲ್ಲಿ ಅಣ್ಣಿನ ಬೆಳೆಗಿಂತ ಅವರಿಗೆ ಒಂದೆರೆಡೆ ಕ್ರಿಯಲ್ಲಿ ಮಾಡಿಕೊಂಡು ಮಾಡಿಕೊಂಡು ಮಾಡಿದ್ದು ಉತ್ತಮ ಅನಿಸಿಕೆ ಅವರ ಅರ್ಥಿಕವಾಗಿ ಅವರು ಸ್ಥಿತಿ ನೋಡಿಕೊಳ್ಳಬೇಕಾಗುತ್ತದೆ ಅವರಿಗೆ ಸರಿದೂಗಿಸಬೇಕು ಎಂದು ಅವರಿಗೆ ಸರಿದು ಸರಿದು ಅವರಿಂದ ಅವರಿಗೆ ಎಷ್ಟು ಸಾಧ್ಯವಾಗಿದೆ ಎಂದು ಎಲ್ಲರೂ ಹೆಚ್ಚರು ರೋಗಗಳು ಅಂದರೆ ಗಿಡ ಒಣಗು ತುಂಬಾ ಒಣಗಿಲ್ಲ ಸಾಹಿತ್ಯ ತದನಂತರ ಅಷ್ಟೊಂದು ರೋಗ ಇರೋದಿಲ್ಲ ಕಾಂಡುಕೋರ್ಕೋ ಅವಾಗವಾದ ಬೀಳುತ್ತೆ ಅಂತೇಳಿ ನಮಗೆ ನಮ್ಮ ಅನುಭವದ ಬಂದಿದೆ ಈಗ ಸ್ವಲ್ಪ ಒಣಗುವುದು ಕಡಿಮೆಯಾಗಿದೆ ಒಂದು ಅಂತ ಗಿಡಗಳಿಗೆ ನೋಡಿಕೊಂಡು ಹಾಗೂ ಒಮ್ಮೊಮ್ಮೆ ಹೋಗಬಿಡುತ್ತದೆ ಏನು ಮಾಡಲು ಅದರಲ್ಲಿ ಮತ್ತೆ ಬೇರೆ ಸುಸೇನೆ ನೆಟ್ಟು ಬೆಳೆಸಿ ಪ್ರೋತ್ಸಾ ಕೂಡಿದರೆ ಅದಲ್ಲಿ ನಮ್ಮ ಕರ್ನಾಟಕದ ಭೂಮಿಯಲ್ಲಿ ತುಂಬಾ ಚೆನ್ನಾಗಿರುತ್ತದೆ ಅಂತ ಹೇಳಿದವರು ಆಗಿದೆ ಆದರೆ ನಾವು ತೋಟದಲ್ಲಿ ಬೆಳೆಯುವುದಕ್ಕೆ ಪ್ರಾರಂಭಿಸಿದ್ದಿವೆ ಚೆನ್ನಾಗಿದೆ ನಮಕೆ ಇದೆ ಇನ್ನು ಸ್ನಾವಾದಕ್ಕೆ ಸಾಕಷ್ಟು ಶ್ರಮ ಪಡಬೇಕು ಕಾವಲಿಂದ ಹಿಡಿದು ಪ್ರತಿಯೊಂದು ಹೆಲಸಗಳನ್ನು ಬಗೆದು ಬುಡಕಟ್ಟು ಬುಡಕಟ್ಟು ಬುಡಿದೆ ಮಳೆಗಾಳಿಗೆ ತುಂಬಾ ಬೆಳವಣಿಗೆ ಮತ್ತು ಸಮಸ್ಯೆ ಸೇರಿದಂತೆ ಮಾರವನ್ನು ಮೇಟ್ ಮಾಡಬೇಕು ಅಂತ ಹೇಳಿ ಕೊಂಡಿದ್ದೇವೆ ಏಕೆಂದರೆ ತುಂಬಾ ಬೆಳವಣಿಗೆ ಆಗುವುದರಿಂದ ಗಾಳಿಗೆ ಮತ್ತೆ ಸುಸಿಗಳು ಮೂರುವುದು ಸಮಸ್ಯೆ ಜಾಸ್ತಿ ಇರುತ್ತದೆ ಆದರೆ ಗಾಳಿ ಮಳೆಗೆ ತಡೆಯುವಂತೆ ಅದರಿಂದ ಗಾಳಿ ಮಳೆಗೆ ತಡೆಯುವಂತೆ ಅದ್ದೇಶಗಳು ಮೂಲಕ ಕಳೆದುದೇಶಗಳಿಗೆ ಮ ಗಿಡವನ್ನು ಐಟನ್ನ ಆದರ್ಶ ಮೆಂಟೆ ಮಾಡಬೇಕು ಸಿಂಧೂ ಸರ್ಕಾರದ ಮುಖ್ಯಮಂತ್ರಿ ಅವರು ಸಿಂಗಲ್ಸ್ ಮತ್ತು ಸಿಂಗಲ್ಸ್ ವಿಭಾಗದಲ್ಲಿ ನಿನ್ನೆ ಸುದ್ದಿಗಾರರೊಂದಿಗೆ ಮಾತನಾಡಿದ ಅವರು ಸರ್ಕಾರದ ಮುಖ್ಯಮಂತ್ರಿ ಅವರು ಸಿಂಗಲ್ಸ್ ಸಿಂಗ್ ಅವರು ಸಿಂಗ್ ಅವರು ಸಿಂಗಲ್ಸ್ ನೀಡಿದ್ದಾರೆ ಯೋದ್ರಿಂದ ಅವು ಕೂಡ ಕ್ರಮಣ ಹೇಳಿ ಹೇಳುತ್ತಿದ್ದಾರೆ ನಾವು ನೋಡಿಕೊಂಡು ಅದನ್ನು ಮಾಡಿಕೊಂಡು ಅಂತ ಹೋಗುವ ಕಾಯ್ದಿದೆ ರಸಿದ್ದು ಅಂತ ಹೇಳಿ ಹೇಳಿದ್ದಾರೆ ಅದು ತುಂಬಾ ದುಬಾರಿ ಅಂತ ಹೇಳಿ ಹೇಳಿದ್ದಾರೆ ಸರ್ಕಾರ ಕೂಡ ಇದರ ಜೊತೆ ನಮ್ ಜೊತೆ ಕೈಜೋಡಿಸಬೇಕು ಯಾಕೆಂದರೆ ಸರ್ಕಾರಕ್ಕೆ ಬಾರಿ ಆದಾಯ ಇದೇ ಇದರಿಂದ ಟ್ಯಾಕ್ಸ್ ರೂಪದಲ್ಲಿ ಬರುತ್ತದೆ ನಮ್ಮ ಜೊತೆ ಆವರು ಸರ್ಕಾರದಲ್ಲಿ ಕೈಜೋಡಿಸಿ ನೆರವನ್ನು ನೀಡಿದರೆ ನಾವು ಇನ್ನಷ್ಟು ಉತ್ಸಾಹಧಿಯಿಂದ ಇದನ್ನು ಮಾಡುತ್ತೇವೆ ಹಲೆ ಇದೀಗ ಪ್ರಾರಂಭವಾಗಿರುವುದು ಆಗಿರೋದ್ರಿಂದ ಇನ್ನು ಸಾಕಷ್ಟು ಸಮಯ ಇದೆ ಇಪ್ಪತ್ತು ವರ್ಷ ಬೇಕು ಅಶ್ವಳಿಗೆ ಮಾರ್ಕಟ್ಟೆ ವಿಸ್ತರ್ಸ್ಥ ಹೋಗುತ್ತದೆ ಪ್ರಪಂಚದಾದ್ಯಂತ ಹಲವಾರು ಕಾಲೆಗಳಿಗೂ ಇದು ಅಂತಿ ಉತ್ತಮವಾಗಿ ಕೆಲಸ ಮಾಡುತ್ತದೆ ತಿಳಿಸಿದ್ದಾರೆ ನೀವೇ ಮುನ್ನಚ್ಚೇ ಸರ್ಕಾರ ಬೇಕು ಮಾಡಿದ್ದಾಗ ಮಾರ್ಗಸೂಚಿಗಳನ್ನು ಮಾರ್ಗಸೂಚಿಗಳನ್ನು ಮಾಡಿಕೊಳ್ಳುವುದರಿಂದ ಸರ್ಕಾರ ಮೂಲಕ ಮಾರ್ಗಸೂಚಿಗೆ ಮಾಡಿಕೊಳ್ಳುವುದರ ಕೂಡ ಒಳ್ಳೆಯ ಅಂತಿಮ ಕೊಡುವುದನ್ನು ಸರ್ಕಾರ ಮೂಲಕ ಮಾರ್ಗಸೂಚಿಗಳನ್ನು ಕೂಡ ಕೂಡ ಒಳ್ಳೆಯ ಕೂಡಲೇ ಕೊಡುವುದನ್ನು ಸರ್ಕಾರ ಮೂಲಕ ಮಾರ್ಗಸೂಚಿಗಳನ್ನು ಕೊಡುವುದರು ಜಿವಾಗಿನ ಬೇಡಿಕೆ ಪ್ರಕರಣ ಯಾವ ಉದ್ದೇಶಿಸಿ ದೊರಕಿಸುವುದಿಲ್ಲ ಪ್ರಪಂಚದಾದ್ಯಂತ ಬೇಡಿಕೆ ಇದೆ ಮರಾಠ ಹಾಕುತ್ತದೆ ಅಂತಹ ಹೇಳ್ತಾ ಇದ್ದಾರೆ ಆದರೆ ಇಲ್ಲದಿಲ್ಲ ಅಂತ ನಮ್ಮ ಒಂದು ನಮಗೆ ತಿಳಿದಿರುವ ಮಾಹಿತಿ ಸಾವಿರಕ್ಕಿಯಿಂದ ನೇರ ಹೋಗ್ತಾ ಇದೆ ಕೆಲವೊಂದು ಬಾಗಿದ್ದವೆ ಆದ್ಬಿಟ್ರೆ ನೋಡಿದಂತೆ ಹಲವು ನೇರವಾಗಿ ಹೋಗ್ತಿದ್ದೇವೆ ಚಿತ್ರಾ ಪಡೆದರೆ ಇನ್ನೂ ರೂಪಾಯಿ ನೂರ ಎತ್ತುವ ನಾಲ್ಕು ನೂರ ಎಪ್ಪತ್ತು ಕೊಡಲಾಗಿದೆ ನಿಧಿಪ್ಪ ತರುವಾಗಿ ಅಂತಿಮ ಕೊಟ್ಟಿದ್ದೇವೆ ಇದೇ ಒಂದು ಹಿಡಿದಿದ್ದರಿಂದ ಹಾಗೂ ಅಂತರವಾಗಿ ಮುಂದಿನಗಳು ಅದೇ ಈಗ ಬೆಳವಣಿಗೆ ಆರೋಗ್ಯ ಇಲ್ಲ ಹೀಗೆ ಇದುವರೆಗೆ ನಮಗೆ ಸಮಸ್ಯೆ ಕಂಡುಬಂದಿಲ್ಲ ಮುಂದೆ ಏನಾಗುತ್ತದೋನೋದಂತೆ ಸಮಸ್ಯೆ ಕಂಡುಬಂದಿಲ್ಲ ಮುಂದೆ ಏನಾಗುತ್ತದೆ ನೋಡೋಣ ಗಿಡದೋಡೆದಂತೆ ಸ್ವಲ್ಪ ಸಮಸ್ಯೆ ನೀಡಿದೆ ಅದರ ಆಹಾರವನ್ನು ಇದೇ ತೊಗೊಂಡು ಇದೇ ಬೆಳೆದು ಎಂದಾಗ ನಮ್ಮ ಮಾಡಿದ್ದರೆ ಇಂದ ಮಿಶ್ರ ಬೆಳಿಗ್ಗೆ ಹೆಚ್ಚಿನ ಒತ್ತು ಕೊಟ್ಟು ಶ್ರೀಗಂಧವನ್ನು ಬೆಳೆಸುವುದೇ ನಾನು ನಮ್ಮ ಅಭಿಪ್ರಾಯದಲ್ಲಿ ಒಳ್ಳೆಯದು ಅಂತಹವನ್ನು ನಾವು ಅದರ ಅದಕ್ಕೋಸ್ ಕನ್ನೆ ಶ್ರೀಗಂಧವಾಗಿ ಮಾಡಿಕೊಂಡಿದ್ದರು ನಗರದಲ್ಲಿ ನಾಮಪತ್ರಗಳನ್ನು ಸಲ್ಲಿಸಿದ ನಾಮಪತ್ರಗಳು ಸಲ್ಲಿಸಿದ್ದರು ಇಂದಿನಿಂದ ಸಾವಿರದ ಮೂರು ನೂರ ಹತ್ತು ಕೋಟಿ ರೂಪಾಯಿ ಮೌಲ್ಯದ ಮುಂಬಾಗಿ ಸಮಿತಿ ಮಾಡಿದರೆ ಅವರು ನಮಗೆ ಜೂನ್ನಿಂದ ಜಂಬೂಕಿಂಗ್ ತಾವು ಅಂತಾರೆ ಆಗಸ್ಟ್ನಲ್ಲಿ ಸೋಸಿಗೆ ನೀಡುತ್ತಾರೆ ನಸರಿಗಳಲ್ಲಿ ಬೆಲೆ ಜಾಸ್ತಿ ಇದೆ ಸರ್ಕರ್ಗೆ ತಾಲಕಚೇರಿಗೆ ಕೊಟ್ಟು ಮಾಡಿಕೊಟ್ಟಿದ್ದಾರೆ ದರಗಿರಲಿರುವ ಸರ್ಕಾರದ ಸರ್ಕಾರದ ಪರಿಷತ್ ಪರಿಷತ್ ಮುಂದೆ ಕಾನೂನು ಸರ್ಕಾರಕ್ಕೆ ಸರಿಯಾದ ಬೆಲೆ ಕೊಡುವುದು ಸರ್ಕಾರದ ಸರ್ಕಾರದ ಸರ್ಕಾರದ ಸರ್ಕಾರದ ಸರ್ಕಾರಕ್ಕೆ ಸರ್ಕಾರದ ಸರ್ಕಾರದ ಸರ್ಕಾರದ ಸರ್ಕಾರಕ್ಕೂ ಆಗಿದೆ ಎಂದು ಸರ್ಕಾರಕ್ಕೂ ಆಗಿದೆ ಕಾವಲಿಗೆ ಸರ್ಕಾರ ನಮ್ಮ ಬೆನ್ನೆಲ್ಬಾಗ್ ನಿಲುಬೇಕು ಅಂದರೆ ನಮ್ಮ ಮಾಡಿಕೊಂಡಿದ್ದರೆ ಇನ್ನೂ ಅನುಕೂಲ ಮಾಡಿಕೊಡಬೇಕು ಎಂದು ಅನುದಾನ ಮಾಡಿಕೊಂಡರು ನಿಯಮಿತಿ ನಿಯಮಗಳನ್ನು ಸರ್ಕಾರ ಮಾರಾಟ ಮಾಡಬೇಕಾದ ಸರ್ಕಾರ ಮಾರಾಟ ಮಾಡುವುದು ಮಾಡಿದೆ ನಗರದಲ್ಲಿ ನಿನ್ನೆ ಸುದ್ದಿಗೋಷ್ಠಿಯಲ್ಲಿ ಮಾತನಾಡಿದ ಅವರು ಸರ್ಕಾರದ ಮೂರು ಸಾವಿರದ ಅಯ್ದು ನೂರ ಹತ್ತೊಂಬತ್ತು ಕೋಟಿ ರೂಪಾಯಿ ಮೂರು ಸಾವಿರದ ಅಯ್ದು ನೂರ ಹತ್ತೊಂಬತ್ತು ಕೋಟಿ ರೂಪಾಯಿ ಮೂರು ಸಾವಿರದ ಅಯ್ದು ನೂರ ಹತ್ತೊಂಬತ್ತು ನೇ ಸಾವಿರದ ಒಂದು ನೂರ ಹತ್ತೊಂಬತ್ತು ನೇರದಿಂದ ನಮಗೆ ನಮಗೆ ನಮಗೆ ನಮಗೆ ಸಬ್ಸಿಡಿ ಕೊಡುವಂತಹ ಎಲ್ಲಾ ರೈತರು � ನಂಬರ್ ಅವರು ಕಾಯಿ ಮಾಡಿದ್ದರು ಕೆಲವೊಂದು ರೈತರು ಬೆಳೆದು ದಿನದ ಲಾಭ ಪಡೆದಿದ್ದಾರೆ ನಾವು ಪಡೆಯಬೇಕು ಅನ್ನದೇ ಆಸೆ ಎಲ್ಲರಿಗೂ ಕಡಿಮೆ ಇರುತ್ತದೆ ಚಿತ್ರನಂತಪುರ ಜಿಲ್ಲೆಯಲ್ಲಿ ನಾವು ಮೈಸೂರು ಭಾಗ ನಂಬೆಂಗಳೂರು ಭಾಗ ಇಲ್ಲಿ ಎಚ್\n",
      "\n",
      "File: SandalWoodNewsStories_171.txt\n",
      "Similarity Score: 0.8769749402999878\n",
      "Answer: ಆರು ಎಷ್ಟು ಹತ್ತು ಸುದ್ದಿ ಸರಿಯಲ್ಲಿ ನಿನ್ನೆ ಸುದ್ದಿಗೋಷ್ಠಿಯಲ್ಲಿ ಮಾತನಾಡಿದ ಅವರು ಕೇಂದ್ರ ಸರ್ಕಾರ ಅನುಮೋದನೆ ನೀಡಿದೆ ನಗರದಲ್ಲಿ ನಾವು ಕೆಮಿಗಲ್ ಆಗಲಿ ನಗರದಲ್ಲಿ ನಿನ್ನೆ ಸಾರ್ವಜನಿಕ ಸಭೆಯಲ್ಲಿ ನಿನ್ನೆ ಸಾರ್ವಜನಿಕ ಸಭೆಯಲ್ಲಿ ಸಾಗಿದ್ದರೆ ಸಾಗಿದೆ ಸೋದಲ್ ತಗ್ಗಿದೆ ಸ್ಟೇಟ್ ಸಿಂಗ್ ಹಾಗೂ ಸೇರಿದಂತೆ ಹಲವು ಕಾರ್ಯಕ್ರಮಗಳನ್ನು ಕಾರ್ಯಕ್ರಮಗಳಿಗೆ ಸಹಕಾರ ನೀಡುವ ಸಂಬಂಧಗಳನ್ನು ಸಹಕಾರ ಸಂಬಂಧಗಳನ್ನು ಸಹಕಾರ ಸಂಬಂಧಗಳನ್ನು ಸಹಕಾರ ಸಂಬಂಧಗಳನ್ನು ಸಹಕಾರ ನೀಡುವುದಕ್ಕೆ ಸಹಕಾರ ನೀಡುವುದರ ಜೊತೆ ಸಂಬಂಧಗಳನ್ನು ಸಹಕಾರ ನೀಡುವುದರ ಸಂಬಂಧಗಳನ್ನು ಕಾರ್ಯಕ್ರಮಗಳಿಗೆ ಸಹಕಾರ ನೀಡುವುದು ಎಂದು ಹೇಳಿದೆ ಸರಿ ಚಿಕ್ ಮಾಡ್ತಾಗಬೇಕು ಸಿಕ್ಕಿದ್ದರೆ ನಗರದಲ್ಲಿ ನಿನ್ನೆ ಸುದ್ದಿಗೋಷ್ಟಿಯಲ್ಲಿ ನಿನ್ನೆ ಸುದ್ದಿಗೋಷ್ಟಿಯಲ್ಲಿ ನಿನ್ನೆ ಸುದ್ದಿಗಾರರೊಂದಿಗೆ ಮಾತನಾಡಿದ ಅವರು ಮಾತನಾಡಿದರು ಸಿಕೆಂಡ್ ನಿಮಗೆ ಇರಬೇಕು ಸರಿಯಲ್ಲಿ ಕಡಿಯಲ್ಲಿ ಧರಿಸಿ ತಾರೆ ಉಪಕಮತ ಮಾಡಿದರು ರಲ್ಲಿ ನಿನ್ನೆ ಸುದ್ದಿಗಾರರೊಂದಿಗೆ ಮಾತನಾಡಿದ ಅವರು ಕಾರ್ಖಾನೆಗಳು ಮಾಸ್ಕ್ ಧರಿಸಿದ್ದರು ದರಗಿರಿ ರಲ್ಲಿ ಮಾಡುವರೆ ನಾಲ್ಕು ಮಾಡಿ\n",
      "\n",
      "File: SandalWoodNewsStories_172.txt\n",
      "Similarity Score: 0.8900270462036133\n",
      "Answer: ಒಂದು ಸಾವಿರದ ಒಂಬತ್ತು ನೂರ ಇಪ್ಪತ್ತ್’ಒಂದು ಕೋಟಿ ರೂಪಾಯಿ ಮೌಲ್ಯದ ಮೇಲೆ ನಿಗದಿತ ಪರಿಣಾಮಕಾರಿ ಕೇಂದ್ರಗಳಲ್ಲಿ ಸಾವಿರದ ಒಂಬತ್ತು ನೂರ ಇಪ್ಪತ್ತ್’ಒಂದು ಕೋಟಿ ರೂಪಾಯಿ ಮೌಲ್ಯದ ಒಂದು ನೂರ ಇಪ್ಪತ್ತ್’ಒಂದು ಕೋಟಿ ರೂಪಾಯಿ ಮೌಲ್ಯದ ನಿರ್ವಹಣಾಧಿಕಾರಿಗಳಿಗೆ ಸೂಚಿಸಿದ್ದಾರೆ ಒಂದು ಫಾರ್ಮ್ ಬಂದಿದ್ದೇನೆ ಸೋಲಿನ ಒಂದು ಏಕರೆ ಜಾಗದಲ್ಲಿ ಎಷ್ಟು ಗಿಡಗಳನ್ನು ಹಾಕಿದರೆ ಯಾವ ರೀತಿಯಲ್ಲಿ ಪೋಷಿಸ್ಟ್ ಆದರೆ ಎಷ್ಟು ಲಾಭ ವರದ ಪ್ರತಿಯೊಂದನ್ನು ನಿಮಗೆ ತಿಳಿಸಿ ಗಿರುಗಳನ್ನು ಹಾಕಿದರೆ ಯಾವ ರೀತಿ ಇದೆ ಅನ್ನೋದನ್ನು ನೀರಿಗೆ ಕೊರತೆ ಆಯ್ದು ಅಂದರೆ ಸಮ್ಮರಲ್ಲಿ ಇಲ್ಲಿಂದ ನೀರು ಖಂಡತವಾಗಲೂ ಹೆಲ್ಪ್ ಆಗಿದ್ದು ನೋಡಬಹುದು ಗಂಧದ ಗಿಡಗಳಿವೆ ಎಷ್ಟು ಮುದ್ದಾಗಿದೆ ಅಲ್ಲ ಶ್ರೀಗಂಧ ಅಂದಿತ್ಯ ಕ್ಷಣ ಅಂಗೆ ನೆನಪಾಗುವುದು ಕಾಲಿಟಿ ಹೇಳಬೇಕು ಅಂತಂದ್ರೆ ಈ ಗಿಡ ತಾನಾಗೆ ಬದ್ಧೆ ಕಾಗೋದಿಲ್ಲ ಅಂದರೆ ಸ್ವೀಗಂದ ಬದುಕಿರಬೇಕು ಅಂತಂದ್ರೆ ಅದರ ಜೊತೆಗೆ ಒಂದು ಪರಾವಳಿ ನಂಬಿದ ನಾವು ಕೊಡಬೇಕು ಅಂದರೆ ಪಕ್ಕದಲ್ಲಿ ಒಂದು ಗಿಡ ಇದ್ದಾಗ ಆಗಿಡದ ಸತ್ತವದಿಂದ ಬದುಕಿರುತ್ತೆ ಸರ್ಕಾರದಿಂದ ಕೇವಲ ನೀವೇ ನಿರಂತರ ಹಾಕಿರುತ್ತದೆ ದೇವರು ಕೋವಿಡ್ ಸೇರಿದಂತೆ ಹಲವು ಕೋಟಿ ರೂಪಾಯಿ ಮೌಲ್ಯದ ಮೂರು ನೂರ ಎಂಬತ್ತು ಕೋಟಿ ರೂಪಾಯಿ ಮೌಲ್ಯದ ಮೂರು ನೂರ ಮೂವತ್ತ್’ಏಳು ಕೋಟಿ ರೂಪಾಯಿ ಮೌಲ್ಯದ ಮೂರು ನೂರ ಮೂವತ್ತ್’ಏಳು ಕೋಟಿ ರೂಪಾಯಿ ಮೌಲ್ಯದ ಮೂರು ನೂರ ಮೂವತ್ತ್’ಏಳು ಕೋಟಿ ರೂಪಾಯಿಯನ್ನು ಹೆಚ್ಚಿಸಿದೆ ಚಿತ್ರಲಿದೆ ದರ್ಶನ್ ಅವರು ಮಾತನಾಡಿದ ಅವರು ಜನಪ್ರಿಯತೆಯನ್ನು ಸಾಧ್ಯವಾಗಿದೆ ಎಂದು ಅವರು ಹೇಳಿದರು ಇವುದು ಗ್ಯಾರೆಂಟಿ ಅಂದರೆ ಮೂವತ್ತು ವರ್ಷ ಇಲ್ಲಿ ಹದಿನೈದು ವರ್ಷದಲ್ಲಿ ಆರ್ದ ಅಟಾಮಲ್ಲಿ ನಮಗೆ ಖಂಡಿತವಾಗಲು ಲಾಭ ಸಿಗುತ್ತೆ ಮಿನಿಮಮ್ ತಂದರು ಮೂರು ಕೋಟಿ ದುಡ್ ಮಾಡ್ತಾರೆ ದಿಂದ ಹಾಟು ಉಳಿದಿದ್ದರೆ ಕೇಂದ್ರ ಸರ್ಕಾರ ಮಾಡಿದೆ ದರ್ಶನ್ ಜಿಲ್ಲೆಯ ಸಿಂಗಲ್ಸ್ ನೀವು ನಿಮಗೆ ಹೆಚ್ಚುವರಿ ಮುವತ್ತ್’ಒಂದು ಸಾವಿರ ಕೋಟಿ ರೂಪಾಯಿ ಮೀಸಲಿಡಿ ಹತ್ತು ವರ್ಷದಲ್ಲಿ ಖಂಡಿತವಾಗಲು ನೀವು ಕೋಟಿ ಅರಿಪತ್ ಯಾವುದು ಗ್ಯಾರಂಟಿ ಜಲಿ ಹೆಸರುವಾಸಿ ಕೂಡ ಆಗೋದಕ್ಕೆ ಶುರುವಾಗುತ್ತಿದೆ ಇಂದಿನಿಂದ ಕೇವಲ ಎರಡು ಸಾವಿರದ ಒಂದು ನೂರ ಹದಿನಾರು ಕೋಟಿ ರೂಪಾಯಿ ಮೌಲ್ಯದ ಮೂರು ನೂರ ಎಂಬತ್ತು ಕೋಟಿ ರೂಪಾಯಿ ಮೌಲ್ಯದ ಮೂರು ನೂರ ಎಂಬತ್ತು ಕೋಟಿ ರೂಪಾಯಿ ಮೌಲ್ಯದ ಮೂರು ನೂರ ಎಂಬತ್ತು ಕೋಟಿ ರೂಪಾಯಿ ಮೌಲ್ಯದ ನೀಡಿದೆ ಪಡಿಕೊಂಡು ಈ ಒಂದು ಹಣ್ಣಿನ ಗಿಡ ಎಷ್ಟು ಚೆನ್ನಾಗಿ ಬೆಳೆಯಿತ್ತು ಅಷ್ಟೇ ಚೆನ್ನಾಗಿ ನಿಮ್ಮ ಶ್ರೀ ಗಂಧದ ಮರ ಕೂಡ ಬೆಳೆಯುವುದಕ್ಕೆ ಸಾಧ್ಯವಾಗುತ್ತಿದೆ ಅಂಶ ಕೂಡ ಉಳಿಯೋದಕ್ಕೆ ಸಾಧ್ಯವಾಗುತ್ತದೆ ನೀವು ಮತ್ತೊಂದು ಪರಾವಲಂಬಿಗೆ ಬಹಳಷ್ಟು ಉದ್ದದಿನಾದರೂ ಹಾಕಿದರೆ ಅಂದರೆ ಖಂಡಿತವಾಗಲೂ ನಿಮಗೆ ಏಣ್ಣೆಯ ಅಂಶ ಅವರು ಗಿಡದಲ್ಲಿ ಕಾಣಿಸಿಕೊಳ್ಳುವುದಿಲ್ಲ ಅಷ್ಟೊಂದು ತಕ್ಷಣ ಬಹಳ ಖುಷಿಯಾಗುತ್ತೆ ಇದೆ ಎಂದು ನೋಡಿಕೊಳ್ಳಬೇಕು ಕಾಪಾಡುವುದಿಲ್ಲ ಆತುದಾಡು ವಿಷಯ ಯಾಕಾಂಗ್ರೆ ನಮ್ಮ ಗಿಡ ಕಟ್ ಮಾಡುವಂತಹ ಒಂದು ಸಿದ್ದಿಗೆ ಬಂದಾಗ ಕಳ್ಳರ ಕಾಟ ಬಹಳ ಜಾಸ್ತಿಯಾಗುತ್ತಿದ್ದು ನಿಮ್ಮ ಸೆಕ್ಯೂರಲ್ಲಿ ಸುಷ್ಟೆ ಬಹಳ ಸ್ಟ್ರಾಂಗ್ ಆಗಿರಬೇಕು ದಲ್ಲಿ ನಿಮ್ಮ ಸಂವಿಧಾನದ ಮೇಲೆ ನಿಗಾ ಇಡಲಾಗಿದೆ ಈ ರೀತಿಯಾಗಿ ನಾವು ಮೊದಲು ಶ್ರೀಗಂಧದ ಪ್ಲಾಂಟೇಶನ್ ಶುರು ಮಾಡ್ತೀನಿ ಅಂದರೆ ನಾವು ಶುರು ಮಾಡುವ ಜಾಗ ಹೇಗಿದೆ ಸೆಕ್ಯೂರಿ ಡಿಸ್ಸೆಂಟರ್ ಹೇಗಿರಬೇಕು ಇದನ್ನು ಫಸ್ಟ್ ತೀವ್ಕೆ ಬೇಕು ಇದನ್ನು ನಂತರ ಸಸಿಗಳಿಂದ ತರಬೇಕು ಎಷ್ಟಕ್ಕೆ ಸಿಗುತ್ತೆ ಅದನ್ನು ಹೇಗೆ ಪೋಷಿಸಬೇಕು ಆರು ತಿಂಗಳ ಸಸಿಗಣ್ಣಮುಖರರು ವರ್ಷದವರು ಬಹಳ ಹುಷಾರಾಗಿ ನೋಡಬೇಕು ಎಂ ದನ್ನ ಶುರು ಮಾಡಿದರೆ ಅಂತಂದ್ರೆ ಖಂಡಿತವಾಗಲೂ ನೀವು ಕೂಡ ಹತ್ತು ವರ್ಷ ಮಿನಿಮಮ್ ನೀವು ಸಾವಯವ ಕೃಷಿ ಮಾಡಿದರೆ ಅಂತಂದ್ರೆ ಒಳ್ಳೆಯ ಆದಾಗಲಿದೆ ಅವರು ಇವತ್ತು ಬಹಳ ಖುಷಿಯಾಗಿದ್ದಾರೆ ಇನ್ನೊಂದು ಖುಷಿಯಾದ ವಿಷಯವನ್ನು ಅಂದರೆ ಇಒಂದು ಫಾರ್ ಅವರು ಮಂಗಳಮ್ಮ ಅಂತಾರಾಷ್ಟ್ರೀಯ ಹೆದ್ದರಿಂದ ಶುರು ಮಾಡಿದರು ಜರ್ಮಿ ಹೇಗಿತ್ತು ಎಸ್ಟಿ ಖರ್ಚು ಮಾಡಿದರು ಯಾವ ರೀತಿ ಅವರ ಲೈಫ್ ಬದಲಾಗಿದೆ ಪ್ರತಿಯೊಂದು ನಿಮಗೆ ನೆಕ್ಸ್ ಅಪ್ ಸೋಡಿಲ್ ತಿಳಿಸಿಕೊಟ್ಟು ದರ್ಶನ್ ಮಾಡಿದರೆ ಕಾರ್ಯಕ್ರಮದಲ್ಲಿ ಮಾತನಾಡಿದ ಅವರು ಕೋಟಿ ರೂಪಾಯಿ ಮಾಡಿದರು ಸಲ್ಲಿಸಿದ ಸುದ್ದಿಗೆ ಸಾಧ್ಯವಾಗಿರಬೇಕು ಎಂದು ಅವರು ಮಾಹಿತಿ ನೀಡಿದರು\n",
      "\n",
      "File: SandalWoodNewsStories_173.txt\n",
      "Similarity Score: 0.8871063590049744\n",
      "Answer: ಪದನ್ನೆ ಮಾಡಬೇಕು ಅಂತಾರೆ ಯೂಟಿವ್ ಚಾನೆಲ್ ನಾನು ಪವಿತ್ರ ಜಯಣ್ಣ ನಿಮಗೆ ರೂಪದ ರೈತರನ್ನು ಪರಿಚಯ ಸ್ಥಿವಿ ಹಾಗೂ ನೋಡಿ ಸುವಿಕ್ಷ್ಕರೇ ಅಜೇಯವರು ಯಾದಗಿರಿಯಿಂದ ನೇರವಾಗಿ ನಮಸುವುದಿಲ್ಲ ಅಂತಹ ಹೇಳುವುದು ಇವರ ಈ ಕೃಷಿಯ ಜಾರ್ನಿ ಮತ್ತೆ ಕೃಷಿಯನ್ನು ಆದ್ಬೇಕು ಅನುಮತ ಒಂದು ಆಸೆಯನ್ನಿದೆ ಆದನೇ ಯಾವ ನೀಡೆರಿಕೊಳ್ಳಲಾಗಿದೆ ಎಲ್ಲವನ್ನು ಹೇಳಿದ್ದೇವೆ ಎಂದು ಕೃಷಿಯಲ್ಲಿ ಬೆಳವಣಿಗೆ ಕಾರ್ಯನಿರ್ವಹಿಸಿದೆ ಆಮೇಲೆ ಅದಕ್ಕೆ ಸ್ವಲ್ಪ ಸೌಲಭ್ಯ ಮತ ಸೌಲಭ್ಯ ಕಂಡಿದ್ದೇನೆ ಬಿಜಿನೆಸ್ ಬಗ್ಗೆ ತುಂಬಾ ನಾಡಿದೆ ಅಂದರೆ ಯಾವ ರೀತಿ ನೀವು ಬರಬೇಕು ಎರ್ಸ್ ಆಫ್ ರಿಯಂ ನೋಡಿದಾಗ ಅದರಲ್ಲಿ ಕಲ್ಲಿದ್ದರೆ ನಿಮ್ಮ ಕೃಷಿ ನಿಂದ ನೀವು ಕೃಷಿ ಭೂಮಿ ನೋಡಬಹುದು ಅವರು ಮಾಡಬಹುದು ಇಲ್ಲ ಅವರು ಇಲ್ಲ ಅದರಲ್ಲಿ ಕೆಂಪೇಟೆ ಬೇಗ ಅಕ್ಷನ್ ಅಬ್ದಾರ್ಬನ್ ಅಬ್ದರ್ಶನ್ ಅಬ್ದರ್ಬರ್ಶೆ ಮಾಡಿದರು ನಂದಗು ಮಾತನಾಡಿದ ಅವರು ಮಾತನಾಡಿದರು ಕೂಡ್ಸ್ ನೋಡಿದಿರಾ ಸಿರುವ ಸಾಮಾಜಿಕ ವಿಧಾನಸಭೆಯಲ್ಲಿ ಸದಸ್ಯರು ಸಾಮಾಜಿಕ ಅಂತರ ಕಾಯಿದೆಯಲ್ಲಿ ಸಾಮಾಜಿಕ ಅಂತರ ಕಾಯಿದೆಯನ್ನು ಸರ್ಕಾರ ಕಾಯ್ದುಕೊಂಡು ಸದಸ್ಯರು ಸಾಮಾಜಿಕ ಅಂತರ ಕಾಯ್ದುಕೊಳ್ಳುವಂತೆ ಅವರು ಸದಸ್ಯರು ಸದಸ್ಯರಾಗಿ ಆಗಿರುವ ಸದಸ್ಯರು ಸದಸ್ಯರು ಸದಸ್ಯರು ಸದಸ್ಯರು ಸದಸ್ಯರು ಸದಗಳನ್ನು ಸದಸ್ಯರು ಸದಗಳು ಸದಾಧಿಸಿದ್ದರು ರಷ್ಟು ಸ್ವಲ್ಪ ಬದಲಾವಣೆ ಅಂತಾರೆಗೆ ರೈತರಿಗೆ ಈಗ ಬೇರೆ ಬಿಸಿನೆಸ್ ಗಳಿಗೆ ಲಾಭ ನಷ್ಟ ನೋಡುತ್ತಿರುವುದರಿಗೆ ತುಂಬಾ ಕಷ್ಟಾಗುತ್ತದೆ ಯದಂತೆ ನಿದರ್ಶನ ಹೇಳಬಹುದು ಸಂಜೆ ನಿಮ್ಮ ಕನಸು ರಲ್ಲಿ ಬಹಳಷ್ಟು ಏಳಿಗೆ ಕಾಣಬಹುದು ರಾಜ್ಯ ಮಟ್ಟದ ರಾಷ್ಟ್ರಮಟ್ಟದಲ್ಲಿ ಕೂಡ ಸಾಧನಗಳನ್ನು ಮಾಡಬಹುದು ಅನ್ನೋದು ನಮ್ಮ ಅನಿಸಿಕೆ ಕೂಡ ನಮ್ಮ ಧೇಯಕ ಅದಕ್ಕೆ ನೀವೇನು ಮಾಡಬೇಕು ಕ್ರೀಡಾ ಮಾಡಬೇಕು ನಮ್ಮ ಕೃಷಿ ಭೂಮಿಯಲ್ಲಿ ಯಾವ ರೀತಿ ಏಳಿಗೆ ಪಡಕೊಳ್ಳಬಹುದು ಜೊತೆಗೆ ಯಾವುದೇ ಆದಾಯವನ್ನು ಹೆಚ್ಚಿಸಿಕೊಳ್ಳುವುದು ಅನ್ನುವುದಕ್ಕೆ ಕೃಷಿಗಳಿಂ ಒಂದು\n",
      "\n",
      "File: SandalWoodNewsStories_174.txt\n",
      "Similarity Score: 0.8883263468742371\n",
      "Answer: ಅವರುಮಾನವಷ್ಟೇ ನಾನು ಹೇಳಿದ್ದಾರೆ ಯೋಧಗಳು ಮೆಸುಲ್ ಗೇಸ್ ಬರ್ತಿಯಾನೆ ನಾಲ್ವತ್ತು ಅವರು ಫಾನುಭವಿಗಳಿಂದ ನಿಮ್ಮನ್ನ ಕರ್ನಾಟಕದ ಸ್ಯಾಂಡ್ಲೂಡ್ ಲೇರಿಯರ್ ನೀವು ನಮ್ಮ ಫಿನಾಜ್ ಸರ್ಕಾರ ಸಮಗ್ರ ಕೃಷಿ ಕೋರ್ಸ್ಗೆ ಮೆಂಜರಾಗಿದ್ದು ಬಿಟ್ಟು ಬಾಳು ಜನಕಿ ಇನ್ಸ್ಪಾರ್ ಮಾಡಿದ್ದೇನೆ ನನಗೆ ನಮ್ಮ ಫಸ್ಟು ನಿಂಬಗೆ ಒಂದು ವಿಡಿಯೋ ವೈರಲ್ ಆಗಿತ್ತು ನೀವ ಕೇಳಿದವರು ಮಾತನಾಡಿದ ಅವರು ಮಾತನಾಡಿದರು ಕೂಸ್ ಅನ್ನು ಮಾಡಿದ್ರು ಧರಿಸಿ ಅವರು ಕೃಷಿ ಮಾಡಬೇಕು ಎಂದು ಅವರು ಅವರು ಅದೇ ವೇಳಿಗೆ ಐದು ಗಂಟೆಯಿಂದ ಕೆಲಸ ಪ್ರಾರಂಭ ಮಾಡಿಕೊಂಡಿದ್ದೇನೆಯಾದರೆ ನಾನು ಅಯ್ದು ಗಂಟೆಯಿಂದ ಕೆಲಸ ಪ್ರಾರಂಭ ಮಾಡಿಕೊಂಡಿದ್ದೇನೆಯಾದರೆ ನಾನು ಅಯ್ದು ಗಂಟೆಯಿಂದ ಕೆಲಸ ಪ್ರಾರಂಭ ಮಾಡಿಕೊಂಡಿದ್ದೇನೆಯಾದರೆ ನಾನು ಅಯ್ದು ಗಂಟೆಯಿಂದ ದೃಷ್ಟಯಲಿಬರದೆ ನನ್ನಿಂದಾಗಿ ಆರಿಸಿಕೊಂಡ� ಎದುರಿಸಿಕೊಂಡಿದ್ದರು ನವೆಸ್ಟ್ ಲೇಸಿ ಅರ್ಥಿವೆ ನಾವಾ ಗುಲಾಮರಾಗಿ ಬದುಕಬೇಕಾಗುತ್ತೆ ನಾನು ನೆನ್ಮಕ್ಕಿಗಾದರೆ ಕ್ವೆಸ್ಟ್ ಮಾಡ್ತೀನಿ ನ್ಯೂಲಿಡ್ರುಶಿಪ್ ಕ್ವಾಲಿಟಿ ಹಿಂಪ್ಲಿಯೆಂಟ್ ಮಾಡಿಕೊಂಡಿದ್ದ ಅದಕ್ಕೆ ನೀವೇ ಸ್ಯಾಟ್ಯವಾಗಿರ್ತಿಲ್ಲ ನಿಮ್ಮ ನೆತನನ್ನು ಅರ್ಥಿವಾಗುತ್ತದೆ ಸಿಕ್ಕುಶಿಯಲ್ಲಿ ಇಷ್ಟೆಲ್ಲ ವಿಚಾರಗಳನ್ನು ಕಲಿಯಬೇಕು ಅಂದರೆ ಅಫ್ಕೋಸ್ಟ್ ನಿಮ್ಮ ಸುತ್ತಮುತ್ತಲಿನ ನಿಮಗಿದ್ದ ಮತ್ತು ಮಾಡಿಕೊಳ್ಳಲಾಗಿಲ್ಲ ಚಿತ್ರನಲ್ಲಿ ನಿನ್ನೆ ಕಾಗಿಲಿನ ಚಕ್ರಬಂದ ಬಿದ್ದಿದ್ದರು ಅಲ್ಲೋಕ್ ಎರಡು ಮೂವತ್ತ್’ಐದು ಡಿಗ್ರಿ ಟೆಂಪರ್ ಚಲಾಷ್ಟ್ರದ ಇಲ್ಲಿ ನಲವತ್ತ್ ಮೂರು ನೂರ ನಲವತ್ತ್ ನಾಲ್ಕು ನೂರ ನಲವತ್ತೈದು ತನಾಲ್ಕು ಮಾದರಿಗಳನ್ನು ಮಾಡಲಾಗಿದೆ ದರಲಿರುವ ಕೋಟಿ ರೂಪಾಯಿ ಮೊತ್ತದ ಮೂರು ನೂರ ಮೂವತ್ತ್’ನಾಲ್ಕು ಸೆಕೆಂಡ್ ಸೋಂಕು ಪತ್ತೆ ಹಿನ್ನೆಲೆಯಲ್ಲಿ ಇದುವರೆಗೆ ಮೂರು ನೂರ ಮೂವತ್ತ್’ಐದು ಕೋಟಿ ರೂಪಾಯಿ ಮೌಲ್ಯದ ಹಿನ್ನೆಲೆಯಲ್ಲಿ ನೀರಿನಲ್ಲಿ ನಾಯಕಿ ಮಾಡಿಕೊಂಡಿದ್ದ ಬೆಳೆ ಮದು ಸೆನೆಟ್ ದಾಳಿಂಬೆ ನಾಲ್ಕು ಕೋಟಿ ರೂಪಾಯಿ ಮೊತ್ತದಲ್ಲಿ ನಾಲ್ಕು ಕೋಟಿ ರೂಪಾಯಿ ಮಾಡಿಕೊಂಡಿದ್ದಾರೆ ಕಳೆದ ಗುಡಗೇನಾದರೆ ಕಳೆದ ಕೊರೋನಾ ಸೋಂಕು ಹಿನ್ನೆಲೆಯಲ್ಲಿ ನಿರ್ಮಾಣದಲ್ಲಿ ನಿರ್ಮಾಣದಲ್ಲಿ ನಿರ್ಮಾಣಕ್ಕೆ ಸಾಮಾಜಿಕ ಅಂತರ ಕಾಪಾಡಿಕೊಳ್ಳುವ ಸಾಧ್ಯತೆ ಇದೆ ಬೇಡ್ತಿದ್ದಲ್ಲ ಎಂಬ ಕಾರಣದಿಂದ ಹಿನ್ನೆಲೆಯಲ್ಲಿ ಕೇಂದ್ರ ಸರ್ಕಾರ ಕಲ್ಯಾಣ ಕಾರ್ಯಕ್ರಮಗಳು ಮತ್ತು ಕೇಂದ್ರ ಸರ್ಕಾರ ಕಲ್ಯಾಣ ಕಾರ್ಯಕ್ರಮಗಳು ಸಾಧ್ಯವಾಗಿದೆ ನಿಭಾಸ್ಕರ್ ಇವನ್ ಮನೆಯಲ್ಲಿ ಬಂದರು ಕೇರಳದಲ್ಲಿ ನಿನ್ನೆ ಸುದ್ದಿಗಾರರೊಂದಿಗೆ ಮಾತನಾಡಿದ ಅವರು ಮಾತನಾಡಿದರು ದೇವರು ಸಾಮಾಜಿಕ ಅಂತರ ಕಾಯ್ದುಕೊಳ್ಳುವ ಸಾಧ್ಯತೆ ಇದೆ ಎಂದು ಅವರು ಹೇಳಿದರು ಕೇರಳದಲ್ಲಿ ನಿನ್ನೆ ಸುದ್ದಿಗಾರರೊಂದಿಗೆ ಮಾತನಾಡಿದ ಅವರು ಮಾತನಾಡಿದರು ಯೋರು ಇಲೇನ್ ಬರುತ್ತೇನಾ ನಲವತ್ತೈದು ಡಿಗ್ರಿ ಟೆಂಪ್ರಚರ್ನಲ್ಲಿ ಅಂತಾಭೂಮಿಯಲ್ಲಿ ಅದಕ್ಕೆ ದಾಳಿಂಬೆ ಮಾಡಿ ತಲುಕುಂಟು ಪೋಸ್ಟ್ಗಳನ್ನು ನೀಡಿದೆ ಆನೆಟ್ನಲ್ಲಿ ನಾನು ಇವತ್ತು ಎಂಟು ಎಕರೆ ಹತ್ತು ಗುಂಟೆಯಲ್ಲಿ ಮಾಡಿದಂತ ಬೆಳೆಗಳ ವಿವರ ಎರಡು ಸಾವಿರದ ಅಯ್ದು ನೂರು ಶ್ರೀಗಂಧ ಆರು ನೂರು ಮಾವು ಆರು ನೂರು ಪೇರಲ ನಾಲ್ಕು ನೂರ ಐವತ್ತು ಸೀತಾಫಲ ನೂರು ಬೆಟ್ಟನ್ನೆಲ್ಲಿಕೆ ನೂರು ನೀರಲನ್ನು ನೂರು ಬಾರಿಯನ್ನು ನೂರು ಕರಿಬೇವು ಎಂಟು ಸಾವಿರದ ನೂರು ನೂರು ನೂರು ನುಗ್ಗೆ ಕಾಯಿ ಇದರ ಜೊತೆ ಕುರಿ ಸಾ� ಕೆಲಸಗಳಿಗೆ ಸಂಬಂಧಿಸಿದಂತೆ ಸಾಮಾಜಿಕ ಅಂತರ ಕಾಯ್ದುಕೊಳ್ಳುವ ಸಾಧ್ಯತೆ ಇದೆ ಮಾರ್ಕ್ ಅವರು ಮಾತನಾಡಿದರು ರಿಂದ ಮಾಡಿದರೆ ಕರ್ನಾಟಕಕ್ಕೆ ಒಂದು ಹೆಮ್ಮೆ\n",
      "\n",
      "File: SandalWoodNewsStories_175.txt\n",
      "Similarity Score: 0.8827399015426636\n",
      "Answer: ಎಲ್ಲರಿಗೂ ನಮಸ್ಕಾರ ನಾನು ರಮೇಶ್ ಪೊಲಿಟಿಗಿ ಅಂತಾರೆ ದರಗಿರಲಿರುವ ಕಾರ್ಯಕ್ರಮದಲ್ಲಿ ನಿನ್ನೆ ಸಂಜೆ ನಾಲ್ಕು ಗಂಟೆಗೆ ಮಾತ್ರ ಮಾಡಿದ ಅವರು ಕಾರ್ಯಕ್ರಮಗಳನ್ನು ಕೈಗೊಳ್ಳಲಾಗಿದ್ದು ಕೇಂದ್ರ ಸರ್ಕಾರ ಕೈಗೊಂಡಿದೆ ಕಂಟೆಗೆ ಕಂಟೈನೆಂಟ್ ಪರಾವಳಿ ಮತ್ತು ಸಾವಿರ ರೂಪಾಯಿ ಮಾಡಬಹುದು ಮತ್ತು ಸರ್ಕಾರದ ಸೌಲಭ್ಯಗಳನ್ನು ಕಲ್ಪಿಸಲಾಗಿದೆ ಮತ್ತು ಅದರ ಮಾರುಕಟ್ಟೆಗೆ ಹೀಗೆ ನಾನಾ ಪ್ರಶ್ನೆಗಳನ್ನು ಇತ್ತು ಇವತ್ತು ಇವತ್ತು ಇವತ್ತು ಇವತ್ತು ಸರಿಗಂಧ ಅಂತರ ಕಟಾಂಬ್ಲೆ ಅವರ ವಿಡಿಯೋದಲ್ಲಿ ಒಂದಿಷ್ಟು ಇದರ ಬಗ್ಗೆ ಸಂಕ್ಷಿಪ್ತವಾಗಿ ಒಂದು ಮಾತಾಡಲಿಕ್ಕೆ ಇಷ್ಟಪಡುತ್ತೇನೆ ನಗರದಲ್ಲಿ ನಿನ್ನೆ ಸುದ್ದಿಗೋಷ್ಠಿಯಲ್ಲಿ ಮಾತನಾಡಿದ ಅವರು ಮಾತನಾಡಿದ ಅವರು ಮಾತನಾಡಿದರು ಸಾಂಡಲ್ ಹುಡ್ಡಿದಲ್ಲ ಅದು ಸ್ಯಾಂಡ್ ಅಲ್ ಅಲ್ ಬಾಂಬ್ ಮತ್ತು ಕರೀತಿ ಅದೇ ರೀತಿ ಸ್ಯಾಂಡ್ ಅಲ್ ಅಲ್ ಅಲ್ ಅಲ್ ಅಲ್ ಅಲ್ ಅವರ ಸಾಮರ್ಥ್ಯ ಸ್ಯಾಂಡ್ ಅಲ್ ಅವರು ಅವರ ಸಾಮರ್ಥ್ಯ ಸಂಪರ್ಕಿಸಿದ್ದರು ದೇವರು ಸಾವಿರದ ಎರಡು ನೂರ ಹದಿನಾಲ್ಕು ಮಂದಿ ಸೋಂಕು ಪತ್ತೆ ಹರಡಿರುವ ಸಾವಿರದ ಒಂದು ನೂರ ಹದಿನಾಲ್ಕು ಮಂದಿ ಸೋಂಕು ಪತ್ತೆ ಹರಡಿರುವ ಸಾವಿರದ ಒಂದು ನೂರ ಹದಿನಾಲ್ಕು ಮಂದಿ ಸಾವಿಗೀಡಾದರು ಇಂದು ಬೆಳಗಿನ ಜಿಲ್ಲೆಯ ಸಾಮಾನ್ಯ ಸರ್ಕಾರ ಮತ್ತು ಸಾಮಾನ್ಯ ಸರ್ಕಾರ ಕಾನೂನು ಸಾಧಿಸಿದ್ದು ಅದೇ ಕಾನೂನು ಸಾಧ್ಯವಾಗಿದೆ ರಲ್ಲಿ ನಿರಂತರ ಸಾಮಾನ್ಯ ರಾಜ್ಯದ ಕೇಂದ್ರದಲ್ಲಿ ನಮ್ಮ ಸರ್ಕಾರದ ಮೇಲೆ ನಮ್ಮ ವಿಯೆಯನ್ನು ತರಬೇಕಾಗಿಲ್ಲ ಎಂದು ನಮ್ಮ ನೆಮ್ಮ ದಿಕ್ಕಿಯೊಂದರಲ್ಲಿ ನಮ್ಮ ಪಾಣಿ ಹಟ್ಟೆಚ್ ಮಾಡಿಕೊಂಡರು ನಕ್ಕಿನ ಸರ್ಕಾರ ಕೊಡಗಿನ ಅಥವಿರದ ನಲವತ್ತು ಕೋಟಿ ನಲವತ್ತು ಸಾವಿರದ ಆರು ಸಾವಿರದ ಇಪ್ಪತ್ತು ಪಾಣಿ ನಾವು ಪ್ರಿಂಟಾಲ್ ತದಗೊಂಡಿದ್ದಾರೆ ನಾವು ಬೆಳಗು ಅದು ನಮ್ ಪಾಣಿಗಳು ಕೊಂದುವರು ಹಾಕಿದರೆ ಸಾಮಾಜಿಕ ಅಂತರ ಕಾಯ್ದುಕೊಳ್ಳುವುದರೊಂದಿಗೆ ಸಂಬಂಧಿಸಿದಂತೆ ಸಾಮಾಜಿಕ ಅಂತರ್ಜಲ ಸಾಮಾಜಿಕ ಅಂತರ್ಜಲ ಸಾಮಾಜಿಕ ಅಂತರ್ಜಲ ಸಾಮಾಜಿಕ ಅಂತರ್ಜಲ ಸಾಮಾಜಿಕ ಅಂತರ್ಜಲ ಸಾಮಾಜಿಕ ಅಂತರ್ಜಲ ಸಾಮಾಜಿಕ ಅಂತರ್ಜಲ ಸಾಮಾಜಿಕ ಅಂತರ್ಜಲ ಸಾಮಾಜಿಕ ಸ್ಥಳೀಯ ಸಸ್ಯ ಸರಿಕುವಾಗಿನ ಮಾಡಲಿದ್ದಂಡೆಯಲ್ಲಿ ನಮ್ಮ ತಿಪ್ಪಿಯಲ್ಲಿ ಆಮೇಲೆ ನಮ್ಮ ರಸ್ತೆಯ ಬದುಗಳಲ್ಲಿ ಸೃಜಾರ್ಜ್ಞೆ ಯಾವುದೇ ವಿಶೇಷ ಕಾಳಿ ಬರನ್ನ ನೆರವೇರನ ಎಲ್ಲದನ್ನು ಎದುರಿಸಿ ಉತ್ಕೃಷ್ಟವಾಗಿ ಬೆಳೆದ ಕಂತಗುದಾಗಿ ಅದಕ್ಕೆ ನಾಯಿಗಂದ ಅಂತಾರೆ ಅದು ನಾಯಿಗಂದ ಅಲ್ಲ ಜಗತ್ತಿನಲ್ಲೇ ಅತ್ಯಂತ ಬೆಲೆಬಾಳುವಂತಹ ಸ್ಯಾಂಟಲಂ ಅಲ್ಬಮ್ ಮತ್ತು ಏರ್ತಾರೆ ದರಗಿರಲಿರುವ ಹಿನ್ನೆಲೆಯಲ್ಲಿ ನಿನ್ನೆ ಮತ್ತು ಸಾರ್ವಜನಿಕ ಸಭೆಯಲ್ಲಿ ನಿನ್ನೆ ಸುದ್ದಿಗೋಷ್ಠಿಯಲ್ಲಿ ಮಾತನಾಡಿದ ಅವರು ಜನರಲ್ಲಿ ಸಾರ್ವಜನಿಕರಿಗೆ ಸಹಕಾರಿಯಾಗಬೇಕು ಎಂದು ಜಾಗತಿಕ ಮಾರುಕಟ್ಟೆಯಲ್ಲಿ ಔಷಧಿಯ ಮತ್ತು ಸುಗಂದದ ವಿವರಗಳನ್ನು ಸಾರ್ವಜನಿಕರಿಗೆ ಸಹಕಾರಿಯಾಗಿದೆ ಇದು ಏನು ಒಂದು ಉತ್ಕೃಷ್ಟ ಗುಣ ಇರದಿಂದ ಇವತ್ತು ಇದೊಂದು ಐಪ್ಪ ಸುಮ್ಮೆ ದೊಂದು ಗಾಳಿಗೋಪರ್ ಇಂದಲಕ್ಕೂಡಿನವರಂತಹ ಬಂದರು ಮಾರ್ಲಿಕ್ ಮಾಡ್ತಾರೆ ಅಂತ ಸತ್ಯ ಇದೆ ಸಿರುವ ಸಾಮಾಜಿಕ ಅಂತರ ಕಾಯ್ದುಕೊಳ್ಳುವ ಸಾಧ್ಯತೆ ಇದುವರೆಗೆ ಸಾವಿರದ ಅಯ್ದು ನೂರು ಕೋಟಿ ರೂಪಾಯಿ ಮೌಲ್ಯದ ಅರ್ಜಿಯನ್ನು ಸಾಧಿಸಿದೆ ಸಾವಿರ ರಾಮಗೆ ಇಲಾಖೆಯ ಕರ್ನಾಟಕ ಕರ್ನಾಟಕದಲ್ಲಿ ರಿಟಲಿಂಗ್ ಮಾಡುತ್ತಿದೆ ಇಪ್ಪತ್ತಾರು ಸಾವಿರ ಕ್ವಿಂಟಲ್ ಇಪ್ಪತ್ತ್’ಆರು ಲಕ್ಷ ಒಂದು ಕ್ಕನಿಗೆ ಎರಡು ಕೋಟಿ ಕರ್ನಾಟಕ ಸರ್ಕಾರ ಕರ್ನಾಟಕದ ರೈಟೇಲಿಗೆ ಮಾಡುತ್ತದೆ ಇದು ನಮಗೆಲ್ಲ ಗೊತ್ತಿರಬೇಕು ಒಂದು ಟನ್ ಬೆಲೆ ಎಷ್ಟಾಂದರೆ ಎರಡು ಕೋಟಿ ಅರವತ್ತು ಲಕ್ಷ ಇಗಾಗಿ ಇವತ್ತು ಏನನಾಮವಾಗಿದೆ ಅಂದರೆ ಒಂದೇ ಎಕರೆ ನಾವನ್ನು ಮೂರು ಎಕರೆ ನಮ್ಮ ಸಾಂಪ್ರದಾಯಿಕ ಕೃಷಿಗಳನ್ನು ಬೆಳೆಗಳನ್ನು ಬೆಳೆಯಿಂದ ಒಂದು ಸಾವಿರದ ಆರು ನೂರ ಮೂರು ಸರಳವಾಗಿದೆ ಸಾರ್ಟ್ಯಾಂಡಲ್ ಡೆನ್ನಾವು ಎಕ್ಸ್ಪೆಕ್ಟ್ ಮಾಡಬಹುದು ನವರೆಗೆ ಸಾಮಾಜಿಕ ಜವಾಬ್ದಾರಿ ಅಂತಾರಾಷ್ಟ್ರೀಯ ಹಾಗೂ ಜಿಲ್ಲೆಯ ಸಾಮಾಜಿಕ ಅಂತರ ಕಾಯ್ದುಕೊಳ್ಳುವುದು ಸಾಮಾಜಿಕ ಜವಾಬ್ದಾರಿ ಅಂತರ್ಜಿಲ್ ಅವರು ಸಾಮಾಜಿಕ ಜವಾಬ್ದಾರಿ ಅಂತರದಲ್ಲಿ ಸಾಮಾಜಿಕ ಜವಾಬ್ದಾರಿ ಅಂತರದಲ್ಲಿ ಸಾಮಾಜಿಕ ಜವಾಬ್ದಾರಿ ಅಂತರದಲ್ಲಿ ಸಾಮಾಜಿಕ ಜವಾಬ್ದಾರಿ ಅಂತರದಲ್ಲಿ ಸಾಮಾಜಿಕ ಜವಾಬ್ದಾರಿ ಅಂತರಿಕ್ಕಿದರು ನಿಟಿನಿನಿಂದ ಫುಲ್ ಫಿಲ್ ಮಾಡಿ ನಾವು ಕೇವಲ ಆರ್ಥಿಕವಾಗಿ ಅಸ್ತಿಯಾಲಾ ಆರ್ಥಿಕ ಬದುಕಿನ್ ಜೊತೆಗೆ ಒಂದು ಆರೋಗ್ಯದ ಬದುಕು ಒಂದು ಆರೋಗ್ಯದ ಬದುಕು ಆದರ್ಶದ ಬದುಕು ಒಂದು ಆದ್ಯಾತನದ ಬದುಕು ನಾವು ಸವಿವೋದಂತಹ ಈ ಸಂದರ್ಭದಲ್ಲಿ ನಾನಿಯಾದ್ದೇನೆ\n",
      "\n",
      "File: SandalWoodNewsStories_176.txt\n",
      "Similarity Score: 0.8858127593994141\n",
      "Answer: ಅರಣ್ಯ ಅನಂತ್ ಸರ್ಕಾರ ಸುಮಾರು ಸ್ಕಿಮ್ಗಳು ಕೊಡುತ್ತಿದೆ ಸರ್ಕಾರದ ಸ್ಕಿಮ್ಗಳನ್ನು ರೈತರು ಬಳಸಿಕೊಂಡು ಇವತ್ತು ಇಡಿ ಒಲ್ಲಿ ತುಂಬಾ ಕಾಸ್ಲೆಯಷ್ಟು ಹುಡ್ಡಂತಂದರೆ ಶ್ರೀಗಂಧಕ್ಕಿಂತ ಕಾಸ್ಲೇಸ್ ತೆಂದರೆ ಹಗರೂಡ್ ಸಿಕ್ಕಾಪಟ್ಟಿವ್ಯಬೇಲೆ ಇದೆ ಕೇರಳದಲ್ಲಿ ನಿನ್ನೆ ಸುದ್ದಿಗಾರರೊಂದಿಗೆ ಮಾತನಾಡಿದ ಅವರು ಮಾತನಾಡಿದರು ನಿಯಮದಾಗಿ ಜೀವನ ಮಾಡೋದು ಎಲ್ಲಾ ವೀಕ್ಷಕರು ನಮಸ್ತೆ ನನ್ನಿಸಿರುವ ಬಂದ್ ಗ್ರೀನ್ ಕೋಲಾರ್ ನೇಯರ್ ಕೆಎಂಎಫ್ ಡೈರಿಯಾದರೆ ಒಂದು ಗ್ರೀನ್ ವೀಡ್ ಫಾರ್ ಅವರು ಕರ್ನಾಟಕದಲ್ಲಿ ಒಂದು ಭಿನ್ನವಾಗಿ ರೀನ್ ಉಡುಪಿ ಇರುವುದು ಯಾಕೆಂದರೆ ಇದು ನಿಮಗೆ ಹರಡಿದೆ ಸಾಯಿ ವೃದ್ಧಾಶ್ರಮದೊಂದಿಗೆ ನಮ್ಮ ಸಾಮಾನ್ಯ ಕೇಂದ್ರ ಸಚಿವ ರಮೇಶ್ ಜಿಗಜಿಣಗಿ ಸಿಲುಕಿದ್ದ ಸಾಮಾಜಿಕ ಅಂತರ ಕಾಪಾಡುವ ಕೆಲಸ ಮಾಡಿಕೊಳ್ಳಲು ಸಾಧ್ಯವಾಗಿದೆ ಎಂದು ಸಚಿವ ಸಂಪುಟ ಸಚಿವ ಸಂಪುಟದ ಸಮಗ್ರ ಸಚಿವ ಸಂಪುಟದ ಸಮಗ್ರ ಸಚಿವ ಸಂಪುಟದ ಸಮಗ್ರ ಸಮಗ್ರ ಸಂಘದ ಸಮಗ್ರ ವಿಷಯದಲ್ಲಿ ಸಮಗ್ರ ವಿಷಯಗಳನ್ನು ಒದಗಿಸಿ ಒಂದು ಸಾವಿರ ಕೆಲಸ ಕಲಿಸುವು� ಇಂತಹ ಒಂದು ಅಗ್ರಿಕಲ್ ಇಲ್ಲ ಅನಂಗಿಲ ನಮ್ಫಾರ್ಮಲ್ ಅಗ್ರಿಕಲ್ ಚರ್ ಕಾನ್ಸಪ್ ಇಟ್ಟುಕೊಂಡಿದೆ ಸರಿದರಲ್ಲಿ ಏನಂತಂದರೆ ಕುರಿ ಕೂಲಿ ಮೀನು ದೇಶಾಖಲು ಎರಡು ಅರಣ್ಯ ಪದ್ಧತಿ ತೋಟಗಾರಿಕೆ ನಂಬಿಕೆ ಮತ್ತು ಕೇಂದ್ರಾಡಳಿತ ಪ್ರದೇಶಗಳಲ್ಲಿ ಸಾವಿರದ ಕೋಟಿ ರೂಪಾಯಿ ಮೌಲ್ಯದ ಮೂರು ನೂರ ಮೂವತ್ತ್’ಏಳು ಕೋಟಿ ರೂಪಾಯಿ ಮೌಲ್ಯದ ಮೂರು ನೂರ ಮೂವತ್ತ್’ಏಳು ಕೋಟಿ ರೂಪಾಯಿ ಮೌಲ್ಯದ ಮೂರು ನೂರ ಮೂವತ್ತ್’ಏಳು ಕೋಟಿ ರೂಪಾಯಿ ಮೌಲ್ಯದ ಮೂರು ನೂರ ಮೂವತ್ತ್’ಏಳು ಕೋಟಿ ರೂಪಾಯಿಗಳನ್ನು ಕೇಂದ್ರಕ್ಕೆ ಬರಲಿದೆ ದರಗಿರಲಿರುವ ಕೊರೋನಾ ಸೋಂಕು ನಿಯಂತ್ರಣಕ್ಕೆ ಸಂಬಂಧಿಸಿದಂತೆ ಕೇಂದ್ರ ಸರ್ಕಾರ ಕೈಗೊಂಡಿದ್ದು ಸರ್ಕಾರ ಕೈಗೊಂಡಿದ್ದು ಸರ್ಕಾರ ಕೈಗೊಂಡಿದೆ ಸ್ಟುಹಣಾನ್ನು ಕೂಡಿದ ಕಾಲುದ್ದಾಗದೆ ಇಲುವುದಲ್ಲಿ ಜಿಮೀನನ್ನು ಬಿಟ್ಟು ಅಪ್ಪಮನ್ನು ಬಿಟ್ಟು ಎಲ್ಲಾ ವಾಗೆಲ್ ಜೀವನ ಮಾಡಿ ಕೊನೆಗೆ ಜೀವನಕ್ಕೆ ಏನು ಇಲ್ಲದೆ ಆಗಿರುವ ಸಂದರ್ಭದಲ್ಲಿ ಬೇಜವಾದ ಕೇಂದ್ರ ಸರ್ಕಾರ ಸಂಪನ್ನಿಸ್ಟ್ ಬೇಜವಾದಿತ್ತು ಕೇರಳದಲ್ಲಿ ನಿನ್ನೆ ಸುದ್ದಿಗಾರರೊಂದಿಗೆ ಮಾತನಾಡಿದ ಅವರು ಮುಂದೆ ಕೇಂದ್ರ ಸರ್ಕಾರ ಕೈಗೊಂಡಿದ್ದರು ಕೇರಳದಲ್ಲಿ ನಿನ್ನೆ ಸುದ್ದಿಗಾರರೊಂದಿಗೆ ಮಾತನಾಡಿದ ಅವರು ಮಾತನಾಡಿದರು ದರಗಳಲ್ಲಿ ಕೊರೋನಾ ಸೋಂಕಿನಿಂದ ಸಾವಿರದ ಕೋಟಿ ರೂಪಾಯಿ ಮಾಡಲಾಗಿದೆ ನರಗಳು ಕಬ್ಬಿಣದಂತಹ ಮಾಂಸ ಕಂಡಗಳನ್ನು ಕುಡಿಯಂತೆ ವೇಕಾಂಗ್ ಹೇಳಿದರೆ ದೇಶದ ಚಿಂತನಾಗಿದೆ ಚಕ್ಕೂತ ನಲ್ಲಿ ಕಾರ್ಡ್ನಲ್ಲಿ ಇವೆಲ್ಲ ನಮ್ಮಲ್ಲಿ ತಕ್ಕಂತ ಒಂದು ಕಾನ್ಸುಪ್ಟನ್ನ ಇಟ್ಕೊಂಡಿದ್ದು ಇವೆಲ್ಲ ಅಂದರೆ ಹಂಡ್ಬಿಡುಗಿಯಲ್ಲಿ ನಾವೇ ನೈಸರ್ಗಿಕವಾಗಿ ಸಾವಯವದಲ್ಲಿ ಬಿಳಿಬೇಕು ಅಂತೆ ಇಲ್ಲಿ ಸಿಗುತ್ತಿದೆ ದರಗಿರಬಹುದು ಸಾಮಾನ್ಯ ಸಂಭ್ರಮದಿಂದ ಸಾಮಾಜಿಕ ಮಾಧ್ಯಮ ಕೇಂದ್ರ ಸರ್ಕಾರ ಸಮಗ್ರ ಕೃಷಿಯಲ್ಲಿ ಅರಣ್ಯ ಬೆಳೆ ಬೆಳೆ ಬೆಳೆ ಬುವಾಗಿ ಕಾಣುತ್ತಿದ್ದು ಅಂತಂದರೆ ಆತ್ರಿನಿಂದ ಹದಿನೈದು ವರ್ಷ ಬೇಕಾಗುತ್ತದೆ ಸಾವಿರದ ಅಲ್ಲಿ ವರ್ಗ ಅಲ್ಲಿ ಅಲ್ಲಿ ಸಂಪರ್ಕ ಕಾರ್ಯಕ್ರಮಗಳನ್ನು ಕೇಳಬಹುದು ಎಂದು ಸಚಿವ ಅಲ್ಲಿವರ್ ಅವರು ಸುಮ್ನೆ ಕಾಯಬೇಕು ಎಂದು ಅಲ್ಲ� ಸರ್ಕಾರಿ ಸಿಕ್ಕಿರಣ್ ನಿಮಗೆ ಕೊಡುತ್ತಿದ್ದಾರೆ ಸಿ ಮಾರ್ಕೆಟ್ ಆಗ್ತಿವಂತಿ ನಿಮಗೆ ಕಟ್ಟು ಇಪ್ಪತ್ತು ಪಾಕಿಸ್ತಾನದ ನಿಮಗೆ ನೀಡಿದ್ದರು ಮಾರ್ಕೆಟಲ್ಲಿ ಮಾರ್ತಾರ್ಥನೇ ನಲವತ್ತು ಭಾಗಮಂದಿರ ಇಲ್ಲಿನ ಮಾರ್ಗಸೂಚಿಗಳನ್ನು ನೀಡಿದ್ದರು ಅರಣ್ಯ ಪದ್ಧತಿಯನ್ನು ಮಾಡಿಕೊಳ್ಳಿ ಅರಣ್ಯ ಪದ್ಧತಿ ಪ್ರತಿ ಒಂದು ಅರಣ್ಯ ಪದ್ಧತಿ ಮರದಿಂದ ಮರಕ್ಕೆ ಹಂತರಾನದಿರುತ್ತದೆ ಅದರಲ್ಲಿ ಒಂದು ನಾಲ್ಕೈದು ಮರಗಳ ಬಿಟ್ಟರೆ ತೆಂಗು ಅಡಿಕೆ ನೀಲಗಿರಿ ಸಿಲ್ವರು ಟೀಕು ನನಗೆ ಗೊತ್ತಿರುವುದು ಇಷ್ಟು ಮರಗಳಿಗೆ ಕೆಳಗಡೆ ಯಾವ ಬೆಳನ್ನು ಹೆಚ್ಚು ಕಡಿಮೆಯಾಗಿಲ್ಲ ಬೆಳೆ ಬೆಳೆ ಬೆಳೆಯುವುದು ವೈಜ್ಞಾನಿಕ ತಿಳ್ಕೊಂಡು ಗುತ್ತಿರೋದು ಶುಂಟಿ ಮರಾಯಪುಟ್ಟಿದೆ ಅದು ಕೆಳಗಡೆ ಏನು ಆಗುವ ದಿಲ್ಲ ಏನು ಮಾಡಿದ ನಾವು ನೆನಪಿನಲ್ಲಿ ಇದರಿಂದ ಹೊರಬರಲಿದೆ ಸಾರ್ಕ್ಯವನ್ನು ಸರಿಯಾದ ಮುಖ್ಯಮಂತ್ರಿ ಬಿ ಸಾಹಿತ ಕೂಡಿನಲ್ಲಿ ಕೂಡಿನಲ್ಲಿ ಕೂಡಿಲ್ಲ ಸಾಹಿತ್ಯ ಮೊಟ್ಟೆನಲ್ಲಿ ಮೀನೆಲ್ ಬರಲಿ ಮೀನೆಲ್ ಮೀನೆಲ್ ಸಾಹಿತ್ಯ ಅರಣ್ಯದಲ್ಲಿ ಮೀನೆಲ್ಲಾ ಸಾಹಿತ್ಯ ಚಿಕಿದಾಗ ಗಾರ್ಡನ್ ಮಾಡಿಕೊಳ್ಳಿ ಕಂದಿರುವ ಕಾರ್ಯಕ್ರಮದಲ್ಲಿ ನಿನ್ನೆ ಸುದ್ದಿಗಾರರೊಂದಿಗೆ ಮಾತನಾಡಿದ ಅವರು ಮಾತನಾಡಿದರು ಸೈರಿಯಲ್ಲಿ ಸ್ಟಾಪ್ ಮಾಡಿಕೊಂಡಿದ್ದು ಮಳೆಗಾಲದಲ್ಲಿ ಬೇಸಿಗೆ ಲೋಪಾರ್ ಮಾಡಿಕೊಂಡು ಗುರಿಗೆ ಹಾಕಿಕೊಂಡಿದ್ದರು ನಗರದಲ್ಲಿ ಕಳೆದ ಕೆಲವು ಕಡೆ ಮಾಡಿದ ಕೊರೋನಾ ಸೋಂಕು ಪತ್ತೆ ಹಿನ್ನೆಲೆಯಲ್ಲಿ ಕೇಂದ್ರ ಸರ್ಕಾರ ಕೈಗೊಂಡಿದ್ದು ಸರ್ಕಾರ ಕೈಗೊಂಡಿದೆ ಕೆಲವೊಂದು ಹಾದಾಯತಹುದೇ ಕಾದಯ ತಗುಲಿ ಹಾದಾಯಿ ತಗುಲಿದ ಮಾರ್ಕೆಟಿಂಗ್ ನಿಮ್ಮ ಕ್ರಿಯೆಟಿ ಮಾಡಿಕೊಳ್ಳಿ ಎಲ್ಲ ವೈಜ್ಞಾನಿಕತೆ ಇದೆ ನೀವು ದುಡ್ಡ ಪ್ರಮಾಣದಲ್ಲಿ ಬೆಳೆಯುತ್ತಿ ರೈತರಿಗೆ ಹೊಂದಿದರೆ ಒಂದು ಎಪ್ಪಿಒಗಳನ್ನು ಮಾಡಿಕೊಳ್ಳಲಾಗಿದೆ ಎಂದು ಹೇಳಿದರು ನಗರದಲ್ಲಿ ನಿನ್ನೆ ಸುದ್ದಿಗಾರರೊಂದಿಗೆ ಮಾತನಾಡಿದ ಅವರು ಮಾತನಾಡಿದರು ಮೆಲೆ ನಿಷ್ಠ ವರ್ಷ ಬೆಳೆ ನಿಷ್ಠ ವರ್ಷ ಬೆಳೆ ನೋಡಿಕೊಂಡು ಸರ್ಕಾರ ನಿಷ್ಠ ವರ್ಷ ಬೆಳೆ ನೋಡಿಕೊಂಡು ಸರ್ಕಾರ ನೋಡಿಕೊಂಡು ನಿಷ್ಠ ವರ್ಷ ಬೆಳೆ ನೋಡಿಕೊಂಡು ಸರ್ಕಾರ ನೋಡಿಕೊಂಡು ನಿಷ್ಠ ವರ್ಷ ಬೆಳೆ ನೋಡಿಕೊಂಡು ಸರ್ಕಾರ ನಿಷ್ಠ ವರ್ಷ ಬೆಳೆ ನೋಡಿಕೊಂಡು ಸರ್ಕಾರ ನಿಷ್ಠ ವರ್ಷ ಬೆಳೆ ನೋಡಿಕೊಂಡು ಡಿಫರೆನ್ಸ್ ನೋಡಿಕೊಂಡಿತು ಸಿಕೋಟ್ ರಿಯಲ್ ನಿನ್ನೆ ನಿನ್ನೆ ರಾತ್ರಿ ನಡೆದ ಪರಾಮರ್ಶೆ ನಡೆಸಿದ ಅವರು ಮತ್ತು ಪರಾಮರ್ಶೆ ನಡೆಸಿದರೆ ಸರ್ಕಾರ ಮತ್ತು ಪರಾಮರ್ಶೆ ನಡೆಸಿದರೆ ಸರ್ಕಾರ ಮತ್ತೆ ಪರಾಮರ್ಶೆ ನಡೆಸಿದೆ ಚಿಕ್ಕದಾಗಿರಬೇಕು ಎಂದು ಹೇಳಿದರು ಕಂದು ಟಿಂಬರ್ ಹೋಗುತ್ತೆ ಹುಡ್ದುಕುತ್ತಿರುವ ಹಾಯಿಲ್ಗೆ ಹೋಗುತ್ತದೆ ನಂದಗುರಿ ಮಾತನಾಡಿದ ಅವರು ಮಾತನಾಡಿದರು ಸಿರುವ ಸಂದರ್ಭದಲ್ಲಿ ನಿನ್ನೆ ಸುದ್ದಿಗಾರರೊಂದಿಗೆ ಮಾತನಾಡಿದ ಅವರು ಮಾತನಾಡಿದರು ಸರಿಯಲ್ಲಿ ಇಲ್ಲಿದ್ದರೆ ಎಲ್ಲಾ ಟ್ರಿಲಿಯನ್ ಗುರುಗು ನಲ್ಲಿ ಸರ್ಕಾರದ ಸ್ಕೀಮ್ ಲಿನ್ ಪ್ರತಿ ವರ್ಷ ಪ್ರತಿ ವಾರ ನಿರ್ಮಾಣ ಇಲ್ಲ ನಿಮಗೆ ಎಚ್ಚರಿಸಲಾಗುತ್ತಿದೆ ಇಂದಿನ ಕಾಸ್ಟೆಲ್ ಆಂಡ್ರೆಸ್ ಮಾಡಿದ್ದರು ಟನ್ನಿಗಟ್ಟಲಿ ಬರುವುದು ಒಂದು ಒಂದು ಕೋಟಿ ಎರಡು ಕೋಟಿ ಒಂದು ಅಪ್ರಾಕ್ಸಿ ಮೀಟಗಿ ಇಳಿಕೆಗೆ ಬರಬಹುದು ನಿರ್ಮಾಣಕ್ಕೆ ನಾಟಿ ಹೆಬ್ಬೇವಕ್ಕಿಂತ ರೂಚಿಸಲ್ಪಕ್ಕಿದೆ ಈಗದ ಸದ್ದಿಕ್ಕಿನೇವೆ ಕುರಿತು ಸಾಗಾಣಿಕೆ ಮಾಡಿಕೊಂಡು ಸಹ ಮಾಡಿಕೊಳ್ಳುವುದು ನೀವು ಜಿಲ್ಲಾ ಮಾಡಿಕೊಳ್ಳಲಿದೆ ಕೇರಳದಲ್ಲಿ ನಿನ್ನೆ ಸುದ್ದಿಗಾರರೊಂದಿಗೆ ಮಾತನಾಡಿದ ಅವರು ಮಾತನಾಡಿದರು ರನ್ನಿಂದ ಸಾವಿರದ ಹದಿನಾರು ಸಾವಿರದ ಒಂದು ನೂರ ಹದಿನಾರು ಕೋಟಿ ರೂಪಾಯಿ ಮೌಲ್ಯದ ಮುಂದೆ ಸೇರಿದಂತೆ ಹಲವು ಕಾರ್ಯಕ್ರಮಗಳನ್ನು ಕೈಗೊಳ್ಳಲಾಗಿದೆ\n",
      "\n",
      "File: SandalWoodNewsStories_179.txt\n",
      "Similarity Score: 0.8728126883506775\n",
      "Answer: ಒಂದು ಕಿಲೋ ಎಂದು ಸಾವಿರದ ಹನ್ನೆರಡು ಸಾವಿರಕ್ಕೆ ಏಜೆ ಇದೆ ಅಂದರೆ ಅಂದರೆ ಒಂದು ವಿಶೇಷ ಕಾರ್ಯದರ್ಶಿಯಲ್ಲಿ ಬರ ನೆರೆಲ್ಲ ಅನುಭವಿಷ್ಯ ಥನ್ನಷ್ಟಿಕಿತ್ತಾನು ನಮ್ಮ ಬದು ನೆಲೆಬೇಡ್ತಿದ್ದಾರೆ ಕೇರಳದಲ್ಲಿ ನಿನ್ನೆ ಸುದ್ದಿಗಾರರೊಂದಿಗೆ ಮಾತನಾಡಿದ ಅವರು ಮಾತನಾಡಿದರು ಸಿರೇಟಿವ್ ಅವರು ಮಾತನಾಡಿದರು ನಗರದಲ್ಲಿ ಕೊರೋನಾ ಸೋಂಕು ಹರಡಿರುವ ಹಿನ್ನೆಲೆಯಲ್ಲಿ ಸಾಧ್ಯವಿಲ್ಲ ಎಂದು ಸಚಿವ ಸಿ ಚಿಂತಕರು ತಾಯಿ ಮಕ್ಕಳಿದ್ದಾರೆ ದೇವೇಂದ್ರ ಪೊಬ್ಬಳ್ಳಿಯಂತೆ ಅಂತಾರೆ ನಾವು ಕೊಪ್ಪಳ ಜಿಲ್ಲೆ ಕುಷ್ಟಗಿಯವರು ನಮ್ಮ ತಂದೆಯವರು ದೇವೇಂದ್ರ ಪೊಬ್ಬಲ್ಯುಟಿಗೆ ಅಂತಾರೆ ನಾವು ಕೂಡ ಕೃಷಿ ಮಾಡ್ತಾ ಬಂದಂತಹ ಈಗ ಅಂತಹ ಕೃಷಿಯಿಂದ ನಂತರ ದಾಳಿಂಬೆಗೆ ಅವಾಗ ದುಂಡಾಣ ಅಂಗ ಮಾಡಿರುವ ಬಂತು ಬೆಂಗಳೂರು ಬ್ಲೈಟನ್ ಜಾಂತು ಮನಸ್ಸು ಪುನಿಕ ಪಿವಿ ಅಂತ ಬಂದ್ ಮೇಲೆ ದಾಳಿಂಬಿದ್ದ ಡಿವೇಶನ ನಂತರ ಮಾಡಿದೆ ಸಿಕ್ಕಿದ್ದರು ಎಪ್ಪತ್ತೆಂಟು ಸಾವಿರದ ಮೂರು ನೂರ ಹತ್ತು ಕೋಟಿ ರೂಪಾಯಿ ಮೌಲ್ಯದ ಮೂರು ನೂರ ಹತ್ತು ಕೋಟಿ ರೂಪಾಯಿ ಮೌಲ್ಯದ ಮೂರು ನೂರ ಹತ್ತು ಕೋಟಿ ರೂಪಾಯಿ ಮೌಲ್ಯದ ಹತ್ತು ಕೋಟಿ ರೂಪಾಯಿ ಮೌಲ್ಯದ ಹತ್ತು ಕೋಟಿ ರೂಪಾಯಿ ಮೌಲ್ಯದ ಹತ್ತು ಕೋಟಿ ರೂಪಾಯಿ ಮೌಲ್ಯದ ಹತ್ತು ಕೋಟಿ ರೂಪಾಯಿ ಮೌಲ್ಯದ ಹತ್ತು ಕೋಟಿ ರೂಪಾಯಿ ಮೌಲ್ಯದಿದೆ ಇಲ್ಲಿ ಏನು ಇದೆಲ್ಲ ದಾಳಿ ಬೆತ್ತೋಟ ಬೆಳೆಸಿದ ಮೂರು ಆದರೆ ನಮಗೆ ಪಕ್ಷಿ ತಾದಿವಿ ಗಿಡ ಮರಜುತಿ ಮಾತಾಡ್ತೀನಿ ಭಾಷೆ ಅರ್ಥ ಆಗುತ್ತೆ ಅಂಥಾನಾದ ಎಲ್ಲಾ ತರಬೇತಿ ಗಿಡಗಳನ್ನು ಬೆಳೆದ ಇದೇ ಮೇಲಿನ ಕರ್ನಾಟಕದ ಕರ್ನಾಟಕ ಬಿಸಿಲನಾಡು ಬರೋದನಾಡು ಅಂತ ಹೇಳುತ್ತಾರೆ ಯಾವುದನ್ನು ಬರಗಾಲದ ನಾಡುವುದರೆ ಅಲ್ಲಿಂದ ಮಲ್ನಾಡಿದರು ರಲ್ಲಿ ದರಲ್ಲಿ ಇರಬಹುದು ಇದರಲ್ಲಿ ವಿಶೇಷ ತೋರಿಸಿದೆ ನಂದಗುರಿ ಹತ್ತು ಕೋಟಿ ರೂಪಾಯಿ ಮಾತನಾಡಿದ ಅವರು ಕೇಂದ್ರ ಸರ್ಕಾರ ಸರ್ಕಾರ ಕೊಡುವ ಸಾಧ್ಯತೆ ಇದೆ ಜಿಯಾಗಿ ಪ್ರಯತ್ನ ನಾವು ಮಾಡಿಕೊಂಡಿದ್ದಾರೆ ಕೂಡ ಬೆಳೆಗೆ ನೋಡಿಕೊಂಡಿದ್ದು ನೋಡಿಕೊಂಡಿದ್ದಾರೆ ನಿಷ್ಟು ಕಾಲಿಟ್ಟಿಲ್ಲ ದಿನದಾಗ ಯವನ್ನು ಸಾರ್ವಜನಿಕರು ಸಹಾಯಕಾರಿ ಸಿಬ್ಬಂದಿಯನ್ನು ಸರ್ಕಾರ ಮಾಡಿಕೊಂಡರು ಸಿಲಿಕ್ ಎಲ್ಲಾ ಮೈಕ್ರೋ ಬೇಲ್ಮಿಕ್ ಸಿರುತ್ತಾರೆ ಈಗಾಗಿ ನಾನೇ ನನ್ನ ಸಿಗುತ್ತದೆ ಏನಿಲ್ಲ ನನಗಿದ ಆಸಕ್ತಿ ಮತ್ತು ನನಗೆ ಇದು ಹುತ್ತಿಲ್ಲ ಎಲ್ಲಾ ಸಚಿವರು ಪುರ ಟ್ರೈಕೋಡರ್ ಮಾಸ್ಕೋಬೇಲ್ ಮಿಕ್ಸ್ ಏನಿದೆ ಇದೆ ಮಣ್ಣು ಇದೇ ಕಲ್ಲು ಚಿರಲಿ ಸಿಂಧೂರಂತ ಮತ್ತು ಪಾರ್ಮಸಿಟಿಕಲ್ ಇಂದರಷ್ಟು ನ್ಯಾಚಿರಲ್ ರೆಡ್ಡಿ ಕಲರಿ ಕೆಂಪು ಬಣ್ಣನ್ನು ನಮ್ಮ ಔಷಧಿ ಕಾರ್ಖಾನೆ ಮತ್ತು ನಮ್ಮ ಫುಡ್ ಇಂದರಷ್ಟು ಆಗಿದ್ದರೆ ಸಿಂದೂರಂತ ಕರೀರುತ್ತಾರೆ ಸಿಕ್ಕಿದ್ದರೆ ಸರಿಸರಿ ಬೆಳೆದಿದ್ದೇನೆ ಇದರಲ್ಲಿ ನಮ್ಮೂರಾಗಿ ನಮಗೆ ಜಿಲ್ಲೆಯಲ್ಲಿ ನಾವು ಬೆಳೆದದ್ದು ಇಂದು ಬೆಳಗಿನ ಜಿಲ್ಲೆಯ ಸಾಮಾಜಿಕ ಅಂತರ ಕಾಪಾಡುವ ಸಾಧ್ಯತೆ ಇದು ಸಾಮಾಜಿಕ ಅಂತರ ಕಾಪಾಡುವುದು ಸಾಮಾಜಿಕ ಅಂತರ ಕಾಪಾಡುವುದು ಸಾಮಾಜಿಕ ಅಂತರ ಕಾಪಾಡುವುದು ಸಾಮಾಜಿಕ ಅಂತರ ಕಾಪಾಡುವುದು ಸಾಮಾಜಿಕ ಅಂತರ ಕಾಪಾಡುವುದು ಸಾಮಾಜಿಕ ಅಂತರ ಕಾಪಾಡುವುದು ಸಾಮಾಜಿಕ ಅಂದರೆ ಸಾಮಾಜಿಕ ಅಂದರೆ ಸಾಮಾಜಿಕ ಸಾಮಾಜಿಕ ಅಂತರ ಕಾಪಾಡುವುದು ಸಂಜೆ ನಾಲ್ಕು ಸಾವಿರದ ಎಂಟು ನೂರ ಹತ್ತೊಂಬತ್ತು ಕೋಟಿ ರೂಪಾಯಿ ಮೌಲ್ಯದ ಮೂರು ನೂರ ಹತ್ತೊಂಬತ್ತು ಕೋಟಿ ರೂಪಾಯಿ ಮೌಲ್ಯದ ಮೂರು ನೂರ ಹತ್ತೊಂಬತ್ತು ಕೋಟಿ ರೂಪಾಯಿ ಮೌಲ್ಯದ ಮೂರು ನೂರ ಹತ್ತು ಕೋಟಿ ರೂಪಾಯಿ ಮೌಲ್ಯದ ಹತ್ತು ಕೋಟಿ ರೂಪಾಯಿ ಮೌಲ್ಯದ ಮೂಲಕ ಕೇಂದ್ರ ಸರ್ಕಾರಿ ಸರ್ಕಾರಿ ಸರ್ಕಾರಿ ಸರ್ಕಾರಿ ಸರ್ಕಾರಿ ಸರ್ಕಾರಿ ಸರ್ಕೋಷಿಸಿದರು ಮಾಡುತ್ತಾರೆ ಸಂಗಿದರಲ್ಲ ತೆಲೆಂಡ್ ವರೇಟಿ ಕೋರಿ ಅವರು ಸಾಧ್ಯವಾಗದಿರುವ ಕೋರಿ ಸಾರ್ವಜನಿಕರು ಸಹಕಾರ ಸಂಘಟಿತ ಅವರು ಸಾಧ್ಯವಾಗಿದೆ ನಂದಗು ಮತ್ತು ಕೇಂದ್ರಾಡಳಿತ ಪ್ರದೇಶಗಳಲ್ಲಿ ಸರಿಯಾದ ಕೊನೆಯ ದಿನವಾಗಿದೆ ಮೋಸೆಂಬೇಡ್ ತರಕುವುದರ ಮನೆಗೆ ಅರಮಿಲ್ ಅಂತ ಅಣ್ಣು ಮರಣಕ್ಕೆ ಸರ್ಕಾರ ಮಾಡಬಹುದು ಜೈವಿಕ ನಿಯಂತ್ರಣ ಹೆಚ್ಚುತ್ತಿದೆ ಇವೆಲ್ಲ ಹಲವೇರ ಪುಲ್ಲು ಸೇಂಟ್ ಚಿತ್ರಗಳಲ್ಲಿ ಕೇರಳದಲ್ಲಿ ನಿನ್ನೆ ಸುದ್ದಿಗಾರರೊಂದಿಗೆ ಮಾತನಾಡಿದ ಅವರು ಮುಖ್ಯಮಂತ್ರಿ ಎಚ್ ಎಲ್ಲ ಅನುಭವಿಷಿ ತನ್ನಷ್ಟು ತಾನು ನಮ್ಮ ಬದುನಿಲ್ಲಿ ಬೆಳೆದಿದ್ದಾರೆ ಮುಖ್ಯಮಂತ್ರಿ ಮಾಧ್ಯಮದ ಎಲ್ಲ ಸಂದರ್ಶನಗಳನ್ನು ನೀಡಬಹುದು ಕೆಜಿಸಿದರೆ ಕೆಜಿಸಿ ಅವರು ಸಂಸ್ಥೆಯ ಸಂಸ್ಥೆಯ ಸಂಸ್ಥೆಯ ಸಂಸ್ಥೆಯ ಸಂಸ್ಥೆಯ ಸಾಮಾಜಿಕ ಅಂತರ ಕಾಯ್ದುಕೊಳ್ಳುವುದು ಸಾಮಾಜಿಕ ಅಂತರ ಕಾಯ್ದುಕೊಳ್ಳುವುದು ಸರ್ಕಾರಿ ಸಂಸ್ಥೆಯ ಸಂಸ್ಥೆಯ ಸಂಸ್ಥೆಯ ಸಂಸ್ಥೆಯ ಸಂಸ್ಥೆಯ ಸಂಸ್ಥೆಯ ಸಂಸ್ಥೆಯ ಸಂಸ್ಥೆಯ ಸಂಸ್ಥೆಯ ಸಂಸ್ಥೆಯ ಸಂಸ್ಥೆಯ ಸಂಸ್ಥೆಯ ಕಾರ್ಯಕ್ರಮಗಳನ್ನು ಕೈಗೊಳ್ಳಲಾಗಿದೆ\n",
      "\n",
      "File: SandalWoodNewsStories_181.txt\n",
      "Similarity Score: 0.8995976448059082\n",
      "Answer: ಸ್ಟೇಟ್ ಪಾರ್ಸಲ್ ಸನ್ಲೇಟ್ ಬರಲಿ ಅಂತ ಹೇಳಿ ಪೂರ್ತಿ ನೆಲಗುದ್ದೇಶ ಅರ್ಧ ನೆಲಯದಲ್ಲಿ ನಮ್ಮ ಗಳಿಮರನ್ನು ಬೆಳೆಯುತ್ತದೆ ಪ್ಲಸ್ ಗಂಧಕ್ಕೂ ಸಮಸ್ಯಿಲ್ಲ ನೋಡಿದರೆ ನೀವು ಹೆಚ್ಚು ಪರ್ಸನ್ ಮಾತ್ರ ಕಟ್ ಮಾಡುತ್ತಾರೆ ಹೆರೆಡ್ ಅಂತ್ ಹೇಳುತ್ತೇವೆ ಇಲ್ಲ ಅಂದ್ರೆ ಕ್ಯಾನೊಪ್ಪಿ ಅದ್ನಾದ್ನ ಕಟ್ ಮಾಡುತ್ತಾರೆ ಹೈಡ್ ರಿಸ್ಟಿಕ್ಷನ್ ಆದ್ಯಂತ ಹೈಡ್ರಿಸ್ಟಿಕ್ಷನ್ ಆದ್ಯಂತ ಹೈಡ್ಬಾಳ ಹೋಗುವುದು ಬೇಡಂತಿಯಲ್ಲಿ ಜಸ್ಟೆಕ್ನಿಷ್ಟು ಟೆನ್ಫಿಟರ್ ರಿಚಲ್ಲಿ ನಮ್ಮ ಗಳಿಮರೆರೆ ಮತ್ತು ಚೊಗುಚೆಗೆ ಒಂದು ಕಂಟುವಿರುವುದಕ್ಕೆ ಗಂದ ಹೆಲ್ದಿಗೆ ಬರುತ್ತಿದೆ\n",
      "\n",
      "File: SandalWoodNewsStories_184.txt\n",
      "Similarity Score: 0.8804923892021179\n",
      "Answer: ನಮಸ್ಕಾರ ಫೆನ್ಸ್ ಯುವಜನರು ಇಂಪಾರ್ಟೆಂಟ್ ವಿಷಯ ಕುರಿತು ವಿಡಿಯೋ ಮಾಡುತ್ತಿದ್ದೇವೆ ಅದೇನೆಂದರೆ ಸ್ಟೇಗುಂದಕ್ಕೆ ಹೋಸ್ಟ್ ಮತ್ತು ಬೆಳವಣಿಗೆಗೆ ನಾವು ನೋಡೋಣ ಇಲ್ಲಿ ನಮ್ಮ ಫ್ರೆಂಡ್ ನಿಮಗೆ ತೋರಿಸುತ್ತಿದ್ದಾರೆ ದರಗಿರಲಿರುವ ಹಿನ್ನೆಲೆಯಲ್ಲಿ ನಿನ್ನೆ ಸುದ್ದಿಗೋಷ್ಟಿಯಲ್ಲಿ ನಿನ್ನೆ ಸುದ್ದಿಗೋಷ್ಟಿಯಲ್ಲಿ ಮಾತನಾಡಿದ ಅವರು ಸರ್ಕಾರಿ ಸಮಸ್ಯೆ ಕುರಿತು ಸರ್ಕಾರಕ್ಕೆ ಸರ್ಕಾರ ಕೈಗೊಂಡಿದೆ ಕಂಪನಿಗಳು ಹಾಗೂ ಕಡಿಮೆ ಮಾಡಿಕೊಂಡಿದ್ದರು ಎಂದು ಕಡಿಮೆ ಮಾಡಿಕೊಂಡಿದ್ದರು ಕಂಪಿಟೇಶನ್ ನಲ್ಲಿ ಇದು ಅದು ಅದಕ್ಕೆ ಲೈಟ್ ಬೇಕು ಅನ್ನು ಒಂದು ಉತ್ಸಾಹದಲ್ಲಿದೆ ಎಂದು ಸುತ್ತಿದ್ದ ಬರಬೇಕು ಎಂದು ಹಾರೈಸರ್ ಸುತ್ತಿದ್ದ ಬರಬೇಕು ಎಂದು ಹಾಟು ದ್ರೇಶ ಅವರು ಸುತ್ತಾಲ್ ತಮಿಲ್ಲೆ ಡಿಪೆಟ್ ಬೆಳೆ ತಂದಿತ್ತು ನಗರದಲ್ಲಿ ನಿನ್ನೆ ನೋಡಬಹುದು ಸಣ್ಣ ಗಿಡುಗುಳಿದೆ ಹೈಟಾಗ್ ಆಗ್ತಾ ಇದೆ ಮೂರ್ತಿದೆ ಸಿಕ್ಕಿದವೇ ಬಟ್ಟು ಸುತ್ತಲು ಇಲ್ಲ ನಗರದಲ್ಲಿ ನಿನ್ನೆ ಸುದ್ದಿಗಾರರೊಂದಿಗೆ ಮಾತನಾಡಿದ ಅವರು ಕೊಡಬೇಕು ಎಂದು ಸಚಿವರು ತಿಳಿಸಿದರು ಇಲ್ಲಂದ್ರೆ ನಮ್ಮ ತಿಳಿದುಕುಳಿ ಕೆಲಸ ಮಾಡಿದೆ ನೋಡಿ ಮುಂದೆ ನಿಮ್ಮ ನಿಮ್ಮ ಸಸಿನಮಾರಿ ನಮ್ಮ ಜೊತೆ ದೂರ ಇಡೀ ನಮಸ್ಕಾರ\n",
      "\n",
      "File: SandalWoodNewsStories_191.txt\n",
      "Similarity Score: 0.8647139072418213\n",
      "Answer: ಇಲ್ಲಿಯೂ ನೋಡಬಹುದು ಒಂಬತ್ತು ಸಾವಿರ ಕಳೆದುಕೊಂಡು ಕಳೆದುಕೊಂಡು ಕಳೆದುಕೊಂಡು ಕಳೆದುಕೊಂಡು ಕಳೆದುಕೊಂಡು ಕಳೆದುಕೊಂಡು ಕಳೆದುಕೊಂಡು ಕಳೆದುಕೊಂಡು ಸಾವಿರ ಕೋಟಿ ರೂಪಾಯಿ ಮಾಡಬಹುದು ಕಂಪನಿಗಳು ಸಾವಿರ ಕಳೆದುಕೊಂಡು ಸಾವಿರ ಕೋಟಿ ರೂಪಾಯಿ ಮೂರು ಲಕ್ಷದ ಆರು ನೂರ ಇಪ್ಪತ್ತು ಕಡಿಮೆ ಮಾಡಬಹುದು ಎಂದು ಕಂಪನಿ ಮಾಡಬಹುದು ಎಂದ� ನಗರದಲ್ಲಿ ನಿನ್ನೆ ಸುದ್ದಿಗೋಷ್ಟಿಯಲ್ಲಿ ಮಾತನಾಡಿದ ಅವರು ಜಿಲ್ಲಾಡಳಿತದಿಂದ ಸಾಧಿಸಿದ್ದರು ಕೇರಳದಲ್ಲಿ ನಿನ್ನೆ ಸುದ್ದಿಗಾರರೊಂದಿಗೆ ಮಾತನಾಡಿದ ಅವರು ಮಾತನಾಡಿದರು ನಗರದಲ್ಲಿ ನಿನ್ನೆ ಸುದ್ದಿಗಾರರೊಂದಿಗೆ ಮಾತನಾಡಿದ ಅವರು ಮಾತನಾಡಿದರು ಕರ್ನಾಟಕ ಮಾರ್ಕೆಟಿಂಗ್ ಮಾರ್ಕೆಟಿಂಗ್ ಮಾವಿನ್ ಜೊತೆ ಮತ್ತು ಬೇರೆ ಬೇರೆ ಕ್ರಾಂತಿ ಮಿಸ್ ಆಗಿದೆ ಕೇರಳಿ ತಿಳಿದುಕೊಂಡು ಮಾಡಕ್ಕೆ ಸಮಯ ಇರುತ್ತಿಲ್ಲ ಈ ಹತ್ತಿಕ್ಕಲು ನಮ್ಮ ಕಡಿಮೆ ಮಾಡಲಾಗುವುದು ಹೆಚ್ಚು ಕಡಿಮೆ ಯಾಕೆಂದರೆ ಅದಕ್ಕೆ ಮಾಡಬೇಕೆಂದು ಸಾವಿರ ಗಿಡಿಕೆ ಅಲ್ಲಿ ಎಂಟು ನೂರು ನೂರ ಒಂಬತ್ತು ಕಿಲೋ ಮೀಟರ್ ಮಾಡಿದೆ ವರೆಗೆ ಚೆನ್ನನ್ನು ಸಿದೆ ದೊಡ್ಡದಿಲ್ಲ ಎಂದು ಸಚಿವರು ತಿಳಿಸಿದರು ಸಾಗಾಗಿ ನಾಲ್ಕು ಸಾವಿರದ ಮೂರು ನೂರ ಹದಿನಾಲ್ಕು ಮಂದಿ ಸೋಂಕು ಪರೀಕ್ಷೆ ಮಾಡಿದ್ದಾರೆ ನಂದಗುರಿ ನಿನ್ನೆ ಸುದ್ದಿಗಾರರೊಂದಿಗೆ ಮಾತನಾಡಿದ ಅವರು ಮಾತನಾಡಿದರು ನಗರದಲ್ಲಿ ನಿನ್ನೆ ಸುದ್ದಿಗಾರರೊಂದಿಗೆ ಮಾತನಾಡಿದ ಅವರು ಮಾತನಾಡಿದರು ಮಾಡಿಕೊಳ್ಳುವುದು ಥ್ಯಾಂಕ್ನಿಂದ ನಾಲ್ಕು ನೂರ ಐವತ್ತು ಕೋಟಿ ರೂಪಾಯಿ ಮೌಲ್ಯದ ಮೂರು ನೂರ ಎಪ್ಪತ್ತು ಕೋಟಿ ರೂಪಾಯಿ ಮೌಲ್ಯದ ನಾಲ್ಕು ನೂರ ಎಪ್ಪತ್ತು ಕೋಟಿ ರೂಪಾಯಿ ಮೌಲ್ಯದ ನಾಲ್ಕು ನೂರ ಎಪ್ಪತ್ತು ಕೋಟಿ ರೂಪಾಯಿ ಮೌಲ್ಯದ ನಾಲ್ಕು ನೂರ ಎಪ್ಪತ್ತು ಕೋಟಿ ರೂಪಾಯಿ ಮೌಲ್ಯದ ನಾಲ್ಕು ನೂರ ಎಪ್ಪತ್ತು ಕೋಟಿ ರೂಪಾಯಿ ಮೌಲ್ಯದ ಒಟ್ಟು ನೂರ ಎಪ್ಪತ್ತು\n",
      "\n",
      "File: SandalWoodNewsStories_197.txt\n",
      "Similarity Score: 0.8946943879127502\n",
      "Answer: ನ್ಯೂಸ್ ಸಿಂಗ್ ಸಿಂಗ್ ಸೆಟ್ಗಳನ್ನು ನಿರ್ಮಿಸಿದ್ದಾರೆ ಸ್ಟೋರಿಕ್ ಏರಿದೆ ಕಂಪನಿಗಳು ಹಾಗೂ ಕಾರ್ಯಕ್ರಮದಲ್ಲಿ ನಿನ್ನೆ ಸುದ್ದಿಗಾರರೊಂದಿಗೆ ಮಾತನಾಡಿದ ಅವರು ಮಾತನಾಡಿದರು ಇದೇನೆಂದು ಸೆಂಟಿರ್ ನಾಯಕ್ ಅವರು ಮಹಾರಾಷ್ಟ್ರದಲ್ಲಿ ಅವರು ಸುಮಾರು ನಮ್ಮ ದೊರೆತ ಹೊಂದು ಅಲ್ಲಿನ ಸರಿಗೆಗಳು ಮಾಡಿದ್ದರು ಶೀರದ ನಿಯಮ ಸಾಧಿಸಿದ್ದರು ಸಿರುವ ಸಾರ್ವಜನಿಕರು ಸಾರ್ವಜನಿಕರು ಸಾರ್ವಜನಿಕರು ಸಾರ್ವಜನಿಕರು ಸಾರ್ವಜನಿಕರು ಸಾರ್ವಜನಿಕರು ಸಾರ್ವಜನಿಕರು ಸಾರ್ವಜನಿಕರು ಸಾರ್ವಜನಿಕರು ಸಾರ್ವಜನಿಕರು ಸಾರ್ವಜನಿಕರು ಸಾರ್ವಜನಿಕರು ಸಾರ್ವಜನಿಕರು ಸಾರ್ವಜನಿಕರು ಸಾರ್ವಜನಿಕರು ಸಾರ್ವಜನಿಕರು ಸಾರ್ವಜನಿಕರು ಸಾರ್ವಜನಿಕರು ಸಾರ್ವಜನಿಕರು ಸಾರ್ವಜನಿಕರು ಸಾರ್ಕಿಂ� ಕ್ರಾಪ್ನಲ್ಲಿ ಕೆಲಸಿಕ್ ಮಾಡಿಕೊಳ್ಳುವ ಸಾಧ್ಯತೆ ಇದೆ ಅದನ್ನು ಆನುಸೈನ್ ಸ್ಟೇಟ್ ಸಿಟಿ ಸಿಟಿ ಸಿಟಿ ಸಿಟಿ ಸಿಟಿ ಸಿಟಿ ಸಿಟಿ ಸಿಟಿ ಸಿಟಿ ಸಿಟಿ ಸಿಟಿ ಸಿಟಿ ಸಿಟಿ ಸಿಟಿ ಸಿಟಿ ಸಿಟಿ ಸಿಟಿ ಸಿಟಿ ಸಿಟಿ ಸಿಟಿ ಸಿಟಿ ಸಿಟಿ ಸಿಟಿ ಸಿಟಿ ಸಿಟಿ ಸಿಟಿ ಸಿಟಿ ಸಿಟಿ ಸಿಟಿ ಸಿಟಿ ಸಿಟಿ ಸಿಟಿ ಸಿಟಿ ಸಿಟಿ ಸಿಟಿ ಸಿಟಿ ಸಿಟಿ ಬಳಿಕೆ ಸ್ಯಾಟ್ ಬೆಳೆದಕ್ಕಿಂತ ಜಾಗದ ಮಂಡ್ಯನ ಪರಕ್ಷೆ ಮಾಡಿ ಅಲ್ಲಲ್ಲಿ ಮುಖ್ಯವಾಗಿ ನಗರದಲ್ಲಿ ಅದಕ್ಕೆ ನೆಲಮಂಗಲ ಕೇಂದ್ರ ಸರ್ಕಾರದ ಸಮಿತಿ ಸಮಾಧಾನದ ಮುಖ್ಯಮಂತ್ರಿ ಕಚೇರಿ ನಿತೀಶ್ ಕೊನೆಗೆ ಸುದ್ದಿಗಾರರೊಂದಿಗೆ ಮಾತನಾಡಿದ ಅವರು ಸರ್ಕಾರಿ ಸಮಾಧಾನಗಳನ್ನು ಸಮಾಧಾನಗಳನ್ನು ಸಮರ್ಥವಾಗಿ ಸಮಾಧಾನಗಳನ್ನು ಕಡಿಮೆಯಾಗಬಹುದು ಮಳೆ ನಗರದಲ್ಲಿ ನಿಲ್ಲಿ ಮರಣದಲ್ಲಿ ನಿನ್ನೆ ಸುದ್ದಿಗಾರರೊಂದಿಗೆ ಮಾತನಾಡಿದ ಅವರು ಮಾತನಾಡಿದರು ಜನವರಿ ಗಮನಿಸಿ ಕಂದಿರುವ ಕಡಿಮೆ ಮಾಡಿದ್ದಾರೆ ಸಿಲಿ ಕೇರಳದಲ್ಲಿ ನಿನ್ನೆ ಸುದ್ದಿಗಾರರೊಂದಿಗೆ ಮಾತನಾಡಿದ ಅವರು ಕೇಂದ್ರ ಸರ್ಕಾರ ಅನುಮೋದನೆ ನೀಡಿದೆ\n",
      "\n",
      "File: SandalWoodNewsStories_2.txt\n",
      "Similarity Score: 0.9363930225372314\n",
      "Answer: ನಿಯರ್ಸ್ ಆಗಿರುವ ಸಾಧ್ಯತೆ ಇದೆ ಚೆಲಾಗಿದೆ ನಂದಗುರಿ ಮೂರು ಚಿಟ್ಟಕೊಂಡರು ದೇಶದಲ್ಲಿ ಕೋವಿಡ್ ಸೋಂಕು ನಿಯಂತ್ರಣ ಕ್ರಮಗಳನ್ನು ಕೈಗೊಂಡಿದ್ದು ಸರ್ಕಾರ ಕೈಗೊಂಡಿದೆ ಇಂಬಿಸಿದ ಹೆಬ್ಬರಿಗೆ ನಿಮಾನಿಸಿದರೆ ನಿನ್ನೆ ನಾಲ್ಕು ಸಾವಿರ ಕೋಟಿ ರೂಪಾಯಿ ಮೌಲ್ಯದ ಮೇಲೆ ನೀಡಿದೆ\n",
      "\n",
      "File: SandalWoodNewsStories_200.txt\n",
      "Similarity Score: 0.88631272315979\n",
      "Answer: ಹಾಯ್ ನಮಸ್ಕಾರ ಇವತ್ತು ನನ್ನೊಂದು ಒಳ್ಳೆಯ ಟಾಪಿಕ್ ತೋಂಬತ್ತು ವಿಡಿಯೋ ಮಾಡುತ್ತಿದ್ದು ಅಂದರೆ ಮೆಕ್ರೊಚಿಪ್ ಒಂದು ಸ್ಟೀಗೊಂದಿಗೆ ಪ್ರಟಕ್ಷನ್ ಬಗ್ಗೆ ಎಲ್ಲರಿಗೊಂದು ಸಂಶಯದ ಎಲ್ಲರಿಗೊಂದು ಕನಸಿದೆ ತಮ್ಮ ಗಂಧದ ಹೇಗೆ ಕಾಪಾಡಬೇಕು ಇಲ್ಲ ಅಂದರೆ ಆದ್ದರಿಂದ ಹೇಗೆ ಅದರ ಬಗ್ಗೆ ಕುರಿತು ಆ ಚಿಟ್ಟಿದೆ ಎಂದು ಹೇಗೆ ಹಾಕಬೇಕು ಎಷ್ಟು ಎಂದು ಬಿಕ್ಕ� ದರಗಿರಲಿರುವ ಕೊಡಗಿನಲ್ಲಿ ನಿನ್ನೆ ಸುದ್ದಿಗಾರರೊಂದಿಗೆ ಮಾತನಾಡಿದ ಅವರು ಮಾತನಾಡಿದರು ಬಟ್ಟಿಲ್ಲಿ ಟೆಸ್ಟಿಂಗ್ ನಡೆಯುವಾಗ ಈ ಗಿಡಕ್ಕೆ ಇಲ್ಲಿ ನೋಡ್ತಾರೆ ಇದಕ್ಕೆ ಪಟುಕ್ಷನ್ ಕೊಟ್ಟಿದ್ದಾರೆ ಇದು ಪ್ರಕ್ಷನ್ ನ್ಯೂ ಪ್ರತಿ ಗರಕ್ಕೆ ಮೆಸೇಕಿದರೆ ಅಲ್ಲಿ ಹಾಗೆ ಮಷೀನ್ ಸ್ವಾಂತಿಯನ್ನು ಹೇಳಿದೇವಾದಿನ ಕೊರೆಕಾಗುವುದಿಲ್ಲ ಅಂತ ಇನ್ನು ಹಾಕಿರೋದು ಆಮೇಲೆ ಇಷ್ಟೇ ಯಾಕೆ ಐದಿಂದ ಎಂಟು ಫೀಟ್ ಮಟ್ಟಿದ್ದೀರಾಂತ ಕೇಳಿದರೆ ಗಂಭೀರದಿಂದ ಅಯ್ದು ಬೇರದಿಂದ ಅಯ್ದು ಸಣ್ಣು ಚಿಕ್ಕೆ ಅದೇ ಮೆನ್ ವಿಚಿತ್ ಬೆವರು ಸೆಕ್ಯೂಟಿ ಚಿಪ್ಪುರ್ ಕಾಂತಿಕತೆ ಸುಮಾರು ಅಯ್ದು ನೂರು ರಿಂದ ಎಂಟು ನೂರು ರೂಪಾಯಿ ಮಟ್ಟ ಪ್ರತಿ ಗಿರಕ್ಕೆ ಬೆಳೆದ ಫೆನ್ಸಿ ಇವತ್ತು ನರಗೆ ಮುಂದೆ ಕಡಿಮೆಯಾಗುವುದು ಆದರೆ ಇಲ್ಲಿ ಏನು ನಾಲ್ಕು ಹೇಳುತ್ತೇನೆಂದರೆ ಕಳ್ಳನಗೆ ಕಾಣುತ್ತಿದೆ ಪ್ರಶ್ನೆ ಬಹಳ ಮುಖ್ಯವಾದದ್ದು ಹಾಗಾಗಿ ಈಗ ನಾನು ಹೇಳುತ್ತದೆ ನಂದಗುರಿನಲ್ಲಿ ನಿನ್ನೆ ಸುದ್ದಿಗೆ ಮಾತನಾಡಿದ ಅವರು ಮಾತನಾಡಿದರು ದರಗಿರಲಿರುವ ಕೊರೋನಾ ಸೋಂಕು ಪತ್ತೆ ಸಂಬಂಧಿಸಿದಂತೆ ಸಾಮಾಜಿಕ ಅಂತರ ಕಾಯ್ದುಕೊಳ್ಳುವುದು ಸಾಮಾಜಿಕ ಅಂತರ ಕಾಯ್ದುಕೊಳ್ಳುವುದು ಸಾಮಾಜಿಕ ಅಂತರ ಕಾಯ್ದುಕೊಳ್ಳುವುದು ಸಾಮಾಜಿಕ ಅಂತರ ಕಾಯ್ದುಕೊಳ್ಳುವುದು ಸಾಮಾಜಿಕ ಅಂತರ ಕಾಯ್ದುಕೊಳ್ಳುವುದು ಸಾಮಾಜಿಕ ಅಂತರ ಕಲ್ಯಾಣ ಕಾಯ್ದೆಗೆ ಸಾಮಾಜಿಕ ಸಂದರ್ಭಗಳು ಸಹಕಾರಿಯಬೇಕು ಎಂದರ ಇಂದು ಬಡ್ಡಿ ಏನು ಅಲ್ಲಿ ನಂಬರ್ ಇದೇ ಇಪ್ಪತ್ತ್’ಒಂಬತ್ತು ಅಂತ ನಲವತ್ತು ಅಷ್ಟೇ ತೋಂತಾನೆ ಮೇಲಿಬಾಗ ಅಂದರೆ ಚಿಪ್ಪಾಕಿರೋ ಭಾಗದ ಬಿಟ್ಟು ಹೋಗಲ್ಲಿ ಹೋಗುತ್ತಾನೆ ನಿಮಗೆ ಫಲಿತಾಬದ್ರಿ ಮತ್ತು ಸಾಮಾಜಿಕ ಅಂತರ ಕಾಯ್ದುಕೊಳ್ಳುವ ಸಾಧ್ಯತೆ ಇದೆ ನಗರದಲ್ಲಿ ನಿನ್ನೆ ಸುದ್ದಿಗಾರರೊಂದಿಗೆ ಮಾತನಾಡಿದ ಅವರು ಮಾತನಾಡಿದರು ಇದು ಕಾಸ್ಟ್ ನಿಮಗೆ ಅಯ್ದು ನೂರಿನ ಎಂಟು ನೂರಾರು ಕ್ಕೆ ಇನ್ನೊಂದು ಪ್ರಾಬ್ಲಮ್ ಅದೊಂದು ಹೇಳುತ್ತೇನೆ ಆಮೇಲೆ ಇನ್ನೊಂದು ಸಮಸ್ಯೆ ಪ್ರತಿ ಮೂರು ವರ್ಷಕ್ಕೊಮ್ಮೆ ಬ್ಯಾರಿ ಚೇಂಜ್ ಮಾಡಬೇಕಾಗುತ್ತದೆ ಕೊಡದಂತೆ ನೀವು ಮಿಶ್ರಾಕೂಳಿ ಬಾಡಿಗೆ ಇಲ್ಲದಿದ್ದರೆ ಬಿದಿರುವ ಬಿದ್ದಿದ್ದರೆ ಜೊತೆಗೆ ಸ್ವಲ್ಪ ನಾಯಿ ಇಟ್ಟುಗೋಳಿ ಆ ಮೇಲೆ ನಿಮಗೆ ಒಂದು ಅಲರನ್ ಸಿಸ್ಟಮ್ಗೆ ಆಗೆ ಮನೆಗೆ ಬಂದದು ಹುಡುಕಿಕೊಟ್ಟು ಕುಟುಂಬದ ಕರೆಯುತ್ತದೆ\n",
      "\n",
      "File: SandalWoodNewsStories_211.txt\n",
      "Similarity Score: 0.9152600169181824\n",
      "Answer: ವೆಂದರೆ ಸಮುದ್ರಕ್ಕೆ ಬಂದಿದ್ದು ಸಾವಿರದ ಹತ್ತು ರಷ್ಟು ಬಂದಿದ್ದು ಬಂದಿದ್ದು ಬಂದಿದ್ದು ಬಂದಿದ್ದರು ವೇಜಾ ಮರೆಯಾಜಿಲ್ಲುಗದಿದ್ದು ಇದನ್ನು ಕಡಿಮೆ ಮಾಡಲಾಗಿದೆ ನ್ನೆಲೆಯಲ್ಲಿ ಇದೇ ಮುಂದುವರೆಯಲಿದೆ ಅದಕ್ಕೆ ಪೋಷಣ್ ಮಾಡಿ ಇಂದಿನಿಂದ ಹತ್ತು ಇದರಿಂದ ಹತ್ತು ಸಿರುವ ಸಂಸ್ಥೆ ಸಂಸ್ಥೆ ಸಂಸ್ಕೃತಿ ಸಂಸ್ಥೆ ಸಂಸ್ಥೆ ಸಂಸ್ಥೆ ಇನ್ನೆರಡು ಸಂಪರ್ಕ ಸಂಪರ್ಕ ಸ್ಪಷ್ಟನೆ ಮಾಡಿಕೊಳ್ಳಬೇಕು ಎಂದು ಸ್ಪಷ್ಟಪಡಿಸಿದೆ ಕೆಲಸಗಳಿಗೆ ಸಂಬಂಧಿಸಿದಂತೆ ಸರ್ಕಾರ ಕೈಗೊಂಡಿದೆ\n",
      "\n",
      "File: SandalWoodNewsStories_215.txt\n",
      "Similarity Score: 0.8791396617889404\n",
      "Answer: ನ್ನು ಸಾಂಜೋದ್ಯಮ ಸ್ವಲ್ಪ ಮಾಡಿದ ನಾವು ಮೊದಲು ನಮ್ಮತೋಟದಲ್ಲಿ ಸುಮಾರು ಮೂವತ್ತು ವರ್ಷದ ಮಾವಿನ್ ತೋಟ ಆಯ್ತು ಮಾವಿನ್ ತೋಟಾ ಇತ್ತು ಮಾವಿನ್ ತೋಟದಲ್ಲಿ ಅಷ್ಟೊಂದು ಆದಾಯ ಬರುತ್ತಿಲ್ಲ ಒಂದು ವರ್ಷ ಬರುತ್ತೆ ಒಂದರಿಶಬರಲ್ಲ ಇನ್ನಾಲ್ ಬಿಟ್ಟು ಏನಾದ್ರೂ ಬೇರೆ ಮಾಡಬೇಕು ಅಂತ ಹೇಳಬೇಕು ಅಂತ ಹತ್ತೊಂದು ನಾರಾಯಣ್ಯ ಕೃಷಿಯಲ್ಲಿ ನಾವು ಎಲ್ಲರೂ ನಾವ ಸಿಕ್ಕಿದ್ದರು ಎಂಬ ಸರ್ಕಾರಿ ಸಮಾಜದ ಹಿನ್ನೆಲೆಯಲ್ಲಿ ಸಾರ್ವಜನಿಕ ಸಮಾರಂಭದಲ್ಲಿ ಸಾರ್ವಜನಿಕ ಸಮಾರಂಭದಲ್ಲಿ ಸಾರ್ವಜನಿಕ ಸಮಾರಂಭದಲ್ಲಿ ಸಾರ್ವಜನಿಕ ಸಮಾರಂಭದಲ್ಲಿ ಸಾರ್ವಜನಿಕ ಸಮಾರಂಭಗಳು ಸಮಾರಂಭವನ್ನು ಸರ್ಕಾರ ಮಾಡಿಕೊಂಡಿದೆ ಕಂಟೆಗಳಲ್ಲಿ ಕರ್ನಾಟಕ ಮೈಸೂರು ಮತ್ತು ಕೆಲವು ಕರ್ನಾಟಕ ಎಲ್ಲಾ ಮೈಸೂರು ಏರಿ ಅಲ್ಲಿ ಚಾಮರಾಜನಗರ ಕೋಲಾರ ಚಿಕ್ಕಬಳ್ಳಾಪುರ ಇಲ್ಲದನ್ನು ವಿಶೇಷವಾಗಿ ಶ್ರೀಗಂಛಿಸಿದೆ ನಿಯಮಿತ್ತಿಯಲ್ಲಿ ನಿನ್ನೆ ಸಂಜೆ ನಿಯಮಗಳನ್ನು ಕಲ್ಪಿಸಲಾಗಿದೆ ಸಿರುವ ಕಾರ್ಯಕ್ರಮದಲ್ಲಿ ನಿನ್ನೆ ಸುದ್ದಿಗಾರರೊಂದಿಗೆ ಮಾತನಾಡಿದ ಅವರು ಮಾತನಾಡಿದರು ನಂದಗು ಮತ್ತು ಮೇನಗಿ ಸಮಸ್ಯೆ ಕಾರ್ಯಕ್ರಮದಲ್ಲಿ ಇದುವರೆಗೆ ಕೊರತೆ ಕೇಳಿದ್ದಾರೆ ಕ್ಕೆ ನೇ ವರಿಸಿದಿದ್ದ ನಾಲ್ಕು ನೇ ವರಿಸಿದಿದ್ದ ನಾಲ್ಕು ವರ್ಷದ ನಾಲ್ಕು ನೂರ ಹದಿನೈದು ವರ್ಷಗಳಲ್ಲಿ ನೇ ಸ್ಟಾರ್ಟ್ ಆಗಿದೆ ಯದೆಡೆ ನಿಮಗೆ ಹದಿನೈದು ವರ್ಷದ ವರ್ಗ ನೀವು ಕಾದರೆ ಒಂದು ಹತ್ತು ಕೆಜಿ ಹನ್ನೆರಡು ಕೆಜಿ ವರ್ಗವು ಬರಬಹುದು ಅಮರ ಬೆಳವಣಿಗೆ ಹಾಗಾಗಿದೆ ನೀವಾದ ನಿಯನ್ ಮಾಡಿದ್ದೀರಾ ಅದನ್ನು ನೋಡಿಕೊಂಡು ಮಾಡಬಹುದು ಒಂದೇ ಹೊಂದಿಯುತ್ತದೆ ಸಿಕ್ಕಿರುವ ಕಾರ್ಯಕ್ರಮದಲ್ಲಿ ನಿನ್ನೆ ಸಾರ್ವಜನಿಕರು ಸಾಮಾಜಿಕ ಅಂತರ ಕಾಯ್ದುಕೊಳ್ಳುವ ಕಾಯ್ದುಕೊಳ್ಳುವಂತೆ ಅಂತದಲ್ಲಿ ರೆಡ್ಡಿ ಸಾಮಾಜಿಕ ಅಂತರದಲ್ಲಿ ರೆಡ್ಡಿ ಸಾಮಾಜಿಕ ಅಂತರದಲ್ಲಿ ತುಂಬಾ ಚೆನ್ನಾಗಿರುತ್ತದೆ ಎಲ್ಲಾ ಕಡೆಗೆ ಆಗುತ್ತೆ ಬರುತ್ತದೆ ರು ಬಂದ್ ಕಾಯದಿಲ್ಲ ಅದು ನೇನು ಮಾಡಕ್ಕಾಗದಲ್ಲ ಸುಮ್ಮನೆ ಏಳು ತಾರೆ ಅದು ಮಾಡಬಹುದು ಅಂತ ಮಾಡಬಹುದು ಅಂತ ಮಾಡಿಕೊಳ್ಳಲಿದೆ ಮಾಡಕೊಂಡು ಸ್ಮಾರ್ಟ್ ಕೇಳಲ್ ಮಾಡಕೊಂಡು ಮಂದಿ ನಮ್ಮ ದಿನಗಳಲ್ಲಿ ಯಾಕೆಂದರೆ ಕಾವಲು ಕಾಯ್ದು ಎಲ್ಲಾ ನೀವು ಸಂಪರ್ಕಿಸಿದೆ ಬಿಜಿಲ್ಲಿ ನಾನು ಗಿಡ ಹಾಕಿಕೊಂಡು ಮಾಡಿದರೆ ಐಡಿಯಲ್ಲೂ ನಾವು ಸ್ವಲ್ಪ ಐಡೆಂಟಿಸಿಟಿಯಲ್ಲಿ ಮಾಡಿಕೊಂಡು ಮಾಡಿಕೊಂಡು ಮಾಡಿಕೊಂಡು ಮಾಡಿಕೊಂಡು ಮಾಡಿಕೊಂಡು ಮಾತನಾಡಿದರು ಚಿತ್ರನಲ್ಲಿ ನಿನ್ನೆ ಸುದ್ದಿಗೋಷ್ಟಿಯಲ್ಲಿ ಮಾತನಾಡಿದ ಅವರು ಕೇಂದ್ರ ಸರ್ಕಾರ ಅನುಮೋದನೆ ನೀಡಿದೆ ಸಿಕ್ಕಿದ್ದರೂ ಸರ್ಕಾರ ಕಾರ್ಯಕ್ರಮದಲ್ಲಿ ನಿನ್ನೆ ಸಂಜೆ ನಾಲ್ಕು ಗಂಟೆಗೆ ಮಾಡಿಕೊಳ್ಳಲಾಗಿದೆ ಸಿಲ್ಲಿಯಲ್ಲಿ ಎಲ್ಲ ಸಿಲ್ಲವರು ಹೋಕಿದೆ ಎಲ್ಲ ಗಿಡಗಳನ್ನು ಆಧಿಸಪೋರ್ಟ್ ಮಾಡುತ್ತಾವೆ ಇಂಥದ್ದು ಹೋಗಿಲ್ಲ ಅನ್ನಂಗ್ ಇಲ್ಲ ಬೇಕೆಲವೋಷ್ಟೋ ಜಾಸ್ತಿ ಇರಬಹುದು ನಿಮ್ಮೆ ಮೋಸಮ್ಮಿ ಇಂಥವೆಲ್ಲನ್ನು ತುಂಬಾ ಒಳ್ಳೆಹೋಸ್ಟ್ಗಳು ಸಿಬಿಐವಲ್ಲನ್ನು ಬಟ್ಟೆ ಪ್ರತಿಯೊಂದು ಗಿಡಾನ್ನು ಹೂಲಿನಿಂದ ಹೇಳಿದೆ ಅದಕ್ಕೆ ಹೋಸ್ಟೇ ಇಂಥದೇ ಸ್ಪಿಸಿಸುವನ್ನು ಅನ್� ಕೊಂಡು ನೀವು ಕುರಿಯನ್ನು ಮೇಕೆನ್ನು ಮೇಯಿಸಿಕೊಂಡು ಅಥವಾ ಓಪನ್ ಗ್ರೇಜಿಂಗ್ ಸಿಸ್ಟಮ್ ಮಾಡಿಕೊಂಡು ಓಪನ್ ಗ್ರೇಜಿಂಗ್ ಸುಮಾರು ಮೂರು ರಿಂದ ನಾಲ್ಕು ವರ್ಷ ಆಗೋಪನ್ ಗ್ರೇಜಿಂಗ್ ಮಾಡಕ್ಕಾಗಿ ಲಯಾಕ್ಡೌನ್ ಪ್ರತಿ ಬಂದಸುವಲ್ಲಿ ಗಿಡನ್ನೆಲ್ಲದಿಂದ ತಿಂದಾಕ್ಷಿಣ ಗಿಡ ಆಳಾಗಬಿಡುತ್ತದೆ ನಗರದಲ್ಲಿ ಕೊರೋನಾ ಸೋಂಕು ಹರಡಿರುವ ಸಾಧ್ಯತೆ ಇದೆ ಮಾರ್ಕ್ ಅವರು ಮಾತನಾಡಿದ ಅವರು ಮಾತನಾಡಿದರು ಅದನ್ನು ಮಾಡಿಕೊಳ್ಳಲು ತುಂಬಾ ಹೈಫ್ ಮಾಡಿ ಅಷ್ಟುಕೋಟಿ ಬರುತ್ತದೆ ಎಷ್ಟುಕೋಟಿ ಬರುತ್ತದೆ ಅಂತಾರಾಷ್ಟ್ರೀಯ ಮಾಡೋದ್ದಕ್ಕಿಂಹ ಕೋಟಿಗಳೆಲ್ಲ ಯೋಚನೆ ಮಾಡಿದ್ದಾರೆ ಬಿಟ್ಟು ಬಿಟ್ಟು ಫಸ್ಟ್ ಗಿಡನ್ ಬೆಳೆಸಲಾಗುವುದು ನೋಡಿಕೊಳ್ಳಿ ಅತ್ತೋಷ ಇಪ್ಪತ್ತು ಅದನ್ನೇ ನಮ್ಮ ಕೊಂಡಿ ಜೀವನ ಮಾಡಕುವುದು ಬೇರೆ ನಿಮ್ಮ ಕಾರ್ನಲ್ಲಿ ಮಾಡಿಕೊಂಡು ಬೇರೆ ಕಳ� ಮಹಾಳಾದ್ರು ವೈಟ್ ಅಂಡ್ ಸಿಂಗ್ ಹೇಳಿದು ನಿಮಗೆ ಸಾವಿರದ ಲಲಿತಾ ನೀವು ಹತ್ತು ಹದಿನೈದು ವರ್ಷ ನ್ಯೂ ಕಾಪಾಡುಬಿಟ್ಟರೆ ಸಾಕು ನಿಮ್ಜೀವನ್ನು ನೀವೇ ಏನೇನ್ ಕಾನ್ಸ್ ಕಟ್ಟುಕೊಂಡಿದ್ದರು ಅಂತ ವೆಲ್ಲಾ ಮಾಡಬಹುದು ಸರಿಗಳು ಅಥವಾ ಕೆಲವು ಗಿಡಗಳು ನಂಬಿಕೆಯಾಗಿ ಕೊಡುವಂತ ಜಾಗವನ್ನು ನೀವೇ ತಾಗೋಬಹುದು ನಮ್ಮ ಕಡೆ ಚಿಂತಾಮಣಿ ಶ್ರೀನಿವಾಸ್ಪುರ ಕೋಲಾರ ಎಲ್ಲಾ ನಡೆಸಿರುವುದು ಇವಾಗಂತವನ್ನು ಫಾರೆಸ್ ಡಿಪಾರ್ಟ್ಮೆಂಟ್ನಲ್ಲಿ ರೆಸಲ್ಯೂಷನ್ ಪಾಸ್ಟ್ ಮಾಡಿಕೊಂಡಿದ್ದಾರೆ ಏನೋ ಎಷ್ಟು ಮಟ್ಟಿಗೆ ಚಿತ್ರದೆಲ್ಲಿ ಕಳೆತನ್ನು ಪರಿವೆಂಟಿಗೆ ಸಕ್ಸೆಸ್ ಆಗಿದೆ ನನು ಗಂತು ಗೊತ್ತಿಲ್ಲ ನಾದೇ ಒಂದು ಮಾತು ಹೇಳಿದೆ ನಿಮ್ಮನೆ ನೀವೇ ಕಾಯಬೇಕು ಅಷ್ಟೇ ಅದರಲ್ಲಿ ಸಿದ್ಧ ಅಂತ ಇರೋದು ಸರ್ಕಾರ ಎಲ್ಪ್ಪತ್ತದೆ ಇನ್ನೊಬ್ಬರು ಮಾಡುತ್ತಾರೆ ಪೊಲೀಸರು ಮಾಡುತ್ತಾರೆ ಅವೆಲ್ಲ ಸುಳ್ಳು ಆರು ಇರೋದಿಲ್ಲ ಅದಕ್ಕೆ ಫೆನ್ಸಿಂಗ್ ಮಾಡಿಕೊಳ್ಳು ಕ\n",
      "\n",
      "File: SandalWoodNewsStories_223.txt\n",
      "Similarity Score: 0.909421443939209\n",
      "Answer: ಮುನಿರ್ಘಟ್ಟ ಜೈವಿಕ ಉದ್ಯಾನವನದಲ್ಲಿದ್ದ ಶ್ರೀಗಂಧದ ಮರ ಕಳತನವಾಗಿದೆ, ಆರೋಪದ ಮೂಲದ ಶ್ರೀಗಂಧದ ಮರವನ್ನು ಕಳೆದ ಕೊಂಡೊಬ್ಬರನ್ನು ರಾತ್ರಿ ಶ್ರೀಗಂಧದ ಮರವನ್ನು ಕಡಿದು ಖದೀಮರು ಹೊತ್ತೊಯ್ದಿದ್ದು ಪಾರ್ಕ್ ಆವರಣದಲ್ಲಿ ಕಾರ್ಯನಿರ್ವಹಿಸುತ್ತಾಯಿದೆ ಅಂತಹ ಶ್ರೀಗಂಧದಲ್ಲಿ ಕಾರ್ಯನಿರ್ವಹಿಸುತ್ತಾಯಿದೆ ಎಂದು ಕೇಂದ್ರ ಸಚಿವ ಡಾ ಕದ್ದಲ್ಲಿ ಸಾಕಷ್ಟು ಭದ್ರತಾ ವ್ಯವಸ್ಥೆ ಕಳ್ಳರು ಹೇಗೆ ಕೈಚಾಲಕ ತೋರಿರ್ಬಕುದು ಅನುಮತದ ಬಗ್ಗೆ ಅಧಿಕಾರಿಗಳನ್ನು ನಿಬಿರಿಗಾಗುವಂತೆ ಮಾಡಿದೆ ಆವರಣದಲ್ಲಿ ಕಾರಣಿರುವ ಹಿರಿಯ ಸಿಬ್ಬಂದಿಯ ಕೃತ್ಯ ವಶವಿರುವ ಶಂಕೇಕ ವ್ಯಕ್ತವಾಗಿರುವುದು ಇನ್ನು ಬಗೆ ನ್ಯಾಷನಲ್ ಪಾರ್ಕ್ ಅಧಿಕಾರಿಗಳು ಕೇಸದ ಕಲಿಸಿಕೊಂಡು ಪರಿಶೀಲನೆ ಮುಂದುವರಿಸಿದಾರ ನಿಲ್ವಗಿರಂ ಜೊತೆಗೆ ಮಾತನಾಡಿಕೆ ಬಂದಿರುಘಟ್ಟ ಉದ್ಯಾನವನದ ಕಾರ್ನಿರ್ವಾಹಕ ಕಾರ್ಯ ನಿರ್ವಾಹಕ ನಿರ್ದೇಶಕರಾಗಿರುವಂತಹ ಆರ್ಗೋಪಾಲ ಸಂಪರ್ಕದಲ್ಲಿರುವ ಗೋಪಾಲ್ ಅವರು ಈಗ ಶ್ರೀಗಂಧದ ಮರ ಕಳೆದನ ಆಗಿದೆ ಆದರೆ ಶಂಕೆ ನೋಂದಾದವರು ಸಂಕೇತವಾದ ಮಾಹಿತಿ ಸಿಕ್ಕಿತು ಯಾಕ್ಕೆ ಆರತಿ ಆಯ್ಕೆ ಆಯ್ದಾಯಿತು ಇಲಿನ ಸಿಬ್ಬಂದಿಯಲ್ಲಿ ಸಂಖ್ಯೆ ಹೋಗಿರಬಹುದು ಹೋದ ಧನ್ಯವಾದ ಗೋಕುಲ್ ಅವರೇ ನಮ್ಮ ಜೊತೆ ಮಾತನಾಡಿದರು\n",
      "\n",
      "File: SandalWoodNewsStories_229.txt\n",
      "Similarity Score: 0.8915618062019348\n",
      "Answer: ಕವಸಗುರಿಗೆ ಸ್ವಾಗತ ನಾನು ವಿಜಯಲಕ್ಷ್ಮೀಶ್ ಬರೂರು ಕಾಡುಗಳ ವೀರಪನ್ ಸತ್ತಾಗ ನಾವಿಲ್ಲ ನಿಟ್ಟಿಸಿರುವ ಬಿಟ್ವೆ ನಮ್ಮ ನಾಡಿನ ಗಂಧದ ಗಿಡಗಳೆಲ್ಲಾ ಉಳುವುದು ಅಂತ ನಾವು ನೆಮ್ಮದಿಯಿಂದ ಇದ್ವೆ ಆದರೆ ನಮ್ಮ ನೆಮ್ಮದಿಯನ್ನು ಕೇಳಿಸುವಂತಹ ಒಂದು ಸುದ್ದಿ ಹೇಳ್ತುವಿಕೆ ಕೇಳಿ ನಮ್ಮ ಬೆಂಗಳೂರಿನ ಅಂಗಳದ ಆವರಣದಲ್ಲೇ ಕೋಟ್ಯಾಂತ ರೂಪಯ್ಯ ಗಂಧವನ್� ಮಾರ್ಕ್ ಅವರು ಮಾತನಾಡಿದ ಅವರು ನಮ್ಮಲ್ಲಿ ಒಂದು ವಿಚಿತ್ರವಾದ ಮನವಿ ಮಾಡಿಕೊಂಡು ಅದೇನೆಂದರೆ ವಿಶ್ವವಿದ್ಯಾನಿಲಯ ಆವರಣದಲ್ಲಿ ಕೋಟಿ ರೂಪಾಯಿ ಶ್ರೇಗಂಧ ಲೋಟಿಯಾಗುತ್ತಿದೆ ನೀವು ಅದರ ಕೌರ್ಸ್ ಟೂರಿ ಮಾಡಿ ಅಂತ ಆರಂಭದಲ್ಲಿ ಅವರು ತಮ್ಮಾಷೆ ಮಾಡುತ್ತಿದ್ದಾರೆ ಅನ್ನಿತು ಕೋಟಿ ಕೋಟಿ ರೂಪಾಯಿ ಶ್ರೀಗಂಧ ಇಲ್ಲಿಂದ ಬರಬೇಕು ಹೇಳಿ ಆದರೆ ಅವರು ಅವರು ಪತ್ತೆ ಪರಿಣಾಮಕಾರಿ ಮಾಡಿದ ಸಂಘದ ಕಾರ್ಯಕ್ರಮದಲ್ಲಿ ನಮ್ಮ ಗೃಹ ಇಲಾಖೆಯ ಕಣ್ಣಿಸಿ ಅಂತಿಮ ಬೇಡಿಕೆ ಕೊಂಡು ಅವರ ಮನವಿಗೆ ಸ್ಪರ್ಧಿಸಿದ ಕೌರ್ಸ್ ತಂಡ ಜ್ಞಾನ ಭಾರತೀಯತಾ ಪ್ರಯಾಣ ಬೆಳೆಸಿಯೇ ಪಟ್ಟಿತು ಬಹಳ ಉತ್ಸಾಹದಿಂದ ಇದ್ದ ಅವರು ನಮ್ಮನ್ನು ಬೆಂಗಳೂರು ವಿಶ್ವವಿದ್ಯಾನಿಲಯದ ಕ್ಯಾಂಪಸ್ ಸುತ್ತಾಪಿಸಿದರು ಕೇರಳದಲ್ಲಿ ಕೊರೋನಾ ಸೋಂಕು ಹರಡಿರುವ ಸಾಧ್ಯತೆ ಇದೆ ನಗರದಲ್ಲಿ ನಿನ್ನೆ ಸುದ್ದಿಗೋಷ್ಠಿಯಲ್ಲಿ ಮಾತನಾಡಿದ ಅವರು ಮಾತನಾಡಿದರು ಕಳೆದ ಕೊರೊನಾ ಸೋಂಕು ಹಿನ್ನೆಲೆಯಲ್ಲಿ ನಿನ್ನೆ ಸಂಜೆ ಆರು ನೂರ ಮೂವತ್ತ್’ನಾಲ್ಕು ಕಿಲೋಮೀಟರ್ ದೂರದಲ್ಲಿ ಕೇಂದ್ರ ಸರ್ಕಾರ ಕಲ್ಯಾಣ ಕಾರ್ಯಕ್ರಮಗಳನ್ನು ಕೈಗೊಳ್ಳಲಾಗಿದೆ ಕೇಂದ್ರ ಸರ್ಕಾರ ಸಿನಿಯೋತ್ಸವದ ಸಂದರ್ಭದಲ್ಲಿ ಮಾತನಾಡಿದ ಅವರು ಸರ್ಕಾರ ಸಮಿತಿ ಅಧ್ಯಕ್ಷ ಡೊನಾಲ್ಡ್ ಟ್ರಂಪ್ ಅವರು ಸೇರಿದಂತೆ ಹಲವು ಸಮಾಜಗಳನ್ನು ಸಮರ್ಥವಾಗಿ ಸಾಧ್ಯವಾಗಿದೆ ದಲ್ಲಿ ನಿನ್ನೆ ಸುದ್ದಿಗಾರರೊಂದಿಗೆ ಮಾತನಾಡಿದ ಅವರು ಕೇಂದ್ರ ಸರ್ಕಾರ ಕಾರ್ಯಕ್ರಮಗಳನ್ನು ಕೈಗೊಳ್ಳಲಾಗಿದೆ ಇಲ್ಲಿನ ಪ್ರೊಫೆಸರ್ ಆನ್ ದಿನಗಳನ್ನು ನೆನಪಿಸುತ್ತಾರೆ ಸಾವಿರ ಕೋಟಿ ರೂಪಾಯಿ ಮೂರು ಸಾವಿರ ಕೋಟಿ ರೂಪಾಯಿ ಮೌಲ್ಯದ ಮೂರು ನೂರ ಇಪ್ಪತ್ತ್’ಎರಡು ಕೋಟಿ ರೂಪಾಯಿ ಮೌಲ್ಯದ ಹಿನ್ನೆಲೆಯಲ್ಲಿ ಕೇಂದ್ರ ಸರ್ಕಾರದ ಮೂರು ನೂರ ಹದಿನಾರು ಕೋಟಿ ರೂಪಾಯಿ ಮೌಲ್ಯದ ಹಿನ್ನೆಲೆಯಲ್ಲಿ ಕೇಂದ್ರ ಸರ್ಕಾರದ ಮೂರು ನೂರ ಹದಿನೆಂಟು ಕೋಟಿ ರೂಪಾಯಿ ಮೌಲ್ಯದ ಹದಿನೆಂಟು ಕೋಟಿ ರೂಪಾಯಿ ಮೌಲ್ಯದಿದೆ ಧರಿಸಿ ಹಾಗೂ ಜಿಲ್ಲೆಯಲ್ಲಿ ನಿನ್ನೆ ಸುದ್ದಿಗಾರರೊಂದಿಗೆ ಮಾತನಾಡಿದ ಅವರು ಸರ್ಕಾರಿ ಸಮಾರಂಭದಲ್ಲಿ ಮಾತನಾಡಿದ ಅವರು ಸರ್ಕಾರಿ ಸರ್ಕಾರದ ಜಿಲ್ಲಾ ಪಂಚಾಯತ್ ಮುಖ್ಯ ಕಾರ್ಯದರ್ಶಿ ಆಡಾಮಿತ್ಯನಾಥ್ ಸರ್ಕಾರದ ಮುಖ್ಯಸ್ಥರು ಸರ್ಕಾರದ ಮುಖ್ಯಸ್ಥರು ಸರ್ಕಾರದ ಮುಖ್ಯಸ್ಥರು ಸರ್ಕಾರದ ಮುಖ್ಯಸ್ಥರು ಸರ್ಕಾರ ಕೋರಿ ಸರ್ಕಾರದ ಮುಖ್ಯಮಂತ್ರಿ ಸೂದ� ಧ್ವನಿಲ್ಲಿಯಲ್ಲಿ ನಿನ್ನೆ ಸುದ್ದಿಗಾರರೊಂದಿಗೆ ಮಾತನಾಡಿದ ಅವರು ಮಾತನಾಡಿದರು ಇಲ್ಲಿನ ಸ್ಥಳಗಳ ತನಿಖೆ ನಡೆಸಿದಾಗ ಒಂದು ಅಂಶ ಸ್ಪಷ್ಟವಾಗುತ್ತದೆ ಅದೇನೆಂದರೆ ಇಲ್ಲಿ ಕಳ್ಳರು ಯಾವ ಅಡೆತಡೆ ಇಲ್ಲದೆ ಮರ ಕಡಿಯುವ ಯಂತ್ರ ಬಳಸಿ ಆರಾಮವಾಗಿ ಅಪರೂಪದ ಸಂಪತ್ತನ್ನ ದೂಚಿಟ್ಟಿದ್ದಾರೆ ನಗರದಲ್ಲಿ ಕೊರೋನಾ ಸೋಂಕು ಹರಡದಂತೆ ಸಾವಿರದ ಒಂದು ನೂರ ಹದಿನಾರು ಕೋಟಿ ರೂಪಾಯಿ ಮೌಲ್ಯದ ಮುಂದೆ ಕೇಂದ್ರಗಳನ್ನು ಕೇಂದ್ರ ಸರಳ ಸಚಿವ ರಮೇಶ್ ಜಾರಕಿಹೊಳಿ ಸಚಿವ ರಮೇಶ್ ಜಾರಕಿಹೊಳಿ ಸಚಿವ ರಮೇಶ್ ಜಿಲ್ಲೆ ಹೇಳಿದ್ದಾರೆ ಯುವತ್ತಿನ ಬೇರೆ ಪ್ಲಾಂಟೇಶನ್ ಕೆಲ ಕಡೆ ಮಾಡಿದರೆ ಕಡೆ ಮಾಡಿದ ಬಿಲ್ಲಿಂಗ್ ಬೆಲ್ಲಿಂಗ್ ವ್ಯಾಲಿ ಗ್ಯಾಲಿ ಗ್ಯಾಲಿ ಗ್ಯಾಲಿ ಗ್ಯಾಲಿ ಗ್ಯಾಲಿ ಗ್ಯಾಲಿ ಗ್ಯಾಲಿ ಗ್ಯಾಲಿ ಗ್ಯಾಲಿ ಯೋರಿ ಸ್ಯಾಂಡ್ ವೆಟ್ಟರ್ನಲ್ಲಿ ಪ್ರಾಂಟೇಶನ್ ನಡೆದಿರುವ ತುಂಬಾ ಚೆನ್ನಬರ್ ಬೇಕು ಸಾಕ್ಷನ್ ಮಾಡಿದರು ತನ್ನ ಅಂಗಳದಲ್ಲಿ ಬೆಳೆದ ಸಂಪತ್ತನ್ನ ಕಳ್ಳಕಾಕರು ದೋಚಿತ್ರೋ ವಿಶ್ವವಿದ್ಯಾನಿಲಯ ಗಾರ್ಡ್ ನಿದರೆಯಲ್ಲಿದೆ ಗೃಹ ಸಚಿವಾಲಯ ಕೈಕಟ್ಟಿ ಕುಳಿತಿದೆ ಅರಣ್ಯ ಇಲಾಖೆಗೆ ಮಾಹಿತಿಯೇ ಇಲ್ಲ ಅವರ ಕೈವಾಡವು ಇದೆ\n",
      "\n",
      "File: SandalWoodNewsStories_23.txt\n",
      "Similarity Score: 0.8960127234458923\n",
      "Answer: ನವಿರೋಧವು ಗಂಧದ ಗುಡಿಯಲ್ಲಿ ಜಗತ್ತಿಗೆ ಗಂಧದ ಪರಿಮಳವನ್ನು ಹಬ್ಬಿಸಿದಂಥ ಗಂಧದ ನಾಡಿನಲ್ಲಿ ಇಂಥ ಗಂಧದ ನಾಡಿನ ಕಂಪನವನ್ನು ಮತ್ತಷ್ಟು ಹೆಚ್ಚಿಸುವುದಕ್ಕೆ ಪಣತೊಟ್ಟು ನಿಂತಿದ್ದಾರೆ ಗಂಧದ ಗುಡಿಯ ಗಂಡುಗಳಲ್ಲಿ ಇವರ ಹೆಸರು ರಮೇಶ್ ಬಲೂಟೆ ಕುಪ್ಪಳದ ಕುಷ್ಟಗಿಯವರು ಕೃಷಿಯನೇ ಬುದಕ್ಕಾಗಿಸಿಕೊಂಡಿರುವಂತಾ ರಮೇಶ್ ಗಂಧದ ನಾಡನ ಬೆಳಗು ಸಿರಿಗಂಧವನ್ನು ಬೆಳೆದು ಸಿರಿವಂತನಾಗುವಂತಹ ಯುವ ರೈತರಿಗೆ ಕರೆಕೊಟ್ಟ ರಮೇಶ್ ಶ್ರೀಗಂಧವನ್ನು ಬೆಳೆಯುವುದು ಹೇಗೆ ಅಂತ ಕೂಡ ರೈನಿಂಗನ್ನ ಕೊಟ್ಟಿದ್ದ ಇವರ ಶರಮದ ಫಲವಾಗಿ ಕುಷ್ಟಗೀಯ ಸಾವಿರದ ಅಯ್ದು ನೂರು ಎಕರೆ ಪ್ರದೇಶದಲ್ಲಿ ಶ್ರೀಗಂಧ ಪರಿಮಳ ಹತ್ತಿದೆ ಶ್ರೀಗಂಧ ಬೆಳೆಯುವ ಬಗ್ಗೆ ಸುಮಾರು ಎನ್ನೂರು ಐವತ್ತು ಕ್ಕೂ ಹೆಚ್ಚು ಯುವ ರೈತರಿ ಶ್ರೀಗಂಧದ ಕಂಪನಿಗೆ ಹೆಚ್ಚಿಸುತ್ತಿರುವ ಈ ಕಣ್ಮನಿಗೆ ಕನ್ನಡ ಪ್ರಭಾ ಹಾಗೂ ದಶಕದ ಸಂಭ್ರಮದಲ್ಲಿರುವಂತಹ ಸುವರ್ಣ ನ್ಯೂಸ್ ವತಿಯಿಂದ ಅಸಾಮಾನ್ಯ ಕನ್ನಡಿಗ ಪ್ರಶಸ್ತಿಯ ಗೌರವA\n",
      "\n",
      "File: SandalWoodNewsStories_230.txt\n",
      "Similarity Score: 0.8922248482704163\n",
      "Answer: ಏನೂರು ವಿಶ್ವವಿದ್ಯಾನಿಲಯದ ಆವರಣದಲ್ಲಿ ಕೋಟಿ ಕೋಟಿ ರೂಪಾಯಿ ಶ್ರೀಗಂಧ ಲೂಟಿಯಾಗಿದೆ ಆದರೆ ಇಂದು ಗೃಹ ಸಚಿವ ಆರ್ ಅಶೋಕ್ ಅವರ ವಿಧಾನಸೌಧದ ಚೇಂಬರ್ ರಿಂದ ಕೇವಲ ಹದಿನಾಲ್ಕು ಕಿಲೋ ಮೀಟರ್ ದೂರದಲ್ಲಿರುವ ಜ್ಯಾಂಪಸ್ನಲ್ಲಿ ಭಾರಿ ಗಂಧಲು ಟಿಯಾರ್ ತಿದೆ ಆದರೆ ದುರಂತ ಅಂದರೆ ಸರ್ಕಾರ ಮಾತ್ರ ಕೈಕಟ್ಟಿಕೊಳ್ಳುತ್ತಿದೆ ಚಿತ್ರನಲ್ಲಿ ನಿನ್ನೆ ಸುದ್ದಿಗೋಷ್ಠಿಯಲ್ಲಿ ಮಾತನಾಡಿದ ಅವರು ಕೇಂದ್ರ ಸರ್ಕಾರ ಕೈಗೊಂಡಿದ್ದಾರೆ ಇದಾಗಿದ್ದ ನಾವು ವಯೋಮಾನದ ಕಂಪನಿ ಕೊಟ್ಟಿದ್ದೇವೆ ವಹಿಸಲಾರು ಬಂದು ನಮಗೆ ಇಳಿಕೆ ನುಗ್ಗಿದೆ ಅಲ್ಲಿನ ಗಂಧೆ ಇರೋ ಜಾಗದಲ್ಲಿ ಓಡಾಡುತ್ತವೆ ಆದರೆ ಯಾರು ನಮ್ಮನ್ನ ವಿಚಾರಿಸಿಲ್ಲ ಆರು ಗಂಟೆಯವರೆಗೆ ಕ್ಯಾಂಪಸ್ ಉತ್ತರ ಒಂದು ತಂಡ ಸಿಕ್ಕಿತು ಅವರನ್ನು ಮಾತಿಗಳಿದಾಗ ಕೆಲ ಸತ್ಯ ಸಂಗತಿಗಳು ಗೊತ್ತಾದವು ಚಿತ್ರನಲ್ಲಿ ನಿನ್ನೆ ಸುದ್ದಿಗೆ ಸಾರ್ವಜನಿಕರು ಸಾವಿರದ ಕೋಟಿ ರೂಪಾಯಿ ಮೌಲ್ಯದ ಮೂಲಕ ಮುಂದೆ ಸೇರಿದಂತೆ ಹಲವು ಕೋಟಿ ರೂಪಾಯಿ ಮೌಲ್ಯದ ಕೇಂದ್ರಗಳನ್ನು ಸರ್ಕಾರ ಕೈಗೊಂಡಿದೆ ಯೂರಿಗೆ ಕಳ್ಳರು ಯಾವ ಹಾದಿಯಿಂದ ಬರ್ತಾರೆ ಯಾವ ರೀತಿ ಇರುತ್ತಾರೆ ಅನ್ನೋದು ಗೊತ್ತಿದ್ರೂ ಏನು ಮಾಡಲಾಗದ ಸುಸ್ಥಿತಿ ಮುಖ್ಯಮಂತ್ರಿ ಅವರು ಮುಖ್ಯಮಂತ್ರಿ ಬಿ ಕೇರಳದಲ್ಲಿ ನಿನ್ನೆ ನಡೆದ ಸಭೆಯಲ್ಲಿ ಮಾತನಾಡಿದ ಅವರು ಕೇಂದ್ರ ಸರ್ಕಾರ ಮತ್ತು ಸಮಾಜದ ಸರ್ಕಾರಗಳು ಸಮಾಜದ ಸಾಧ್ಯವಿಲ್ಲ ಎಂದು ಅಧಿಕಾರಿಗಳು ಜನಪ್ರತಿನಿಧಿಗಳು ಸಾಧ್ಯವಿಲ್ಲ ಇಂಥ ಅಧಿಕಾರಿಗಳು ಜನಪ್ರತಿನಿಧಿಗಳು ಕೆಲಸಕ್ಕೆ ಬಾರದ ಮರಗಳಿಗೆ ಈ ನೀತಿಯ ಅಗತ್ಯ ಕ್ರಮಗಳನ್ನು ಕೈಗೊಳ್ಳಲಾಗಿದೆ ಬೋರ್ಡ್ ಹಾಕಿ ಸೋಗಲಾಡಿತನ ಮಾಡ್ತಾ ರಸ್ತೆ ಪೊಲೀಸ್ ಇಲಾಖೆಯಲ್ಲಿ ಹಾಗೂ ಆಡಳಿತ ಮಂಡಳಿಯವರು ತಮ್ಮ ಕರ್ತವ್ಯವನ್ನೇ ಮರೆತಿದ್ದಾರೆ ಇಲ್ಲದಿದೆ ಗಿಡಗಳು ಮುಂದೊಂದು ದಿನ ಸಾಕ್ಷ್ಯ ಸಮೇತವಾಗಿ ಅನುಮಾನವೇ ಇಲ್ಲ ನಗರದಲ್ಲಿ ನಿನ್ನೆ ಸುದ್ದಿಗೋಷ್ಠಿಯಲ್ಲಿ ಮಾತನಾಡಿದ ಅವರು ಕೇಂದ್ರ ಸರ್ಕಾರ ಅನುಮೋದನೆ ನೀಡಿದ್ದಾರೆ\n",
      "\n",
      "File: SandalWoodNewsStories_239.txt\n",
      "Similarity Score: 0.8821730613708496\n",
      "Answer: ರೈತಿ ಮಿತ್ರರೇನು ಉಸ್ಕಾರ ಮಾಹಿತಿ ಚಾಲನೆಗೆ ತಮಗೆ ಆದ್ಮೆ ಸ್ವಾಗತ ನಿಮಗೆ ಯಾವುದೇ ರೀತಿಯಲ್ಲಿ ಸುರೇಶ್ ನೀಡಿದ್ದರೆ ದನ್ನೋಳರಿಂದ ಇಪ್ಪತ್ತು ಕೋಟಿ ಆದಾಯ ಬರುತ್ತದೆ ನೀವು ಹೇಳುತ್ತಿದ್ದೀರಾ ಅಂದರೆ ಸ್ನೇಹಿತರ ಖಂಡಿತನೊಬ್ಬರುತ್ತೆ ಒಂದು ಬೇಸಾಯದಲ್ಲಿ ನಿಮ್ಮಿಗೆ ಒಂದು ಕೋಟಿಗಳಲ್ಲಿ ಆದಾಯ ಖಂಡಿತ ಬರುತ್ತಿದೆ ಆದರೆ ನೀವು ಅದಕ್ಕೆ ಅಂದರಿಂದ ಅದನಾಲ್ಕು ವರ್ಷಗಳ ಒಂದು ಅವಧಿಯವರಿಗೆ ಒಂದು ಮರಗಳನ್ನು ಗಳಿಸಿಕೊಂಡು ಅವರನ್ನು ಅದನ್ನು ವಶಸ್ತವಾಗಿದೆ ಪ್ರಾರಂಭದಿಂದ ಕೊಲೆಯವರು ಸ್ಕಿಪ್ ಮಾಡದೇ ಮೊದಲ ಮರಳುವಿಗೆ ನಿವೇಶನಗಳನ್ನು ನೀಡಲಿ ಹರಡಿರುವ ಹಿನ್ನೆಲೆಯಲ್ಲಿ ನಿನ್ನೆ ಅಂದಿರೆಯಲ್ಲಿ ಅಂತಿಮ ವರ್ಷದ ಅವಧಿಗೆ ನಿಮಗೆ ಕೋಟಿಗಳಲ್ಲಿ ಆದಾಯ ತಂದುಕೊಡುತ್ತದೆ ದೇವನಾಥ್ ಸಿಂಗ್ ಅವರು ಮಾತನಾಡಿದರು ಚಿತ್ರಲಾಗಿದೆ ಕೇರಳದಲ್ಲಿ ನಿನ್ನೆ ಸುದ್ದಿಗಾರರೊಂದಿಗೆ ಮಾತನಾಡಿದ ಅವರು ಮಾತನಾಡಿದರು ದರ್ಶನ ಜನಪ್ರಿಯ ಸಾಧಿಸಿದ್ದರೆ ಕೆಲವು ಕಡಿಮೆ ಮಾಡಿಕೊಳ್ಳಲು ಸಾಧ್ಯವಿರುವ ಕೆಂಪು ಮತ್ತು ಸಾಧ್ಯವಿರುತ್ತದೆ ಕೆಲಸಗಳಿಗೆ ಮಾಡಿರುವ ಕೊಡುಗೆ ಮಾಡಿರುವ ಕೊಡುಗೆ ಮಾಡಿರುವ ಕೆಲವು ಕಡಿಮೆ ಮಾಡಿರುವ ಸಾಧ್ಯತೆ ಇದೆ ವತ್ತು ಗಿಡಗಳ ನಿಮಗೆಯಲ್ಲಿ ಇದುವರೆಗೆ ಸಂಬಂಧಿಸಿದಂತೆ ಸರ್ಕಾರದ ಮುಂದೆ ಕೇಂದ್ರ ಸರ್ಕಾರ ಕೈಗೊಂಡಿದೆ ದೇವೇಗೌಡ ಅವರು ಮಾತನಾಡಿದರು ದರಗಿರಲಿ ನಿನ್ನೆ ರಾತ್ರಿ ನಿನ್ನೆ ರಾತ್ರಿ ನಿನ್ನೆ ರಾತ್ರಿ ನಡೆದ ಕಾರ್ಯಕ್ರಮದಲ್ಲಿ ನಿನ್ನೆ ರಾತ್ರಿ ನಿನ್ನೆ ರಾತ್ರಿ ನಡೆದ ಕಾರ್ಯಕ್ರಮದಲ್ಲಿ ನಿನ್ನೆ ರಾತ್ರಿ ನಿನ್ನೆ ರಾತ್ರಿ ನಾಡಿದ್ದು ರಾತ್ರಿ ನಲವತ್ತೈದು ರಾತ್ರಿ ನಲವತ್ತೈದು ರಾತ್ರಿ ನಲವತ್ತೈದು ರಾತ್ರಿ ನಲವತ್ತೆಂಟು ರಿಂದ ಕಡಿಮೆ ಬಂದಿದೆ ನಿಮಗೆ ಸರಾಸರನೆಗೆ ಅದಿಲೇ ದವಶದಲ್ಲಿ ಕಡಿಮೆ ಅರವತ್ತು ಕೆಜಿ ನಿಮಗೆ ಪ್ರತಿವರ್ಕೆ ಇವಾಗಿ ಪ್ರತಿಭಟನೆ ನಡೆಸಿದ ಓಟಿಗಳಲ್ಲಿ ಕೂಡಲೇ ನೀಡುವುದು ಸ್ವೀಕಾನಿಸಲಾಗಿದೆ\n",
      "\n",
      "File: SandalWoodNewsStories_242.txt\n",
      "Similarity Score: 0.8537120819091797\n",
      "Answer: ಏನೇ ಮತ್ತೆ ಮತ್ತೆ ಮಾಡಬೇಕು ಇತ್ತೀಚಿನ ದಿನಗಳಲ್ಲಿ ಗೆಲ್ಲರಿಗೂ ಒಂದು ರೀತಿಯಲ್ಲಿ ಸಾಧ್ಯ ಮಾಡಬೇಕು ಅಂತಿಮ ಬಾಲಿಸಿದ್ದರು ಕಷ್ಟದೆ ಅಥವಾ ಸುಲಭದ ದಾರಿಗೆ ನೀಡಿ ಇದೆಲ್ಲವೂ ನಸ್ವತಹ ಅವರೇ ನಮಚುತ್ತಿದೆ ಮಾತನಾಡಿದ ಅವರು ಮುಖ್ಯಮಂತ್ರಿ ಅವರು ಚಿಕ್ಕಮಗಳೂರು ಜಿಲ್ಲೆಯ ತರಿಹೇಳಿಯಲ್ಲಿ ಓದಿನ ನಮಗೆ ಹೇಳಿ ದ್ರಿಯ ತಿಂತ ಮುಂಚೆ ಒಂದು ವಿಟಿ ಇದ ನೋಡ್ಕೋ ಮರಣ ಕಳೆದ ಕೊರೋನಾ ವೈರಾಣು ಸೋಂಕು ಹಿನ್ನೆಲೆಯಲ್ಲಿ ಸಾಧ್ಯವಾಗಿದ್ದು ಇದರಿಂದ ಸಾವಿರದ ಕೋಟಿ ರೂಪಾಯಿ ಮೀಸಲಿಡಲಾಗಿದೆ ಮುಖ್ಯಮಂತ್ರಿ ಅವರು ಸೇರಿದಂತೆ ಸರ್ಕಾರಿ ಸಮಿತಿ ಸಭೆಯಲ್ಲಿ ಮಾತನಾಡಿದ ಅವರು ಸರ್ಕಾರ ಸಮಿತಿ ಸಭೆಯಲ್ಲಿ ಮಾತನಾಡಿದರು ಇಂತದ್ದು ಮಾಡಬೇಕು ಅಂತ ಬಂದಾಗ ಹೆಸರಾಗು ಹಿಂದೆ ಪಟ್ಟಂತ ತುಂಬಾ ಮಾಡಬೇಕು ಮಲೇಶ್ರೇಯದಲ್ಲಿ ಬರುತ್ತದೆ ಏನೆಂದರೆ ಬರುತ್ತದೆ ಏನೆಂದರೆ ಕಾಡುಗಿಡಗಿಡಗಳು ಬೆಳಿಗೆ ಬೇಕು ಅಂತ ಹೇಳಿದರೆ ಅಡಿಕೆ ತೋಟ ಬೆಳೆದಿದೆ ಸರ್ಕಾರದಿಂದ ಅಂತ ಗೊತ್ತಾಯಿತ್ಸೆ ಅಂತ ಕೂಡ ನಾನು ಬೆಳಿಬೇಕು ಬರಿಯಲ್ ಹೇಳಿದ್ದಾರೆ ರನ್ನು ಬೆಳೆಯುವ ಬೆಳೆಸಿಕೊಂಡು ಬೆಳೆಯುವ ಬೆಳೆಯುವ ಬೆಳೆಸಬೇಕು ಅದನ್ನು ಎಚ್ಚಿನಿದಾಗಿ ನಮ್ಮ ಕರ್ನಾಟಕದ ಶ್ರೀಗಿಂದವನ್ನು ಬೆಳೆಸಬೇಕು ಎಂದು ಅವರು ಪ್ರಬೇನಂದರ್ಶಿ ಗೌರವ ಸಲ್ಲಿಸಿದರು ಸಿಕ್ರೆಟ್ ನಾವಿಗೆ ಯಾವುದೇ ಕೆಲಸ ಮಾಡಬೇಕು ಮಾಡಬೇಕು ಅಂತ ಅನ್ಕೊಂಡು ಮಾಡೋದು ಕಷ್ಟ ಮತ್ತು ಸಕ್ಷ ಆಗುವುದು ತುಂಬಾ ಕಷ್ಟ ಯಾವುದೇ ಕೆಲಸವನ್ನು ಮಾಡಬೇಕಾದರೆ ಮಾಹಿತಿ ಪಡುವುದು ಮಾಹಿತಿ ಸಂಗ್ರಹ ಮುಖ್ಯ ಅಂತಾರಾಷ್ಟ್ರೀಯ ಮಾಹಿತಿ ಪಡೆದುಕೊಳ್ಳುವುದು ಮಾಹಿತಿ ಸಂಗ್ರಹ ಮುಖ್ಯ ಅಂತಾರಾಷ್ಟ್ರೀಯ ಕಲ್ಪಿಸಬೇಕಾದರೆ ಇಂದು ಸಹ ಗುರು ಬೆಳಕು ಕ್ಕೂ ಮುಂದೆ ಗುರಿ ಇರಬೇಕು ಅಂತ ಹೇಳ್ತಾರೆ ಅರಿತಿಯಾಗಿ ನಾವು ಹಿಂದಿನಿಂದ ಕಾಲದಲ್ಲಿ ಯಾರದು ಇರಲಿಲ್ಲ ಇವಾಕ್ಬೇಕಾದಷ್ಟು ಆದಕ್ಕೆ ಬೆಳೆದಿರಾನ್ ತರೈತೆಗಳು ಉದಾಹರಣೆಗೆ ನಮ್ಮ ಫೀಡಂ ಆಪ್ ಇದೆ ಆದರೆ ನಾವು ಅದನ್ನು ಪೂರ್ತಿ ಸಂಪೂರ್ಣವಾಗಿ ಮೈತ್ರಿ ಸಿಗುತ್ತೆ ಎಂದು ಅದರಿಂದ ಕಾಯಿಲೆಗಳು ಮಂದರೆ ಅವರು ಅವರಿಗೆ ಸಂಪೂರ್ಣವಾಗಿ ಮಾಡಿದೆ ನಗರದಲ್ಲಿ ನಾವು ಕಂಡು ಬಂದಿದ್ದು ಸಾವಿರ ಕೋಟಿ ರೂಪಾಯಿ ಮಾತ್ರ ಮಾಡಿದ್ದು ಸಾವಿರ ಕೋಟಿ ರೂಪಾಯಿ ಮೌಲ್ಯದ ಮೂರು ನೂರ ಮೂವತ್ತ್’ಐದು ಕೋಟಿ ರೂಪಾಯಿ ಮೌಲ್ಯದ ಮೂರು ನೂರ ಎಂಬತ್ತು ಕೋಟಿ ರೂಪಾಯಿ ಮೌಲ್ಯದ ಮುಂದಿನ ಕೇಂದ್ರ ಸರ್ಕಾರದ ಮುಖ್ಯಮಂತ್ರಿ ಬಿ ನಗರದಲ್ಲಿ ನಿನ್ನೆ ಸುದ್ದಿಗಾರರೊಂದಿಗೆ ಮಾತನಾಡಿದ ಅವರು ಮಾತನಾಡಿದರು ಪ್ರೆಸೆಂಟ್ ಹಾಗೂ ಅದರಿಂದ ಟ್ಯಾಕ್ಸೆ ನಮಗೆ ಯಾರು ಪರ್ಚೋದ್ಯಮ ಮಾಡುತ್ತಿರುವ ಪರ್ಸೆಂಟ್ ಸೆಂಟ್ ಸೆಂಟ್ ಸೆಂಟ್ ಸೆಂಟ್ ಸೆಂಟ್ ಸೆಂಟ್ ಸೆಂಟ್ ಸೆಂಟ್ ಸೆಂಟ್ ಸೆಂಟ್ ಸೆಂಟ್ ಸೆಂಟ್ ಸೆಂಟ್ ಸೆಂಟ್ ಸೆಂಟ್ ಸೆಂಟ್ ಸೆಂಟ್ ಸೆಂಟ್ ಸೆಂಟ್ ಸೆಂಟ್ ಸೆಂಟ್ ಸೆಂಟ್ ಸೆಂಟ್ ಸೆಂಟ್ ಸೆಂಟ್ ಸರ್ಕಾರಕ್ಕೆ ಏರಿದೆ ಕೋಟಿ ನನಗೆ ಆದಾಯ ಬಂದರೆ ಐವತ್ತೈದು ಲಕ್ಷ ಸರ್ಕಾರಕ್ಕೆ ಕೊಟ್ಟಂತಾಗುತ್ತದೆ ಅದಕ್ಕಿಂತ ಹೆಚ್ಚಿನಿದಾಗಿ ಗಿಡಮರ ಬೆಳೆಯದು ತುಂಬಾ ಕಷ್ಟ ಅದನ್ನು ಬೆಳೆಯದಿನ ನಾವು ಪರಿಸರಕ್ಕೊಂದು ಕೊಡಗೆ ಕೊಟ್ಟಂತೆ ಮರಗಳು ಬೆಳೆಯದನ್ನು ಗಾಳಿ ಜಾಗತಿಕ ಅದಕ್ಕಿಂತ ಹಾಕಲಾಗುತ್ತಿದೆ ಕೊಟ್ಟಾಗುತ್ತಿದೆ ಸಪೇಟಾ ಪ್ರಯಾಣಿಗಳಿಗೆ ಆಶ್ರಯ ಕೊಡದೆ ಕೆಲವು ಮನೆಕಟ್ಟಿಲ್ಲ ಗುಡಿಕೊಡಲ್ಲ ಬಗ್ಗೆ ಮಳೆಯಾದರಿಂದ ಪಕ್ಷಿಗಳಿಗೆ ಗುಡ್ಡದಕ್ಕೆ ಆಹಾರ ನೋಡಿಕೊಂಡು ನಮಗೆ ಆದಾಯಕ್ಕಿಂತ ಹೆಚ್ಚಿನ ನಾವು ನೋಡಿಕೊಳ್ಳಲಾಗುತ್ತಿದೆ ಇದರಲ್ಲಿ ಅತಿ ಮೆಲ್ಲಾ ಅವರು ಮಾತನಾಡಿದ ಅವರು ಮಾತನಾಡಿದರು ಇಂದಿನಿಂದ ಕೊರೋನಾ ಸೋಂಕಿನಿಂದ ಸಾವಿರದ ಕೋವಿಡ್ ಸೋಂಕಿನಿಂದ ಸಾವಿರದ ಕೋವಿಡ್ ಸೋಂಕಿನಿಂದ ಸಾವಿರದ ಕೋವಿಡ್ ಸೋಂಕಿನಿಂದ ಸಾವಿರದ ಕೋವಿಡ್ ಸೋಂಕಿನಿಂದ ಸಾವಿರದ ಕೋವಿಡ್ ಸೋಂಕಿನಿಂದ ಸಾವಿರದ ಕೋವಿಡ್ ಸೋಂಕಿನಿಂದ ಸಾವಿರದ ಕೋವಿಡ್ ಸೋಂಕಿತರು ಸಾವಿರದ ಕೋವಿಡ್ ಸೋಂಕಿತರು ಸಾವಿರದ ಕೋವಿಡ್ ಸೋಂಕಿತೆಯನ್ನು ಸಾವಿರದಿಂದ ಕೋಟಿ ಕೇರಳದಲ್ಲಿ ನಿನ್ನೆ ಸುದ್ದಿಗಾರರೊಂದಿಗೆ ಮಾತನಾಡಿದ ಅವರು ಕೇಂದ್ರ ಸರ್ಕಾರ ಅನುಮೋದನೆ ನೀಡಿದೆ ಧನವಾದಗಳು ಸಂಘ ಕೂಡ ಧನ್ಯವಾದ ಹಾಗೆ ನಮ್ಮ ಫ್ರಿಡಮ್ನಲ್ಲಿ ಏನು ಕೋರ್ಸ್ನ ತಗೊಂಡು ರೈತರು ಬೆಳೆದರೆ ಅವರು ಕೂಡ ತುಂಬಿದ್ದರು ನಿಮಗೆ ಮೂರು ಸಾವಿರ ರೂಪಾಯಿ ಸ್ಕಾಲರ್ಟ್ ಕೂಡ ಪರದ ಹೇಳಿದ್ದಲ್ಲಾಭಾಯಿದೆ ಅಲಾಭವನ್ನು ಪಡಬಹುದು\n",
      "\n",
      "File: SandalWoodNewsStories_249.txt\n",
      "Similarity Score: 0.9023423194885254\n",
      "Answer: ಏನೇಕಾದಲ್ಲಿ ಅರಣ್ಯ ಧಾಮ ಹತ್ತು ಸಾವಿರ ಹೆಕ್ಟೇರ್ ಪ್ರದೇಶ ವ್ಯಾಪ್ತಿಯಲ್ಲಿರುವ ಗಡಿಯಲ್ಲಿ ಶ್ರೀಗಾಂಧ ಸೇರಿ ಅನೇಕ ಮರಗಿಡಗಳಿವೆ, ಆದರೆ ಇಂಥ ಅಪರೂಪದ ಅರಣ್ಯದ ಮೇಲೆ ಮರಗಳ್ಳರ ಕಾಕದೃಷ್ಟಿ ಬಿದ್ದಿದೆ ಪರಿಣಾಮ ಜೋಗಿಮಟ್ಟಿ ಮತ್ತು ಜೋಗಿಮಟ್ಟಿ ಮತ್ತು ಜೋಗಿಮಟ್ಟಿಯ ತಪ್ಪಲಲ್ಲಿರುವ ಶ್ರೀಗಂಧ ಸೇರಿ ಅನೇಕ ಮರಗಿಡಗಳಿವೆ ಆದರೆ ಇಂತ ಅಪರೂಪದ ರಾಜಿನಗರದಲ್ಲಿ ನಿನ್ನೆ ಸುದ್ದಿಗಾರರೊಂದಿಗೆ ಮಾತನಾಡಿದ ಅವರು ಮಾತನಾಡಿದರು ಕೇರಳದಲ್ಲಿ ನಿನ್ನೆ ಸುದ್ದಿಗಾರರೊಂದಿಗೆ ಮಾತನಾಡಿದ ಅವರು ಜಿಲ್ಲೆಯ ಕೊರತೆಯಿಂದ ಮಾತ್ರ ಮಾಡಿಕೊಳ್ಳಲು ಸಾಧ್ಯವಿದೆ ಎಂದು ಅವರು ಹೇಳಿದರು ಕೆ ಅವರು ಇದಕ್ಕೆ ಕಡಿವಾಣ ಹಾಕಬೇಕಾಗಿದೆ ಇಲ್ಲ ಅಂದರೆ ಇತ್ತೀಚಿನ ದಿನಗಳಲ್ಲಿ ಏನು ನಾವು ಗಣಿಗಾರಿಕೆ ಮತ್ತು ಕಲ್ಲಾ ಮರಳನ್ನು ಕಡಿಯುವವರಿಂದ ಈಗಾಗಲೇ ವನ್ಯಸಂಪತ್ತು ನಾಶಹಕ್ತಿದೆ ನಗರದಲ್ಲಿ ನಿನ್ನೆ ಸುದ್ದಿಗಾರರೊಂದಿಗೆ ಮಾತನಾಡಿದ ಅವರು ಕೇಂದ್ರ ಸರ್ಕಾರದ ಮುಖ್ಯಮಂತ್ರಿ ಬಿ ಚಿಂಚಿಸಿದರೆ ಅತ್ಯಾಚಲಕ್ಕೆ ಒಟ್ಟಾರೆಯಾಗಿ ಕೋಟೆ ನಾಡು ಚಿತ್ರದುರ್ಗದ ಜೋಗಿ ಮಟ್ಟಿ ಅರಣ್ಯ ಮಾರ್ಗಗಳ ಕಳ್ಳಕಾಳು ಕಾರ್ಯಕ್ರಮಗಳನ್ನು ಕೇಳಬಹುದಾಗಿದೆ ಕೇರಳದಲ್ಲಿ ಕೊರೋನಾ ಸೋಂಕು ಪತ್ತೆ ಹಿನ್ನೆಲೆಯಲ್ಲಿ ಇದು ಸಾವಿರದ ಒಂದು ನೂರ ಹದಿನಾಲ್ಕು ಕೋಟಿ ರೂಪಾಯಿ ಮೌಲ್ಯದ ಒಂದು ನೂರ ಹದಿನಾಲ್ಕು ಕೋಟಿ ರೂಪಾಯಿ ಮೌಲ್ಯದ ಒಂದು ನೂರ ಹದಿನಾಲ್ಕು ಮಂದಿ ಸೋಂಕು ಪತ್ತೆ ಹದಿನಾಲ್ಕು ಕಡಿಮೆ ಮಾಡಲಾಗಿದೆ\n",
      "\n",
      "File: SandalWoodNewsStories_257.txt\n",
      "Similarity Score: 0.9076446890830994\n",
      "Answer: ಹಲವಿರುವ ಕಂಪೆನಿಗಳು ಸೇರಿದಂತೆ ಹಲವೆಡೆ ಮಾರ್ಗಸೂಚಿಗಳನ್ನು ಬಿಡುಗಡೆ ಮಾಡಿದರು ಕೇರಳದಲ್ಲಿ ಕೊರೋನಾ ಸೋಂಕು ಹರಡದಂತೆ ಸಾವಿರದ ಕೋಟಿ ರೂಪಾಯಿ ವೆಚ್ಚದಲ್ಲಿ ಕೇಂದ್ರ ಸರ್ಕಾರ ಕೈಗೊಂಡಿದ್ದು ಸಾವಿರದ ಕೋಟಿ ರೂಪಾಯಿ ವೆಚ್ಚದಲ್ಲಿ ಕೇಂದ್ರ ಸರ್ಕಾರ ಕೈಗೊಂಡಿದೆ ನಗರದಲ್ಲಿ ನಿನ್ನೆ ಸುದ್ದಿಗೋಷ್ಠಿಯಲ್ಲಿ ಮಾತನಾಡಿದ ಅವರು ಕೇಂದ್ರ ಸರ್ಕಾರ ಅನುಮೋದನೆ ನೀಡಿದ್ದಾರೆ\n",
      "\n",
      "File: SandalWoodNewsStories_278.txt\n",
      "Similarity Score: 0.886597216129303\n",
      "Answer: ನಾವು ಪ್ರತಿದಿನ ರಾಜ್ಯದ ನಾನಾ ಭಾಗಗಳ ಕೃಷಿ ಸಾಧಕರ ಯಶೋಗಾಥೆ ಮತ್ತು ಅವರ ಅನುಭವಗಳನ್ನ ಹೊತ್ತು ನಿಮ್ಮುಂದೆ ಬರ್ತಾ ಇದ್ದೇವೆ ಆದರೆ ಇವತ್ತು ವೊಬ್ಬ ವಿಭಿನ್ನ ಸಾಧಕರನ್ನ ಪರಿಚಯ ಮಾಡಿಕೊಡುತ್ತಿದ್ದೇವೆ ಹೌದು ಚಿನ್ನದ ನಾಡಿನ ಇವರು ಚಿನ್ನದಷ್ಟೇ ಬೆಲೆಬಾಳು ಬೆಳೆ ಬೆಳೆ ಬೆಲು ಹೊಸ ಭರವಸೆಯನ್ನು ಮೂಡಿಸಿದ್ದಾರೆ ಇತರ ರೈತರಿಗೆ ಪ್ರೇರಣೆ ನಗರದಲ್ಲಿ ಕೊರೋನಾ ಸೋಂಕು ನಿಯಿತರಿಕೆ ಕಾರ್ಯಕ್ರಮಗಳನ್ನು ಕೇಂದ್ರ ಸರ್ಕಾರ ಕೃಷಿ ಸಚಿವ ರಾಜನಾಥ್ ಸಿಂಗ್ ಅವರು ಮಾತನಾಡಿದರು ಸುತ್ತಮುತ್ತಲ ರೈತರ ಹುಬ್ಬೇರಿಸಿದ್ದಾರೆ ಲಕೃಷ್ಣ ಇಪ್ರೋನಿಂಗ್ ಯಾಕ್ ಮಾಡಿದ್ದೀವಿ ಎಂದರೆ ಇಜ್ಜಿರಾ ಸ್ವಲ್ಪ ಡೆವಲಪ್ಪಾಗಲಿ ಚಳಗರಿಯಿಂದ ಮಾತ್ರ ಮೇಲೆ ಮಾಡಿದೆ ರಲ್ಲಿ ನಿನ್ನೆ ಸಾರ್ವಜನಿಕರು ಸಮಾವೇಶದಲ್ಲಿ ನಿನ್ನೆ ಸರ್ಕಾರದ ಮುಂದೆ ಸಾರ್ವಜನಿಕರು ಸಹಕಾರಿ ಮತ್ತು ಸಹಕಾರಿ ಸಂಬಂಧಿಸಿದಂತೆ ಸರ್ಕಾರಿ ಸಹಕಾರಿ ಸಂಬಂಧಿಸಿದರು ಸಿರುವ ಮೂರು ನೂರ ಎಂಬತ್ತು ಮಂದಿ ಮೃತಪಟ್ಟಿದ್ದು ಸಾವಿರದ ಒಂದು ನೂರ ಹದಿನೈದು ರಿಂದ ಇಪ್ಪತ್ತು ವರ್ಷಗಳ ಕಾಲ ಪೋಷಣೆ ಮಾಡಿ ಬೆಳಸಿದ ಮರಗಳು ಇನ್ನೊಬ್ಬರ ಪಾಲಾದರೆ ರೈತ ಆರ್ಥಿಕವಾಗಿ ನಷ್ಟಕ್ಕೆ ಗುರಿಯಾಗಿದೆ ಅಲ್ಲಿ ಶ್ರಮ ಮತ್ತು ಸಮಯ ಕೂಡ ಹಾಳು ಆದ್ದರಿಂದ ಸರ್ಕಾರ ಶ್ರೀಗಂಧ ಮರಗಳ ರಕ್ಷಣೆಗೂ ಸೂಕ್ತ ವ್ಯವಸ್ಥೆ ಕಲ್ಪಿಸಬೇಕು ಅನ್ನುವುದು ಗೋಪಾಲಕೃಷ್ಣ ಅವರ ಅಭಿಪ್ರಾಯ ಆದರೆ ನಾವು ಆಕಿದ್ದೇವೆ ಪೆನ್ ಸಿಂಗ್ ಇನ್ ಸಿಂಗ್ ಆಕೆಯನ್ನು ಮಾಡಲಾಗಿದೆ ಆದಕ್ಕೆ ನಾವು ಸರ್ಕಾರಕ್ಕೆ ಹೇಳಿಕೊಂಡಿದ್ದೇವೆ ಪೆನ್ ಸಿಂಗ್ ಗೆ ನೀವು ಸಬ್ಸಿಡಿಕೊಳ್ಳಬೇಕು ಸಬ್ಸಿಡಿ ಕೊಟ್ಟರೆ ನಾವು ಏನೋ ಒಂದು ಸಾವಿರದ ಒಂದು ನೂರ ಒಂದು ವರ್ಷ ಒಂದು ಸಬ್ಬಿಸಬೇಕು ಎಂದು ಸಬ್ಬಿಸಿದರು ಇದು ಬೆಂಗಳೂರಲ್ಲಿ ಒಂದು ಪ್ಯಾಕ್ಟರಿ ಇದೆ ಅಲ್ಲಿ ಅಗ್ರ್ಯಾಮೆಂಟ್ ಮಾಡಿಕೊಂಡಿದ್ದರೆ ನಮಗೆ ಕೊಡಿ ನಮಗೆ ಪರಿಚಯ ಮಾಡಿಕೊಂಡಿಲ್ಲ ಸಿಗಂಧನದಲ್ಲಿ ನಿನ್ನೆ ಸುದ್ದಿಗೋಷ್ಟಿಯಲ್ಲಿ ಮಾತನಾಡಿದ ಅವರು ಮಾತನಾಡಿದರು ಕೇರಳದಲ್ಲಿ ಕೊರೋನಾ ಸೋಂಕು ನಿಯಂತ್ರಣಕ್ಕೆ ಬರುವ ಸಾಧ್ಯತೆ ಇದು ನಿರ್ಧಾರ ಕೈಗೊಳ್ಳಲಾಗಿದೆ ರಾಜ್ಯದಲ್ಲಿ ನಿನ್ನೆ ಸುದ್ದಿಗಾರರೊಂದಿಗೆ ಮಾತನಾಡಿದ ಅವರು ಮಾತನಾಡಿದರು ಪೆ ತನ್ನ ಸುವಾಸಿಲಿಯನ್ನು ಬೀಡ್ತಾ ಇದೆ ಇಂದು ತೋಟಗಾರಿಕೆ ಮತ್ತು ಅರಣ್ಯ ಇಲಾಖೆ ಕೂಡ ಶ್ರೀಗಂಧದ ಕೃಷಿಗೆ ಪ್ರಾರ್ಭದಲ್ಲಿ ಎಲ್ಲ ರೀತಿಯ ಸಪೋಟನ್ನ ರೈತರಿಗೆ ನೀಡ್ತಾ ಇದೆ ನಂಬಲು ಕೂಡ ಹಟ್ಟಿಕಲ್ಲಿ ಪಾಟ್ಟಿಯಿಂದ ನ್ಯಾಷನಲ್ ಆಯುಷ್ ಮಿಷನ್ ಅಂತಾವನ್ ಪ್ರೋಮೋರಾ ಮಲ್ಲಿದ್ದು ನ್ನು ನಾವು ಪ್ರಮೋಟ್ ಮಾಡುತ್ತಿದ್ದು ಇದು ಬೆಳೆದ ಬೆಳೆದ ಕೊಡುಗೆ ಪ್ರಮೋಟ ಮಾಡುತ್ತಿದ್ದೇನೆ ಎಂದು ಅವರು ಇಲ್ಲಿದ್ದಾರೆ ಕೇರಳದಲ್ಲಿ ಕೊರೋನಾ ಸೋಂಕು ಹರಡಿರುವ ಸಾಧ್ಯತೆ ಇದೆ ಸುರೆಕ್ ಗ್ನಯಿಸ್ಟ್ ಫಾರಂಸ್ಸಿನ್ ಮಾತ್ರ ರೈತರು ಇದನ್ನು ತಗೆದುಕೊಳ್ಳಬೇಕಾಗುತ್ತದೆ ಸಸ್ ಅಪ್ಲಿಕೇಶನ್ ಅಕ್ಕೊಂಡು ಅವರು ಜಿಲ್ಲೆಯಲ್ಲಿ ಅವರು ಜಿಲ್ಲೆಯಲ್ಲಿ ಅವರು ಜಿಲ್ಲೆಯಲ್ಲಿ ಜಿಲ್ಲೆಯಲ್ಲಿ ಜಿಲ್ಲೆಯಲ್ಲಿ ಜಿಲ್ಲೆಯಲ್ಲಿ ಜಿಲ್ಲೆಯ ಸಿಬ್ಬಂದಿಗೆ ಸಿಬ್ಬಂದಿಗೆ ಸಿಬ್ಬಂದಿಗೆ ಸಿಬ್ಬಂದಿಗೆ ಸಿಬ್ಬಂದಿಗೆ ಸಿಬ್ಬಂದಿಗೆ ಸಿಬ್ಬಂದಿಗೆ ಸಿಬ್ಬಂದಿಗೆ ಸಿಬ್ಬಂದಿಗೆ ಸಿಬ್ಬಂದಿಗೆ ಸರ್ಕಾರ ಕೈಗೊಳ್ಳಲಾಗಿದೆ ದೇವರು ಸಾವಿರದ ಮೂರು ನೂರ ಮೂವತ್ತ್’ನಾಲ್ಕು ಕೋಟಿ ರೂಪಾಯಿ ಮೀಸಲಿರಿಸಿದ್ದಾರೆ ಸರ್ಕಾರ ಗುರುತಿಸಿರುವ ಖಾಸಗಿ ಕಂಪನಿಗಳಿಗೆ ರೈತರು ಮಾರಾಟ ಮಾಡಬಹುದು ಅಂದಾರೆ ಅರಣ್ಯ ಇಲಾಖೆ ಅಧಿಕಾರಿ ನಮ್ಮ ಇಲಾಖೆ ವತಿಯಿಂದ ಈ ಸರಿ ಪ್ರಾದೇಶಿಕ ವಿಭಾಗ ಆಯ್ತು ಸಾಮಾಜಿಕ ಕಾರಣ ವಿಭಾಗದಲ್ಲಿ ಲಕ್ಷಕ್ಕೂ ಸಹ ನೀಡಿ ನೌಕರಣ ಸೊಸಿಗರಣ ಬೆಳೆಸಿದ್ದೇವೆ ಎಂದು ಪ್ರಸ್ತುತ ಸಾಲಿನಲ್ಲಿ ಪ್ರಸ್ತುತ ಅವರು ತಂಕನು ಸಾರ್ಪಿಸಿದರು ಕಂಪನಿಗಳು ಮತ್ತು ಸಾಮಾಜಿಕ ವಿಧಾನಸಭಾ ಕ್ಷೇತ್ರದಲ್ಲಿ ಮಾತನಾಡಿದ ಅವರು ಮಾತನಾಡಿದರು ಮಾರ್ಕ್ ಅವರು ಮಾತನಾಡಿದ ಅವರು ಮಾತನಾಡಿದರು ನಗರದಲ್ಲಿ ನಿನ್ನೆ ಸುದ್ದಿಗಾರರೊಂದಿಗೆ ಮಾತನಾಡಿದ ಅವರು ಕೇಂದ್ರ ಸರ್ಕಾರ ಅನುಮೋದಿಸಿದ್ದರು ದರಲಿರುವ ಕೋಟಿ ರೂಪಾಯಿ ಮೊತ್ತದ ಹಿನ್ನೆಲೆಯಲ್ಲಿ ಕೇಂದ್ರ ಸರ್ಕಾರ ಕೇಂದ್ರ ಸರ್ಕಾರ ಕೇಂದ್ರ ಸರ್ಕಾರ ಕೇಂದ್ರ ಸರ್ಕಾರ ಕೈಗೊಂಡಿದೆ ರಲ್ಲಿ ನಿನ್ನೆ ನಡೆದ ಸಮಸ್ಯೆ ಇಲ್ಲ ರಾಜ್ಯದ ಹಲವಾರು ರಾಜ್ಯಗಳು ಬೆಳೆಯ ಬೆಳೆಯ ಬೇಸಾಯಕ್ಕೆ ಸರ್ಕಾರ ಕೂಡ ಪ್ರೋತ್ಸಾಹ ನೀಡುತ್ತಿದ್ದೆ ಇದಕ್ಕೆ ಮಾರುಕಟ್ಟೆಯ ಸಮಸ್ಯೆ ಇಲ್ಲ ದಲ್ಲಾಳಿಗಳ ಕಾಟವಿಲ್ಲ ಮತ್ತು ಬೆಳೆಯ ಏರಳಿತವಂತೆ ಇಲ್ಲ ಹೀಗಾಗಿ ರಾಜ್ಯದ ಹಲವಾರು ರೈತರು ಈ ಬೆಳೆಯ ಬೆಳೆಯ ಸಮಸ್ಯೆ ಇಲ್ಲ ರಾಜ್ಯದ ಹಲವಾರು ರೈತರು ಕೇರಳದಲ್ಲಿ ಕೊರೋನಾ ಸೋಂಕು ಹರಡಿರುವ ಹಿನ್ನೆಲೆಯಲ್ಲಿ ಕೇಂದ್ರ ಸರ್ಕಾರ ಕೈಗೊಂಡಿದ್ದು ಸರ್ಕಾರ ಕೈಗೊಂಡಿದೆ ಕೇರಳದಲ್ಲಿ ನಿನ್ನೆ ನಿನ್ನೆ ನಡೆದ ಸಭೆಯಲ್ಲಿ ಮುಂದಿನ ಕಾರ್ಯಕ್ರಮಗಳು ಮತ್ತು ಕೇಂದ್ರಾಡಳಿತ ಪ್ರದೇಶಗಳಲ್ಲಿ ಕೇಂದ್ರ ಸರ್ಕಾರದ ಕೃಷಿ ಸಚಿವರು ಮಾತನಾಡಿದರು ಕೇರಳದಲ್ಲಿ ಕೊರೋನಾ ಸೋಂಕು ಹರಡಿರುವ ಸಾಧ್ಯತೆ ಇದೆ ತಾಳೆ ಬೆಳೆ ನಿಲ್ಲಸ ನೀರಾವರಿ ನಾನು ಡ್ರಿಪ್ಸಿಸ್ಟ್ ಮಾಡಿಕೊಳ್ಳದೆ ಡ್ರಿಪ್ ಸಿಸ್ಟರ್ ಸಿಟಿ ಸರಿಸಿಕೆ ಅಂದರೆ ಗಿಡಿಸುತ್ತಾ ಮೂರಡಿ ಮೂರನೇ ಮೂರನೇ ಅಂತರದಲ್ಲಿ ರಾಜ್ಯದಲ್ಲಿ ಮೆರವಣಿಸಿದ ಅದಕ್ಕೆ ಸಾರ್ವಜನಿಕ ರಂಚಕ ಮತ್ತು ಪಟೇಲ್ ಸಿಟಿಸಿದ್ದರು ದರಲಿರುವ ಕೋವಿಡ್ ಸೋಂಕು ನಿಯಂತ್ರಣ ಕುಟುಂಬ ಕಲ್ಯಾಣ ಇಲಾಖೆ ತಿಳಿಸಿದೆ ರಂದೆ ನಾವು ಸಾವಿರದ ಮೂರು ನೂರ ಹದಿನಾರು ಮೂರು ನೂರ ಹತ್ತು ಮೂರು ನೂರ ಹತ್ತು ಮೂರು ನೂರ ಹತ್ತು ಮೂರು ನೂರ ಹತ್ತು ಮೂರು ನೂರ ಹತ್ತು ಮೂರು ನೂರ ಹತ್ತು ಮೂರು ನೂರ ಹತ್ತು ಮೂರು ನೂರ ಹತ್ತು ಮೂರು ನೂರ ಹತ್ತು ಮೂರು ನೂರ ಹತ್ತು ಮೂರು ನೂರ ಹತ್ತು ಮೂರು ನೂರ ಹತ್ತು ಮೂರು ನೂರ ಹತ್ತು ಮೂರು ನೂರ ಹತ್ತು ಮೂರು ನೂರ ಹತ್ತು ಹತ್ತು ಹತ್ತು ಹತ್ತಿದ್ದರು ನಗರದಲ್ಲಿ ನಿನ್ನೆ ಸುದ್ದಿಗೋಷ್ಠಿಯಲ್ಲಿ ಮಾತನಾಡಿದ ಅವರು ಕೇಂದ್ರ ಸರ್ಕಾರ ಕೈಗೊಂಡಿದ್ದು ಸರ್ಕಾರ ಕಾರ್ಯಕ್ರಮಗಳನ್ನು ಕೈಗೊಳ್ಳಲಾಗಿದೆ ಎಂದು ಅವರು ತಿಳಿಸಿದರು ಧರಿಸಿ ತಾಳೇ ಕೃಷಿ ಕೇಂದ್ರ ಸರ್ಕಾರದ ಯೋಜನೆಯಾಗಿದ್ದು ಇದನ್ನ ತೋಟಗಾರಿಕಾ ಇಲಾಖೆಯ ಮೂಲಕ ಅನುಷ್ಠಾನಗೊಳಿಸಲಾಗಿದೆ ನಿಗದಿ ಮಾಡಿದ ಬೆಲೆಗೆ ಕಂಪನಿಯೇ ಕೊಳ್ಳುವುದರಿಂದ ಮಾರುಕಟ್ಟೆಯ ತೊಂದರೆಯಿಲ್ಲ ಪ್ರಾರಂಭದಲ್ಲಿ ಸಸಿಗಳಿಗೆ ಹಾಗೂ ಸುಮಾರು ಆರು ವರ್ಷಗಳ ಕಾಲ ಗೊಬ್ಬರವನ್ನು ಕಂಪನಿಯೇ ನೀಡೋದ್ರಿಂದ ರೈತನಿಗೆ ಆರ್ಥಿಕ ಹೊರಹೊರಬರಿದು ಹಲವು ರೈತರ ಅಭಿಪ್ರಾಯ ಒಟ್ಟಾರೆ ಕಳೆದ ಆರು ವರ್ಷದಿಂದ ತಾಳೆ ಕೃಷಿಯಲ್ಲಿ ತೊಡಗಿದೆ ಕೇರಳದಲ್ಲಿ ಕೊರೋನಾ ಸೋಂಕು ಹರಡದಂತೆ ಸಾವಿರದ ಕೋವಿಡ್ ಸೋಂಕು ನಿಯಂತ್ರಣ ಕುರಿತು ಸಾವಿರದ ಕೋಟಿ ರೂಪಾಯಿ ಮೌಲ್ಯದ ಮೂರು ನೂರ ಮೂವತ್ತ್’ಐದು ಕೋಟಿ ರೂಪಾಯಿ ಮೌಲ್ಯದ ಒಂದು ಸಾವಿರದ ಒಂದು ನೂರ ಹದಿನಾಲ್ಕು ಕೋಟಿ ರೂಪಾಯಿ ಮೌಲ್ಯದ ಒಂದು ನೂರ ಹದಿನಾಲ್ಕು ಕೋಟಿ ರೂಪಾಯಿ ಮೌಲ್ಯದ ಒಂದು ನೂರ ಹದಿನಾಲ್ಕು ಕೋಟಿ ರೂಪಾಯಿಯಲ್ಲಿ ನಾಳೆ ಮತ್ತೆ ಭ ನಗರದಲ್ಲಿ ನಿನ್ನೆ ಸುದ್ದಿಗೋಷ್ಠಿಯಲ್ಲಿ ಮಾತನಾಡಿದ ಅವರು ಕೇಂದ್ರ ಸರ್ಕಾರ ಅನುಮೋದನೆ ನೀಡಿದ್ದಾರೆ\n",
      "\n",
      "File: SandalWoodNewsStories_279.txt\n",
      "Similarity Score: 0.8866921663284302\n",
      "Answer: ಇಲಿಲ್ಲಿ ಟ್ರ್ಯಾಪ್ಸ್ ರಿಮೀಣಿಂಗ್ ಇಂದರೆ ನಂತರ ಕಡಿಮೆ ಇಲ್ಲಿ ಅರಿಯಲ್ಲಿ ಅರಿಯಲ್ಲಿ ತೊಟ್ಟಿಲ್ಲ ಬಂದು ಇಲ್ಲ ಎಲಿಬಿಯೇ ಬೋನಿಗೆ ಸಿಸ್ ಕಾರ್ಡ್ರಗಳಲ್ಲಿ ಆಮೇಲೆ ಇಲ್ಲಿ ಕೂಡ ನು ಯಾವುದೇ ಒಳಗಡೆ ಕಲ್ಯುವೇಷನ್ ಸ್ವಾದು ಇದು ಯಾವುದೇ ಇರಲಿಲ್ಲ ನಮಗೆ ಇಲ್ಲಿಯಲ್ಲಿ ನಿಲ್ಲಿಯಲ್ಲಿ ನಮ್ಮ ಕಾಣಬಹುದು ಹಿಂಗೆ ಇದು ಒಂದು ಬಿಸಿಲಿನ ಕಾಡಿಕಟ್ಟು ಬದುಕನ್ನು ಅನ್ನೋ ಭಕ್ತಿಯನ್ನು ಬರೆದು ನಾರಿನಲ್ಲಿ ಕಾಡಿಕೊಟ್ಟು ಬೇಕು ದರಗಿರಲಿರುವ ಕಾರ್ಯಕ್ರಮದಲ್ಲಿ ನಿನ್ನೆ ಸುದ್ದಿಗೋಷ್ಟಿಯಲ್ಲಿ ಮಾತನಾಡಿದ ಅವರು ಕೋಟಿ ರೂಪಾಯಿ ವೆಚ್ಚದಲ್ಲಿ ಕಾರ್ಯಕ್ರಮಗಳನ್ನು ಕೈಗೊಳ್ಳಲಾಗುವುದು ಎಂದು ಕಾರ್ಯಕ್ರಮಗಳು ಸಾಧ್ಯವಾಗಿದೆ ಆದರೆ ನಾವೇರಿಕಲ್ಲ ಒಂದು ಹೆಚ್ಚು ಕಂದಿರುವ ಹತ್ತು ಪಿಎಚ್ಚಿಗೆ ಮಾಡುವಷ್ಟು ಶಿಲಾನುಭವಿಸಿದ್ದರು ನಂಬರ್ ಆಗಿದೆ ಸುಮಾರು ಹತ್ತು ಫೀಟಡಿ ಸಿ ತೂಕಬಿದ್ದರೆ ಇಂಗೆ ನೋಡ್ತಾ ಇರ್ತಿವಿ ಇಲ್ಲಿಯಾ ಟ್ರ್ಯಾಪ್ಸಿಸಿದ್ದ ಕೇಜಿ ತೂಕದಲ್ಲಿ ಕಾರ್ಯಕ್ರಮಗಳನ್ನು ಕಾರ್ಯಕ್ರಮಗಳನ್ನು ಬೆಲೆ ನಿಟ್ಟಿನಿಯಲ್ಲಿ ನಿರಂತರವಾಗಿ ಮಾಡಿಕೊಳ್ಳಲಾಗುತ್ತಿದೆ ಸಿಕ್ಕಿದ್ದರೆ ಸರಿಯಲ್ಲ ಎಂದು ಸಚಿವರು ತಿಳಿಸಿದರು ಇಂದಿನಿಂದ ಹತ್ತು ಸಾವಿರ ಕೋಟಿ ರೂಪಾಯಿ ಮಾತ್ರ ಸಂಪರ್ಕಿಸಿದ್ದರು ಸಿಕ್ಕಿದ್ದರು ಎಂದು ಸಿಬ್ಬಂದಿಯಲ್ಲಿ ನಿನ್ನೆ ಸೆಕೆಂಡ್ಸ್ ಸೆಕೆಂಡ್ಸ್ ಸೆಕೆಂಡ್ಸ್ ಸೆಕೆಂಡ್ಸ್ ಸೆಕೆಂಡ್ಸ್ ಆರೋಪಿ ಮೀಸಲಿಡಿಸಿದ್ದರು ಇನ್ಸ್ಟ್ರಾಟ್ಟ್ ಫಾರ್ಮಶನ್ ಫೈನಲ್ ಸಿಕ್ಕಿದ್ದರೆ ಸರ್ಕಾರಿ ಸರ್ಕಾರಿ ಸಮಾಜದ ಸರ್ಕಾರಿ ಸಮಾಜದ ಸರ್ಕಾರಿ ಸಮಾಜದ ಸರ್ಕಾರಕ್ಕೆ ಸಹಕಾರಿ ಸಂಬಂಧಿಸಿದಂತೆ ಸರ್ಕಾರಿ ಸರ್ಕಾರಿ ಸರ್ಕಾರಿ ಸರ್ಕಾರಿ ಸರ್ಕಾರಿ ಸರ್ಕಾರಿ ಸರ್ಕಾರಿ ಸರ್ಕಾರಿ ಸರ್ಕಾರಿ ಸರ್ಕಾರಿ ಸರ್ಕಾರಿ ಸರ್ಕಾರಿ ಸರ್ಕಾರಿ ಸರ್ಕಾರಿ ಸರ್ಕಾರಿ ಸರ್ಕಾರಿ ಸರ್ಕಾರಿ ಸರ್ಕಾರಿ ಸರ್ಕಾರಿ ಸರ್ಕಾರಿ ಸರ್ಕಾರಿ ಸರ್ಕೆ ಕಂಡ ಮಾರುಕಟ್ಟೆಯಲ್ಲಿ ಬೆಳ್ಳಿಕೆ ಮತ್ತು ಅದನ್ನೇ ಮರಕ್ಕೆ ಮಾಡಲಿಕ್ಕೆ ಅವಕಾಶ ಇರಲಿಲ್ಲ ಮಾರ್ಕಟ್ಟೆಯಲ್ಲಿ ಮಾಡಬೇಕು ಏನಂತ ಯುತ್ತಿನ ಬೆಳಗಾವಿಗೆ ಸ್ಪರ್ಧಾತ್ಮಕ ಬೆಲೆ ಬೇಕು ಕೇರಳದಲ್ಲಿ ನಿನ್ನೆ ಸಂಜೆ ನಾಲ್ಕು ಗಂಟೆಗೆ ಮುಂದೆ ಸೇರಿದಂತೆ ಹಲವು ಕಡೆ ಮಾಡಿದರು ಅಲ್ಲಿ ವೈಜ್ಞಾನಿಕ ಬೆಲೆ ನಿರೀಕ್ಷೆ ಮಾಡಲಾಗಿಲ್ಲ ಸಿಗಲಿಲ್ಲ ಕುಮಾರ್ ದರಗಿರಲಿರುವ ಸರ್ಕಾರಿ ಸಮಾಜದ ಸರ್ಕಾರದ ಮುಖ್ಯಮಂತ್ರಿ ಅವರು ಸಮಾರಂಭದಲ್ಲಿ ಸರ್ಕಾರಿ ಸಹಕಾರ ನೀಡಬೇಕೆಂದು ಸರ್ಕಾರ ಸಮಾವೇಶದಲ್ಲಿ ಸರ್ಕಾರದ ಸರ್ಕಾರದ ಸರ್ಕಾರದ ಮುಂದಿಲ್ಲ ಎಂದು ಸರ್ಕಾರದ ಮೂಲಕ ಸರ್ಕಾರದ ಮುಖ್ಯಮಂತ್ರಿ ಇರಬಹುದು ಬೇರೆ ಬೇರೆ ಇವೆ ಇವೆ ಎಂದು ಸರ್ಕಾರದಲ್ಲಿ ಸರ್ಕಾರದಲ್ಲಿ ಸರ್ಕಾರದಲ್ಲಿ ಸರ್ಕಾರದಲ್ಲಿ ಸರ್ಕಾರಿ ಆಚ� ಸಿಯಿರಿ ಜಿಲ್ಲೆಯಲ್ಲಿ ಸಕ್ರಿಯ ಪ್ಲೇಯರ್ ಸಿದ್ದರಿಯಾಗಿದ್ದರು ಪರಿಚಿತ ಪ್ರೊಸೆಸ್ ಮಾಡಕೆ ಇದು ಏನೋ ಒಂದು ಸಾವಿರದ ಅಥವಾ ಇವತ್ತು ರೈತನ್ನು ಪರಿಸ್ಥಿತಿಯಲ್ಲ ನಮಗೆ ನಾನು ಮೌಲ್ಯದ ನನ್ನ ಸಾಬೂನುಗಳು ಸಾಗುತ್ತವೆ ಆಗಿಲ್ಲ ಬಟ್ಟೆ ಮೇಕ್ ಇನ್ ಇಂಡಿ ಅಂತ ದೊಡ್ಡವರ್ಧನೆ ಮಾಡುತ್ತಾರೆ ನನ್ನೊಳಿಸಿದ್ದೇನೆ ಕೆ ಮಾಡಿಕೊಂಡರೆ ನಂತಹ ಒಂದು ವಿನಂತಿ ಇದು ಸಕಷ್ಟಿಯು ಹತ್ತು ಚರ್ಚೆ ಕೂಡ ಆಗಿದೆ ಸರ್ಕಾರದ ಮಾಡಿದ್ದಲ್ಲಿ ಭೌಷಾ ಮುಂದಿನ ಕೆಲವೇ ದಿನಗಳಲ್ಲಿ ಅಯ್ದು ಆಕಾಶ ಮಾಡಿಕೊಡಬಹುದಾದಂತಹ ಕೊಡಬಹುದಾದ ಅಂತಾರಾಷ್ಟ್ರೀಯ ಕೊಡಬಹುದಾದ ಅಂತಾರಾಷ್ಟ್ರೀಯ ಮಾಡಬೇಕು ಕಂದರೆ ಕೆಎಸ್ಡಿಯಲ್ಲಿ ಒಂದು ಅರ್ಜಿಯಲ್ಲಿ ಮತ್ತು ಅರೆ ನೀಲಾಕ್ಕೆ ಮುಂದಿನ ಮಾಡಬೇಕು ಗಳನ್ನು ಎಣಿಕೆ ತುಂಬಲಿ ಇದು ದುಪ್ಪಂಚಿನ ಮಾಡುತ್ತಾರೆ ಸಂತಾದ ನಮಗೆ ಇದೆ ಮಂಡ್ಯ ಮಾತಾಡಿ ದೇವೇಂದ್ರ ಹೇಳಿಕೆ ನೀಡಿದ್ದಾರೆ ಮಾಡಿ ಬೆಲ್ ಆಯ್ಕೆ ಅನ್ನು ಕ್ಲಿಕ್ ಮಾಡಿ ಕೆಜಿಸ್ ಸಿಬಿಐ ಸಿಬಿಐ ಸಿಬಿಐ ಸಿಬಿಐ ಸಿಬಿಐ ಸಿಬಿಐ ಸಿಬಿಐ ಸಿಬಿಐ ಸಿಬಿಐ ಸಿಬಿಐ ಸಿಬಿಐ ಸಿಬಿಐ ಸಿಬಿಐ ಸಿಬಿಐ ಸಿಬಿಐ ಸಿಬಿಐ ಸಿಬಿಐ ಸಿಬಿಐ ಸಿಬಿಐ ಸಿಬಿಐ ಸಿಬಿಐ ಸಿಬಿಐ ಸಿಬಿಐ ಸಿಬಿಐ ಸಿಬಿಐ ಸಿಬಿಐ ಸಿಬಿಐ ಸಿಬಿಐ ಸಿಬಿಐ ಸಿಬಿಐ ಸಿಬಿಐ ಸಿಬಿಐ ಸಿಬಿಐ ಸಿಬಿಐ ಸಿಬಿಐ ಸಿಬಿಐ ಸಿಬಿಐ ಸಿಬಿಐ ಸಿಬಿಐ ಸಿಬಿಐ ಸಿಬಿಐ ಸಿಬಿಐ ಸಿಬಿಐ ಸ�\n",
      "\n",
      "File: SandalWoodNewsStories_280.txt\n",
      "Similarity Score: 0.8600422143936157\n",
      "Answer: ನಮ್ಮನ್ನು ಪ್ರೋತ್ಸಾಹಿಸಲು ನಮ್ಮ ಚಾನಲ್ಗೆ ಸಬ್ಸ್ಕರ್ ಏನ್ ಮಾಡಿ ಅಲೈಖ್ ಪಾಡಿ ಸುಮತು ಸೇರ್ಮಾ ಮಸ್ಕಾದ ಅಂತರ್ಯಾಯ ಸ್ವಾಮಿ ನೌಕರ್ನಾದಾದ್ಯಂತ ನೇಕ್ ಕೆರೆಯ ಸರಿಗನ್ನು ಹುಟ್ಟಿದ್ದೇವೆ ಮಾಗನಿಕೊಟ್ಟಿದ್ದೇವೆ ರೈತರಿಗೆ ಸಾಕಷ್ಟು ಕೂಡ ಮಾರ್ಗದರ್ಶನ ಕೊಡಕೊಟ್ಟಿದ್ದೇವೆ ಈ ಒಂದು ದೇಶದಲ್ಲಿ ಸಾಕಷ್ಟು ಜನವಯತ್ತರು ಶರಗಿಯಂತ ವೃದ್ಧವನ್ನು ತೃತ ಇಂದಿನಿಂದ ಕೊರೋನಾ ವೈರಾಣು ಸೋಂಕು ಹರಡಿರುವ ಸಾಧ್ಯತೆ ಇದೆ ಕೊಳ್ಳಲು ಚೆನ್ನಾಗಿದೆ ಸರ್ಕಾರಿ ಸರ್ಕಾರಿ ಸರ್ಕಾರಿ ಸರ್ಕಾರಿ ಸರ್ಕಾರಿ ಸರ್ಕಾರಿ ಸರ್ಕಾರಿ ಸರ್ಕಾರಿ ಸರ್ಕಾರಿ ಸರ್ಕಾರಿ ಸರ್ಕಾರಿ ಸರ್ಕಾರಿ ಸರ್ಕಾರಿ ಸರ್ಕಾರಿ ಸರ್ಕಾರಿ ಸರ್ಕಾರಿ ಸರ್ಕಾರಿ ಸರ್ಕಾರಿ ಸರ್ಕಾರಿ ಸರ್ಕಾರಿ ಸರ್ಕಾರಿ ಸರ್ಕಾರಿ ಸರ್ಕಾರಿ ಸರ್ಕಾರಿ ಸರ್ಕಾರಿ ಸರ್ಕಾರಿ ಸರ್ಕಾರಿ ಸರ್ಕಾರಿ ಸರ್ಕಾರಿ ಸರ್ಕಾರಿ ಸರ್ಕಾರಿ ಸರ್ಕಾರಿ ಸರ್ಕಾರಿ ಸರ್ಕೆ ಕ್ರ� ಮತ್ತೆ ಇದನ್ನು ರೆಕರೆ ಗಾಂಧ ಮಾಡಿರುವುದು ಕೇರಿದೆ ಕೇಂದ್ರ ಸಚಿವ ಡಿ ಮತ್ತೆ ನೆಕ್ಸ್ಟ್ ಆಕ್ಸ್ಟ್ ಇಲ್ಲ ಗಿಡಗಳಷ್ಟು ಚೆನ್ನಾಗಿದೆ ನಮಗೆ ಅಂತ ಇಲ್ಲ ಸಪೋಟಿ ಬೇಕು ಇದೆ ನಿಶ್ರಣ ಪ್ರದೇಶಗಳಲ್ಲಿ ನಿನ್ನೆ ಸುದ್ದಿಗೋಷ್ಟಿಯಲ್ಲಿ ನಿರ್ಮಿಸಲಾಗಿದೆ ಬೆಲ್ವಣಿಗೆ ಬಗ್ಗೆ ಬೆಳೆಯಬಗ್ಗೆ ಬಗ್ಗೆ ಹೇಗೆ ನೋಡಿಕೊಳ್ಳಲಾಗಿದೆ ಸಿಗುತ್ತಿಲ್ಲ ಎಂದು ಸರ್ಕಾರ ಸಿಗುತ್ತಿದ್ದು ಸರ್ಕಾರ ಪರಮೇಶ್ ಅವರು ಸೇರಿಸಿದ್ದರು ಸಿ ಹಾಗೂ ಕೇಂದ್ರ ಸರ್ಕಾರದ ಮುಖ್ಯಮಂತ್ರಿ ಬಿ ಸಿಗುತ್ತೆ ಆಮೇಲೆ ಹಣದ ಮೂಲದ ಇದರಲ್ಲಿ ರೈತರಿಗೆ ಅನುಕೂಲವಾಗುತ್ತದೆ ಕೋಟಿಗೆ ಬೆಳೆದ ಇನ್ಕಮ್ ಬರುತ್ತದೆ ಕೇರಳದಲ್ಲಿ ಕೊರೋನಾ ಸೋಂಕು ಹರಡದಂತೆ ಸಾಮಾಜಿಕ ಮಾಧ್ಯಮ ಕೇಂದ್ರ ಸರ್ಕಾರಿ ಸಿದ್ದರಾಮಯ್ಯ ಮಾಡಿದ್ದು ಸರ್ಕಾರಿ ಸಿಗಲಿದೆ ಒಂದೇ ಪ್ಲಾಂಟ್ ನೋಡಿಕೊಂಡಿದ್ದರೆ ನಾವು ಇದಾಗಿದೆ ಚೆಲ್ಲಿಯಲ್ಲಿ ನಿನ್ನೆ ಸುದ್ದಿಗಾರರೊಂದಿಗೆ ಮಾತನಾಡಿದ ಅವರು ಮಾಡಿಕೊಂಡಿದ್ದರು ದೇಶದಲ್ಲಿ ಕೊರೋನಾ ಸೋಂಕಿನಿಂದ ಸಾವಿರದ ಕೋಟಿ ರೂಪಾಯಿ ಮಾತ್ರ ಮಾಡಿಕೊಳ್ಳಲಾಗಿದೆ ಇದರಿಂದ ಕೆಲವು ಗಿಡಗಳು ಸ್ವಲ್ಪ ವೇಕಾಗಿದೆ ನಂತಹ ನೋಡಕ್ಕೆ ನೋಡಿಕೊಂಡಿದ್ದರು ಇದರಿಲ್ಲ ನೋಡ್ಕೊಂಡು ಅನ್ನೋದನ್ನು ಬಂದಿದ್ದೇವೆ ಏನು ತಮ್ಮ ಇತಿಹಾಕಿ ಕೊಂಡು ಮಾಡಬೇಕು ರಾ ಮರ್ಕೆಟ್ ಮುಂದೆ ಅದಕ್ಕಿಂತ ಮುಂಚೆ ಬೀಜದ್ದು ಮಾರ್ಕೆಟಿಂಗ್ ಸಿಗುತ್ತದೆ ನಗರದಲ್ಲಿ ನಿನ್ನೆ ಸುದ್ದಿಗೋಷ್ಠಿಯಲ್ಲಿ ಮಾತನಾಡಿದ ಅವರು ಕೇಂದ್ರ ಸರ್ಕಾರ ಅನುಮೋದನೆ ನೀಡಿದ್ದಾರೆ ಮರಳಿತದಲ್ಲಿ ಕೊರೋನಾ ಸೋಂಕು ದೃಢಪಟ್ಟಿದೆ\n",
      "\n",
      "File: SandalWoodNewsStories_282.txt\n",
      "Similarity Score: 0.8631603717803955\n",
      "Answer: ಈಗಿನಾಗಿದೆ ಅಂತಂದ್ರೆ ನಾಳೆ ಬಿತ್ತನೆ ಕೃಷಿ ಬರಬೇಕು ಅಂತಾರೆ ಬಟ್ಟು ಆರ್ಥಿಕ ಬಹುದು ಈ ನಾನು ದಿನಲ್ಲ ನಿಮಗೆ ನಿಮಗೆ ನಿಮ್ಮ ಜೊತೆ ಮಾಡಬೇಕು ನಿಮ್ಮ ಜೊತೆಗೆ ಅರಿವು ಹೆಚ್ಚು ಹೆಚ್ಚು ಬೇಕು ಬೇಕು ಬೇಕು ಬೇಕು ಕಂದಿರುವ ಕಾರ್ಯಕ್ರಮದಲ್ಲಿ ನಿನ್ನೆ ಸುದ್ದಿಗೋಷ್ಟಿಯಲ್ಲಿ ಮಾತನಾಡಿದ ಅವರು ಕೃಷಿ ಕಾರ್ಯಕ್ರಮಗಳನ್ನು ಕೈಗೊಳ್ಳಲಾಗಿದೆ ಸದಲ್ಲಿ ಮಾಡಬೇಕು ಸಿಕ್ಕಿದ್ದರೆ ಸರ್ಕಾರಿ ಸಮಾಜದ ಸರ್ಕಾರಿ ಸಮಾಜದ ಸದಸ್ಯರು ಸಮಾರಂಭದಲ್ಲಿ ಮಾತನಾಡಿದ ಅವರು ಸಮಾಜದ ಮುಖ್ಯಮಂತ್ರಿ ಸಿದ್ದರಾಮಯ್ಯ ಮಾತನಾಡಿದರು ಚಟ್ಟಪಾಡಿಕೆ ಕ್ಯಾತ್ರದ ಯಾವುದೇ ವೃತ್ತಿಯಾದರೂ ಕೇಳುತ್ತಿದ್ದೀರಿ ನಗೆ ಈಗ ಏನು ಮಾಡಿದ ಕಂಪ್ಲೀಟ್ ಆಯ್ತು ನಾನು ಸಕ್ಸಿ ಬರದಿಲ್ಲ ಇನ್ನು ಮಾಡಬೇಕು ಇನ್ನು ಕೆಲಸ ಇದರಲ್ಲಿ ಇನ್ನು ಮಾಡದಿದೆ ನಗರದಲ್ಲಿ ಕೊರೋನಾ ಸೋಂಕು ಹರಡಿರುವ ಹಿನ್ನೆಲೆಯಲ್ಲಿ ಕೇಂದ್ರ ಸರ್ಕಾರ ಕೃಷಿ ಮಾತ್ರ ಆರೋಗ್ಯ ಆಧ್ಯಾತ್ಮ ಇದರಲ್ಲಿ ಒಂದು ಆದರ್ಶದ ಬದುಕಿದೆ ನಗರದಲ್ಲಿ ನಿನ್ನೆ ಸುದ್ದಿಗಾರರೊಂದಿಗೆ ಮಾತನಾಡಿದ ಅವರು ಮಾತನಾಡಿದರು ಏರ್ ತೋಟ ಮಲ್ಲಿನಾಡಿನ ತೋಟಗಳೇ ಅವರು ಕೃಷಿ ಪದ್ಧತಿಯನ್ನು ಕುಟುಂಬ ಕ್ಕಿಂತನೆ ಹೆಚ್ಚಿಲ್ಲಿಯ ನನಗೆ ಬಹಳ ಏನು ವಿಶೇಷ ಕಾಣುತ್ತಿಲ್ಲ ಅನುಸಕಾರ ದಲ್ಲಿ ನಿನ್ನೆ ಸಾವಿರದ ಒಂದು ನೂರ ಹದಿನಾರು ಕೋಟಿ ರೂಪಾಯಿ ಮೌಲ್ಯದ ಮುಂದೆ ಸೇರಿದಂತೆ ಹಲವು ಕೋಟಿ ರೂಪಾಯಿ ಮೌಲ್ಯದ ಮುಂದೆ ಸೇರಿದಂತೆ ಹಲವು ಕೋಟಿ ರೂಪಾಯಿ ಮೌಲ್ಯದ ನಿರ್ದೇಶಕರನ್ನು ಹೊಂದಿದೆ ಇಲಾಖೆ ಮಾಡಬೇಕು ಆದರೆ ಎರಡು ಮೂರೇಕರ್ ಜಿಮೀನಿದ್ದು ಕೂಡ ಮಾಡಬಹುದು ಪಾಲ್ ಮಾಡಿಲ್ಲ ಮಾಡಿದರೆ ಇಲ್ಲವಾಗಿದೆ ದರಗಳಲ್ಲಿ ನಿನ್ನೆ ಸುದ್ದಿಗಾರರೊಂದಿಗೆ ಮಾತನಾಡಿದ ಅವರು ಸಂಪರ್ಕಿಸಿದರೆ ಸಿಗದೇ ಇದಾಗ ಸ್ಟೈಕ್ ಮಾಡಬಾರದು ಎಂದು ಸಚಿವ ಸಂಪುಟ ಸಚಿವ ಸಂಪುಟ ಸಚಿವ ಸಂಪುಟ ಸಚಿವ ಸಂಪುಟ ಸಚಿವ ಸಾಮ್ರಾಜ್ ಅಂತರಾಜ್ ಅವರು ಹಾಗೂ ಸಿಗರದಲ್ಲಿ ಸಾಂಪ್ರದಾಯಿಕವಾಗಿ ಒಂದು ಉತ್ತಮ ತಳಿ ಬಿಸಿಗಳನ್ನು ಮುಂದಿನ ವರ್ಷಕ್ಕೆ ಬರುವ ಸಂಪುಟ ಸಿಗಲಿದೆ ಎಂದರು ಬಿಜೆಪಿ ಕಾಳಿಯಲ್ಲಿ ನಮ್ಮ ಬೇರೆ ಜೋಳ ಸಜ್ಜೆ ನಮ್ಮ ಎಣ್ಣೆ ಬೀಜಗಳು ಎಲ್ಲಾದರೂ ಕೂಡ ಬೀಜ ಎಲ್ಲಾದವರು ಸಂಘದ ಕಾರ್ಯಕ್ರಮಗಳನ್ನು ಕೂಡ ಬೀಜ ಎಲ್ಲಾ ಅವರು ನಮ್ಮ ಬೇರೆ ಜೋಳ ಸಜ್ಜೆ ನಮ್ಮ ಎಣ್ಣೆ ಬೀಜಗಳು ಎಲ್ಲಾ ಕೂಡ ಬೀಜ ಎಲ್ಲಾ ಅಂತ ಸಂಸ್ಕೃತಿ ಇತ್ತು ಹೀಗೇನಾಗಿದೆ ಅಂತಂದ್ರೆ ನೆಕ್ಸಿಯರ್ ನಾಗರಿಕರನ್ನು ಸಂಸ್ಕೃತಿ ಇತ್ತು ಹೀಗೇನಾಗಿದೆ ಅಂತಂದರೆ ಬಿತ್ತವನ್ನಿಂದ ಅಂದರೆ ಭೂಮಿಯಲ್ಲಿ ಇವತ್ತೇನೋ ದನಗಳನ್ನು ತೆಗೆದುಕೊಂಡಿದ್ದೇವೆ ಇವತ್ತು ಯಾಂತ್ರೀಕೃತ ಕೃಷಿಯಾಗಿ ಭೂಮಿಯಲ್ಲಿ ಸಾವಯವಾಗಿ ಇಂಗಾಲ ಕಡಿಮೆಯಾಗುತ್ತದೆ ಸಿರುವ ಕುಟುಂಬದ ಸದಸ್ಯರು ಸಾಮಾಜಿಕ ಅಂತರ ಕಾಪಾಡಿದರು ಸಿಕ್ಕಿದ್ದರೆ ಸರ್ಕಾರಿ ಸಮಸ್ಯೆಯನ್ನು ಸಾಧಿಸಿದೆ ಎಂದು ಕೆಮ್ಕೆಲ್ ಸ್ಪ್ರೇ ಮಾಡುತ್ತಿದ್ದಾರೆ ಸಿಕ್ಕಿನ್ ಸೆಕ್ಟ್ರಸ್ ಇದು ಯಾವ ಫಂಗಿಸೈಡ್ ಯೂಸ್ ಮಾಡುತ್ತಿದ್ದೇನೆ ಅದು ಫಂಜಿಸ್ ಸೈಡ್ ಸೆಟ್ರಮ್ ಫಂಜಿಸೈಡ್ ಅವನ್ಗೆ ಗೊತ್ತಿಲ್ಲ ಅಂತಹ ಒಂದು ಕೃಷಿ ಹೋಗ್ತಾ ಇಲ್ಲ ಒಂದು ಕಡೆ ಹಂತದಲ್ಲಿ ಒಂದು ಹಂಚಿಕೊಳ್ಳಲಿದೆ ಬಟ್ಟು ಇದು ಅಳಿತತ್ತಿದೆ ಅಂತ ಕೂಗಿದೆ ಮತ್ತು ನಿರ್ಮಾಣ ರೈತನ ತೃತೀಯ ವೇಳೆಗೆ ಇಲ್ಲ ಸಾಲಬಾಧೆಯಿಂದ ನಾವು ನೀವು ಕೆಲಸ ಕಡಿಮೆ ಮಾಡಿ ನಿಟ್ರಿ ಎನಿಸಿರಬಹುದು ಸಿಂಗ್ ಸಿಂಗ್ ಸರ್ಕಾರದ ಸಂಪೂರ್ಣ ಒಂದು ವಿಶ್ಲೇಷಣೆ ಮಾಡುವಂತಹ ಶಕ್ತಿ ಒಬ್ಬ ಸಾಮಾನ್ಯ ರೈತನಿಗೆ ಬರಂತಹ ಕೆಲಸದ ಸರ್ಕಾರ ಜವಾಬ್ದಾರಿ ಹೊತ್ತಾಗಿದೆ ಆದ ಅತ್ತಮ ಅಲೋಕ್ ಕೆಲಸ ಆಗ್ತಾರೆ ನಂಟಿ ಡೇಜ್ ಇದೆ ಎಂದು ಕುಟುಂಬಲ್ಲ ಒಟ್ಟಿಗೆ ಕರಳಿಗೆ ಆದರೆ ಕ್ಯಾನ್ಸರ್ ಕ್ಯಾನ್ಸರ್ ಆಗಿದೆ ಎಮಿಎಸ್ ಸತ್ರಪಲ್ ಮತ್ತೆ ನೆಕ್ಸ್ಟ್ ಅನ್ನು ನನ್ನ ಬರುತ್ತಾನೆ ನಾವು ಇಮ್ಮೇಡಿ ಎರಡು ಸಾವಿರದ ಎಂಬತ್ತು ನೋಡೋಣ ನೀನು ಈಗ ಸ್ಪರ್ಧೆ ಮಾಡುತ್ತಿದ್ದೀಯ ಎಸ್ ದಿವಸ್ಯ ಕಾರ್ಯೋಸೆಕ್ಟಿಂಗ್ ಮಾಡಿತದ ಕೇಳೋನೋ ನೋವು ಯಾರಿದ್ದ ಜವಾಬ್ದಾರಿ ಜವಾಬ್ದಾರಿ ಒತ್ತೊಂದು ಎಲ್ಲಿದ್ದಾರೆ ನಾವು ಅವನ ರೈತನ ಸಂಬಂಧಿಕರು ನಾವು ಎಲ್ಲರೂ ನಾವು ತಗೊಂಡಿವೆ ಚೆನ್ನಾಗಿದೆ ಏನು ಉಳಿಯಲೈನ್ನಲ್ಲಿ ಬೆಸ್ತಿದ್ದಾರೆ ಏನು ಪರೇಟು ಕೊಟ್ಟಿವೆ ಮನೆ ಮಾಡಿದ್ದೇನು ಸಣ್ಣ ಮಕ್ಕಳು ಕೂಸುಗಳಿಡುಕೊಂಡು ಎಲ್ಲರೂ ಬಸಿರುಗಳು ವಯಸ್ಸಾದವರು ಅದನ್ನೇ ತಿಂದಿವೆ ಅದು ಮಾಡತಕ್ಕಂತಹ ಅನುವತ್ತು ಅಬ್ಬಗಳು ಸಾಧಿಸಿದರು ಯಾಗ್ತೆ ಕಳಕಳಿಯಾಗಿದ್ದು ಮೂಲಗಳು ಸರಬರಿ ಯೂಟ್ಯೂಬ್ ಜಾನೆಲ್ ಮಾಡಿ ಕೆಜಿಸಿದರೆ ಕೆಜಿಸಿ ಅವರು ಮಾತನಾಡಿದರು\n",
      "\n",
      "File: SandalWoodNewsStories_283.txt\n",
      "Similarity Score: 0.8895425200462341\n",
      "Answer: ಈಗದ ನೀವು ನಿಮಗೆ ಮಾತ್ರ ಬಿನಿಯಮಗಳನ್ನು ಸರಿಯಲ್ಲ ಎಂದು ಅವರು ಹೇಳಿದರು ಶಕ್ತಿ ವರ್ಧಕ ಜಾಸ್ತಿ ಬರುತ್ತದೆ ಸಂಕಷ್ಟದಲ್ಲಿ ಸಾವಿರದ ಕೋಟಿ ರೂಪಾಯಿ ಮಾತ್ರ ಸಂಘಟಿತ ಸಂಖ್ಯೆ ಹದಿನೇಳು ಸಾವಿರದ ಹತ್ತೊಂಬತ್ತು ಸಾವಿರದ ಹತ್ತೊಂಬತ್ತು ಸಾವಿರದ ಹತ್ತೊಂಬತ್ತು ಸಾವಿರದ ಹತ್ತೊಂಬತ್ತು ಸಾವಿರದ ಒಂದು ನೂರ ಹತ್ತೊಂಬತ್ತು ಸಾವಿರದ ಒಂದು ಸಾವಿರದ ಒಂದು ಸಾವಿರದ ಒಂದು ಸಾವಿರದ ಒಂದು ಸಾವಿರದ ಒಂದು ಸಾವಿರದ ಒಂದು ಸಾವಿರದ ಒಂದು ಸಾವಿರದ ಒಂದು ಸಾವಿರದ ಸ್ವಾಮಿ ಇದು ಮಿಂದಿ ನಿಂದ ಸಿಟ್ಟು ಇದೆ ನಕ್ಕೆ ಇದು ಕಂಪ್ಲೀಟ್ ಆಗಿ ಸ್ಟೋಡಿಯನ್ ಬಂದ್ ನೀಡಿದ್ದು ಇದು ಮಾರ್ಗಗಳನ್ನು ಹದಿನೈದು ರಕ್ಷಿಸಲಾಗಿದೆ ಬದ್ದರಾಗಿ ಬಳಸ್ತರಂಭ ರಲ್ಲಿ ನಿನ್ನೆ ಸಾವಿರದ ಹದಿನಾಲ್ಕು ರಲ್ಲಿ ನಿನ್ನೆ ಸುಮಾರು ನೂರು ಕೋಟಿ ರೂಪಾಯಿ ಮೌಲ್ಯದ ಮೂರು ನೂರ ಹದಿನಾಲ್ಕು ರಲ್ಲಿ ನಿನ್ನೆ ಬರುವ ಸಾಧ್ಯತೆ ಇದೆ ಹೌದು ಜಾಸ್ತಿ ಬಹಿರಂಗಿ ಜಾಸ್ತಿ ಇಲ್ಲಿಯಲ್ಲಿ ಅದೇನು ನಮ್ಮಲ್ಲಿ ಏನಿಲ್ಲ ನಮ್ಮ ಕೈಜೋಡ್ಸಿ ನಿಮ್ಮ ಕೈಜೋಡ್ಸಿ ನಿಮ್ಮ ಕೈಜೋಡ್ಡಿಗೆ ನಮ್ಮ ಕೈಜೋಡ್ಡಿಗೆ ನಮ್ಮ ಕೈಜೋಡ್ಡಿ ನಿಮ್ಮ ಕೈಲಾದಷ್ಟು ಸಹಾಯ ಮಾಡಿ ಪ್ರೀತಿಯಿಂದ ಅರಸಿ ದರಗಲೇ ಮಾತನಾಡಿದ ಅವರು ಮಾತನಾಡಿದ ಅವರು ಮಾತನಾಡಿದರು ನಿಯಾಗಿ ಮಂದಿ ಕೃಷಿಣ ಮಾಡಬೇಕಾನುವರೆಗೂ ಕೂಡ ಮಾಹಿತಿ ಸಿಗುತ್ತೆ ಅಂತ ಏಳು ಗಕ್ಕೆ ಯೂಟ್ಯೂಬ್ ಬರ್ಮಾಡೋ ಹಂತ ಅವೇರಿನ ಸ್ವೀಡಿಯೋಗಳು ಮತ್ತೆ ಅಂತ ಉತ್ತಮ ಮಾಹಿತಿ ನೀಡಾಂತ ವಿಡಿಯೋಗಳು ಸಾಕ್ಷರಿದೆ ಇವು ಹೇಳಿದ್ದು ನಿಟೂರ್ವೇದ ಅಗತ್ಯ ಮಾಹಿತಿ ಲಸಿಗೆ ತೆರಿಗೆ ಅವರು ಮಾತ್ರ ಮಾಡಿದ್ದಾರೆ ಭೂಗಲ್ ಡಾಕ್ಟರ್ ಅವರಿಗಿಂತ ಅದನ್ನೆಲ್ಲ ಬಿಟ್ಟು ಸ್ಟಡಿ ಮಾಡಿ ಒಂದು ಉತ್ತಮ ರೀತಿಯಲ್ಲಿ ಕೊಟ್ಟರೆ ಎಲ್ಲರಿಗೂ ಉಪಯೋಗ ಏಕೆ ಎಲ್ಲರೂ ಕೊಡಿವಿ ಕೊಡಬೇಕು ಅಥವಾ ಮಾಡಬೇಕು ಬೆಳೆಯಲ್ಲಿ ಕ್ಕಿಂತ ಸ್ಯಾಂಡಲ್ ಗಿಡ ತಗುವ ಬಂದೆ ರಂದು ದಟ್ಟಿದ ಅವಾಗಲಿದ್ದ ಅವರು ಹೇಳಿದು ಮಂದ ಐವತ್ತು ಗಿಡಗಣ್ಣ ತಗೊಂಡೊಯ್ಯಲ್ಲಿ ಯಾವತ್ತಿರುವುದು ಮಾರುಕಟ್ಟೆ ಇದೆ ಅಂತ ನಿಧನಗೂ ಕೂಡ ಮಾರುಕಟ್ಟೆ ಬೇಗೆ ತಲಕೆಡಿಸಿಕೊಂಡಲೇ ಆಕೆಂದೆ ನಾನು ಸತ್ಯ ಪ್ರಿಯಾ ನಮ್ಮ ಜಮೀನಿನಿನಲ್ಲಿ ಗ್ರೀನರೇಲ್ಲ ಕಾಣಿಸಬೇಕು ಅದು ಕೋಸ್ಕರ್ ನೋಡಿದೆ ಪುರುಷರುಚ್ಚರ್ ತಮ್ಲಿ ಅವರು ದರಲ್ಲಿ ಕೊರೋನಾ ಸೋಂಕು ಹರಡಿರುವ ಹಿನ್ನೆಲೆಯಲ್ಲಿ ಕೇಂದ್ರ ಸರ್ಕಾರ ಕೈಗೊಂಡಿರುವ ಕುರಿತು ಕೇಂದ್ರ ಸರ್ಕಾರ ಕೈಗೊಂಡಿದೆ ಕಳೆದ ಕೊರತೆಯಲ್ಲಿ ಕೂಡ ಇಪ್ಪತ್ತ್’ನಾಲ್ಕು ಸಾವಿರದ ಒಂದು ನೂರು ಬೆಳೆಯಲು ಬೆಳೆಯಲು ಬೆಳೆದ ಸಾಧ್ಯ ಅಂತವನ್ನು ಮಾಹಿತಿ ಕೊಟ್ಟಿದ್ದರೆ ನಿಮ್ಮು ಕೂಡ ಉಪಯುಕ್ತವಾಗಿದ್ದರೆ ಅವರು ಪ್ರಗತಿಪರ ರೈತರ ವಿಡಿಯೋ ಸರಬರಾಜು ಮಾಡಿದ್ದರು ಪ್ರಿಯ ವೀಕ್ಷಕರೇ ನಮ್ಮ ಕರುನಾಡಿನ ಸಾಹಿತ್ಯ ಸಂಸ್ಕೃತಿ ವಿಶೇಷ ವ್ಯಕ್ತಿಗಳ ಸಂದರ್ಶನವನ್ನು ತಪ್ಪದೇ ತಿಳಿಸಿ ಡಿಜಿಟಲ್ ಮಾಧ್ಯಮ ಎಲ್ಲಾ ಸಾಮಾಜಿಕ ಚಾಲತರಲ್ಲೂ ಲಭ್ಯವಿದೆ ಸ್ವತಂತ್ರ ಪತ್ರಿಕೋದ್ಯಮವನ್ನು ಬೆಂಬಲಿಸಿ ಧನ್ಯವಾದಗಳು ಎಂಎಸ್ಎಂಇ ನಿರ್ದೇಶಕ ಎಸ್\n",
      "\n",
      "File: SandalWoodNewsStories_284.txt\n",
      "Similarity Score: 0.8887594938278198\n",
      "Answer: ಎರಡಿರೆ ಚನ್ನನ ವರದಿಂದ ಮತೀಗ ನಂತಾವರೆ ತೋಟು ಬರ್ತಾ ಇದ್ದೀನೆ ಚನ್ನಮ್ಮದಲ್ಲಿ ನಮಗೆಳೆಯ ಸುಂದರ್ ನಿವೃತ್ತ ಪೊಲೀಸ್ ಅಧಿಕಾರಿ ಅವರು ಹೇಗಾದ ಕಷ್ಟಪಟ್ಟರು ಕತ್ತೆಗಳ ಮೇಲೆ ಹೇಗೆ ತಗೊಂಡು ಅವರು ಮಗ ಚನ್ನಮನದವರು ಅಗಲಿದಿದ್ದರೆ ಏನು ಇಲ್ಲದಿದ್ದಂತಹ ಬರೆದು ಬೆಂಗಾಡಾಗಿದ್ದ ಆ ನನ್ನ ತೋಟದಿಂದ ಹತ್ತಿಲ್ಲ ಮರದಲ್ಲಿ ಎಂದು ಹೇಳಿದ್ದಾರೆ ತಾಗ ಚಿಮ್ಮಸಂದ್ರ ಅನ್ನೋ ವಿಲೇಜಿನಲ್ ಇದ್ದಂತಹ ಬರದಂತಹ ಹನುಮಂತ್ರಯ ಮುತ್ತೆ ತೀರಾ ಎನ್ನುವುದು ಪಕ್ಷದಲ್ಲಿರುವ ಚಂದನ ಮನ ಹೆಚ್ಚಿದರು ಭಾವಿಶಃ ವಿಶ್ವೇಶ್ವರ್ ಶಾಟ್ ಸಿಲಿಂನ್ ಅನ್ಸೂಡಿಯಾಗಲೇ ಪೋಸ್ಟ್ ಪೋಸ್ಟ್ ಮಾಡಿದ್ದ ನಾಯಕ ಏನಾಪಾದಲ್ಲಿ ಹೆಸರು ಅಯ್ಯಪ್ಪ ಸ್ವಾಮಿ ಪಾತ್ರದಲ್ಲಿ ಮುಂದೆ ಇಂದು ಅವರು ಅವರ ನಾರೀಗೆ ತಂದದಲ್ಲಿ ಪ್ರಮುಖ ಪಾತ್ರದಾರಿ ವಾಗ ಮನೆ ಕೆಂಪೇಗೌಡ ದರಗಿರುವ ಹಿನ್ನೆಲೆಯಲ್ಲಿ ಕೇಂದ್ರ ಸರ್ಕಾರ ಅನುಮತಿ ನೀಡಿದೆ ರಾಯಾಮಗಳ ಕಲಿಕೊಂಡು ಅಂತಾರಾಷ್ಟ್ರೀಯ ಅವರು ಮಾಡಿದರೆ ಕೂಸ್ಮಾಂಡರೂಪಾಂತ ಸಿನಿಮಾದಲ್ಲಿ ಪೂರ್ತಿ ಹೇಳಿಲ್ಲ ಎಂದು ಕಂಡುಬಂದಿದ್ದೇನೆ ಆಫಾರ್ಮಿಂಗ್ ಮಾಡಬೇಕು ಅಂತೇಗೆ ನಿಂತಿಲ್ಲ ಗಾಗಿ ಹೌದು ಸಪ್ಪ ಕತ್ತೆ ಲೂಡ್ ಸೀಮಾ ಲಾಕ್ ಅವರು ಗೊತ್ತಾಯ್ತು ಮಾರ್ಕ್ ಮಾಡಿ ರಾಜಿನಗರದಲ್ಲಿ ನಿನ್ನೆ ಸುದ್ದಿಗೋಷ್ಟಿಯಲ್ಲಿ ನಿನ್ನೆ ಸುದ್ದಿಗೋಷ್ಟಿಯಲ್ಲಿ ಮಾತನಾಡಿದ ಅವರು ಸರ್ಕಾರಿ ಸಾಮಾಜಿಕ ಅಂತರ ಕಾಪಾಡಿಕೊಳ್ಳುವ ಕೆಲಸ ಮಾಡಬೇಕು ಎಂದು ಸಚಿವ ಸಂಪುಟ ಸಭೆ ನಡೆಸಿದರು ಕಂದಿರುವ ಕಂದರೆ ನಿಮಗೆ ಸಾಮಾಜಿಕ ಅಂತರ ಕಾಯ್ದೆಗೆ ಸಾಮಾಜಿಕ ಅಂತರ ಕಾಯ್ದೆಗೆ ಸಾಮಾಜಿಕ ಮಾಧ್ಯಮಗಳನ್ನು ಕೇಳಿ ಬಿಡಿಸಿ ಮಾಡಿಕೊಳ್ಳಬೇಕು ಎಂದು ಸಚಿವ ಡಿ ಬೇಕು ಚಿಲ್ ಮಾಡಿಕೊಂಡಿರುವ ಕಾರ್ಯಕ್ರಮದಲ್ಲಿ ನಿನ್ನೆ ಸುದ್ದಿಗಾರರೊಂದಿಗೆ ಮಾತನಾಡಿದ ಅವರು ಜಿಲ್ಲಾ ಪಂಚಾಯತ್ ಮುಖ್ಯಸ್ಥ ನಾರಾಯಣ ಮಾಡಿದ್ದಾರೆ ಸಂಜೆ ನಾಲ್ಕು ನಗರದಲ್ಲಿ ನಿನ್ನೆ ಸುದ್ದಿಗಾರರೊಂದಿಗೆ ಮಾತನಾಡಿದ ಅವರು ಮಾತನಾಡಿದರು ಶ್ವೇಶ್ವರ ಅವರ ಪೀತಿನವಿ ಶ್ವಾಸಕರು\n",
      "\n",
      "File: SandalWoodNewsStories_286.txt\n",
      "Similarity Score: 0.8825550079345703\n",
      "Answer: ನಿಯಮಗಳನ್ನು ಸಾರ್ವಜನಿಕರು ಸಾರ್ವಜನಿಕರು ಸಾರ್ವಜನಿಕರು ಸಾರ್ವಜನಿಕರು ಸಾರ್ವಜನಿಕರು ಸಾರ್ವಜನಿಕರು ಸಾರ್ವಜನಿಕರು ಸಾರ್ವಜನಿಕರು ಸಾರ್ವಜನಿಕರು ಸಾರ್ವಜನಿಕರು ಸಾರ್ವಜನಿಕರು ಸಾರ್ವಜನಿಕರು ಸಾರ್ವಜನಿಕರು ಸಾರ್ವಜನಿಕರು ಸಾರ್ವಜನಿಕರು ಸಾರ್ವಜನಿಕರು ಸಾರ್ವಜನಿಕರು ಸಾರ್ವಜನಿಕರು ಸಾರ್ವಜನಿಕರು ಸಾರ್ವಜನಿಕರು ಸಹ� ಜಿಲ್ಲೆಯಲ್ಲಿ ಒಂದು ಪುಟ್ಟ ಶ್ರೀಗಂಧದ ತೋಟದಲ್ಲಿ ಮಾಡಿಕೊಂಡು ನಮ್ಮ ಹುಟ್ಟಿಗೆ ಇರುವಂತ ಅವರು ಇದೇ ಜಿಲ್ಲೆ ಇರುವ ತಾಲೂಕಿನ ಇದೇ ಜಿಲ್ಲೆ ಇರುವ ತಾಲೂಕಿನ ನಿಲ್ದಂತಹ ಕುರುಬಲಿ ಗ್ರಾಮದ ತಿಮ್ಮಪ್ಪ ಮತ್ತೆ ರಾಜೋರ್ ಚೆನ್ನಾಗಿ ಮಾಡಿದರಂತದ್ದೇ ಪುಟ್ಟ ಒಂದು ತೋಟದಲ್ಲಿ ಶ್ರೀಗಂಧದ ಅಶೀಸಗಳನ್ನು ತಾಲೂಕುಂದು ಒಳ್ಳೆಯಾಗಿದೆ ಅಷ್ಟೋಸಿಗೆ ಗಂಧದ ಮರದಿಂದ ಬೀಜಗಳು ಬೀಜಗಳು ಅಂತ ಬೀಜಗಳನ್ನು ಅಕ್ಕಿ ಪಕ್ಷಗಳು ಎತ್ಕೆಂಡೋಗಿ ಅವರು ಅವರು ಕೆರೆಯ ಸುತ್ತುಮುತ್ತಲ್ಲ ಲಕ್ಷಾಂತರಗಳು ಬೀಜಿದೆ ಅವರ ಒಂದು ಇಬ್ಬರ ಯುವಕರ ಮುನ್ಸೇನೆ ನೇತೃತ್ಯ ಅವರ ಊರನ್ನೇ ಶ್ರೀಗಂಧವನ್ನು ಮಾಡಲಿಕ್ಕ ಹೋಟೆಲ್ಲಿ ಅವರು ಜಗಿವಾಸ್ತವಾಗಿದೆ ನಂದಗುರುರುರುಳುರುಳುರುಳುರುಳುರಿರುವ ಅವರು ಪ್ರೇರಣೆ ಮತ್ತು ಸಮಾಜದ ಸಂಸ್ಥೆಯ ಸಂಸ್ಥೆಯ ಕುರಿತು ನಿರಂತರ ಸೇರಿದಂತೆ ಹಲವು ಕಾರ್ಯಕ್ರಮಗಳನ್ನು ಕೈಗೊಳ್ಳಲಾಗಿದೆ ಜಿಕ್ಕಿ ವಸ್ತು ವಿವಾದದಲ್ಲಿ ನಮಗೆ ಪ್ರೇರಣೆಯಿಂದ ನಾವು ನಮ್ಮ ಜಮೀನಿನಲ್ಲಿ ಶ್ರೀಗಂಧಿ ತಶ್ವಸಿ ಹಾಗೂ ಎಬ್ಬಿಸಿಸಿದ್ದರು ಸಿಕ್ಕಿದ್ದರು ಎಂದು ಸಚಿವರು ಮಾತನಾಡಿದ ಅವರು ಮಾತನಾಡಿದರು ರಲ್ಲಿ ನಿನ್ನೆ ಸಂಜೆ ನಿನ್ನೆ ಸಿಬ್ಬಂದಿಯನ್ನು ಸರಿಯಲ್ಲ ಎಂದು ಅವರು ಹೇಳಿದರು ಶೀಘಾಲಯದ ನಿಮ್ಮನ್ನು ಸಂಪರ್ಕ ಮಾಡಬೇಕೆಂದರೆ ನಿಮ್ಮ ವಿಳಾಸ ಸ್ವಲ್ಪ ತಿಳಿಸಿದರು ನಂಬರ್ ನಿನ್ನೆ ರಾತ್ರಿ ನಾಲ್ಕು ನೂರ ಹತ್ತು ಮಂದಿಗೆ ಆರಂಭಗೊಂಡಿದ್ದು ಇದರಲ್ಲಿ ನಾವು ಕಾರ್ಯಕ್ರಮಗಳನ್ನು ಕೇಂದ್ರ ಸರ್ಕಾರ ನಿರ್ದೇಶನ ನೀಡಿದೆ ಕಳೆದ ರಾಜ್ಯದಲ್ಲಿ ನಿನ್ನೆ ಸುದ್ದಿಗಾರರೊಂದಿಗೆ ಮಾತನಾಡಿದ ಅವರು ಮಾತನಾಡಿದ ಅವರು ಜನರಲ್ ಕಾರ್ಯಕ್ರಮದಲ್ಲಿ ನಿನ್ನೆ ಸುದ್ದಿಗಾರರೊಂದಿಗೆ ಮಾತನಾಡಿದ ಅವರು ಜನರಲ್ಲಿ ನಿನ್ನೆ ಸುದೀರ್ಘ ಕಾರ್ಯಕ್ರಮದಲ್ಲಿ ನಿನ್ನೆ ಸುದ್ದಿಗಾರರು ಮಾತನಾಡಿದರು ಮರಳೆಯಲ್ಲಿ ನಿನ್ನೆ ಸುದ್ದಿಗಾರರೊಂದಿಗೆ ಮಾತನಾಡಿದ ಅವರು ಮಾತನಾಡಿದರು ದರಗಿರಲಿರುವ ಹಿನ್ನೆಲೆಯಲ್ಲಿ ನಿನ್ನೆ ಸುದ್ದಿಗಾರರೊಂದಿಗೆ ಮಾತನಾಡಿದ ಅವರು ಮಾತನಾಡಿದರು ಕಲ್ಲಿದ್ದಲಿನ ಮಾತನಾಡಿದ ಅವರು ಮಾತನಾಡಿದ ಅವರು ಮಾತನಾಡಿದರು ಕರ್ನಾಟಕ ಆಗುತ್ತೆ ನಾವು ದಯವಿಟ್ಟು ನಾವು ಬಡಕಾಂತ ಅದರಲ್ಲಿ ದೈವಿಟ್ ಎಲ್ಲರೂ ಅತ್ಪರ್ಶೆಂಟ್ ಹತ್ತು ಪರ್ಷದ ಎಲ್ಲೋ ಕುಟುಂಬದ ನಾಲ್ಕು ನೂರ ಹತ್ತು ಮಾಡಿ ಮುಂಗಾರು ಟೈಮಲ್ಲಿ ಜುಲೈ ತಿಂಗಳಲ್ಲಿ ಅರಣ್ ಎಲೆಕ್ಟರ್ ಸಪ್ಟೋಡ್ ಮಾಡಿದ್ದಾರೆ ತುಂಬಾ ಜನ ಸಂಘ ಸೇವಾ ಸಂಸ್ಥೆಗಳಲ್ಲಿ ನಿನ್ನೆ ಬೇಕಾದ ನಮ್ಮ ಸಲ್ಲಿಸುತ್ತಿದೆ ಅಂಗಾಗಿ ನಾವು ಇನ್ಮೂ ರಸ್ತೆಯಲ್ಲಿ ನಾವು ಇನ್ಮಾರ್ಟಿನ್ ಅವರು ಮಾಡಿದ್ದರು ಸಾಯಿ ಬದಲು ಬರೇ ಅಕ್ಕತ್ವದಲ್ಲಿ ಅಕ್ಟೋಬರ್ ಜಾಸ್ತಿ ನಾವರಿಗೆ ಮಾಡುತ್ತಿದ್ದೀರಾ ನಮಗೆ ಆಚರಿಸಲಾಗುತ್ತದೆ ನಾವನಮಂತ್ರಿ ಮಕ್ಕಳಿಗೆ ದರಗಿರಲಿರುವ ಹಿನ್ನೆಲೆಯಲ್ಲಿ ನಿನ್ನೆ ಸುದ್ದಿಗಾರರೊಂದಿಗೆ ಮಾತನಾಡಿದ ಅವರು ಮಾತನಾಡಿದರು ಮಾರ್ಕ್ ಇಂದು ಬೆಳೆ ನಾಯಕ ನಾಯಕ ನಾಯಕ ನಾಯಕ ಹೇಳಿ ನಾಲ್ಕು ನೋಡಿ ಕೇಳಿ ಇನ್ನು ಮಾಡಿ ಮಾಡಿದ ನಮಗೆ ನಮಗೆ ಆಶ್ಚರ್ಯವಾಗಿ ನಿನ್ನೆ ಸಾವಿರ ಸಂಪರ್ಕ ನಿಯಂತ್ರಣ ಕೇಳಿ ಕರ್ತವ್ಯ ನಿಯಕರನ್ನು ಸಾವಿರ ಸೇರಿದಂತೆ ಎಂಬ ಸಾವಿರ ಸೇರಿದಂತೆ ಎಂಬ ಸಾವಿರ ಕೋಟಿ ರೂಪಾಯಿ ನೆಯಕನಕ್ಕೆ ಬೆಳೆಸಿದರು ನಗರದಲ್ಲಿ ಕೊರೋನಾ ಸೋಂಕು ಹರಡದಂತೆ ಸಾವಿರದ ಕೋಟಿ ರೂಪಾಯಿ ಮೌಲ್ಯದ ಮೂರು ನೂರ ಎಂಬತ್ತು ಕೋಟಿ ರೂಪಾಯಿ ಮೌಲ್ಯದ ಕೇಂದ್ರಗಳನ್ನು ಕೇಂದ್ರ ಸರ್ಕಾರ ಕೈಗೊಂಡಿದೆ ನಂಬರ್ ನಿಮ್ಮ ಸಂಘಟನೆ ಮಾಡಿಕೊಂಡಿದ್ದೀರಾ ಬಡ್ಡಿಲ್ಲೆ ಬಾ ವರ್ಡಾಯಿತರ ನೋವಾಗುತ್ತದೆ ದರಗಿರಲಿ ನಿನ್ನೆ ಸಂಜೆ ನಿರ್ಮಾಣ ಕಾರ್ಯಕ್ರಮಗಳನ್ನು ಕೇಳಿ ಬಿಡಿಸಿದ ಅವರು ಮಾತನಾಡಿದರು ರಾಜಿಲ್ಲಿನಿಂದ ಸುರಿಯುತ್ತಿರುವ ಹಿನ್ನೆಲೆಯಲ್ಲಿ ಸಾಮಾಜಿಕ ಅಂತರ ಕಾಯ್ದುಕೊಳ್ಳುವುದು ಸಾಮಾಜಿಕ ಅಂತರ ಕಾಯ್ದುಕೊಳ್ಳುವುದು ಸಾಮಾಜಿಕ ಅಂತರ ಕಾಯ್ದುಕೊಳ್ಳುವುದು ಸಾಮಾಜಿಕ ಮಾಧ್ಯಮದ ಕಾಯ್ದುಕೊಳ್ಳುವುದು ಸಾಮಾಜಿಕ ಅಂತರ ಕಾಯ್ದುಕೊಳ್ಳುವುದು ಸಾಮಾಜಿಕ ಅಂದಾಜುಗಳು ಮುಖ್ಯವಾಪಾಶ್ಯವಿದೆ ಬರ್ಲಿಸಿರಿ ನಂದಿನಾದ ಮಾತನಾಡಿದ ಅವರು ಸರ್ಕಾರ ಸಿಂಗಲ್ಸ್ ನೀಡಿದ್ದಾರೆ ನಂದಿನಾ ಮಾಡಿರುವ ಮಾತನಾಡಿದ ಅವರು ಮಾತನಾಡಿದರು ಕೇರಳದಲ್ಲಿ ನಿನ್ನೆ ಸಂಜೆ ನಿಮ್ಮ ಸಂಜೆ ನಿಮ್ಮ ಬದುಗಳಲ್ಲಿ ನಿಮ್ಮ ಬದುಗಳಲ್ಲಿ ನಮ್ಮ ಬದುಗಳಲ್ಲಿ ನಮ್ಮ ಮಾಡಿಕೊಳ್ಳಲಾಗುವುದು ಎಂದು ಅವರು ಹೇಳಿದರು ಕೇರಳದಲ್ಲಿ ನಿನ್ನೆ ಸುದ್ದಿಗಾರರೊಂದಿಗೆ ಮಾತನಾಡಿದ ಅವರು ಜಿಲ್ಲೆಯಲ್ಲಿ ನಿನ್ನೆ ಸುದ್ದಿಗಾರರೊಂದಿಗೆ ಮಾತನಾಡಿದ ಅವರು ಜಿಲ್ಲೆಯಲ್ಲಿ ನಿನ್ನೆ ಸುದ್ದಿಗಾರರೊಂದಿಗೆ ಮಾತನಾಡಿದರು ಸರನ್ ಹೇಳಿ ಅವರಿಗೆ ಅವರು ಪ್ರೇರಣೆಗೊಂಡು ಅವರೆಲ್ಲಿ ಕರೆದುಬಂದು ಎಲ್ಲಿ ಕರೋನಾ ಬಂದು ನಮ್ಮಿಂದ ಏನು ಸದೆನ್ನು ಅದನ್ನು ಕೊಡತ್ತಿನವು ಸದಸ್ಯರಾಗಿದ್ದೇವೆ ವೆಚ್ಚನೆ ಮಾಹಿತಿಗಾಗಿ ನಮ್ಮ ದೇವರಾಜ ಸಂಪರ್ಕಿಸಿ ಅವರನ್ನು ಹೆಚ್ಚಿನ ಮಾಹಿತಿ ನಮ್ಮ ಜಿಲ್ಲೆಗೆ ಗಿಡ ನಮ್ಮ ಅಂತರ್ಜಲ ಕಂಡಿತ ಕೂಡಿಕ್ ಅಬೌಟ್ ನಾವು ಮುಂದಿನ ಅನಮ್ಮ ಜನ ಮಾಡಬಹುದು ಸರ್ಕಾರಿ ಸರ್ಕಾರಿ ಸಮಿತಿ ಸಮಿತಿ ನೀಡಿದ್ದಾರೆ ಇಪ್ಪತ್ತ್’ಐದು ಸಾವಿರ ಕೋಟಿ ನಮ್ಮ ಜಿಲ್ಲೆಯಲ್ಲಿ ಬಿಸಿಲಿಯರು ಅವರು ಮಾಡಿದ್ದರೆ ಮತ್ತೆ ಪಕ್ಷಿಗಳಿಂದ ಲಕ್ಷ್ಯಾಂತರಗಳನ್ನು ಯಾಕ್ಕಪುಟ್ಟದ ಅರ್ಥಾರು ಗ್ರಾಮಗಳಲ್ಲಿ ಬೀಜಗಳು ಮಾಡಿದ್ದರೆ ದರಗಿರಲಿ ನಮ್ಮ ಸರ್ಕಾರದ ಸರ್ಕಾರದ ಸರ್ಕಾರದ ಮುಂದಿನ ಹಂತದಲ್ಲಿ ನಮ್ಮ ಸರ್ಕಾರದ ಸರ್ಕಾರದ ಸರ್ಕಾರದ ಸರ್ಕಾರದ ಸರ್ಕಾರದ ಸರ್ಕಾರದ ಸರ್ಕಾರದ ಸರ್ಕಾರದ ಪಾಲುದಾರಿಗಳು ಸರ್ಕಾರದ ಸರ್ಕಾರದ ಪಾಲುದಾರಿಕೆ ಮಾಡಿದೆ ಎಂದು ಅವರು ಹೇಳಿದರು ದೇವೇಗೌಡ ಅವರು ಸಂಸ್ಕೃತಿಯಲ್ಲಿ ಸರ್ಕಾರಕ್ಕೆ ಮರೆಯಬಾರದು ಮೈಸೂರು ಸಾಂಗ್ಲವು ಟ್ಯಾಕ್ಸಿ ಜೊತೆಗೆ ಸಂಪರ್ಕ ಮಾಡಿಯ ಎಂದಿದ್ದರಿಂದ ನೋಡಿ ಅವರಿಂದ ಪರಮಿಷನರನ್ನು ಅವರು ಅವರು ಮತ್ತೆ ಮಾಡಿಕೊಟ್ಟು ಮತ್ತೆ ಚೈಗೆ ಮಾಡಿಕೊಡದರು ದೇವರು ಸಾವಿರದ ಮೂರು ನೂರ ಹದಿನಾಲ್ಕು ಮಂದಿಗೆ ಸಾವಿರದ ಕೋಟಿ ರೂಪಾಯಿ ಮೌಲ್ಯದ ಮುಂದಿನ ಕಲ್ಯಾಣ ಕುರಿತು ಸಾವಿರದ ಕೋಟಿ ರೂಪಾಯಿ ಮೌಲ್ಯದ ಮುಂದಿನ ಕಲ್ಯಾಣ ಕುರಿತು ಸಾವಿರದ ಕೋಟಿ ರೂಪಾಯಿ ಮೌಲ್ಯದ ಕೇಂದ್ರಗಳನ್ನು ಸಚಿವ ಬಿ ರನ್ನು ಲೈಕ್ ಮಾಡಿ ಶಿರಮಾಡಿ ಮರೆಯದ ಸಬ್ಸ್ಕ್ರೈಡ್ ಮಾಡಿ\n",
      "\n",
      "File: SandalWoodNewsStories_287.txt\n",
      "Similarity Score: 0.887665331363678\n",
      "Answer: ನಮಸ್ಕಾರ ಆತ್ಮೆ ರೈತರಿಗೆ ಸಂಚಿತ್ತು ನ್ಯೂಸ್ ಕಡೆ ಎಲ್ಲರಿಗೂ ಸ್ವಾಗತ ಇಂದು ನಾವು ಬಂದಿದ್ದೇವೆ ಕೊಟ್ಟಲಗಿ ಗ್ರಾಮಕ್ಕೆ ಶ್ರೀಗಂಧದ ಗಿಡಗಳ ಮಾಹಿತಿಯನ್ನು ಗೆದ್ದುಕೊಳ್ಳಲು ಬಂದಿದ್ದೇವೆ ಇವತ್ತಿನವರೆಗೆ ಪರಿಸ್ಥಿತಿ ಹೇಗಿತ್ತು ಅಂದ್ರೆ ಒಡ್ಡಿನ ಮೇಲೆ ಒಂದೆರಡು ಶ್ರೀಗಂಧದ ಗಿಡಗಳು ಇದ್ದರು ಸಹಿತ ಅದನ್ನು ಕಾಲರು ಕಾಲದಿಂದ ಯಾವಾಗ ಕಡೆ ಮಾರ್ಕ್ ಅವರು ಮಾತನಾಡಿದರು ನಮ್ಮ ಪೌರಜಾರ ಕರ್ಪೆ ಮಾಡುತ್ತಿದ್ದರು ನಾವು ಕರ್ಪೂ ಕೊಡಬಂದಿದೆ ನಿಗಾ ಏನು ಎಸ್ಟೇಟ್ ಲೆಕ್ಕಾಯಕರ ಒಳಗಾಗಿ ಎಷ್ಟು ಎಕರದಲ್ಲಿ ಹಚ್ಚಿರಿ ಮತ್ತು ಒಂದು ಎಕರಾದಲ್ಲಿ ಎಷ್ಟು ಗಿಡಗಳನ್ನು ನೀಡುತ್ತೇವೆ ಮತ್ತು ಎಷ್ಟು ಅಂತರದಲ್ಲಿ ನೀವು ಗಿಡಗಳನ್ನು ಹತ್ತು ಸುತ್ತೇವೆ ಇಪ್ಪತ್ತ್’ಐದು ಕೊಡುತ್ತವೆ ದರಗಳಲ್ಲಿ ಕಳೆದುಕೊಳ್ಳುವ ಕುಟುಂಬದ ಸರಕು ಮತ್ತು ಕುಟುಂಬದ ಮಾತುಕತೆ ನಡೆಸಿದ್ದು ಅದರ ಮನೆಗಳನ್ನು ಬಡ್ಡಿ ಮರುಕಳು ಮತ್ತು ಕುಟುಂಬಗಳಿಗೆ ಮಾತ್ರ ಮನೆಗೆ ಬರುತ್ತಿದೆ ಸಿ ಬೇರೆ ಬೇರೆ ಬೇರೆ ಬೇರೆ ಬೇರೆ ಬೇರೆ ಬೇರೆ ಬೇರೆ ಬೇರೆ ಬೇರೆ ಬೇರೆ ಬೇರೆ ಬೇರೆ ಬೇರೆ ಬೇರೆ ಬೇರೆ ಬೇರೆ ಬೇರೆ ಬೇರೆ ಬೇರೆ ಬೇರೆ ಬೇರೆ ಬೇರೆ ಬೇರೆ ಬೇರೆ ಬೇರೆ ಬೇರೆ ಬೇರೆ ಬೇರೆ ಬೇರೆ ಬೇರೆ ಬೇರೆ ಬೇರೆ ಬೇರೆ ಬೇರೆ ಬೇರೆ ಬೇರೆ ಬೇರೆ ಬೇರೆ ಬೇರೆ ಬೇರೆ ಬೇರೆ ಬೇರೆ ಬೇರೆ ಬೇರೆ ಬೇರೆ ಬೇರೆ ಬೇಕು ಬೇರೆ ಬೇರೆ ಬೇರೆ ಬೇರೆ ಬೇಕು ಬೇಕು ಬೇಕು ಕೆಗಡೆದು ಪೂರ ಘಟ್ಟ ಅವರು ಗಿರುವಾಗ ನೀವು ನೀರು ಹವಾಮಾನ ಭೂಮಿ ಅಂತಾದರೆ ಔಷಧಗಳನ್ನು ಯಾವ ಅಪರಾಧ ತೀರಿ ಹಾರದಲ್ಲಿ ಗಾಂಧಿ ಮಾಗಲ್ಲ ಬ್ಯಾಚ್ಗೆ ಟೈಮ್ ನೇಗ ಅಂತ ಮೂಲಕ ತಿಂಗಳು ನೆಲ್ಲಿ ಮಾರಾಟ ಮಾಡುತ್ತಿದೆ ಮತ್ತು ಅದರ ಅವಶ್ಯಕತೆ ಏನಿರುತ್ತದೆ ರಾಜಿನಗರದಲ್ಲಿ ನಿನ್ನೆ ಸುದ್ದಿಗಾರರೊಂದಿಗೆ ಮಾತನಾಡಿದ ಅವರು ಸರ್ಕಾರಿ ಸಮಾರಂಭದಲ್ಲಿ ಸರ್ಕಾರ ನಿರ್ಧರಿಸಿದ್ದರು ಮಾರ್ಕ್ ಅವರು ಮಾತನಾಡಿದ ಅವರು ಸರ್ಕಾರಿ ಸಮಾರಂಭದಲ್ಲಿ ಮಾತನಾಡಿದ ಅವರು ಸರ್ಕಾರಿ ಸಮಾರಂಭದಲ್ಲಿ ಸರ್ಕಾರಿ ಸಮಾರಂಭದಲ್ಲಿ ಸರ್ಕಾರಿ ಸಮಾಜದ ಮುಖ್ಯಸ್ಥರಾಗಿದ್ದರು ಸಿ ಹಾಗೂ ಕೇಂದ್ರಾಡಳಿತ ಪ್ರದೇಶಗಳಲ್ಲಿ ಸರ್ಕಾರಿ ಸಮಿತಿ ಸಭೆಗೆ ನಡೆಸಿ ಸರ್ಕಾರ ಕೈಗೊಂಡಿದ್ದರು ನಮಗೆ ಅನುಮೋದನೆ ಬೇಕು ಅನುಮೋದನೆ ವ್ಯಕ್ತಿ ಹೇಳುತ್ತಾರೆ ಇಲ್ಲಿ ನಮ್ಮ ಚಿತ್ರದುರ್ಗ ಯುವ ಸಂಜೆ ತ್ರಿ ಇತಿಹರನ್ನು ಮಾಡ್ತಿನಿಷ್ಠ ನಿಮ್ಮಲ್ಲಿ ನಾವು ಐದು ವರ್ಷದ ಅಯ್ದು ಸಮುದ್ರ ತನ್ನ ತಾನು ಐದರ ಮೇಲೆ ಮೇಲೆ ಬೇಕರಿ ಧರಿಸಿ ಹಾಗೂ ಸಾವಿರದ ಒಂದು ನೂರ ಹದಿನಾರು ಸಾವಿರದ ಒಂದು ನೂರ ಹದಿನಾರು ಸಾವಿರದ ಒಂದು ನೂರ ಹದಿನಾರು ಸಾವಿರದ ಒಂದು ನೂರ ಹದಿನಾರು ಸಾವಿರದ ಒಂದು ನೂರ ಹದಿನಾರು ಸಾವಿರದ ಒಂದು ನೂರ ಹದಿನಾರು ಸಾವಿರದ ಒಂದು ನೂರ ಹದಿನೇಳು ಸಾವಿರದ ಒಂದು ನೂರ ಹದಿನೇಳು ಸಾವಿರದ ಒಂದು ನೂರ ಹದಿನೆಂಟು ಸಾವಿರದ ಒಂದು ನೂರ ಹದಿನೆಂಟು ಸಾವಿರದ ಒಂದು ನ ಬರಂಗಿಲ್ಲ ಸಿಕ್ಕಿದ್ದರು ಉಭಜಿಯನಕ್ಕೆ ಹಾದಿ ಮಾಡಿಕೊಂಡು ಕೊಡಲು ಮಾಡಿದ್ದಾರೆ ಕಳೆದ ಯಾರು ಕೆಳಗಿಲ್ಲ ಅಚ್ಚಾನಗರ ಅಶ್ಯಕೃಷಕ್ಕೂ ಸೇತೆ ನಮಗೆ ಅನುಮೋದಿಸಿದ್ದರು ಕಂಬಿಯಾಣ ಸ್ವಕದಲ್ಲಿದೆ ಅವಾಗ ನೋಡಿ ನಾವು ಕೊಡಿತಗಳಾಗ ಶಿಸಿ ಕ್ಯಾಮೆರಾ ಕಂಡಿಸಲಾಗುತ್ತದೆ ಅದಕ್ಕೆ ಅನ್ನು ಹೆಚ್ಚಿನ್ನವಾದ ಉಪ್ಪನಾವ್ ಕಾರ್ಯಕ್ರಮ ದರಗಿರಲಿರುವ ಸಾಧ್ಯವಿಲ್ಲ ಬಾಬು ಜಗಜೀವನ್ ಅವರು ಜಿಲ್ಲೆಯ ಸಾವಿರದ ಮಾದರಿಗಳನ್ನು ಜಿಲ್ಲಾಡಳಿತಗಳಿಗೆ ಸುಮಾರು ಹತ್ತು ಜಿಲ್ಲೆಗಳಲ್ಲಿ ಸಾವಿರದ ಕೋಟಿ ರೂಪಾಯಿ ಮೌಲ್ಯದ ಜಿಲ್ಲೆಗಳಲ್ಲಿ ಸಾವಿರದ ಕೋಟಿ ರೂಪಾಯಿ ಮೌಲ್ಯದ ಜಿಲ್ಲಾ ಪಂಚಾಯತ್ ಅಧಿಕಾರಿಗಳಿಗೆ ಸೂಚನೆ ನೀಡಿದ್ದಾರೆ ರನ್ನು ಸಾರಿಗೆ ನೀಡಿದ ಅವರು ಸಂಜೆ ಅಂತಿಮ ಕಂಪನಿಗಳು ಹಾಗೂ ಸಾರಿಗೆ ಸಂಬಂಧಿಸಿದಂತೆ ಸಾರಿಗೆ ಸಂಬಂಧಿಸಿದಂತೆ ಸಾರಿಗೆ ಸಂಬಂಧಿಸಿದಂತೆ ಹಾಗೂ ಸಾರಿಗೆ ಸಂಬಂಧಿಸಿದಂತೆ ಸಾರಿಗೆ ಸಂಬಂಧಿಸಿದಂತೆ ಸಾರಿಗೆ ಸಂಬಂಧಿಸಿದಂತೆ ಸಾರಿಗೆ ಸಂಬಂಧಪಟ್ಟಿದೆ ತರದಲ್ಲಿ ಇವು ಎಷ್ಟು ಖರ್ಚು ಆಗುತ್ತದೆ ಮತ್ತು ಅದರ ಉತ್ಪನ್ನಗಳು ಎಷ್ಟು ಸಿಗುತ್ತದೆ ಸಮರದ ಒಂದು ಕೇಜಿಗೆ ಹತ್ತು ಸಾವಿರ ರನ್ನು ಬಾಳದ ಹಾಗೂ ಇನ್ನೂ ಹದಿನಾರು ಕೋಟಿ ನಾಲ್ಕು ಲಕ್ಷಕ್ಕೂ ಅಧಿಕ ಕೋಟಿ ಕೆಲಸ ಇಲ್ಲ ಏನು ಇಲ್ಲ ಬರೆ ನೀರು ಬಿಡುತ್ತಿದ್ದೇನೆ ಬಂದಿದೆ ಏನು ಬರಾವಿಗೆ ನೀವು ಹತ್ತು ಏಕರದಲ್ಲಿ ಶ್ರೀಗಂಧದ ಗಿಡಗಳ ಉತ್ಪನ್ನ ಎಷ್ಟು ತಗೊತ್ತೀರಿ ಮತ್ತು ನಮ್ಮ ರೈತರಿಗೆ ನಿಮ್ಮ ಸಂದೇಶ ಏನು ಕೊಡುತ್ತೀರಿ ನಮ್ಮ ರೈತ ಬಾಂದರಿಗಿನ ವಿಧಿಸಿದೆ ನಾರ್ಕ್ ಹದಿನಾರು ಸಾವಿರದ ಒಂದು ನೂರ ಹದಿನಾರು ಮಂದಿ ಮೃತಪಟ್ಟಿದ್ದು ಸಾವಿರದ ಒಂದು ನೂರ ಹದಿನಾರು ಮುವತ್ತ್’ಒಂದು ಸಾವಿರದ ಒಂದು ನೂರ ಹದಿನಾರು ಸಾವಿರದ ಒಂದು ನೂರ ಹದಿನಾರು ಸಾವಿರದ ಒಂದು ನೂರ ಹದಿನಾರು ಸಾವಿರದ ಒಂದು ನೂರ ಹದಿನಾರು ಸಾವಿರದ ಒಂದು ನೂರ ಹದಿನಾಲ್ಕು ಸಾವಿರದ ಒಂದು ನೂರ ಹದಿನಾಲ್ಕು ಸಾವಿರದ ಒಂದು ನೂರ ಹದಿನರು ಸಿರುವ ಹದಿನಾಲ್ಕು ರಿಂದ ಹದಿನಾಲ್ಕು ರವರೆಗೆ ನಾಲ್ಕು ರಿಂದ ಹದಿನಾಲ್ಕು ರವರೆಗೆ ನಾಲ್ಕು ರಿಂದ ಹದಿನಾರು ರವರೆಗೆ ನಾಲ್ಕು ರಿಂದ ಹದಿನಾರು ರಿಂದ ರಿಂದ ರಿಂದ ರವರೆಗೆ ನಾಲ್ಕು ರಿಂದ ರವರೆಗೆ ನಾಲ್ಕು ರಿಂದ ರಿಂದ ರಿಂದ ರಿಂದ ರಿಂದ ರಿಂದ ರಿಂದ ರಿಂದ ರಿಂದ ರಿಂದ ರಿಂದ ರಿಂದ ರಿಂದ ರಿಂದ ರಿಂದ ರಿಂದ ರಿಂದ ರಿಂದ ರಿಂದ ರಿಂದ ರಿಂದ ರಿಂದ ಮುಖ್ಯಮಂತ್ರಿ ಅವರು ಮಾತನಾಡಿದ ಅವರು ಮಾತನಾಡಿದ ಅವರು ಮಾತನಾಡಿದರು ಹದನಾರು ವರ್ಷ ಹದಿನಾರು ವರ್ಷ ತಡೆದು ಅವರು ಮೂವತ್ತು ರಿಂದ ಕೋಟಿ ರೂಪಾಯಿಗಳನ್ನು ಗಳಿಸುತ್ತಾರೆ ಮೂರು ನಿಯಮಗಳು ಕರ್ನಾಟಕ ಮಹಾರಾಷ್ಟ್ರ ಎಲ್ಲ ಸೇತುಕರಾಗಿದ್ದರು ಬಾಂಧವರಿಗೆ ಇದು ಚೆನ್ನಾಗಿ ಮಾಹಿತಿಯನ್ನು ಕೊಟ್ಟಿದ್ದಕ್ಕೆ ನಿಮಗೆ ನಾನು ಧನ್ಯವಾದ ಹೇಳುತ್ತೇನೆ ಕೆಲವು ದೈತಿಗೆ ಮನವರಿಕೆ ಆಗುವುದಿಲ್ಲ ಧರಿಸಿ ಹಾಗೂ ಸುಮಾರು ಒಂದು ಸಾವಿರದ ಒಂಬತ್ತು ನೂರ ಹದಿಮೂರು ಮಂದಿ ಸೋಂಕಿನಿಂದ ಸಂಚಿತರಾಗಿದ್ದಾರೆ\n",
      "\n",
      "File: SandalWoodNewsStories_291.txt\n",
      "Similarity Score: 0.9093424081802368\n",
      "Answer: ಬೆಂಗಳೂರು ನಗರ ಪೊಲೀಸ್ ಕಮಿಷನರ ಕಚೇರಿಯ ಕೂಗಳತೆ ದೂರದಲ್ಲಿ ಕಳ್ಳತನ ನಡೆದಿದೆ ಮಚ್ಚು ದೊಣ್ಣೆಗಳಿಂದ ಭದ್ರತಾ ಸಿಬ್ಬಂದಿಯನ್ನ ಬೆದರಿಸಿ ಎಂಎಸ್ಸಿ ಅಪಾರ್ಟ್ಮೆಂಟ್ನಲ್ಲಿ ಗಂಧದ ಮರವನ್ನು ಕಳ್ಳರು ಕದ್ದೊಯ್ದಿದ್ದಾರೆ ಇದೇ ತಿಂಗಳು ಇಪ್ಪತ್ತೊಂದನೇ ತಾರಿಕೂ ಘಟನೆ ನಡೆದಿದ್ದು ಇದು ತಡವಾಗಿ ಬೆಳಕಾಗು ಬಂದಿದೆ ವಿಧಾನಸೌಧ ಠಾಣೆಯಲ್ಲಿ ಪ ನಗರದಲ್ಲಿ ನಿನ್ನೆ ಸುದ್ದಿಗೋಷ್ಠಿಯಲ್ಲಿ ಮಾತನಾಡಿದ ಅವರು ಕೇಂದ್ರ ಸರ್ಕಾರ ಅನುಮೋದನೆ ನೀಡಿದ್ದಾರೆ\n",
      "\n",
      "File: SandalWoodNewsStories_294.txt\n",
      "Similarity Score: 0.9428157210350037\n",
      "Answer: ನಾಲ್ಕು ವರ್ಷ ಆದ್ಮೇಲೆ ಪ್ರೋಣ ಗೌರಮಟ್ಟಿಗೆ ನೀವು ಸಾಲ ಕೊಡುವ ರೀತಿ ಬೆಳೆದಿರುತ್ತದೆ ಬಂದ ಜಾಗದಲ್ಲಿ ಮಾಡಬೇಕು ಕೆಜಿಸಿದರೆ ಕಾರ್ಯಕ್ರಮದಲ್ಲಿ ಮಾತನಾಡಿದ ಅವರು ಕಾರ್ಯಕ್ರಮಗಳನ್ನು ಕೈಗೊಳ್ಳಲಾಗಿದೆ\n",
      "\n",
      "File: SandalWoodNewsStories_295.txt\n",
      "Similarity Score: 0.8812187910079956\n",
      "Answer: ಸ್ನೇಹಿತರೆ ನಮ್ಮ ವಿಸ್ಮಯಕನಾಡ ಚಾನೆಲ್ನನ್ನು ಸಬ್ಸ್ಟೈಬ್ ಮಾಡಿ ಹಾಗಿನೇ ಬೆಲ್ ಭಟನಾನುಕೂಡ ಕ್ಲಿಕ್ ಮಾಡಿ ಇದರಿಂದ ನಾವು ಅಪ್ರೊಡ್ ಮಾಡಿದ ವಿಡಿಯೋವನ್ನು ನೀವು ಎಲ್ಲರಿಗಿಂತ ಮೊದಲು ನೋಡಬಹುದು ನಂದಿನ ನಶಿಸುವುದರೆ ಇನ್ನು ಕೆಲವು ಕಾಲಾಂತರದಲ್ಲಿ ಮಾಯಾವಾಗಿರುವುದು ಆದರೂ ಹಿಂದಿಗೆ ಭಾರತದ ಮಣ್ಣಲ್ಲಿ ಅತ್ಯಂತ ಬೆಲೆಬಾಳುವ ಸಂಬಂಧಗಳಿವೆ ಅವುಗಳಲ್ಲಿ ಒಂದಾಗಿದೆ ದರಲ್ಲೂ ಸಮೃದ್ಧವಾಗಿರುವ ಮತ್ತು ಉತ್ತಮಗುಳ ಮಟ್ಟದ ರಕ್ತ ಚಂದನದ ಮರಗಳು ಆಂಧ್ರಪ್ರದೇಶದ ಶೇಷ ಚಲನಚಿತ್ರಗಳಲ್ಲಿ ಮಾತ್ರ ಬೆಳೆಯುತ್ತವೆ ದಕ್ಷಿಣ ಭಾರತದಲ್ಲಿ ಹೆಚ್ಚಾಗಿ ಬೆಳೆಯುವ ಆಶ್ರಿಗೊಂದದ ಮರಕ್ಕಿಂತಲೂ ಈ ರಕ್ತ ಚಂದನದ ಮರಕ್ಕಿಂತ ಚಂದನದ ಮರಕ್ಕೆ ಹೆಚ್ಚಿನ ಬೇಡಿಕೆ ಕಾಣಸಿಗದ ಅಪರೂಪದ ಮತ್ತು ಬೆಲೆಯನ್ನು ಕೇಳಿದರೆ ಕಳ್ಳಸಾಗಣಿಕೆ ಮೂಲಕ ಮಾರಾಟ ಮಾಡುವ ಇರತ್ತ ಚಂದನದ ಒಂದು ಕೆಜಿ ಕಟ್ಟಿಗೆ ಇಪ್ಪತ್ತು ರಿಂದ ಮೂವತ್ತು ಸಾವಿರ ಬೆಲೆ ಬರುತ್ತದೆ ದಷ್ಟೆ ಪುಷ್ಟವಾಗಿ ಬೀಳಿದ ಒಂದು ರಕ್ತ ಚಂದನದ ಮರದಿಂದ ಇಪ್ಪತ್ತು ರಿಂದ ಮೂವತ್ತು ಕೆಜಿಯಷ್ಟು ಕಟ್ಟಿಗೆಗಳು ಸಿಗುತ್ತದೆ ಕೇರಳದಲ್ಲಿ ಕೊರೋನಾ ಸೋಂಕು ಹರಡಿರುವ ಸಾಧ್ಯತೆ ಇದೆ ಸ್ಟೇಟ್ ಅವರು ಮಾತನಾಡಿದ ಅವರು ಸರ್ಕಾರಿ ಸಮಾರಂಭದಲ್ಲಿ ಮಾತನಾಡಿದ ಅವರು ಮಾತನಾಡಿದರು ಅದರಲ್ಲೂ ಚೀನಾವು ಚಂದನದ ಬೆನ್ನುಬಿದ್ದಿದ್ದು ಮಾತ್ರ ಸುಳ್ಳಲ್ಲ ಏಕೆಂದರೆ ಚೀನಾ ಚೀನಾ ಚಂದನ ಮರವನ್ನು ಕೈಗಾರಿಕೆಗಳಲ್ಲಿ ಮತ್ತಿತರ ಕ್ಷೇತ್ರಗಳಲ್ಲಿ ಹೆಚ್ಚಾಗಿ ಬಳಸಿಕೊಳ್ಳುತ್ತದೆ ಚೀನಾ ಮಾತ್ರವಲ್ಲದೆ ಜಪಾನ್ ಮತ್ತು ಮಂಗೋಲಿಯಗಳಲ್ಲಿಯೂ ಪ್ರಸ್ತುತ ಚಂದನವನ್ನು ಹಲವರು ಔಷಧಿಗಳ ಬಳಕೆಯಲ್ಲಿ ಉಪಯೋಗಿಸಲಾಗುತ್ತದೆ ದೇವೇಗೌಡ ಅವರು ಮಾತನಾಡಿದ ಅವರು ಜಿಲ್ಲೆಯ ಸರ್ಕಾರಿ ಸಮಿತಿ ಸಭೆಯಲ್ಲಿ ಮಾತನಾಡಿದ ಅವರು ಜಿಲ್ಲಾಧಿಕಾರಿ ಡಾ ಕಳಸಾಗಾಣಿಕೆ ತಪ್ಪಿಸಲು ಸಾಕಷ್ಟು ನಿಯಮಗಳನ್ನು ರಚಿಸಿದರೂ ಕೂಡ ರಾಜಕಾರಣಿಗಳ ಪ್ರಭಾವ ಅಧಿಕಾರಿ ಮತ್ತು ಪೊಲೀಸರ ಲಂಚಕೋರತನಕ್ಕೆ ಈ ನಿಯಮಗಳಲ್ಲ ಗಾಡಿಗೆ ತೂರಿದಂತಾಗಿದೆ ಬೇಲಿ ದುಹೊಲಮೈದಂತೆ ಎಂಬ ಗಾದೆ ಈ ರಕ್ತ ಚಂದನದ ವಿಷಯದಲ್ಲಿ ನಿಜವೇನಿಸುತ್ತದೆ ಕೇರಳದಲ್ಲಿ ಕೊರೋನಾ ಸೋಂಕು ಹರಡಿರುವ ಸಾಧ್ಯತೆ ಇದೆ ಸಂದೋಷದಲ್ಲಿ ಕೇಂದ್ರ ಸರ್ಕಾರ ಸರ್ಕಾರದ ಮುಂದಿನ ಇಪ್ಪತ್ತ್’ನಾಲ್ಕು ಗಂಟೆಗಳಲ್ಲಿ ಕೇವಲ ಒಂದು ಸಾವಿರದ ಒಂಬತ್ತು ನೂರ ಹದಿಮೂರು ಮಂದಿ ಸೋಂಕು ಪ್ರಕರಣಗಳು ಸಂಖ್ಯೆ ಒಂದು ಸಾವಿರದ ಒಂದು ನೂರ ಹದಿನಾಲ್ಕು ಮಂದಿ ಸಾವಿಗೀಡಾಗಿದ್ದಾರೆ ಕೇರಳದಲ್ಲಿ ಕೊರೋನಾ ಸೋಂಕು ದೃಢಪಟ್ಟಿದ್ದು ಸಾವಿರದ ಕೋಟಿ ರೂಪಾಯಿ ವೆಚ್ಚದಲ್ಲಿ ಕೇಂದ್ರಗಳಲ್ಲಿ ಸಾವಿರದ ಕೋಟಿ ರೂಪಾಯಿಗಳ ಅರಕ್ತ ಚಂದನವನ್ನು ಕಾನೂನು ಬಾಹಿರವಾಗಿ ಸಾಗಿದೆ ಎಂದು ಸಚಿವರು ಸುರೇಶ್ ಅಂಗಡಿ ನೀಡಿದ್ದಾರೆ ಕೇರಳದಲ್ಲಿ ನಿನ್ನೆ ಸುದ್ದಿಗಾರರೊಂದಿಗೆ ಮಾತನಾಡಿದ ಅವರು ಮುಖ್ಯಮಂತ್ರಿ ಹಾಗಾದರೆ ಪ್ರಪಂಚದಲ್ಲಿ ಅತ್ಯಂತ ಬೇಲಿ ಬಾಳುವ ಮರ ಇದೇ ರಕ್ತ ಚಂದನವಾಗಿದೆ ಎಂದು ನೀವು ಕೇಳಬಹುದು ಇದಕ್ಕೆ ಉತ್ತರ ಇಲ್ಲ ಅತ್ತ ಚನ್ನಕ್ಕಿಂತಲೂ ದುಪ್ಪಟ್ಟು ಮೌಲ್ಯವನ್ನು ಹೊಂದಿದೆ ಕೇರಳದಲ್ಲಿ ನಿನ್ನೆ ಸುದ್ದಿಗಾರರೊಂದಿಗೆ ಮಾತನಾಡಿದ ಅವರು ಮಾತನಾಡಿದರು ದರಗಿರಲಿರುವ ಮತ್ತು ಸಾಮಾಜಿಕ ವಿಧಾನಸಭಾ ಕ್ಷೇತ್ರಗಳಲ್ಲಿ ಮತ್ತು ಸಾಮಾಜಿಕ ವಿಧಾನಸಭಾ ಕ್ಷೇತ್ರಗಳಲ್ಲಿ ಮತ್ತು ಕೇಂದ್ರಗಳಲ್ಲಿ ಸಾಮಾಜಿಕ ಅಂತರ ಕಾಪಾಡುವ ಕಾರ್ಯಕ್ರಮಗಳನ್ನು ಕೈಗೊಳ್ಳಲಾಗುತ್ತಿದೆ ಗಿಟರ್ ರೀತಿಯ ಸಂಗೀತ ವಾದ್ಯಗಳನ್ನು ನೇರಿಸಲು ಉತ್ತರಿಸಲಾಗುತ್ತದೆ ಇವು ಹೇಗನ್ಸ್ ಸಿಂಗಿ ವಿಡಿಯೋ ಎಂಬುದನ್ನು ಕಮಲ್ನಲ್ಲಿ ಬರೀರಿ ಹಾಗೆ ಈ ವಿಡಿಯರ್ ನಿಮಗೆ ಎಷ್ಟಾವಾದಲ್ಲಿ ಲೈಟ್ ಮಾಡಿ ಶೇರ್ ಮಾಡಿ ಮತ್ತು ನಮ್ಮ ಚಾನೆಲ್ ಅನ್ನು ಸತ್ಸತ್ ಸೈಟ್ ಮಾಡಿ ವೆಚ್ಚನೆಗಾಗಿ ಧನ್ಯವಾದಗಳು\n",
      "\n",
      "File: SandalWoodNewsStories_296.txt\n",
      "Similarity Score: 0.884175717830658\n",
      "Answer: ಮುಖ್ಯಾಂಶಗಳು ಸರ್ಕಾರಿ ಸಮಾರಂಭದಲ್ಲಿ ಸಾಮಾಜಿಕ ಸಂದರ್ಭಗಳಲ್ಲಿ ಬೆಳೆಗಿಳಬಾಗಿಲ್ಲ ನಮ್ಮ ಪ್ರದೇಶಕ್ಕೆ ಬರುತ್ತಿಲ್ಲ ಬೆಳೆಯುತ್ತಿಲ್ಲ ದೀರ್ಘ ಕಾಲದ ಬೆಳೆಯನ್ನು ನಾಲ್ಕು ವಿಚಾರಗಳನ್ನು ಮಾಡುತ್ತಿವೆ ಈ ಒಂದು ದಿನ ಶೇಲೆ ರಕ್ತ ಚಿನ್ನನ್ನು ಸರಿಗಂದು ಕೂಡ ಅಧಿಕೃತ ಆಗಿಲ್ಲ ಈ ಬೆಳೆಗಳನ್ನು ಆ ಸೂರಪುರದ ಪ್ರಕ್ರಿಯಾತಿ ಹೊಯ್ದರಿಗೆ ತಕಲಾ ಕಂದರೂರು ಬೆಳೆದಿದ್ದಾರೆ ಮೂಲಕ ಸಾದರ ಪಡಿಸುತ್ತಿದೆ ಸ್ಟೇಟ್ ಸ್ಟೇಟ್ ಸರಣಿ ಕಂಬಿ ಮಾಡಿ ಚಿತ್ರನಂತಪುರದಲ್ಲಿ ನಿನ್ನೆ ಸರಿಯಾದ ಸಮಾರಂಭದಲ್ಲಿ ನಿನ್ನೆ ಸಾವಿರದ ಕೋಟಿ ರೂಪಾಯಿ ಮೌಲ್ಯದ ಸಾಧ್ಯತೆ ಇದೆ ಸರಿ ಪ್ರೆಸ್ಟ್ ನಾವು ಪ್ರೆಸೆಂಟರ್ ನಾವು ಕಾಂಪಿಟೇಷನ್ ಆಗಿರೇಟ್ ಆಸ್ಪತ್ರೆಯನ್ನು ಕಂಡಿದೆ ಸಾಂಗ್ಟಾಸ್ನಲ್ಲಿ ಸಿಕ್ಕಿಂತ ಮಾಡಿದ್ದು ಮಾಡುವುದು ಬರುತ್ತದೆ ರಲ್ಲಿ ಏನು ಮಾಡಿದ್ದರು ಸೇರ್ಫೈನಲ್ ಒಂದಿಲ್ಲ ಒಂದು ನೂರ ಇಪ್ಪತ್ತ್’ಒಂದು ಪಟ್ಬ್ಯಾಲೆಂಡ್ ಸಿಗಿಲ್ಲ ನಿರಸಿಗುವುದಿಲ್ಲ ಸಾಗಿದೆ ಸ್ಟೋರ್ಗೆ ಜುಪೇಶನ್ ನಾವು\n",
      "\n",
      "File: SandalWoodNewsStories_297.txt\n",
      "Similarity Score: 0.8773290514945984\n",
      "Answer: ಏನೂರು ಪುಷ್ಪಾ ಸಿನಿಮಾ ನೋಡಿ ರಕ್ತ ಚಂದನ ವ್ಯವಹಾರದ ಬಗ್ಗೆ ನಿಮಗೆ ಗೊತ್ತಿರಬಹುದು ರಕ್ತ ಚಂದನ ನೋಡಿದಷ್ಟು ಸಿಂಗ್ ಬಲ್ಲಲ್ಲ ಅದರ ಮಾರ್ಕೆಟ್ ತುಂಬಾ ನೆದುಳ್ಳು ಹೀಗಾಗಿ ಇದಕ್ಕೆ ವೇದಿಕೆ ಕಮ್ಮಿಯಾಗುತ್ತೆಯನ್ನು ಭಯಾನೆ ಇಲ್ಲ ಭಾರತದಾದ್ಯಂತ ಬೆಳೆಯುವುದಕ್ಕೆ ಸಾಧ್ಯ ಇರು ರಕ್ತ ಚಂದನ ನೋಡಿದಷ್ಟು ಸಿಂಗ್ ಅಲ್ಲಿನ ಕೆಡಿಸಿಕೊತ್ತದೆ ದರಲು ಕಾರ್ಯಕ್ರಮದಲ್ಲಿ ನಿನ್ನೆ ಸುದ್ದಿಗಾರರೊಂದಿಗೆ ಮಾತನಾಡಿದ ಅವರು ಮಾತನಾಡಿದರು ವಿಶ್ವದಾದ್ಯಂತ ಈ ರಕ್ತ ಚಂದನಕ್ಕೆ ತುಂಬಾನೆ ವೇಳೆ ಕೆಂಪು ಚಂದನ ಬೆಳೆಯ ಬಗ್ಗೆ ನಿಮಗೆ ಗೊತ್ತಿರದ ಕೆಲವೊಂದು ವಿಶೇಷ ವಿಚಾರಗಳನ್ನು ನಾವು ಮಿಂಗೀಕಾ ತಿಳಿಸಿದೆ ದರಗಿರಲಿ ನಿನ್ನೆ ಸುದ್ದಿಗಾರರೊಂದಿಗೆ ಮಾತನಾಡಿದ ಅವರು ಮಾತನಾಡಿದರು ಸಿಕಲ್ ಅಂಶಗಳನ್ನು ಸಂಗೀತ ಪೀಠೋಪಕರಣಗಳನ್ನು ಮಾಡುವುದಕ್ಕೆ ಬಳಕೆ ಮಾಡುತ್ತಾರೆ ದರಲ್ಲಿ ನಿನ್ನೆ ರಾತ್ರಿ ನಡೆದ ಸಂಜೆ ನಾಲ್ಕು ಗಂಟೆಗೆ ಮುನ್ನಡೆಯಲ್ಲಿ ಕಾರ್ಯಕ್ರಮಗಳು ಮತ್ತು ಕೊಡಗಿನಲ್ಲಿ ಕೇಂದ್ರ ಸರ್ಕಾರ ಕಾರ್ಯಕ್ರಮಗಳನ್ನು ಕೈಗೊಳ್ಳಲಾಗಿದೆ ಚಿತ್ರಲಾಗಿದ್ದು ಇದರಿಂದ ಜಿಲ್ಲೆಯ ಕೆಂಪು ಚಿತ್ರದುರ್ಗ ಜಿಲ್ಲೆಯ ಕೆಂಪು ಚಿತ್ರದಲ್ಲಿ ಕಳೆದ ಜಿಲ್ಲೆಯಲ್ಲಿ ಕೆಂಪು ಚಿತ್ರದಲ್ಲಿ ಕೆಂಪು ಚಿತ್ರದಲ್ಲಿ ಕೆಂಪು ಚಿತ್ರದಲ್ಲಿ ಕೆಂಪು ಚಿತ್ರದಲ್ಲಿ ಕೆಂಪು ಚಿತ್ರದಲ್ಲಿ ಕೆಂಪು ಚಿತ್ರದಲ್ಲಿ ಕೆಂಪು ಚಿತ್ರದಲ್ಲಿ ಮೊದಲೆರಡು ವರ್ಷಗಳ ಕಾಲ ಕೆಂಪು ಚಿತ್ರದಲ್ಲಿ ಕೆಂಪು ಚಿತ್ರವನ್ನು ಕೊಡುತ್ತ ಕೇರಳದಲ್ಲಿ ನಿನ್ನೆ ನಡೆದ ಸಂಜೆ ನಾಲ್ಕು ವರ್ಷಗಳ ಕಾಲ ಮತ್ತು ಕೆಂಪು ಚಂದನವನ್ನು ನೆಟ್ಟ ತಕ್ಷಣ ನೀರುಣಿಸಲಾಗುತ್ತದೆ ಕೇವರಿಗೆ ಕೆಂಪು ಚಂದನದ ಎಲೆಗಳನ್ನು ಹುಡುಗಳು ತಿಂದು ಬೆಳೆಗಳನ್ನು ನಾಶ ಮಾಡುತ್ತದೆ ಕೆಂಪು ಚಂದನ ಒಂದು ಮರದ ಕಾಂಡದ ಮಧ್ಯಭಾಗದಲ್ಲಿರುವ ತಿರುಳನ್ನು ಔಷಧಿಯಾಗಿ ಬಳಸುತ್ತಾರೆ ಕೆಂಪು ಚಂದನವನ್ನು ಜಿರ್ನಾಂಗವ್ ಯುಹದ ಸಮಸ್ಯೆಗಳು ಕೆಮ್ಮಿಗೆ ಚಿಕಿತ್ಸೆ ನೀಡುವುದಕ್ಕೂ ಬಳಕೆ ಮಾಡುತ್ತಾರೆ ಅನಿಯಗಳಲ್ಲಿ ಸುವಾಸನೆಯಾಗಿ ಕೂಡ ಬಳಸುತ್ತಾರೆ ಸಂಗೀತ ಉಪಕರಣಗಳ ತಯಾರಿಕೆಯನ್ನು ಕೂಡ ಇದನ್ನ ಹೆಚ್ಚಾಗಿ ಬಳಸುತ್ತಾರೆ ಹೀಗಾಗಿ ಇಷ್ಟೆಲ್ಲ ಅವಿಶೇಷ ಗುಣಗಳಿರುವಂತಹ ರಕ್ತ ಚಂದನಕ್ಕೆ ಭಾರಿ ಡಿ ಮೈಂಡಿರೋದು\n",
      "\n",
      "File: SandalWoodNewsStories_298.txt\n",
      "Similarity Score: 0.8818926811218262\n",
      "Answer: ಮರಣ ಪ್ರಕರಣದಲ್ಲಿ ನಿನ್ನೆ ಸುದ್ದಿಗೋಷ್ಠಿಯಲ್ಲಿ ಮಾತನಾಡಿದ ಅವರು ಕೇಂದ್ರ ಸರ್ಕಾರದ ಮುಖ್ಯಮಂತ್ರಿ ಅವರು ಸಮಾರಂಭದಲ್ಲಿ ಸರ್ಕಾರದ ಮುಖ್ಯಮಂತ್ರಿ ಬಿ ನಿನ್ ಬಿಳೆ ಹಾಕದಿರು ರೈತರಿಗೆ ಲಾಸ್ ಸಾವಿರ ಕೋಟಿ ಕೇರಳದಲ್ಲಿ ಕೊರೋನಾ ಸೋಂಕು ಹರಡದಂತೆ ಸಾವಿರದ ಒಂದು ನೂರ ಹದಿನಾಲ್ಕು ಮಂದಿ ಸೋಂಕು ಪ್ರಕರಣಗಳು ದೃಢಪಟ್ಟಿದ್ದು ಇದು ಸಾವಿರದ ಒಂದು ನೂರ ಹದಿನಾಲ್ಕು ಮಂದಿ ಸೋಂಕು ಪತ್ತೆ ಹತ್ತು ಸಾವಿರದ ಒಂದು ನೂರ ಹತ್ತೊಂಬತ್ತು ಮಂದಿ ಸೋಂಕು ಪತ್ತೆ ಹತ್ತೊಂಬತ್ತು ಸ್ವಲ್ಪ ದಿವಸ ಹೊಂದಿದೆ ಇದರಲ್ಲಿ ನಾವು ಕೋಟಿ ಘಟಲೆ ದೂರ್ನಡಬಹುದು ನಮ್ ತಲೆ ಮೇಲೆ ಬರುತ್ತದೆ ರಲ್ಲಿ ನಿರಂತರವಾಗಿ ಮಾಡಿರಲಿಲ್ಲ ಕೆಲಸಿಯಲ್ಲಿ ಕೋವಿಡ್ ಸೋಂಕು ನಿಯಂತ್ರಣ ಕೇಂದ್ರದಲ್ಲಿ ಸಾರ್ವಜನಿಕರು ಸಹಕಾರಿ ಸಂಬಂಧಿಸಿದಂತೆ ಸಚಿವ ಸುರೇಶನ್ ಅಂಗೀಕರಿಸಿದರು ಸರಿಯಲ್ಲಿ ನಿನ್ನೆ ಸುದ್ದಿಗಾರರೊಂದಿಗೆ ಮಾತನಾಡಿದ ಅವರು ಜಿಲ್ಲೆಯಲ್ಲಿ ಸಾರ್ವಜನಿಕರು ಮತ್ತು ಸಾರ್ವಜನಿಕರು ಮತ್ತು ಸಾರ್ವಜನಿಕರು ಮತ್ತು ಸಾರ್ವಜನಿಕರು ಸಹಕಾರಿಯಾಗಬೇಕು ಎಂದು ಅವರು ಮುಖ್ಯಮಂತ್ರಿ ಬಿ ಮಾರ್ಕ್ ಅವರು ಮಾತನಾಡಿದರು ಚಿತ್ರನಂತಹ ನೀರಿನ ನೀರಿನ ನೀರಿನ ನೀರಿನ ಗಿಡಬಾರದು ಬೇಸಿಗಲ್ಲಿ ದಿನ ಬಿಡುತ್ತಿದೆ ಇವೆಲ್ಲ ಕೆಲವು ಮಿಕ್ಸ್ ಮಾಡಿ ನಮ್ಮಿ ನೀರಿನ ಜಾಸ್ತಾಪ್ರದಲ್ಲಿ ಮಾಡಿರುವ ಮಾಡಿದ್ದೇವೆ ದರಗಳಲ್ಲಿ ಕೊರೋನಾ ಸೋಂಕಿನಿಂದ ಸಾವಿರದ ಕೋಟಿ ರೂಪಾಯಿ ಮೌಲ್ಯದ ಮೂರು ನೂರ ಎಂಬತ್ತು ಕೋಟಿ ರೂಪಾಯಿ ಮೌಲ್ಯದ ಕೇಂದ್ರಗಳನ್ನು ಸರ್ಕಾರ ಕೈಗೊಳ್ಳಲಾಗುತ್ತಿದೆ ಸಿಕ್ಕಿದ್ದರು ಎಂಬತ್ತು ಸಾವಿರ ಕಾಯ್ದುಕೊಳ್ಳುವ ಸಾಧ್ಯತೆ ಇದೆ ಸಾಗಿದ್ದರೆ ಅವರು ಮಾತನಾಡಿದರು ಕಳೆದ ಹದಿನಾಲ್ಕು ಕಂಪನಿಗಳು ಸಾವಿರದ ಕೋಟಿ ರೂಪಾಯಿ ಮೀಸಲಾತಿಯಿಂದ ಸಾವಿರದ ಕೋಟಿ ರೂಪಾಯಿ ಮೀಸಲಾತಿಯಿಂದ ಕೊಡುಬಿದ್ದಿದ್ದರೆ ಕಾರಣವಾಗಿದೆ ರಲ್ಲಿ ನಿನ್ನೆ ಸಾರ್ವಜನಿಕ ಸಂಪರ್ಕಿಸಿ ಸರ್ಕಾರದ ಮುಂದಿನ ಕೊಡುವ ಸಾಧ್ಯತೆ ಇದೆ ನೋಬಡಪಾಯಿ ಆಗ್ಬಿಡುತ್ತಲೇ ಇದು ಮೂಲತಾ ನಿಮಿಷಗಳಲ್ಲಿ ನಿರಾಕರಿಸಿದ್ದರು ಆಮೇಲೆ ಯಾರೊ ಒಬ್ಬಂದು ರೂಪಣ್ಯಾತ್ಮಕಾರ್ಯ ಪಿರಿಕರೆಂಟ್ ಮಾಡಿದರು ಆರಿ ಒಳಗಾಗಿ ತಿಂಗಳಿನಿಂದ ಎಷ್ಟು ಡಿಗಿದ್ದರೆ ಕೇರಳಿ ಸರ್ಕಾರಿ ಸಮಯದಲ್ಲಿ ಸಾಮಾಜಿಕ ಅಂತರ ಕಾಪಾಡಿಕೊಳ್ಳುವ ಸಾಧ್ಯತೆ ಇದೆ ದರಗಿರಲಿ ಮಾತನಾಡಿದ ಅವರು ಮಾಡಬಹುದು ಸಾಲ ಮಾಡಬಹುದು ಮಾಡಬಹುದು ಇದೇ ತರೆ ಇದು ಸಂಬಂಧಿಸಿದಂತೆ ಸರ್ಕಾರದ ಮೂರು ನೂರ ಹದಿಮೂರು ಮೇಲೆ ಇದರಲ್ಲಿ ಸ್ವಲ್ಪ ನಮಗಿಲ್ ಖರ್ಚಿಗೆ ಬರುತ್ತದೆ ಬೀಚಿತ್ರದ ಮಾಡಿದ ನಂತರ ಸುದ್ದಿಗೆ ಸಂಬಂಧಿಸಿದಂತೆ ಸಾರ್ವಜನಿಕರು ಸಹಕಾರಿಯಾಗಿದ್ದು ಸಹಕಾರಿ ಸಂಬಂಧಿಸಿದಂತೆ ಸಾರ್ವಜನಿಕರು ಸಹಕಾರಿಯಾಗಬೇಕು ಎಂದು ಸಚಿವರು ಸಿದ್ದರಾಮಯ್ಯ ಸಂಬಂಧಿಸಿದರು ರನ್ ಹೌದಿ ದೇಶದ ಜನರಿಗೆ ಸಾಕಿರದ ಎರಡು ನೂರ ಹದಿನಾರು ಮಂದಿಸಿದ್ದು ಇದರಿಂದ ಸಾವಿರದ ಕೋವಿಡ್ ಸೋಂಕು ಪ್ರಕರಣಗಳು ದೃಢಪಟ್ಟಿದ್ದು ಇದರಲ್ಲಿ ಸಾವಿರದ ಕೋಟಿ ರೂಪಾಯಿ ವೆಚ್ಚ ಮಾಡಿದೆ ನಂತರದಲ್ಲಿ ನಿನ್ನೆ ಸುದ್ದಿಗೋಷ್ಟಿಯಲ್ಲಿ ನಿನ್ನೆ ಸುದ್ದಿಗೋಷ್ಟಿಯಲ್ಲಿ ನಿನ್ನೆ ಸುದೀರ್ಘ ಸಂಭವಿಸಿದೆ ಮಾರ್ಕ್ ಮಾಡಿದರೆ ಚೆನ್ನಾಗಿರುತ್ತದೆ ಇದರ ಇಲ್ಲಿದ್ದರೆ ಇದರಲ್ಲಿ ಅವರು ದುರ್ಬಾದಿಲ್ಲ ಕಂಪನಿಗಳು ಹಾಗೂ ಕಂಪನಿಗಳು ಹಾಗೂ ಸಾಮಾಜಿಕ ಅಂತರ ಕಾಯ್ದುಕೊಳ್ಳುವುದು ಸಾಮಾಜಿಕ ಅಂತರ ಕಾಯ್ದುಕೊಳ್ಳುವುದು ಸಾಮಾಜಿಕ ಅಂತರ ಕಾಯ್ದುಕೊಳ್ಳುವುದು ಸಾಮಾಜಿಕ ಅಂತರ ಕಾಯ್ದುಕೊಳ್ಳುವುದು ಸಾಮಾಜಿಕ ಅಂತರ ಕಾಯ್ದುಕೊಳ್ಳುವುದು ಸಾಮಾಜಿಕ ಅಂತರ ಕಾಯ್ದುಕೊಳ್ಳುವುದು ಸಾಮಾಜಿಕ ಅಂತರ ಕಾಯ್ದೆಗೆ ಸಾಮಾಜಿಕ ಕಟಬಗಳು ಸಾಮರ್ಥಿಗಳು ಕ ಚೆನ್ನಾಗಿ ಬೆಳೆಸಿಕೊಂಡರೆ ನಾವು ಸರಿ ಹರಿಯಾಣ ಮತ್ತು ಸರಿಯಾದ ಸಿಬ್ಬಂದಿಯನ್ನು ಸರಿಯಾದ ಅವರು ಮಾತನಾಡಿದರು ಪೊಟ್ಟು ಮಕ್ಕಳು ನೋಡಿ ನೋಡಬೇಕು ಇದರನ್ನು ನೋಡಿ ಮಾಡಿ ಸಾಕ್ಬಿಟ್ಟು ದಿವಸ ದುಡಿದರು ಒಬ್ಬರಿ ಅಪ್ಪತ್ತೆ ಎಂಬ ತೃಪ್ಯ ಎಂದರೆ ಅದರಲ್ಲಿ ಎರಡು ಭಾಗ ಹಿಂದಿರುತ್ತಾರೆ ಸಂಜೆ ನಿಮ್ಮ ಜಿಲ್ಲೆಯ ಸಮಸ್ಯೆ ಕಾರ್ಯಕ್ರಮಗಳನ್ನು ನಿಮಿಷದು ಸಾಧಿಸಿದ್ದರು ಕೊಂಡರಿ ಈ ಒಂದು ಶ್ರೀಗಂಧ ಬೆಳೆದ ತುಂಬಿರುವ ಆದಾಯದ ಹದಿನಾರು ಕೋಟಿ ರೂಪಾಯಿ ಮಾಡಿದ್ದರು ರಾಮಗೆ ಮಕ್ಕಳು ಮೊದಲು ತಿನ್ನುಪಿದ ರಾಮಗೆ ಅದರಾದ ನಂತರ ಇನ್ನೇನು ಅನುಮಾಡಿದಾಗಲಿ ನಿಯಮಗೆ ಮಾಡದೇ ಅನುಮೋದನೆ ನೀಡಿದ್ದರು ಹಾಗಾಗಿ ನಿವೇದನೆ ಬೆಳಿಗಾಗಿ ನಮ್ಮನ್ನು ಚಾಲನೆ ಮಾಡಿ ಮಾಡಿ ಇದರಿಂದ ಬೆಳೆದು ಅವರು ನಿನ್ನ\n",
      "\n",
      "File: SandalWoodNewsStories_299.txt\n",
      "Similarity Score: 0.8908233642578125\n",
      "Answer: ಅಮ್ಮ ನಾವು ಬಡವರಾಗಿ ಹುಟ್ಟುಬಾರದಾಗಿತ್ತು ಯಾತಪ್ಪ ಏನಾಯ್ತು ಈಗ ನಿನಗೆ ಕಡಿಮೆಯಾಗಿದೆ ನಿನಗೆ ಹಾಗಲ್ಲಾ ಮನೆಯಲ್ಲಿ ದುಡ್ಡು ಐಶ್ವರ್ಯಾಗಿ ಎಲ್ಲ ಇರಬೇಕು ಹಾಗಿದ್ದರೆ ಮಾತ್ರ ನೆಮ್ಮದಿಯಾಗಿ ಇರಬೇಕು ಹಾಗೆಲ್ಲ ಹೇಳಬಾರದು ಮುತ್ತು ನಮ್ಮಲ್ಲಿ ಎಷ್ಟು ಇದೆಯೋ ಅದರಲ್ಲಿ ನೆಮ್ಮದಿಯಾಗಿ ಇರಬೇಕು ತುರಾಗಿದೆ ಇಂದು ಹೇಳಿದ್ರು ಅಷ್ಟೇ ಇನ್ನೆಲೆಗೆ ದುಡ್ಡಿನ ಹೆಚ್ಚು ನೀಡಿದೆ ಇನ್ನೆಲೆಗೆ ಎಷ್ಟೇ ಹೇಳಿದ್ರು ಅರ್ಥ ಆಗಲ್ಲ ಬಿಡು ಸಂಪತ್ತು ರಾಶಿ ಬಿದ್ದರೆ ಮಾತ್ರ ಸುಖವಾಗಿ ಪದಕವನ್ನು ಸಂಪತ್ತು ಪ್ರಾಮಾಣಿಕನ್ ಬಳಿ ಬರೋದು ನಿಧನ ದಾರಾಳವಾಗಿ ಹಣಗಳಿಸಬೇಕಾದರೆ ಏನಾದು ಅಡ್ಡದಾರಿ ಹಿಡಿಬೇಕು ನೋಡೋಣ ಅಮ್ಮ ನಾನ್ ಹೋಪರ್ತಿ ಮುಟ್ಟಿದ್ದರು ಲನಿಗೆ ಸಮಯ ಮೀರ್ತಾ ಇದೆ ವ್ಯಾಪಾರ ಕೊಡಬೇಕು ಸ್ವಲ್ಪ ಇರೋ ಮುತ್ತೋ ಹೋದರಾಯಿತು ಸ್ವಲ್ಪ ಹೊತ್ತು ಮಾತಾಡಿಕೊಂಡು ಹೋಗೋಣ ನಿಮಗೆಯನ್ನು ನೀವೆಲ್ಲರೂ ಹಣವನ್ನು ಹಣಕಾಸು ಹೊತ್ತು ಮಾಡಿಕೊಂಡು ಹೋಗೋಣ ನಿಮಗೆ ಏನು ನೀವೆಲ್ಲರೂ ಹಣವನ್ನು ಹೊತ್ತಿದೆ ಅಂಗಯಲ್ಲಿ ಬೆಣ್ಣೆಟ್ಕೊಂಡು ಯಾರಾದರೂ ತುರ್ತು ಹುಡುಕುತ್ತಾರೆನೋ ಸ್ವಲ್ಪ ಯೋಚನೆ ಮಾಡು ಏನು ಏನು ಹೇಳ್ತಾ ಇದೆ ಎನ್ನೇನೋ ನಿನಗೆ ವಿಷಯ ಗುತ್ತಿಲ್ವಾ ದೊರೆಗಳ ಹುಟ್ಟುಹಬ್ಬವನ್ನು ವಿದ್ಯೋಮಣೆಯನ್ನು ಆಚರಿಸಿದರೆ ಆ ದಿನ ಉಡುಗೊರೆ ನೀಡಿದವರಿಗೆ ಎಲ್ಲ ದೊರೆ ಬಂಗಾರದ ನಾಣ್ಯಗಳನ್ನು ಬಾಚಿ ಬಾಚಿಕೊಡುತ್ತಾರೆ ಎಂದು ಅವುಗಳನ್ನು ಬಳಸಿದರು ದರಗಿರಲಿರುವ ಕೋವಿಡ್ ಸೋಂಕು ನಿಯಂತ್ರಣ ಕೇಂದ್ರದಲ್ಲಿ ಸಾವಿರದ ಕೋಟಿ ರೂಪಾಯಿ ವೆಚ್ಚದ ಕುರಿತು ಕೇಂದ್ರದಲ್ಲಿ ಸರ್ಕಾರ ಕೈಗೊಂಡಿದ್ದರು ಕಾಳಿಯನ್ನು ಶುದ್ದೀಕರಿಸಿ ಒಳ್ಳೆ ಆರೋಗ್ಯ ನೀಡುತ್ತದೆ ಅಮೂಲ್ಯ ವರ್ಷ ಸಂತತಿ ಬೇಕೆಂದರೆ ಸುಲಭವಾಗಿ ಸಿಗುವುದಿಲ್ಲ ಅಂತ ಹೇಳಿದ್ದಾರೆ ಕೇರಳದಲ್ಲಿ ಕೊರೋನಾ ಸೋಂಕು ಹರಡಿರುವ ಸಾಧ್ಯತೆ ಇದೆ ದೇವರು ಸಾಮಾಜಿಕ ಅಂತರ ಕಾಯಿದೆ ಸಾಮಾಜಿಕ ಅಂತರ ಕಾಯಿದೆ ಸಾಮಾಜಿಕ ಅಂತರ ಕಾಯ್ದುಕೊಳ್ಳುವ ಸಾಧ್ಯತೆ ಇದೆ ಎಂದು ಅವರು ಹೇಳಿದರು ಅಮುವತ್ತ್’ಎರಡು ಸಾವಿರದ ಒಂದು ನೂರ ಹದಿನಾರು ಮತ್ತು ನಿನ್ನೆ ಮಗುವಿನ ವಿಷಯದಲ್ಲಿ ಇದು ಕಡೆ ಹೊಸ ಪ್ರಕರಣಗಳು ಪತ್ತೆ ಹಾಗೂ ಇದಕ್ಕೆ ನಾನೊಂದು ಮಾರದ ತೊಗಟೆ ಏನೇ ಹೇಳ್ತೀನಿ ಅದನ್ನ ತಂದು ಕೂಡಿಸಿದರೆ ಇವನು ಸರಿಯಾಗುತ್ತಾನೆ ಅದ್ಭುತ ಬೇರೆ ಆವು ಮತ್ತು ನೂರ ಇಲ್ಲ ನಗರದಲ್ಲಿ ನಿನ್ನೆ ಸುದ್ದಿಗಾರರೊಂದಿಗೆ ಮಾತನಾಡಿದ ಅವರು ಮಾತನಾಡಿದರು ಸರ್ಕಾರಿ ಸಿಗದಂತೆ ನಮ್ಮ ಬದಲು ನಮ್ಮನ್ನು ಕೇಂದ್ರ ಸರ್ಕಾರ ಸರ್ಕಾರ ಅನುಮೋದನೆ ನೀಡಿದೆ ಎಂದು ಅವರು ಹೇಳಿದರು ಕೇರಳದಲ್ಲಿ ಕಳೆದ ವರ್ಷದ ಕುಟುಂಬ ಕಲ್ಯಾಣ ಸಚಿವಾಲಯದ ಮುಖ್ಯಮಂತ್ರಿ ಅವರು ಮಾತನಾಡಿದರು\n",
      "\n",
      "File: SandalWoodNewsStories_303.txt\n",
      "Similarity Score: 0.9025773406028748\n",
      "Answer: ನಮ್ಮಲ್ಲಿ ಶ್ರೀಗಂಧ ಆತ್ಮೀಯ ಅತ್ತವಾದ ನಡೆದ ಕಂತಕ್ಷಣದ ರೈತರಲ್ಲಿ ಸಾಕಷ್ಟು ಬಂದನಗಳಿವೆ, ಮೊದಲೇನೆಯುವುದಾಗಿ ಆ ಶ್ರೀಗಾಂಧಿ ನಮ್ಮಲತಕ್ಕೆ ಬೆಳಿಗ್ಗೆ ಸರ್ಕಾರ ಅನುಮುಖಿಯಾಗುತ್ತದೆ ಎಂದು ಅದರಲ್ಲಿ ಸಾಕಷ್ಟು ತಳಿಗಿಳಿದವಾದ ಆ ಬರವನ್ನು ಆಹ್ವಾನಂತರ ಕಳ್ಳಕಾದರೆ ನೀಡಿದೆ ಕೇರಳದಲ್ಲಿ ಕೊರೋನಾ ಸೋಂಕು ಹರಡದಂತೆ ಸಾವಿರದ ಒಂದು ನೂರ ಹದಿನಾರು ಕೋಟಿ ರೂಪಾಯಿ ಮೌಲ್ಯದ ಮೂರು ನೂರ ಎಪ್ಪತ್ತು ಕೋಟಿ ರೂಪಾಯಿ ಮೌಲ್ಯದ ಮೂರು ನೂರ ಎಪ್ಪತ್ತು ಕೋಟಿ ರೂಪಾಯಿ ಮೌಲ್ಯದ ಒಂದು ನೂರ ಹದಿನಾಲ್ಕು ಕೋಟಿ ರೂಪಾಯಿ ಮೌಲ್ಯದ ಮುಂದಿನ ನಿರ್ವಹಣೆ ಮಾಡಿಕೊಳ್ಳಲಾಗಿದೆ ಮತ್ರಿ ಸರ್ಕಾರದ ಯಾವುದೇ ರಿಷಿಕ್ಸ್ ಅನುಮತಿಯ ಅಗತ್ಯತೆ ಇಲ್ಲ ಎಂದು ಮೋದಿ ಅವರು ಹೇಳಿದ್ದಾರೆ ಒಂದು ಸಾವಿರ ಕೋಟಿ ರೂಪಾಯಿ ವೆಚ್ಚ ಮಾಡಿದೆ ಸರಿಗೆ ತಂದಿ ಈಗ ಅಲ್ಲಿ ನಮಗೆ ಸಾಮಾಜಿಕ ಮತ್ತು ಸಂದರ್ಭದಲ್ಲಿ ಕರೆ ತುಂಬಾ ಪ್ರತಿಕ್ರಿಯೆ ತುಂಬಾ ಹೊಂದಿದೆ ಚಿನಬಾಗ ಸುಗಂಧವಾಸ ಕೊರತೆ ಅಂತದ್ದು ಮಾತ್ರ ಮರದಲ್ಲಿ ಗಂಡು ಏನು ಹೋದವು ಆದರೆ ಗಂಡಿ ಸುಮಾರು ಅದನ್ನೈದು ಹದಿನಾರು ವರ್ಷ ನಂತರ ಕಟಾಮಗಳು ಸರ್ಕಾರ ಧೇನರ್ ಪರಮಿಷನ್ ತಾಯ್ಲಿಸಿದರೆ ಇದಕ್ಕೆ ಏಕೆ ಲಾಕ್ಡೇ ಪರಮಶನ್ ನಿಲ್ಲ ಸರ್ಕಾರ ಪರಮಿಷನ್ ಕೊಟ್ಟಿದೆ ದಿನಗಳಲ್ಲಿ ಕೆಂಪು ಮಿಶ್ರಿತ ಆಯುಷ್ಮಾನ್ ಭಾರತ್ ಕಪ್ಪು ಮೇಲ್ದರ್ಶನ್ ಅವರು ಮೇಲ್ದರ್ಶನ್ ಅವರು ಮಾತನಾಡಿದರು ಬಳಿತ ಸಂಜೆ ಹಾಗೂ ಕೇಂದ್ರ ಸರ್ಕಾರ ಕರ್ನಾಟಕದಲ್ಲಿ ಕೇಂದ್ರ ಚೆನ್ನಾಗಿ ತುಂಬಾ ಕೇಳುತ್ತದೆ ಇದಕ್ಕೆ ಅದನ್ನು ನೋಡಿಕೊಂಡು ಅವರ ಬೇರೆ ಬೇರೆ ಬೇರೆ ಬೇರೆ ಬೇರೆ ಬೇರೆ ಬೇರೆ ಬೇರೆ ಬೇರೆ ಬೇರೆ ಬೇರೆ ಬೇರೆ ಬೇರೆ ಬೇರೆ ಬೇರೆ ಬೇರೆ ಬೇರೆ ಬೇರೆ ಬೇರೆ ಬೇರೆ ಬೇರೆ ಬೇರೆ ಬೇರೆ ಬೇರೆ ಬೇರೆ ಬೇರೆ ಬೇರೆ ಬೇರೆ ಬೇರೆ ಬೇರೆ ಬೇರೆ ಬೇರೆ ಬೇರೆ ಬೇರೆ ಬೇರೆ ಬೇರೆ ಬೇರೆ ಬೇರೆ ಬೇರೆ ಬೇರೆ ಬೇರೆ ಬೇರೆ ಬೇರೆ ಬೇರೆ ಬೇರೆ ಬೇರೆ ಬೇರೆ ಬೇರೆ ಬೇಕೆ ಬೇರ ರಾಜಿನಗರದಲ್ಲಿ ಕೊರೋನಾ ಸೋಂಕು ಹರಡಿರುವ ಹಿನ್ನೆಲೆಯಲ್ಲಿ ಕೇಂದ್ರ ಸರ್ಕಾರ ಕೈಗೊಂಡಿದೆ ತಾವು ಪ್ರಯೋಗವನ್ನು ಮಾಡಬೇಕು ಬರಬೇಕು ಬರಲಿದೆ ಎನ್ನೆಂಬುವ ಜಾಸ್ತಿ ಆಗಿದ್ದು ಹಾಗಾಗಿ ನಾವು ಪ್ರತ್ಯೇಕ ವಾದಂತಿಕ ಅಂತರ ಸಂಸ್ಕೃತಿ ಮಾಡಲಿಕ್ಕೋಸ್ಕರ ನಾರ್ಮೆಂಟ್ ನಲ್ಲಿ ನಾಮಗೆ ಏನಾ ಆಗಿದೆ ಅಂತಾರಾಷ್ಟ್ರೀಯ ನಮ್ಮ ರೈತರ ಸಂಶಯ ನಿಯಮಗಳಲ್ಲಿ ಕೈಗೆದು ಮಾಡಿಕೊಳ್ಳಲಾಗಿದೆ ಕಂಗು ಹಾಗೂ ಇನ್ನು ಹತ್ತು ಕಿಲೋಮೀಟರ್ ತಂಡಗಳು ಸಂಗೀತ ನಿರ್ಧರಿಸಿವೆ ವಂದ ಹೆಚ್ಚಿನ ಮಾಹಿತಿಗಾಗಿ ನಮ್ಮ ಕಿಸಾನುವಾರುತದೆ ಸಬ್ಸರಾಯ್ ಇವಾಗಿ\n",
      "\n",
      "File: SandalWoodNewsStories_304.txt\n",
      "Similarity Score: 0.8898813724517822\n",
      "Answer: ಹಾಯ್ ಇಳಕೆದಾರರು ಇವತ್ತಿನ ವಿಷಯ ನಾವು ಒಂದು ಸಿಬಿ ಮತ್ತು ಶ್ರೀಗಂಧ ತೋಟದ ಮಧ್ಯೆ ನವೀನ್ ಬೆಳೆದು ಹೀಗೆ ಲಾಭತ್ತಗಳು ಬಗೆಯನ್ನು ಹೇಳುತ್ತೇನೆ ಇದು ಒಂದು ಸಬ್ಸೂಲ್ ಫಾರ್ಮರಿನಾ ಸ್ಟೋರಿಯಂ ತಿರುಕುವುದು ನಾವಿಲ್ಲಿ ಯಾಕೆ ತೋರಿಸಿದ್ದಾರೆ ಎಂದು ಸಚಿವರು ಸ್ಪಷ್ಟಪಡಿಸಿದ್ದಾರೆ ಪಾಲಜನಿಕ ನೋಡ್ತಾ ಇದ್ದಾರೆ ಬರುವ ಸಾಧ್ಯತೆ ಇದು ಬೆಲೆ ಜಿಲ್ಲೆಯಲ್ಲಿ ಬರುತ್ತಿದ್ದ ಮಣ್ಣು ಬಂದು ಬರುತ್ತೆ ಕಪ್ಪು ಮಣ್ಣು ಸಾಮಾನ್ಯವಾಗಿ ಕಪ್ಪು ಮಣ್ಣನಲ್ಲಿ ನಾವು ತೋಟನ ನಿರ್ವಹಣೆ ಮಾಡುವುದು ಸ್ವಲ್ಪ ರಿಸ್ಕಾಂತ ಹೇಳಿದ್ದಾರೆ ನಂದಗುರಿನಲ್ಲಿ ನಿನ್ನೆ ನಿನ್ನೆ ಸುದ್ದಿಗೋಷ್ಟಿಯಲ್ಲಿ ನಿನ್ನೆ ಸುದ್ದಿಗೋಷ್ಟಿಯಲ್ಲಿ ಮಾತನಾಡಿದ ಅವರು ಮಾತನಾಡಿದರು ಕೇರಳದಲ್ಲಿ ನಿನ್ನೆ ಸುದ್ದಿಗಾರರೊಂದಿಗೆ ಮಾತನಾಡಿದ ಅವರು ಮಾತನಾಡಿದರು ಇದರ ತಕ್ಕ ನೀವು ನಿಮ್ಮ ಚಗಚನ ಗಂಧಕ್ಕೆ ಎರಡು ರಂತೆ ಇಟ್ಟು ಕಟಿಂಗ್ ಮಾಡಿದರೆ ಯಾವುದು ಸಮಸ್ಯೆ ಬರಲಾಂತ ಹೇಳ್ತಾ ವಿಡಿಯೋದು ಸಿಕ್ಕಿದ್ದರೆ ಶೇಕಡ ಕ್ಕಿಂತ ಪೂರ್ವ ಇರಿಯನ್ ಮಾಡಿದರೆ ಮುಂಗಾರಿಗೆ ಇರುವ ಇದರಲ್ಲಿ ಸ್ವಯಂ ಹಾಕಿದರೆ ಸೂಚಿಸಿದರೆ ಸೂಚಿಸಿದರೆ ಕನಿಷ್ಠ ತೆರಿಗೆ ಮಾರಿಗೊಳ್ಳುವ ಮಾರಿಗೊಳ್ಳುವ ಮಾರಿಗೊಳ್ಳುವ ಸಿಸಿಬಿ ಕನಿಷ್ಠ ತೆರಳಿ ಕಡೆ ಚಟುವಟಿಕೆಗಳನ್ನು ಲಭ್ಯವಿದೆ ನೆನ್ಸಿಟ್ಗಳು ನಾವು ಇಲ್ಲಿ ಸಸಿನ ಕೊಟ್ಟುತ್ತವೆ ಸಲಯನ ಕೊಟ್ಟುತ್ತವೆ ಅಲ್ಲಿ ಬೆಳೆದಿರುವ ಬೆಳೆಗೆ ನಾನು ಮಾರ್ಕೆಟಿಂಗ್ ಕೊಡಿಸುವುದು ಮತ್ತೆ ಬೆಳೆಸಿದ ರೀತಿ ನೀತಿ ಏನಿದೆಲ್ಲ ಅದು ರೈತನ ಕೈಯಲಿ ಮಾತ್ರ ಇದು ಸುಮಾರು ಹತ್ತು ಎಕರೆ ಪ್ರದೇಶ ಹತ್ತು ಏಕರಲಿದೆ ಇತ್ತೋಟೆನಾವು ತಮ್ಮ ಮಕ್ಕಳೊಂದಿಗೆ ಜಾಪರ್ ಮಾಡುತ್ತಿದ್ದಾರೆ ಇದಕ್ಕೆ ಇಷ್ಟು ರಿಸಲ್ಟ್ ಒಂದು ಪರಿಣಾಮಾಂತಿ ನೀಡಿದ ವಿಭರತ್ಕ್ಷಾಧಿಕಾರಿ ಸಮಸ್ಯೆ ನಿರ್ದೇಶನ ನೀಡಿದ್ದರು ದುರ್ಗದಲ್ಲಿ ನಿಮ್ಮ ಇಂಪುರ್ ನಿಮ್ಮ ಟೈಪ್ ಬಾಳ ಮುಖ್ಯ ಗುರುವಾರದಿಂದ ಆರು ನೂರ ಮೂವತ್ತ್’ಏಳು ಕೋಟಿ ರೂಪಾಯಿ ಮೌಲ್ಯದ ಒಂದು ನೂರ ಹದಿನಾರು ಕೋಟಿ ರೂಪಾಯಿ ಮೌಲ್ಯದ ಮೂರು ನೂರ ಎಪ್ಪತ್ತು ಕೋಟಿ ರೂಪಾಯಿ ಮೌಲ್ಯದ ಬಾಳು ಬೆಳೆದಿದೆ ಇದರ ಮಾರಿಗೊಳಿಸಿದ್ದೀರಾ ಇದರಿಂದ ನೆಮಿಟೌನ್ ಕಂಡು ಬಾಳ ಮುಖ್ಯ ಒಂದು ಸಿ ವ್ಯಕ್ತಿಯನ್ನು ಸಲ್ಯೂಷನ್ ಸೇರಿಸಿದೆ ಕೇರಳದಲ್ಲಿ ಯುರೇನ್ ಖರ್ಚು ಮಾಡಿದರೆ ಎಲ್ಲನ್ನು ಸಬ್ಸಿಡಿ ಸಿಬ್ಬಂದಿಗೆ ಮತ್ತೆ ಸಿಬ್ಬಂದಿ ಸಬ್ಸಿಡಿ ಸಿಕ್ಕಿದೆ ಕಳೆದ ಹದಿನಾಲ್ಕು ಕಂಪನಿಗಳು ಹಾಗೂ ಕಡಿಮೆ ಮಾಡಿಕೊಳ್ಳುವ ಸಾಧ್ಯತೆ ಇದೆ ಕೇರಳದಲ್ಲಿ ಕೊರೋನಾ ಸೋಂಕು ಹರಡಿರುವ ಸಾಧ್ಯತೆ ಇದಕ್ಕೆ ತಲುಪಿಸಲಾಗಿದೆ ನಮಸ್ಕಾರ\n",
      "\n",
      "File: SandalWoodNewsStories_305.txt\n",
      "Similarity Score: 0.8898176550865173\n",
      "Answer: ಅದ್ದೀನ್ ದಾನಾವು ಸುಮಾರು ಒಂದು ಲಕ್ಷದ ಇಪ್ಪತ್ತ್’ಆರು ದಶಕಗಳನ್ನು ಗಳಿಸಬಹುದು ಇದು ತನ್ನ ಸುಗಂದದಿಂದ ಇಡೀ ಜಗತ್ತಿನಲ್ಲೇ ಪ್ರಕ್ಯಾತಿಗೊಂಡಿದೆ ನಗರದಲ್ಲಿ ನಿನ್ನೆ ನಿನ್ನೆ ರಾತ್ರಿ ನಡೆದ ರಾತ್ರಿ ನಡೆದ ರಾತ್ರಿ ನಡೆದ ರಾತ್ರಿ ನಡೆದ ರಾತ್ರಿ ನಡೆದ ರಾತ್ರಿ ನಡೆದ ರಾತ್ರಿ ನಡೆದ ರಾತ್ರಿ ನಡೆದ ರಾತ್ರಿ ನಡೆದ ರಾತ್ರಿ ನಡೆದ ರಾತ್ರಿ ನಡೆದ ರಾತ್ರಿ ರಾತ್ರಿ ರಾತ್ರಿ ರಾತ್ರಿ ರಾತ್ರಿ ರಾತ್ರಿ ರಾತ್ರಿ ಕೇರಳಿ ಮತ್ತು ಸಾರ್ವಜನಿಕರು ಸಮಾಜದ ಸರ್ಕಾರಿ ಸಮಾಜದ ಸರ್ಕಾರಕ್ಕೆ ತೆರಳುವ ಸಾಧ್ಯತೆ ಇದೆ ದಲ್ಲಿ ನಮಗೆ ಹಾರ್ಟ್ವುಡ್ ತುಂಬಾ ಇಂಪಾರ್ಟೆಂಟ್ ಎಂಟು ಸೋಂಕು ಮತ್ತು ಆಯಲ್ ಫಾರ್ಮಿಷನ್ ಆಗ್ಬೇಕಂತ ಅಂದರೆ ಸಾಕಷ್ಟು ಸೂರ್ಯನ ಕೀರಣ ತಾಪಮಾನ ಬೇಕಾಗುತ್ತದೆ ಬರಿಯಲು ಸಾಧ್ಯವಾಗಿದೆ ಎಂದು ಅವರು ಹೇಳಿದರು ದರಗಿರಲಿರುವ ಕೋಟಿ ರೂಪಾಯಿ ಮೌಲ್ಯದ ಮೂರು ನೂರ ಮೂವತ್ತ್’ನಾಲ್ಕು ಕೋಟಿ ರೂಪಾಯಿ ಮೌಲ್ಯದ ಮೂರು ನೂರ ಎಂಬತ್ತು ಕೋಟಿ ರೂಪಾಯಿ ಮೌಲ್ಯದ ಮೇಲೆ ನಿಗದಿತ ಕುಟುಂಬಗಳನ್ನು ಕೇಳಬೇಕು ಎಂಬ ಹೆಚ್ಚು ಇನ್ನೊಂದು ನೆಕ್ಸ್ಟ್ ಇನ್ನೊಂದು ಪರ್ಮನೆಂಟ್ ಹಾಕಬೇಕು ಎಂಬ ಅವರು ಹೊಸದಿಲ್ಲ ಆಯೋಧವಾದ ಅಂತ ನಾವು ನೋಡೋದಾದ್ರೆ ತೊಗರಿ ಮುಟ್ಟಿದರೆ ಮುನಿ ನಗರದಲ್ಲಿ ನಿನ್ನೆ ಸುದ್ದಿಗಾರರೊಂದಿಗೆ ಮಾತನಾಡಿದ ಅವರು ಮುಂದಿನ ವರ್ಷಗಳಲ್ಲಿ ಕರಡಿಗೆ ತಲುಪಿಸಿದ್ದರು ಕಂಟೇಲ್ ಮತ್ತು ಕಡಿಮೆ ಮಾಡಿಕೊಂಡಿರುವ ಕಡಿಮೆ ಮಾಡಿಕೊಂಡಿದ್ದರು ದರಗಿರಲಿ ನಾವು ಸಾಧ್ಯವಿಲ್ಲ ಎಂದು ಅವರು ತಿಳಿಸಿದ್ದಾರೆ ದರಗಿರಲಿರುವ ಕೋಟಿ ರೂಪಾಯಿ ಮೌನ್ಯದ ಮೂರು ನೂರ ಮೂವತ್ತ್’ನಾಲ್ಕು ಕೋಟಿ ರೂಪಾಯಿ ಮೌನ್ಯದ ಮೂರು ನೂರ ಮೂವತ್ತ್’ನಾಲ್ಕು ಕೋಟಿ ರೂಪಾಯಿ ಮೌನ್ಯದ ಮೂರು ನೂರ ಮೂವತ್ತ್’ಏಳು ಕೋಟಿ ರೂಪಾಯಿ ಮೌನ್ಯದನ್ನು ನೀಡಲಾಗಿದೆ ನಿನ್ನ ಕರೆಕ್ಟಾಗಿ ತಗೊಳ್ಳಲು ಆದ್ದೆ ರೋದ್ರಿಂದ ಆ ಒಂದು ಮರದ ಬೆಳವಣಿಗೆ ಕರೆಕ್ಟಾಗಿ ಆಗಿಲ್ಲ ಇಪ್ಪತ್ತು ಕೆಜಿ ಅಷ್ಟು ಹಾಟ್ವುಡ್ ಸಿಗುತ್ತೆ ಕೆಲಸಗಳಿಗೆ ಮಾತ್ರ ಮಾಡಿಕೊಂಡಿದ್ದರು ಸಾಂಪೋಟ್ ಮಾಡ್ತಾ ಇದೆ ಕರ್ನಾಟಕ ಗೌರಮೆಂಟ್ ಇಂದ ಗೌರವ ಸ್ಯಾಂಡಲ್ವುಡ್ ಅನ್ನೋ ಅನ್ನೋ ಒಂದು ಸಾವಿರದ ಮೂರು ನೂರ ಹತ್ತೊಂಬತ್ತು ಮಂದಿ ಮೃತಪಟ್ಟಿದ್ದಾರೆ ಇಂದಿನಿಂದ ಮೂರು ನೂರ ಮೂವತ್ತ್’ನಾಲ್ಕು ಜೊತೆಗೆ ಮೈಸೂರು ಮತ್ತು ಕೊರೋನಾ ಸೋಂಕು ಪತ್ತೆ ಹಿನ್ನೆಲೆಯಲ್ಲಿ ಇದು ಮುಂದಿನ ಕಾರ್ಯಕ್ರಮಗಳನ್ನು ಕೈಗೊಳ್ಳಲಾಗಿದೆ ಕೇರಳಿ ಮಾತನಾಡಿದ ಅವರು ಜಿಲ್ಲೆಯಲ್ಲಿ ಕೊರತೆಯಲ್ಲಿ ಮಾತ್ರ ಮಾಡಬಹುದು ಆಸ್ತಿ ಮುಳ್ಳಿ ರೋದ್ರಿಂದ ಹಾಗೆದು ತುಂಬಾ ತಿಕ್ಕಾಗಿ ಬೆಳೆಯುವುದರಿಂದ ಅದನ್ನು ಸುಲಭವಾಗಿ ಕಡಿಮೆ ಮಾಡಿಕೊಳ್ಳಬಹುದು ಆದಲ್ಲಿ ನೀವೇ ಸಿಸಿಟಿವಿ ಕ್ಯಾಮೆರಾ ಇನ್ಸ್ಟಾಲ್ ಮಾಡ್ಕೋಬಹುದು ಅದಷ್ಟೇ ಅಲ್ಲ ಹಲವರು ಸಾಲ ಸೌಲಭ್ಯ ಕೂಡ ಇದೆ ಆದಲ್ದೆ ಊರಲಿರುವ ಎಲ್ಲ ರೈತರು ಈ ಒಂದು ಬೆಳೆನ ಬೆಳೆದ ಕೊಂಡ್ರೆ ಸಾಮೂಹಿಕವಾಗಿ ರಕ್ಷಣೆ ಕೊಡಬಹುದು ನಾಗ ಏನು ಜಾಸ್ತಿಯಾಗಿದೆ\n",
      "\n",
      "File: SandalWoodNewsStories_306.txt\n",
      "Similarity Score: 0.8706289529800415\n",
      "Answer: ರಲ್ಲಿ ಶ್ರೀಗಂಧದ ಬೆಳಗ್ಗೆ ಇರುವ ಬಯ ಅಂದರೆ ಕಳ್ಳರ ಭಯ ಒಂದೇ ಪಸರಿಗೆ ಬಂದಾಗ ಕಟ್ಟಾವು ಮಾಡುವವರಿಗೂ ಬಿರ್ಲಾ ಬಿದ್ದೆಮಾಡುವರು ಹತ್ತು ವರ್ಷಗಳಿಂದ ಶ್ರೀಗಂಧ ಬೆಳೆದಿರುವ ಇವರು ಇನ್ನೂ ಎರಡು ವರ್ಷ ಕಾಪಾಡಿಕೊಂಡರೆ ಸಾಕು ವೇಳೆ ಕಟಾವಿಗೆ ಬರಲಿದೆ ಆದರೆ ಅಲ್ಲಿಯವರಿಗೂ ಕಾಪಾಡಿಕೊಳ್ಳುವುದೇ ಕಷ್ಟವಾಗಿದೆ ಚಿತ್ರನಂತಹ ಕಾರ್ಯಕ್ರಮದಲ್ಲಿ ನಿನ್ನೆ ಸಂಜೆ ನಾಲ್ಕು ಗಂಟೆಗೆ ಮುಂದುವರೆಯಲಿದೆ ಕೇರಳದಲ್ಲಿ ನಿನ್ನೆ ಸುದ್ದಿಗಾರರೊಂದಿಗೆ ಮಾತನಾಡಿದ ಅವರು ಕೇಂದ್ರದಲ್ಲಿ ಮಾತನಾಡಿದರು ಕೇರಳದಲ್ಲಿ ನಿನ್ನೆ ಸುದ್ದಿಗಾರರೊಂದಿಗೆ ಮಾತನಾಡಿದ ಅವರು ಮಾತನಾಡಿದರು ಧರಿಸಿ ಕೇಂದ್ರ ಸರ್ಕಾರದ ಸರ್ಕಾರದ ಮುಖ್ಯಮಂತ್ರಿ ಅವರು ಸಮಾರಂಭದಲ್ಲಿ ಸಾರ್ವಜನಿಕರು ಸಮಾವೇಶದಲ್ಲಿ ಸಾರ್ವಜನಿಕರು ಸಮಾರಂಭದಲ್ಲಿ ಸಾರ್ವಜನಿಕರು ಸಹಕಾರಿಯಾಗಬೇಕು ಎಂದು ಸಚಿವರು ಸುರೇಶ್ ಕುಮಾರ್ ಅವರು ಹೇಳಿದರು ಅಲ್ಲಿ ಸರಣಿಗಳ ಆಚರಿಕೆ ಕಂಡುಗಳಿಗೆ ಏನಾದ್ರೂ ಸಂಬಂಧ ವಿದ್ಯಾ ಅನ್ನು ಪ್ರಶ್ನೆಗಳು ನಮ್ಮನ್ನಾಗಿ ಕಾಲ ತೊಡಗಿತ್ತು ಅದನ್ನ ನಾವು ಉಪತ್ತೇ ಹೆಚ್ಚಲು ಆಂಧ್ರ ಪ್ರದೇಶದ ರೋನ್ಲಾ ಎಂಬ ಗ್ರಾಮಕ್ಕಿ ಹೊಳ್ಳೆವು ನಂತರ ಅದೇ ಸೇಗು ಅಂದರೆ ಎರಡು ಸಾವಿರ ಒಂದು ಕೋಟಿ ರೂಪಾಯಿ ಮೌಲ್ಯದ ಮುಂದಿನ ಇಪ್ಪತ್ತ್’ನಾಲ್ಕು ಲಕ್ಷ ರೂಪಾಯಿ ಮೌಲ್ಯದ ಒಂದು ಸಾವಿರ ಕೋಟಿ ರೂಪಾಯಿ ಮೌಲ್ಯದ ಒಂದು ಸಾವಿರ ಕೋಟಿ ರೂಪಾಯಿ ಮೌಲ್ಯದ ಒಂದು ಸಾವಿರ ಕೋಟಿ ರೂಪಾಯಿ ಮೌಲ್ಯದ ನಿರ್ಧರಿಸಿದೆ\n",
      "\n",
      "File: SandalWoodNewsStories_33.txt\n",
      "Similarity Score: 0.8687765002250671\n",
      "Answer: ರಲ್ಲಿ ನಿನ್ನೆ ಸುದ್ದಿಗಾರರೊಂದಿಗೆ ಮಾತನಾಡಿದ ಅವರು ಕೇಂದ್ರ ಸರ್ಕಾರದ ಮುಖ್ಯಮಂತ್ರಿ ಅವರು ಸಿದ್ದರಾಮಯ್ಯ ಮಾತನಾಡಿದರು ನಗದಲ್ಲಿ ನಿನ್ನೆ ಸುದ್ದಿಗಾರರೊಂದಿಗೆ ಮಾತನಾಡಿದ ಅವರು ಸರ್ಕಾರಿ ಸಮಾಜದ ಸರ್ಕಾರದ ಮುಖ್ಯಮಂತ್ರಿ ಅರುಮುಖ್ಯಮಂತ್ರಿ ಸುದ್ದಿಗಾರರೊಂದಿಗೆ ಮಾತನಾಡಿದ ಅವರು ಸರ್ಕಾರಿ ಸಮಾಜದ ಸಮಾಜದ ಅಂಗೀಕಾರಗಳನ್ನು ಸಮಾಜದ ಮುಖ್ಯಮಂತ್ರಿ ಅವರು ಸಮಾವೇಶದಲ್ಲಿ ಸರ್ಕಾರ ಕೈಗೊಂಡಿದ್ದಾರೆ ನಾಕು ಮಾಡಿ ನಂಬರ್ ನಿರ್ದೇಶನಾಲಯ ಸತ್ವನ್ನಲ್ಲಿ ಸರಮೇಶ್ವರ್ ಸುಬರ್ನಲ್ಲಿ ಮರಳುದಿನ ಅವಧಿಯಲ್ಲಿ ಸಾವಿರದ ಕೋಟಿ ರೂಪಾಯಿ ಮೀರಿ ಸಾವಿರಕ್ಕೂ ಹೆಚ್ಚು ಮರಳುವಿದೆ ಕರ್ಡ್ ಮಾಡಿ ಸಂಪರ್ಕ ಕಲ್ಲಿದ್ದರು ನ ಒಂದು ನೋವಿಸಿದ್ದು ಬಿಟ್ಟು ನಿವಾರಣೆಯಾಗಿದೆ ಕಂಡಿತ್ತು ಚಿತ್ರಂಗಕ್ಕೆ ಸರ್ಕಾರ ಕಪ್ಪಣೆ ಗಾಳಿಗೆ ಮರಳಿತದಲ್ಲಿ ಲಕ್ಕಿದ್ದಲ್ಲಿ ಸತ್ವ ಇದುಕೋದ್ದೀನಾಗುತ್ತೆ ನಿಬಿಮೆಂಟ್ ಸದಸ್ಯಾಂಡ್ ಆಗಿದ್ದ ಅದಕ್ಕೆ ಸದಸ್ಯರು ಆದಿಗೆ ಸದಸ್ಯರು ಅದಕ್ಕೆ ಅದಕ್ಕೆ ಅದಕ್ಕೆ ಅದಕ್ಕೆ ಅದಕ್ಕೆ ಅದರ ಬೆಳೆದಿದ್ದರು ನಗರದಲ್ಲಿ ನಿನ್ನೆ ಸುದ್ದಿಗೋಷ್ಟಿಯಲ್ಲಿ ನಿನ್ನೆ ಸುದ್ದಿಗಾರರೊಂದಿಗೆ ಮಾತನಾಡಿದ ಅವರು ಸಂಪರ್ಕಿಸಿದರು ನಗರದಲ್ಲಿ ಕೊರೋನಾ ಸೋಂಕು ಹರಡಿರುವ ಸಂಖ್ಯೆ ಹತ್ತು ಸಾವಿರ ಕ್ಯೂಸೆಕ್ ನೀವು ಅಣ್ಣಿಗೆ ಬಿಡಿಸಿ ಕಡಿಮೆ ಮಾಡಿದೆ ಕಳೆದ ಕೊಡ್ತಾ ಇಲ್ಲ ಮ್ಯಾನೇಜ್ ಬೆಂಗಳೂರು ಆಬ್ರಾಕ್ಸ್ ಅಪ್ ಅಡ್ಡಾಲ್ ಯಾಕೆಂದರೆ ಕೇಂದ್ರ ಸರ್ಕಾರ ಸಮಿತಿ ಸಭೆಯಲ್ಲಿ ನಿನ್ನೆ ಸಭೆಯಲ್ಲಿ ನಿನ್ನೆ ಸುದ್ದಿಗೋಷ್ಟಿಯಲ್ಲಿ ಸರ್ಕಾರ ಕಾರ್ಯಕ್ರಮಗಳನ್ನು ಕೈಗೊಳ್ಳಲಾಗಿದೆ ಅಂದರೆ ನೋಡಿದರೆ\n",
      "\n",
      "File: SandalWoodNewsStories_35.txt\n",
      "Similarity Score: 0.9145187139511108\n",
      "Answer: ಮುಖ್ಯಾಂಶಗಳು ಒಂದು ಸಾವಿರದ ಒಂಬತ್ತು ನೂರ ಹತ್ತು ಚಿನ್ನವನ್ನಾಗಿ ಮಾಡುವ ಇಖಲ್ಲಿ ಮೂರು ರಾಜ್ಯಗಳಿಗೂ ಒಂದು ದೊಡ್ಡ ಸೊಬಲ್ ಆಗಿತ್ತು. ಅಂತಹ ಹಳ್ಳಿಯೊಳಗೆ ಕಾವರು ಸ್ಟೋರಿ ತಂಡ ಎಂಟ್ರಿಕೊಟ್ಟಿದ್ದು ಅಷ್ಟೇ ಲಾಕ್ ಆಗಬಿಡೋದ ರಲ್ಲಿ ನಿನ್ನೆ ಸುದ್ದಿಗಾರರೊಂದಿಗೆ ಮಾತನಾಡಿದ ಅವರು ಮಾತನಾಡಿದರು ಆಂಧ್ರಾ ಮತ್ತು ತೆವಳಿನಾಡಿನ ಸ್ಮರಿಸಿ ಸೇರ್ಕೊಂಡ ಕೆಲವರು ಅಲ್ಲಿಂದ ರಕ್ತ ಚಂದ್ರಬಂದ ಕಡಿಯುತ್ತಾರೆ ದೆಮಿಳುನಾಡು ಮತ್ತು ಕೇರಳಲಾಗಿ ಸಾಗಿಸುವುದು ಅಷ್ಟು ಸುಲಭದ ಮಾತಲ್ಲ ರಕ್ತಚಂದನ ಲೂಟಿಗೋರನ್ನ ಸದೆಪಡೆಯಲಿಲ್ಲಿಂದೆ ಆಂಧ್ರ ಸರ್ಕಾರ ವಿಶೇಷ ಜಾಗೃತ ಕಲಬುರಗಿಯಲ್ಲಿದೆ ಎರಡು ವರ್ಷಗಳ ಹಿಂದೆ ಇಪ್ಪತ್ತು ಚುನಾವಣಾ ಪ್ರಚಂದ್ರನ ಕೊಲ್ಲರು ಎಸ್ಟಿಎಫ್ ರಂಡಿಸಿದ್ದಾರೆ ರಲ್ಲಿ ನಿನ್ನೆ ಸುದ್ದಿಗಾರರೊಂದಿಗೆ ಮಾತನಾಡಿದ ಅವರು ಕಟ್ಟಡ ತುಂಬಿದ್ದ ರಾಜ್ಯಗಳಲ್ಲಿ ಕಟ್ಟಡಗಳನ್ನು ಕೈಗೊಳ್ಳಲಾಗಿದೆ ಮೊದಲೇ ಊರಿನ ಮನೆಗಳ ಒಳಗೆ ರಕ್ತ ಚಂದ್ರನದ ತುಂಡುಗಳನ್ನು ಅವಿತಿತ್ತು ಮಾರಾಟ ಮಾಡುತ್ತಿದ್ದರು ಆಂಧ್ರ ಪೊಲೀಸರ ಕಾಟ ಮಿತಿಮೀರದಾಗ ರಕ್ತ ಚಂದ್ರನದ ತುಂಡುಗಳನ್ನು ಈಗ ನೀಲಗಿರಿ ತೋಪುಗಳಲ್ಲಿ ಹುತ್ತಿಟ್ಟು ವ್ಯಾಪಾರ ಮಾಡುತ್ತಿದ್ದಾರೆ ಇದನ್ನ ಪತ್ತೆ ಹಚ್ಚಲು ಮತ್ತು ಹೇಗೆ ವಹಿವಾಟು ನಡೆಸುತ್ತಾರೆ ಅಂತ ಹತ್ತೆ ಹಚ್ಚಲು ನಾವು ಒಂದು ದಿನ ರಾ ನಂತರದಲ್ಲಿ ನಿನ್ನೆ ನಡೆದ ಅಂತಾರಾಷ್ಟ್ರೀಯ ಮಟ್ಟದ ಸಂಭವಿಸಿದೆ ದರಗಿರಲಿರುವ ಸಾರ್ವಜನಿಕರು ಸಮಾವೇಶದಲ್ಲಿ ನಿನ್ನೆ ಸುದ್ದಿಗಾರರೊಂದಿಗೆ ಮಾತನಾಡಿದ ಅವರು ಮುಖ್ಯಮಂತ್ರಿ ಅವರು ಸುದ್ದಿಗಾರರೊಂದಿಗೆ ಮಾತನಾಡಿದರು ಚಿತ್ರಗಳು ಸೋದಿ ನಗರದಲ್ಲಿ ನಿನ್ನೆ ಸುದ್ದಿಗಾರರೊಂದಿಗೆ ಮಾತನಾಡಿದ ಅವರು ಮಾತನಾಡಿದರು ಮಾರ್ಕ್ ಅವರು ಮಾತನಾಡಿದ ಅವರು ಮುಖ್ಯಮಂತ್ರಿ ಅರವಿಂದ ಕಾರ್ಯಕ್ರಮದಲ್ಲಿ ಮಾತನಾಡಿದರು ನಿಯಮಿತಿ ನಿಯಮಗಳನ್ನು ಸರಳಗೊಳಿಸಿ ಅವರು ಮಾತನಾಡಿದರು ಮಾರ್ಕ್ ಅವರು ಮಾತನಾಡಿದ ಅವರು ಮಾತನಾಡಿದ ಅವರು ಮಾತನಾಡಿದರು ನಿಲ್ಲಿಸಿದ ನಂತರ ಸುದ್ದಿಗಾರರೊಂದಿಗೆ ಮಾತನಾಡಿದ ಅವರು ಮಾತನಾಡಿದರು ನಿಮ್ಮತಿಯಲ್ಲಿ ಇಟ್ಟಿಸುವ ಬಿಟ್ಟಿವೆ ಅಂತಹ ಅಂದುಕೊಂಡ ಒಂದೇ ನಿಮ್ಸಿಕೆ ನಮಗೆ ಗೊತ್ತಿರುವುದು ನಮ್ಮನ್ನ ಮತ್ತೊಂದು ತಂಡ ಫಾಲು ಮಾಡುತ್ತಿದೆ ವೆಂಕಳೂರು ಕಡೆಗೆ ಹೋಗ್ತಾ ಇದ್ದರೆ ನಾಲ್ಕು ಕೈಗೊಳ್ಳುವ ನಮ್ಮ ಹನ್ನೆರಡು ಕಿಲೋ ಮೀಟರ್ ವರೆಗೆ ನಮ್ಮನ್ನ ಫಾಲೋ ಮಾಡುತ್ತಿದ್ದರು ನಮ್ಮನ್ನು ಮುಗಿಸುವುದಕ್ಕೆ ಸ್ಕೆಟ್ ಹಾಕಿದರು\n",
      "\n",
      "File: SandalWoodNewsStories_36.txt\n",
      "Similarity Score: 0.8814036846160889\n",
      "Answer: ಆಹುರಿಗೆ ನಾವು ಹೊರಗಿನವರು ಅನ್ನೋದೊಂದೇ ಸಾಕಾಯ್ತು ಅವರು ನಮ್ಮ ಮೇಲೆ ಹೋಗಿಬೀಳೋದಕ್ಕೆ ನಮ್ಮನ್ನೆ ಬೆನ್ನೆತ್ತಿದ ಅವರನ್ನು ಸುಮ್ನೆ ಬಿಡಬೇಕು ನೋಟ್ ಚಾನಸ್ ಅಧ್ಯಯನಾಗುತ್ತೋ ನೋಡೆ ಬಿಡೋಣ ಅಂತಾ ನಾವು ಮತ್ತೆ ಅವರ ಬೆನ್ಹತ್ತು ಹಾಕದ್ದೆ ಮುಂದೆ ನಾಯ್ತು ಅನ್ನೋದೇ ನಮ್ಮ ಮೇಲೆ ಬೀಡುವುದಕ್ಕೆ ನಮ್ಮನ್ನೆ ಬೆನ್ ಹತ್ತು ಹಾಕದೆ ಮುಂದೆ ನಾಯ್ತು � ರಲ್ಲಿ ನಿನ್ನೆ ಸುದ್ದಿಗೋಷ್ಠಿಯಲ್ಲಿ ಮಾತನಾಡಿದ ಅವರು ಮಾತನಾಡಿದರು ಕೇರಳದಲ್ಲಿ ಕೊರೋನಾ ಸೋಂಕು ಹರಡಿರುವ ಹಿನ್ನೆಲೆಯಲ್ಲಿ ಕೇಂದ್ರ ಸರ್ಕಾರ ಕೇಂದ್ರ ಸರ್ಕಾರ ಕೈಗೊಂಡಿದೆ ಸಿರುವ ಸಾಮಾಜಿಕ ಅಂತರ ಕಾಯ್ದುಕೊಳ್ಳುವ ಸಾಧ್ಯತೆ ಇದೆ ಚಿತ್ರನಂತಪುರದಲ್ಲಿ ನಿನ್ನೆ ಸುದ್ದಿಗೋಷ್ಠಿಯಲ್ಲಿ ಮಾತನಾಡಿದ ಅವರು ಕೇಂದ್ರ ಸರ್ಕಾರ ಅನುಮೋದನೆ ನೀಡಿದ್ದಾರೆ ರಲ್ಲಿ ನಿನ್ನೆ ಸುದ್ದಿಗೋಷ್ಟಿಯಲ್ಲಿ ಸಾರ್ವಜನಿಕರು ಸಾವಿರದ ಕೋಟಿ ರೂಪಾಯಿ ವೆಚ್ಚದಲ್ಲಿ ಕಾರ್ಯಕ್ರಮಗಳು ಮುಂದುವರೆಯಲಿದ್ದು ಸಾವಿರದ ಕೋಟಿ ರೂಪಾಯಿ ವೆಚ್ಚ ಮಾಡಲಾಗಿದೆ ಮೂರು ಕಲ್ಲಿದ್ದಲು ಕಾನೂನು ರಕ್ಷಣಾ ಸಚಿವ ಡಾ ಕಾರಿಗಳೇ ಈ ಬಗ್ಗೆ ಸುಮ್ಮನಿರುವಾಗ ಪಾಪಾಇ ಪೊಲೀಸ್ ಪೇದೆ ಅಸಹನೆ ವ್ಯಕ್ತಪಡಿಸುವುದು ಬಿಟ್ಟು ಮತ್ತು ಏನು ಮಾಡುತ್ತಾನೆ ಏನು ಮಾಡುತ್ತಾನೆ ಸರಿ ಕೇಂದ್ರ ಸರ್ಕಾರ ಸಿಂಗ್ ಅವರು ಕರ್ನಾಟಕದಲ್ಲಿ ಇಂಥದೊಂದು ಹಳ್ಳಿಯಲ್ಲಿ ಇಸ್ಟಿಸ್ಟಾಂನ ಅವ್ಯವಹಾರಗಳು ಅಕ್ರಮಗಳು ನಡೆಯುತ್ತಿದ್ದರು ಪೊಲೀಸರು ಸುಮ್ಮನಿತ್ತವೆ ಈಗಲೂ ಈ ಹಳ್ಳಿಗೆ ಪೊಲೀಸರು ಹೋಗೋಕ್ಕೆ ಹಿಂದಿರುತ್ತದೆ ಕೇರಳದಲ್ಲಿ ಕೊರೋನಾ ಸೋಂಕು ಹರಡದಂತೆ ಸಾವಿರದ ಕೋವಿಡ್ ಸೋಂಕು ಪತ್ತೆ ಹಿನ್ನೆಲೆಯಲ್ಲಿ ಕೇಂದ್ರ ಸರ್ಕಾರ ಕೈಗೊಂಡಿದೆ ಇಂತಾಬ್ ವಿನಿಪಾಕಿಸ್ತಾನ್ಗಳು ಮುಂದೊಂದು ದಿನ ವಿಭಜನೆಯಾಗಬೇಕು ಅನ್ನು ಕೂಗು ಕೇಳಿ ಬಂದಿರುವ ಆಸ್ಟ್ರಿಯವಿಲ್ಲ ನೇರ ದಿಟ್ಟ ನಿರಂತರ ಸುದ್ದಿಗಾಗಿ ಆಗಮಿಸುತ್ತಾರೆ ಸುವರ್ಣ ನೀರಿನ ಅನುಸರಿಸಿ ಅಭಿವೃದ್ಧಿ ಪ್ರಾಯೋಗಗಳನ್ನು ಬರುವ ತಿಳಿಸಬೇಕಾದವರು ಸಾಕಾರಿ ವಿಭಾಗ ಸುವರ್ಣ ನ್ಯೂಸ್ ನಮ್ಮ ತಿಳಿಸಿ ಪ್ರಿಸೆಂಟ್ ರಸ್ತೆ ಶಿವಾನಂದ ಸರ್ಕಲ್ ಬೆಂಗಳೂರು ಒಂದು ನಮ್ಮ ಇಮೇನ್ ವಿಳಾಸ ಕಾವಸ್ಟೂರಿ ಅಡಚು ವರ್ಣ ನ್ಯೂಸ್ ದಾಟಿ ಎಂಎಸ್ ಅಧಿಕಾರಿ ಡಾ\n",
      "\n",
      "File: SandalWoodNewsStories_41.txt\n",
      "Similarity Score: 0.8552364110946655\n",
      "Answer: ಬೇತರ್ ಜಿಲ್ಲೆಯ ಔರಾಗ್ ತಾಲೂಕಿನ ಐದು ಗ್ರಾಮಗಳ ರೈತರು ಕಷ್ಟಪಟ್ಟು ಶ್ರೀಗಂಧದ ಮರಗಳನ್ನು ಬೆಳೆಸಿದರು ಸುಮಾರು ಹತ್ತರಿಂದ ಹದಿನೈದು ವರ್ಷಗಳಿಂದ ಬೆಳೆದಿನಂಥ ಶ್ರೀಗಂಧದ ಮರಗಳನ್ನು ಇನ್ನೇನು ಕಟಾವು ಮಾಡಬೇಕೋನು ಚಿಂತನೆಯಲ್ಲಿ ರೈತರಿದ್ದು ಆದೀಗ ರೈತರಿಗೆ ಹೊಸ ಸಂಕಷ್ಟವಾಗಿದೆ ರಲ್ಲಿ ನಡೆದ ಸಂಪುಟ ಸಭೆಯಲ್ಲಿ ನಿನ್ನೆ ಸಿದ್ದರಾಮಯ್ಯ ಮಾತನಾಡಿದ ಅವರು ಜಿಲ್ಲೆಯ ಸರ್ಕಾರಿ ಸಮಿತಿ ಸಭೆಯಲ್ಲಿ ನಡೆಯಲಿರುವ ಸಾಧ್ಯತೆ ಇದೆ ಎಂದು ಅವರು ಹೇಳಿದರು ಮಾರುಕಟ್ಟೆಯಲ್ಲಿದೆ ಅಂತಾಗುತ್ತಿಲ್ಲ ಹೀಗಾಗಿ ಕಟ್ಟಾವಿಗೆ ಬಂದಿರುವ ಮೇಲೆ ಕಳೆದ ಮೇಲೆ ನಿಗಾ ಇಡಲಾಗಿದೆ ರಾತ್ರಿ ವೇಳೆ ಕಳ್ಳರು ಯಂತ್ರಗಳ ಸಹಾಯದಿಂದ ಶ್ರೀಗಂಧದ ಮರಗಳನ್ನು ಕರೆದುಕೊಂಡು ಹೋಗಿದ್ದಾರೆ ಇರೈತುರಿ ಇಷ್ಟು ಸಂಕಷ್ಟದಿದ್ದರೆ ಅಂದರೂ ಅದರಾಗಿ ಅವರು ಏನೋ ಮುಂದೆಯನ್ನು ಫಿವಿಜರ್ ಕಡಿನಂತೆ ಹೇಳಬೇಕು ಆದರೆ ಹಿಂಗಾದರೆ ಈಗ ಇನ್ನು ರೈತರಿಗೆ ಗಂಧನ ಎಲ್ಲಿ ಮಾರಾಟ ಮಾಡಬೇಕು ಅನ್ನು ಜಾಗೃತಿ ಮೂಡಿಸಬೇಕಿದೆ ಎಂದು ಮಾರುಕಟ್ಟೆಯ ಕುರಿತು ರೈತರಿಗೆ ತಿಳಿವಳಿಕೆ ಮೂಡಿಸಿದೆ ಕಳ್ಳರ ಈ ಕೃತ್ಯಗಳಿಗೆ ತಡೆಯುವುದು ಸಂಜೆ ತಲೆಒಂದರಿಗೆ ಹಿಗಾಗಿ ಇನ್ನಾದರೂ ಪೊಲೀಸರು ಅರಣ್ಯ ಇಲಾಖೆ ಎತ್ತುಕೊಳ್ಳುತ್ತಾರೆ ಅಂತಾರಾಷ್ಟ್ರೀಯ ನಾಯಕ್ ವಿದರ್\n",
      "\n",
      "File: SandalWoodNewsStories_42.txt\n",
      "Similarity Score: 0.8830937743186951\n",
      "Answer: ನಾವು ಎನ್ಟು ಟೆಕ್ರಿ ಹತ್ತು ಗುಂಟೆಯಲ್ಲಿ ಎರಡೂವರೆ ಸಾವಿರ ಮಾವು ಏರಲಿದ್ರಿ ಬೆಟ್ಟದಲ್ಲಿ ಕಾಯ್ತಿ ಮೂರು ನೂರು ನೂರು ನಿಮ್ಮ ಇತಿ ನೂರು ಕರಿಬೇವಾಯಿತಿ ನೂರು ಕಾಯಿತಿ ನೂರು ತೆಂಗು ಇತಿ ಸಾಗಿದೆ ಕಲ್ಲಿದ್ದಲು ಕಾರ್ಯಕ್ರಮದಲ್ಲಿ ನಿನ್ನೆ ಸುದ್ದಿಗಾರರೊಂದಿಗೆ ಮಾತನಾಡಿದ ಅವರು ಕೇಂದ್ರ ಸರ್ಕಾರ ಕೃಷಿ ಮತ್ತು ಸಾರ್ವಜನಿಕ ಸಭೆಯಲ್ಲಿ ಸಾರ್ವಜನಿಕರು ಸಹಕಾರ ಸಂಘದ ಸಹಕಾರ ನೀಡಿದ್ದರು ಚಿತ್ರಲಾಗಿದೆ ಸೋಷಿಯಲ್ಲಿ ಬಹಳ ವರದಿ ಒಂದು ಸಮಯದಲ್ಲಿ ಕರ್ನಾಟಕ ಮಿಶ್ಲಾಂಧನನ್ನು ತೌರ್ಮಣ್ಯ ಧಾರವಾಡ್ ಸಾರ್ವಜನಿಕ ಗಣ್ಯನ್ನು ರಾಯಚೂರು ಜಿಲ್ಲೆ ಕರ್ನಾಟಕ ವಿತಾಳ ಅಂತ ಇಲ್ಲಿನ ಮಾಡಿಕೊಟ್ಟಿದ್ದು ಅಮೇಲೆ ಇವತ್ತು ನಾನು ನಿಲ್ಲಿ ತೋಟಗಾರಿಕೆಯಲ್ಲಿ ಅರಣ್ಯ ಕೃಷಿ ಪರಿಸರ ಕೊಡೆಯಲು ಸಾಧ್ಯವಾಗಿದೆ ಎಂದು ಅಮೇಲೆ ಇವತ್ತು ನಾನು ನಿಲ್ಲೇ ತೋಟಗಾರಿಕೆಯಲ್ಲಿ ಶುವಂಚಿತರಾಗಿ ಮಾತನಾಡಿದ ಅವರು ಮಾತನಾಡಿದ ಅವರು ಮಾತನಾಡಿದರು ಸರಿ ಅಂತಹ ಹೊಲ ಇತ್ತು ಸರಿದು ಸಾವಿರ ಕೋಟಿ ರೂಪಾಯಿ ಮಾಡಿದ್ದರು ಇವತ್ತಿಲ್ಲ ದರಗಿರಿಯಲ್ಲಿ ನಿನ್ನೆ ಸುದ್ದಿಗಾರರೊಂದಿಗೆ ಮಾತನಾಡಿದ ಅವರು ಮಾತನಾಡಿದರು ಮಾರ್ಕ್ ಅವರು ಮಾತನಾಡಿದರು ದರಗಳಲ್ಲಿ ಕೊರೋನಾ ಸೋಂಕು ಹರಡಿರುವ ಸಂಖ್ಯೆ ಹದಿಮೂರು ಸಾವಿರದ ಒಂದು ನೂರ ಹದಿನಾಲ್ಕು ಕ್ಕೆ ಏರಿಕೆಯಾಗಿದೆ ದರಗಿ ಮತ್ತು ಸಾಮಾಜಿಕ ಅಂತರ ಕಾಯ್ದುಕೊಳ್ಳುವ ಸಾಧ್ಯತೆ ಇದೆ ಕೇರಳದಲ್ಲಿ ನಿನ್ನೆ ಸುದ್ದಿಗಾರರೊಂದಿಗೆ ಮಾತನಾಡಿದ ಅವರು ಮಾತನಾಡಿದರು ಮಾರ್ಕಿನ್ ಅವರು ಮಾತನಾಡಿದ್ದರು ಸಾರ್ಟ್ಯಾಗಿ ಮಾತನಾಡಿದ ಅವರು ಜಿಲ್ಲೆಯಲ್ಲಿ ಕೊರೋನಾ ಸೋಂಕು ಪತ್ತೆ ಹಿನ್ನೆಲೆಯಲ್ಲಿ ಕೇಂದ್ರ ಸರ್ಕಾರ ಕೈಗೊಂಡಿದ್ದು ಜಿಲ್ಲಾ ಪಂಚಾಯಿತಿ ಅಧ್ಯಕ್ಷ ಡೊನಾಲ್ಡ್ ಟ್ರಂಪ್ ಅವರು ಮಾತನಾಡಿದರು ಇಂದಿನ ರಿಂದ ಹತ್ತು ಹದಿನೈದು ವರ್ಷ ಇಂಗ್ ಬೆಳೆ ಬೆಕ್ಕು ಅಂತ ಬರ್ಕೊಂಡು ಹೋಗುತ್ತದೆ ಮಾರ್ಕ್ ಅವರು ಮಾತನಾಡಿದ ಅವರು ಮಾತನಾಡಿದ್ದಾರೆ ಎಂದು ಅವರು ಹೇಳಿದರು ರಲ್ಲಿ ನಿರಂತರವಾಗಿ ಮಾತನಾಡಿದ ಅವರು ಮಾತನಾಡಿದ ಅವರು ಮಾತನಾಡಿದರು ಸೋಯಾಮಾಬಾದ್ನಲ್ಲಿ ನಿನ್ನೆ ಸಾವಿರದ ಕೋಟಿ ರೂಪಾಯಿ ಮಾತ್ರ ಮಾಡಿಕೊಂಡಿದ್ದರು ನಗರದಲ್ಲಿ ನಿನ್ನೆ ಸುದ್ದಿಗಾರರೊಂದಿಗೆ ಮಾತನಾಡಿದ ಅವರು ಮಾತನಾಡಿದರು ಇಂದು ಒಂದು ಸಾವಿರದ ಒಂಬತ್ತು ನೂರ ಹದಿನಾಲ್ಕು ಕೋಟಿ ರೂಪಾಯಿ ಮೀಸಲಿರಿಸಿ ಮತ್ತು ಕೇಂದ್ರಾಡಳಿತ ಪ್ರದೇಶಗಳಲ್ಲಿ ಸಾಮಾಜಿಕ ಮಾಧ್ಯಮ ಕೇಂದ್ರ ಸರ್ಕಾರದ ಮುಖ್ಯಮಂತ್ರಿ ಬಿ ನಗರದಲ್ಲಿ ನಿನ್ನೆ ಸುದ್ದಿಗಾರರೊಂದಿಗೆ ಮಾತನಾಡಿದ ಅವರು ಮಾತನಾಡಿದರು ಆಮೇಲೆ ಇನ್ನೂ ಒಂದೇನಂದರ ಇವತ್ತ್’ನಾಲ್ಕು ಅಮೆರಿಕದ ಇವತ್ತ್’ನಾಲ್ಕು ಅಮೆರಿಕದ ಇವತ್ತು ಅಮೆರಿಕದ ಇವತ್ತು ಅಮೆರಿಕದ ಇವತ್ತು ಅಮೆರಿಕದ ಇವತ್ತು ಅಮೆರಿಕದ ನಿಯಮಗಳನ್ನು ಬಗ್ಗೆ ಮಾತನಾಡಿದ ಅವರು ಅಮೆರಿಕದಲ್ಲಿ ಇದರಲ್ಲಿ ಇದರಲ್ಲಿ ಇದರಲ್ಲಿ ಇದರಲ್ಲಿ ಇದರಲ್ಲಿ ಇದು ಬರುವಂತಹ ಕೃಷಿ ಮಾಡಬಾರದು ಕಂದಿರುವ ಕಂದಿರಿ ತಾಲೂಕು ಮತ್ತು ಸಾಮಾಜಿಕ ಅಂತರ ಕಾಯ್ದುಕೊಳ್ಳುವ ಸಾಧ್ಯತೆ ಇದೆ ಸಿಕ್ಕಿದ್ದರು ಎಂದು ಸರ್ಕಾರಿ ಸಮಾಜದ ಸರ್ಕಾರಿ ಸಮಾಜದ ಸರ್ಕಾರಿ ಸಮಾಜದ ಸಮಾಜದ ಮುಖ್ಯಮಂತ್ರಿ ಅವರು ಕೃಷಿಯಾ ವಿಚ್ಛಾರಿಯಾಗಿದೆ ಚಾರ್ ಮಾಡುವಂತಹ ಮಾತ್ರ ಏಕೆಂದರೆ ನಮ್ಮ ಸನ್ಮಾನ್ಯ ಇವರು ಮುಖ್ಯಮಂತ್ರಿಗಳಾದ ನರೇಂದ್ರ ಮೋದಿ ಜೇಲ್ದಾಳದ ರಲ್ಲಿ ನೌರಾ ರೈತರಿದ ಆದಾಯವನ್ನು ದ್ವಿಗುಣ ಮಾಡಬೇಕು ಅಂತಾರೆ ಅದಕ್ಕೆ ನಾನೇ ಹೇಳ್ತಿನ್ಸರ್ ನಮ್ಮ ಮುಗಿದ್ದು ನಿಮ್ಮ ಯೋಜನೆಗಳ ನಿಮ್ಮ ಕೈಗೊಳ್ಳಲು ಯಾಕಂದರು ಪ್ರತಿ ವರ್ಷ ಜನಸಂಖ್ಯೆ ಬೆಳಿಗ್ಗೆ ತಿದ್ದು ದರ್ಶನ್ ಮಾಡಿದ ಅವರು ಮಾತನಾಡಿದರು ಎಂಎಸ್ಪಿಗೆ ಮತ್ತದೆ ನೇರುವೆ ಸಾಧ್ಯವಾಗದು ಹತ್ತೊಂಬತ್ತು ಲಕ್ಷ ಕೋಟಿ ರೂಪಾಯಿ ಮೌನಾವೃದ್ಧಿ ಮತ್ತು ಸಾಮಾಜಿಕ ಅಂತರ ಕಾಪಾಡಿಕೊಳ್ಳುವ ಸಾಧ್ಯತೆ ಇದೆ ದೇವರು ಸಾವಿರದ ಮೂರು ನೂರ ಮೂರು ಕೋಟಿ ರೂಪಾಯಿ ಮೌಲ್ಯದ ಮೂರು ಕೋಟಿ ರೂಪಾಯಿ ಮೌಲ್ಯದ ಮೂರು ಕೋಟಿ ರೂಪಾಯಿ ಮೌಲ್ಯದ ಮೂರು ಕೋಟಿ ರೂಪಾಯಿ ಮೌಲ್ಯದ ಮೂರು ಕೋಟಿ ರೂಪಾಯಿ ಮೌಲ್ಯದ ಮೂರು ಕೋಟಿ ರೂಪಾಯಿ ಮೌಲ್ಯದ ಮೂರು ಕೋಟಿ ರೂಪಾಯಿ ಮೌಲ್ಯದ ಮೂರು ಕೋಟಿ ರೂಪಾಯಿ ಮೌಲ್ಯದಿನವನ್ನು ಕೇಂದ್ರಗಳಿಂದ ಕೋಟಿ ರೂಪಾಯಿಸಿದೆ ದರಲು ಕೋರ್ಸ್ ಕೋರ್ಸ್ ಆಫ್ ಯೋಜನೆಯಲ್ಲಿ ಕೋರ್ಸ್ ಆಫ್ ಇನ್ ಇನ್ ಇನ್ ಇನ್ ಇನ್ ಇನ್ ಇನ್ ಇನ್ ಇನ್ ಇನ್ ಇನ್ ಇನ್ ಇನ್ ಇನ್ ಇನ್ ಇನ್ ಇನ್ ಇನ್ ಇನ್ ಇನ್ ಇನ್ ಇನ್ ಇನ್ ಇನ್ ಇನ್ ಇನ್ ಇನ್ ಇನ್ ಇನ್ ಇನ್ ಇನ್ ಇನ್ ಇನ್ ಇನ್ ಇನ್ ಇನ್ ಇನ್ ಇನ್ ಇನ್ ಇನ್ ಇನ್ ಇನ್ ಇನ್ ಇನ್ ಇನ್ ಇನ್ ಇನ್ ಇನ್ ಇನ್ ಇನ್ ಇನ್ ಇನ್ ಇನ್ ಇನ್ ಇನ್ ಇನ್ ಇನ್ ಇನ್ ಇನ್ ಇನ್ ಇನ್ ಇನ್ ಇನ್ ಇನ್ ಇನ್ ಇನ್ ಇನ್ ಇನ್ ಇನ್ ಇನ್ ಇನ್ ಇನ್ ಇನ್ ಇನ್ ನರ್ ಆ ಮತದ ಬಂದಾಗಿ ಮಾಡಬೇಕು ಸ್ವಾಮಿ ಇಂದು ಸರ್ಕಾರಿ ಜೊತೆಗೆ ಹೋಗಿ ಸಿರಿಲಿಲ್ಲ ಕಂದರಾಜ್ ಅವರು ಮಾತನಾಡಿದ ಅವರು ಜಿಲ್ಲೆಯಲ್ಲಿ ನಿನ್ನೆ ಸುದ್ದಿಗಾರರೊಂದಿಗೆ ಮಾತನಾಡಿದ ಅವರು ಮಾತನಾಡಿದರು ದೇವೇಗೌಡ ಅವರು ಮಾತನಾಡಿದರು ಕೇರಳದಲ್ಲಿ ನಿನ್ನೆ ಸುದ್ದಿಗಾರರೊಂದಿಗೆ ಮಾತನಾಡಿದ ಅವರು ಮಾತನಾಡಿದರು ರನ್ನು ಬಿಟ್ಟುಕೊಂಡು ಬಂದಿರುವ ಸಾಧ್ಯತೆ ಇದೆ ದೇವೇಗೌಡ ಅವರು ಮಾತನಾಡಿದರು ಮಾರ್ಕಿನ್ ಸಿಗಬೇಕು ಅಂತಂದ್ರೆ ಕಲಾಮಾತ್ಯ ರಲ್ಲಿ ನಿನ್ನೆ ಸುದ್ದಿಗಾರರೊಂದಿಗೆ ಮಾತನಾಡಿದ ಅವರು ಕೇಂದ್ರ ಸರ್ಕಾರ ಅನುಮೋದನೆ ನೀಡಿದ್ದಾರೆ\n",
      "\n",
      "File: SandalWoodNewsStories_43.txt\n",
      "Similarity Score: 0.8683315515518188\n",
      "Answer: ಹೈಂಡಿಯಾ ಯುರೋಜ್ಯಾಚಲಿನ್ ಬ್ಯಾಂಗ್ಲೆಂಡ್ ಎಸ್ ಎನ್ ಡೇ ಸ್ಯಾಂಡಿಯಾದ ಅಂದರೆ ಕಿತ್ತಿದೆ ಗುರು ಕೇರಳದಲ್ಲಿ ಕೊರೋನಾ ಸೋಂಕು ಹರಡಿರುವ ಸಾಧ್ಯತೆ ಇದೆ ದೇವೇಗೌಡ ಅವರು ಮಾತನಾಡಿದರು ಸಾರ್ವಜನಿಕ ಸಂಘಟಿತ ಸಚಿವ ಸ್ಥಾನಗಳಿಗೆ ಸೇರಿದಂತೆ ಸಾರ್ವಜನಿಕ ಸ್ಥಾಪಿಸಿದೆ ಕೇರಳದಲ್ಲಿ ನಿನ್ನೆ ಸುದ್ದಿಗಾರರೊಂದಿಗೆ ಮಾತನಾಡಿದ ಅವರು ಮಾತನಾಡಿದರು ಸಿರುವ ಅವರು ಕೇಂದ್ರ ಸರ್ಕಾರದ ಮುಖ್ಯಮಂತ್ರಿ ಅವರು ಸರ್ಕಾರಿ ಸಮಾರಂಭದಲ್ಲಿ ಸರ್ಕಾರ ನಿರ್ಧರಿಸಿದ್ದರು ಕೋಟೆಯಲ್ಲಿ ನಿನ್ನೆ ಸುದ್ದಿಗಾರರೊಂದಿಗೆ ಮಾತನಾಡಿದ ಅವರು ಇದು ಪರಿಸ್ಥಿತಿ ಕಾರ್ಯಕ್ರಮಗಳನ್ನು ಕೈಗೊಳ್ಳಲಾಗುವುದು ಎಂದು ಅವರು ಹೇಳಿದರು ಸಿಕ್ಕಿದ್ದರು ರಲ್ಲಿ ನಿನ್ನೆ ಸುದ್ದಿಗಾರರೊಂದಿಗೆ ಮಾತನಾಡಿದ ಅವರು ಸರ್ಕಾರಿ ಸಮಿತಿ ಅಧ್ಯಕ್ಷ ಡೊನಾಲ್ಡ್ ಟ್ರಂಪ್ ಅವರು ಸೇರಿದಂತೆ ಹಲವು ಕಾರ್ಯಕ್ರಮಗಳನ್ನು ಕೇಂದ್ರ ಸರ್ಕಾರ ಆರಂಭಿಸಿದೆ ಕೇರಳಿ ಹಾಗೂ ಕಾರ್ಯಕ್ರಮಗಳನ್ನು ಕೇಂದ್ರ ಸರ್ಕಾರ ಕೈಗೊಂಡಿದೆ ಸಿರುವ ಸಾರ್ವಜನಿಕರು ಸಾರ್ವಜನಿಕರು ಸಹಕಾರಿ ಸಂಘದ ಸಂಸ್ಥೆಗಳಿಗೆ ಸಹಕಾರಿ ಸಂಬಂಧಿಸಿದಂತೆ ಸಚಿವ ಸಂಪುಟ ಸಭೆ ನಡೆಯಲಿದೆ ನಾವು ಅಗರ್ನಾಟಕ್ಕೆ ಅದಕ್ಕೆ ಡಿದ್ದ ಅವರು ಪ್ರಸ್ತುತ ಅಕ್ಷರೊಡ್ಡಿಕ್ಷನ್ ನಿಲಯಕ್ಕೆ ಏರಿದ್ದಾರೆ ರಲ್ಲಿ ನಿನ್ನೆ ಸುದ್ದಿಗಾರರೊಂದಿಗೆ ಮಾತನಾಡಿದ ಅವರು ಸರ್ಕಾರ ಸಮಾರಂಭದಲ್ಲಿ ಮಾತನಾಡಿದ ಅವರು ಸರ್ಕಾರಿ ಸಮಾರಂಭದಲ್ಲಿ ಸರ್ಕಾರಿ ಸಮಾಜದ ಸರ್ಕಾರಿ ಸಮಾಜದ ಸರ್ಕಾರಿ ಸಮಾಜದ ಸರ್ಕಾರಿ ಸಹಕಾರಿಯಾಗಿದೆ ಎಂದು ಸಚಿವ ಅರುಣ್ ಜೇಟ್ಲಿ ಹೇಳಿದ್ದಾರೆ ಸಿರುವ ಸಾರ್ವಜನಿಕರು ಸಾರ್ವಜನಿಕರು ಸಹಕಾರಿ ಸಂಘದ ಸಹಯೋಗದಲ್ಲಿ ಸಾರ್ವಜನಿಕರು ಸಹಕಾರ ಸಹಯೋಗದಲ್ಲಿ ಸಾರ್ವಜನಿಕರು ಸಹಕಾರಿಯಾಗಬೇಕು ಎಂದು ಸಚಿವರು ಸಹಕಾರಿ ಸಚಿವರು ಸುಪ್ರೀಂಕೋರ್ಟ್ ಅವರು ಸಿದ್ದರಾಮಯ್ಯ ಮಾಡಿದ್ದಾರೆ ದೇವೇಗೌಡ ಹಾಗೂ ಸಿಬ್ಬಂದಿಯನ್ನು ಸರ್ಕಾರ ಕೈಗೊಂಡಿದ್ದು ಸರ್ಕಾರ ಕೈಗೊಂಡಿದೆ ಚಿತ್ರನಾಥ್ ಸಿಂಗ್ ಅವರು ಸೇರಿದಂತೆ ಹಲವು ಕಾರ್ಯಕ್ರಮಗಳನ್ನು ಕೈಗೊಳ್ಳಲಾಗಿದೆ ಸಿ ನರ್ಸಿಂಗ್ ಮಾರ್ಪರ್ಟ್ ಸೌನಿಖಿಯಾ ಎಸ್ಎಸ್ಎಲ್ಸಿ ಮಾತನಾಡಿದ ಅವರು ಸೌನಿಖಿಯಾ ವಿಜಯ್ ಸೇರಿದಂತೆ ಅದಕ್ಕೆ ಸಾಮರ್ಥ್ಯ ಸೌಲಭ್ಯ ಕಲ್ಪಿಸಲಾಗಿದೆ ಮಾರ್ಕ್ ಮಾಡಿಕೊಂಡಿದ್ದರು ಬೇಸಿಗಳಿಗೂ ಪುರಾತನ ಮಾಡಿದ ನಾವು ನಾವು ನಿರ್ಬಂಧಗಳು ಮತ್ತು ಸಮಿತಿ ನಿರ್ಮಾಣಕ್ಕೆ ಸಮಗೀತಾ ಅಧಿಕಾರಿಗಳು ಸಹಕಾರಿಯಾಗಬೇಕು ಎಂದು ಸಚಿವ ಸುರೇಶ್ ಅಂಗಡಿ ಮಾಡಿದ್ದರು ಸಿಕ್ಕಿದ್ದರೆ ಅದೇ ಕಲಾವಿದರು ಕತ್ತರವಾಗಿ\n",
      "\n",
      "File: SandalWoodNewsStories_45.txt\n",
      "Similarity Score: 0.8842856287956238\n",
      "Answer: ನಿಮನ್ನ ಕರ್ನಾಟಕದ ಅತ್ಯಂತ ಹೆಸರುವಾಸಿಯಾಗಿದೆ ದರಗಿರಲಿರುವ ಹಾಗೂ ಕಾರ್ಯಕ್ರಮದಲ್ಲಿ ನಿನ್ನೆ ಸುದ್ದಿಗಾರರೊಂದಿಗೆ ಮಾತನಾಡಿದ ಅವರು ಮಾತನಾಡಿದರು ಗಂಧದ ಮರಕ್ಕೆ ಅಂತ ಎಕ್ಸ್ನಜ್ಜಿವಾಗಿ ಗನದ ಮರಕ್ಕೆ ಮಾಡಿ ಮಾಡಿದ ಒಂದು ನೂರ ಅರವತ್ತು ನಿಮಗೆ ಸುಮಾರು ಹತ್ತು ಲಕ್ಷ ಸಸಿಗಳು ನೀವೇ ನಾನಿದ್ದು ಎಲ್ಲ ಇದೇ ಕಂಪೂರ ಇನ್ನಿನಲ್ಲಿ ಇದೆ ಹತ್ತು ಲಕ್ಷ ಗಿಡಗಳನ್ನು ನೀವು ನಿರಾಕ್ಷಿಸಲಾಗಿದೆ ಹತ್ತು ಲಕ್ಷ ಗಿಡಗಳನ್ನು ನೀವು ನಿರಂತರವಾಗಿದೆ ಎಂದು ಕೋಲಾರ ಜಿಲ್ಲೆಯ ಶ್ರೀನಿವಾಸ್ಪುರ ತಾಲಕ್ಕಿಂದ ಶ್ರ ಕೊನಾಕ್ಸಿನ್ ಹತ್ತು ಸಾವಿರದ ಎರಡು ನೂರ ಹತ್ತೊಂಬತ್ತು ಕೋಟಿ ರೂಪಾಯಿ ಮೌಲ್ಯದ ಮೇಲೆ ನೀಡಿದ್ದರು ಈ ಗಂದದ ಗಿಡಗಳನ್ನು ಯಾವಾಗ ಇಲ್ಲಿ ಹೊಸದಾಗಿ ಪ್ರಾರಂಭ ಮಾಡಿದ್ದು ನಾವು ಸ್ವಲ್ಪ ಮುಂದುವರೆದಿದ್ದಾರೆ ಕೇರಳದಲ್ಲಿ ನಿನ್ನೆ ಸುದ್ದಿಗಾರರೊಂದಿಗೆ ಮಾತನಾಡಿದ ಅವರು ಮಾತನಾಡಿದರು ಸಿಕ್ಕಿದ್ದರು ಎಂದು ಸಚಿವರು ಸುರೇಶ್ ಅಂಗಡಿ ಮಾಡಿದ್ದರು ಕೋಟ್ಟಿ ನಿತರಾಲ್ನಲ್ಲಿ ಒಂದು ನೂರ ಅನುದಾನ ಎನ್ನುವುದಿಲ್ಲ ಎಂದು ಮಾಡಿಕೊಂಡು ಆ ಬಿಡ್ ಮೇಲೆ ನಾವು ಸಮಗ್ರತೆ ಮತ್ತು ಮಾಡಿಕೊಂಡು ಬೆಳವಣಿಗೆ ಮತ್ತು ಮಾಡಿಕೊಂಡು ಬೆಳವಣಿಗೆ ಬಿಡಿಸಿಕೊಂಡು ಬೆಳವಣಿಗೆ ಬಿಡಬೇಕು ಎಂದು ಬೆಳವಣಿಗೆ ಬಿಡಬೇಕು ಎಂದು ಇಪ್ಪತ್ತಡಿ ಇಲ್ಲ ನಾಲ್ಕು ನೂರ ಹತ್ತೊಂಬತ್ತು ಅರವತ್ತು ಕೆಲವು ಮುವತ್ತ್’ಮೂರು ಸಾವಿರ ಸಿರುವ ಸಂದರ್ಭದಲ್ಲಿ ಮಾತನಾಡಿದ ಅವರು ಜಿಲ್ಲೆಯ ಸರ್ಕಾರಿ ಸಮುದಾಯದ ಸಾಮಾಜಿಕ ಅಂತರ ಕಾಪಾಡಿಕೊಳ್ಳುವುದು ಜಿಲ್ಲೆಯ ಸಮುದಾಯದ ಕೆಲವು ಜಿಲ್ಲೆಗಳಲ್ಲಿ ಜಿಲ್ಲೆಯ ಕೆಲಸ ಮತ್ತು ಕೈಲ್ ಪರಿಸ್ಥಿತಿ ಕುರಿತು ಅದನ್ನು ಜಿಲ್ಲಾಡಿಸಿಕೊಳ್ಳಲಾಗಿದೆ ಕೇರಳ ನಾಲ್ಕು ಚಿತ್ರನೇ ಮಾಡಿದರು ರನ್ನು ಕೂಡಿದ ಕುರಿತಂತೆ ನಮ್ಮ ಇಲಾಖೆಯಲ್ಲಿ ಕೃಷಿ ಸಂಯುಕ್ತ ಅರಬ್ ಅಕ್ಟೋಬರ್ ಅವರು ಕೆಲಸ ಮಾಡಿದರು ಕೇರಳದಲ್ಲಿ ನಾಲ್ಕು ನೂರ ಹದಿನಾಲ್ಕು ಮಂದಿ ಮೃತಪಟ್ಟಿದ್ದು ಇದು ಸಾವಿರದ ಒಂದು ನೂರ ಹದಿಮೂರು ಮಂದಿ ಮೃತಪಟ್ಟಿದ್ದು ಇದು ಇಪ್ಪತ್ತ್’ಒಂದು ಹದಿಮೂರು ಸಾವಿರದ ಒಂದು ನೂರ ಹದಿಮೂರು ಹದಿಮೂರು ಹದಿಮೂರು ಸಾವಿರದ ಒಂದು ನೂರ ಹದಿಮೂರು ಹದಿಮೂರು ಹದಿಮೂರು ಹದಿಮೂರು ಹದಿಮೂರು ಹದಿಮೂರು ಹದಿಮೂರು ಹದಿಮೂರು ಹದಿಮೂರು ಹದಿಮೂರು ಸಾವಿರ ಅದನ್ನು ಹುಳಿಯುವುದೇನೆಲ್ಲ ಸೌಲಿನ ಒಳಗೆ ನೀಡಿಲ್ಲ ಶಾಸಕರು ಸಾವಿರದ ಒಂದು ನೂರ ಹತ್ತು ಮಂದಿ ಸಾವಿಗೀಡಾಗಿದ್ದು ಸಾವಿರದ ಒಂದು ನೂರ ಹತ್ತೊಂಬತ್ತು ಸಾವಿರದ ಒಂದು ನೂರ ಹತ್ತೊಂಬತ್ತು ಸಾವಿರದ ಒಂದು ನೂರ ಹತ್ತೊಂಬತ್ತು ಸಾವಿರದ ಒಂದು ನೂರ ಹತ್ತು ಮಂದಿ ಸಾವಿಗೀಡಾಗಿದೆ ರಾಜ್ಯಗಳು ಮತ್ತು ಕೇಂದ್ರಾಡಳಿತ ಪ್ರದೇಶಗಳಲ್ಲಿ ಕೇಂದ್ರಗಳಲ್ಲಿ ಕೇಂದ್ರ ಸರ್ಕಾರ ಕೈಗೊಂಡಿದ್ದು ಸರ್ಕಾರ ಕೈಗೊಂಡಿದೆ ಕೇರಳದಲ್ಲಿ ಕೊರೋನಾ ಸೋಂಕು ಪತ್ತೆ ಹಿನ್ನೆಲೆಯಲ್ಲಿ ಕೇಂದ್ರ ಸರ್ಕಾರ ಕೈಗೊಂಡಿದೆ\n",
      "\n",
      "File: SandalWoodNewsStories_46.txt\n",
      "Similarity Score: 0.9063719511032104\n",
      "Answer: ಚಂದ್ರಗ ನಮಸ್ಕಾರ. ಒಂದಾರ್ಧರ್ ದಾರಿ ಇದು ಸುಮಾರು ಕರೆಕರೆಯದೆ ನಂದಿನಂದಿನಂದಾಗಿ ಸುತ್ತಮುತ್ತಿದ್ದಾರೆ ಕ್ಕೆ ನೆರಳಾಗಿಲ್ಲ ಚೆನ್ನಾಗಿರುತ್ತದೆ ಕಟವನ್ನು ತುಂಬಾ ವರ್ಷದಿಂದ ಏನು ಆಕ್ಟಿರಲಿಲ್ಲ ಅದಕ್ಕೆ ಐದು ದಿನ ಬಾಳೆ ಹಾಕ್ಕಿ ದಷ್ಟೆ ಈಗ ಫಲವತ್ತಾಗಿದೆ ಕೊಡ್ಡಿದ್ದೇನೆ ಕಡಿಮೆ ಜಾಗರದಿಂದ ನಾವು ಹಾರ ಹರಡಿ ಹೊನ್ನಾದ ಜಿಡಕ್ಕೆ ಬಿಟ್ಟಿದ್ದೇವೆ ಅದರು ಪಕ್ಕಕ್ಕೆ ಏನೇ ಸದ್ಯಕ್ಕೆ ಒಂದು ಸದ್ಯಕ್ಕೆ ಒಂದು ಸಾವಿರದ ಏಳು ನೂರ ಇರುತ್ತಾ ಎಲ್ಲಾ ರಾಜ್ಯಗಳಿಂದ ಜಿಡಿಪಿ ದಾಳಿಗೆ ಬೇಡ ಹಾಕಿದ್ದೇವೆ ಮಾದ್ಯ ಅಸ್ತಿಗೆ ಒಂದು ರಡಿಯಾಗಿರುತ್ತದೆ ನಂದಗುರಿ\n",
      "\n",
      "File: SandalWoodNewsStories_49.txt\n",
      "Similarity Score: 0.8735565543174744\n",
      "Answer: ವರೆಯಲಿರುವ ಸಿಲುಕಿದರೆ ನಿಷ್ಠ ಅವರು ಗಂಭೀರ ಪುರಸ್ಕಾರ ಗಂಭೀರ ಗಂಭೀರ ಸಾಗಿದೆ ಇಂದಿನ ಸಂಜೆ ಆರು ಗಂಟೆಗೆ ಮುಂದಿನ ಸಾವಿರದ ಕೋಟಿ ರೂಪಾಯಿ ವೆಚ್ಚದಲ್ಲಿ ನಿರ್ಮಾಣಕ್ಕೆ ಸಾಕ್ಷಿ ಸಾಕ್ಷಿಯಾಗಿದ್ದು ಸಾವಿರದ ಒಂದು ನೂರ ಹದಿನಾರು ಕೋಟಿ ರೂಪಾಯಿ ಬಿಡುಗಡೆ ಮಾಡಿದೆ ಇದೆ ಎಬ್ಬರಿತ್ತು ಇಷ್ಟಪಾಗಿಲ್ಲ ಎಲ್ಲ ಸಂಡುವುದು ನಂದಗು ಮಾತನಾಡಿದ ಅವರು ಸರ್ಕಾರಿ ಸಮಯದಲ್ಲಿ ಸಾಧ್ಯವಾಗಿದೆ ನಂಬಿಕೆ ಮಾಡಿದ ಅವರು ನಿನ್ನೆ ಸಂಜೆ ಆರು ಸಾವಿರದ ಮೂರು ನೂರ ಹತ್ತು ಮಂದಿ ಸಾವಿರದ ಅಯ್ದು ನೂರ ಹತ್ತೊಂಬತ್ತು ಕೋಟಿ ರೂಪಾಯಿ ಮೌಲ್ಯದ ಅನಾವರಣಗೊಂಡಿದ್ದು ಅವರು ಸಾವಿರದ ನಿನ್ನೂ ಟ್ರಾಕ್ಟ್ ಮಣ್ಣೋಡಿಸಿ ಅನುಮತಿ ಮಾಡಿಕೊಳ್ಳಲಾಗಿದೆ ಸರಿಯಲ್ಲಿ ನಿನ್ನೆ ಸಂಜೆ ನಾಲ್ಕು ನೂರ ಅರವತ್ತು ಕೋಟಿ ರೂಪಾಯಿ ಮಾಡಿಕೊಂಡಿದ್ದರು ಕೊಡಗಿ ಕೊಡಗಿದರು ಈಗಡಿಗಳು ಸಿರುವ ಮೂರು ನೂರ ಎಂಬತ್ತು ಮಂದಿ ಸೋಂಕು ಪತ್ತೆ ಹಿನ್ನೆಲೆಯಲ್ಲಿ ಸಾವಿರದ ಮುವತ್ತ್’ಒಂದು ಕೋವಿಡ್ ಸೋಂಕು ಪತ್ತೆ ಹತ್ತು ಸಾವಿರದ ಒಂದು ನೂರ ಹದಿನಾಲ್ಕು ಮಂದಿ ಸೋಂಕು ಪತ್ತೆ ಹತ್ತು ಸಾವಿರದ ಒಂದು ನೂರ ಹತ್ತೊಂಬತ್ತು ಸಾವಿರದ ಒಂದು ನೂರ ಹತ್ತೊಂಬತ್ತು ಸಾವಿರದ ಒಂದು ನೂರ ಹತ್ತೊಂಬತ್ತು ಸಾವಿರದ ಒಂದು ನೂರ ಹತ್ತೊಂಬತ್ತು ಸಾವಿರದ ಆರು ನ ದೇವೇಗೌಡ ಅವರು ಸಂಸ್ಕೃತಿ ಸಚಿವ ಬಿ ಕೇರಳದಲ್ಲಿ ನಿನ್ನೆ ಸುದ್ದಿಗಾರರೊಂದಿಗೆ ಮಾತನಾಡಿದ ಅವರು ಮುಖ್ಯಮಂತ್ರಿ ಬಿ ಹಾರಿವುಡ್ ಸಿನಿಮಾ ತಾಯ್ಯಾದುದೇ ನೋಡಿ ಇನ್ನೊಂದು ನಾಗವಾಗಿ ಮುಂದಿನ ಭೂಮಿಯಿಂದ ಚಿತ್ರನಂತಪುರದಲ್ಲಿ ನಿನ್ನೆ ಸುದ್ದಿಗಾರರೊಂದಿಗೆ ಮಾತನಾಡಿದ ಅವರು ಮಾತನಾಡಿದರು ಇದನ್ನು ಏನು ಬಡ್ತಿ ಬೆಂಗಳೂರು ನಮಗೆ ಮಾದರಿ ಸಿಕ್ಕಿದ್ದರು ಇಲ್ಲ ನಾನು ಸೇಲ್ ತೆಗೆಸಿಕೊಟ್ಟಿ ಅದಕ್ಕೂ ಟ್ಯಾಗ್ಸ್ ಕಟ್ಟಿ ಸೇಲ್ ತಾಕ್ಸ್ಟಾಗಿಸಲ್ಮೇಲೆ ಇಂಕಮ್ ಟಾಗಿಸ್ ಕಟ್ಟಿ ಮಾಡಬೇಕು ದರ್ಶನ ಕೇರಳದಲ್ಲಿ ನಿನ್ನೆ ಸುದ್ದಿಗಾರರೊಂದಿಗೆ ಮಾತನಾಡಿದ ಅವರು ಮಾತನಾಡಿದರು ಸ್ಟೇಟ್ ಇನ್ನು ಅನೇಕ ಸ್ವಾದಿಸ್ಟ್ರೇಟ್ ಎಸ್ಪಿಗಳಿಗೆ ಸೇರಿದಂತೆ ಹಲವು ಕಾರ್ಯಕ್ರಮಗಳನ್ನು ಕೈಗೊಳ್ಳಲಾಗಿದೆ\n",
      "\n",
      "File: SandalWoodNewsStories_52.txt\n",
      "Similarity Score: 0.8908135890960693\n",
      "Answer: ಪ್ರತಿದಿನ ಒಂದು ವಿಡಿಯೋ ಬೆಳಗ್ಗೆ ಅಮ್ಮಪೇಟೆಂಟೆಗೆ ನಿರ್ವಸ್ಕರ ಆಯುರ್ವೇದ ಪಂಚಕರ್ಮ ಹಾಗೂ ಯೋಗಾವಿಡೆ ಒಳಗಾಗಿ ನೋಡ್ತಾ ಇರಿ ನಮ್ಮ ಚಾನಲ್ ನಮ್ಮ ಚಿಕಿತ್ಸಾ ಪ್ರಕರಣ ವಿದ್ಯಾನದರ ದಾವಣಗೆರೆ ಕರ್ನಾಟಕದಲ್ಲಿ ಹೇರಳವಾಗಿ ಒಂದು ಕಾಲದಲ್ಲಿ ಬಿಡಿತಾಯಿತು ಶ್ರೀಗಂಧಕ್ಕೆ ಅದಕ್ಕೆ ಅದಕ್ಕೆ ಅವರ ಧಾರ್ಮಿಕ ನೆಲೆಗಟ್ಟಿನಿನ್ನೆಮ್ಮ ಪೂಜಾ ಕೈಂಕರ್ಯಗಳಲ್ಲಿ ಶ್ರೀಗಂಧಕ್ಕೆ ಅತಿ ಉನ್ನತಮಂತ್ರಾಹ ಸ್ಥಾನ ಯಾಕೆ ಇದಕ್ಕೆ ಕಾಯಿಲೆಯನ್ನು ವಾಸ ಮಾಡುವಂತಹ ಕುಣವನ್ನು ಭಾಗವಂತ ಕೊಟ್ಟಿರುವುದರಿಂದ ಇದಕ್ಕೆ ಒಂದು ಧಾರ್ಮಿಕ ನೆಲೆಗಟ್ಟನ್ನ ಶ್ರೀಗ� ಕ್ಕೆ ಕೊಡಲಾಗಿದೆ ಶ್ರೀಗಂಧನ ಕಷಾಯವನ್ನು ಗಂಧಿಯ ಚಕ್ಕಿಯ ಚೂರಣವನ್ನು ಗ್ರಂಧಿಗೆ ನಡೆಯಲಿದ್ದು ಬಿಟ್ಟು ಆಕ್ಫೋರ್ಡ್ ಪುಡಿಯನ್ನು ಎರಡು ಲೋಟ ನೀರಿಗೆ ಒಂದು ಚಮಚಾರ್ಜ್ರೀಗಂಧದ ಚೋರಣವನ್ನು ಆಚಿ ಕದುಸಿ ಕುದುಸಿ ಅರ್ಧಕ್ಕೆ ರಡಿವು ಸ್ಮಾರಿ ಆ ಕಷಾಯವನ್ನು ಬೆಳಿಗ್ಗೆ ಮತ್ತೆ ಸಾಂಕಲ ಕುರಿತ ಬಿತ್ತಿದೆ ಅಂಗಯಿ ಅಂಗಾಲು ಉರಿ ಮಲದ್ವಾರ ಉರಿ ಇತರರು ಒಂದು ಉರಿಗೆ ಸಂಬಂಧಪಟ್ಟಿರುವಂತಹ ಇತ್ತು ಅಂತಹ ಎಲ್ಲಾ ಕಾರ್ಯಗಳನ್ನು ಶ್ರೀಗಾಂಧದ ಚೆಕ್ಕೆಯ ಚೂರಣವನ್ನು ದಿನನಿತ್ಯ ಪ್ರಯೋಗ ಮಾಡಿದ್ದಲ್ಲಿ ಶಮನಾಕ ಮಾಡಲಿಕ್ಕೆ ಅವಕಾಶ ಇದೆ ಕ್ಕೆ ಹೋಳಪನಕೊಡುತ್ತದೆ ಆ ಶಕ್ತಿ ಈ ಶ್ರೀಗಂಧ ಕ್ಕಿಯಿರಿಯಲ್ಲಿ ಶ್ರೀಗಂಧರಾಜ್ಞೆ ಪರಿಮಾಣವಲ್ಲ ದೇಹಕ್ಕೆ ಕೊಡುಕೊತ್ತದೆ ಮಕೃತ್ಯಕ್ಕೆ ಪನವನ್ನು ಮಾಡಿ ಒಂದು ಗಂಟೆ ಬಿಟ್ಟು ಅಣ್ಣ ನೀರಿನಲ್ಲಿ ವಾಷ್ ಮಾಡಿದರಿಂದ ಮುಖದಲ್ಲಿರುವಂತಹ ಮಡವಿಗಳು ಕಡಿಮೆ ಅರ್ಥವಾಗುತ್ತದೆ ಕಾ ಎಂದು ಮುಖಚಿಲ್ಲೆ ಪನವನ್ನು ಮಾಡಿಕೊಳ್ಳದರು ಬದಲಾಗಿದೆ ಕಂದಿರುವ ಕಾರ್ಯಕ್ರಮದಲ್ಲಿ ಮಾಡಿದ್ದರು ಧನ್ಯವಾದಗಳು\n",
      "\n",
      "File: SandalWoodNewsStories_53.txt\n",
      "Similarity Score: 0.9084646701812744\n",
      "Answer: ನಾವು ಆರಂಭದಿಂದ ಇಂದಿಮೆಂಟ್ ಬೋರನ್ ಟುಸ್ಟೆಸ್ ದೇ ಹಾಟು ಡಫೆರಮೇಶನ್ ಇಂದ ಸಂರಾಷ್ಟ್ರೀಯ ಡೆಸರೋನ್ ಫೋರಂಡ್ ಆಫಿಯರ್ ಓಲ್ ಟ್ರಿಪ್ ಅಂಡ್ ಗರ್ತಿ ಝರೋನ್ ಫೋರಂ ಡೆಮಿಟರ್ ಆಂಡ್ ಅಂಡ್ ಅಂಡ್ ಅಬ್ದುಲ್ ಸುದ್ದಿ ಮೋದಿ ಕೋರ್ ಸ್ಯಾಂಪಲ್ ಟೆಸ್ಟ್ ಹಾಟು ಉಂಟು ಕೋರ್ಸ್ ಆಫೀನ್ ಬೋರಾ ಅಕ್ಡೌನ್ ಪರಾಟೆಗಳಿಂದ ಕೋರ್ಸ್ ಆಂಪಿಸಿದ್ದಾರೆ ಕೋರ್ಸ್ ಅಂಪರ್ಕಿಸಿ ಸಿಂಗ್ ಲೈಟ್ ಸ್ಮಾರ್ಟ್ ಇನ್ ಇಂಡಿಯಾ ಫಾರ್ಮಸ್ಟಿನ ಫಾರ್ಮಸ್ಟಿನ ಫಾರ್ಮಸ್ಟಿನ ಫಾರ್ಟ್ ಇಂಡಿಯಾ ಸಾಫುಡ್ ಪ್ರಿಯಾಂಕ್ ಸುಖ್ಯ ಕಾಂಗ್ರೆಸ್ ಎಫೆಕ್ಟ್\n",
      "\n",
      "File: SandalWoodNewsStories_6.txt\n",
      "Similarity Score: 0.8705673813819885\n",
      "Answer: ಬ್ಲ್ಯಾಕ್ ಉಟ್ಟುಬಗ್ಗೆ ಒಂದು ಸಂಪೂರ್ಣ ವಿಡಿಯೋ ಬರುತ್ತೆ ಬಾಳ ಜನಕದ ಡೌಟಿದೆಂಗ್ ಬೆಳೆಸಬೇಕು ಎಲ್ಲಿಸಿಕೊಂಡಂತಹ ಅದ್ನಾವು ನೆಕ್ಸ್ಟ್ ವಿಡಿಯೋ ಮಾಡುತ್ತಿದೆ ನಂದಿ ಕೆ ನಿಮ್ಮೆಂಟ್ ನಿಯಂತ್ರಣ ಕಾರ್ಯಕ್ರಮದಲ್ಲಿ ನೆನ್ನೆಯಿಂದ ನೆನ್ನೆಯಿಂದ ನೆನ್ನೆಯಿಂದ ನೆನ್ನೆಯಿಂದ ನೆಕ್ಸ್ಟ್ ನೆಕ್ಸ್ಟ್ ನೆಕ್ಸ್ಟ್ ಇಂಟರ್ ಕಪಿಸಿದೆ ಸ್ಥಾಪಿಸಿದೆ ಕೇರಳದಲ್ಲಿ ನಿನ್ನೆ ಸುದ್ದಿಗಾರರೊಂದಿಗೆ ಮಾತನಾಡಿದ ಅವರು ಮುಖ್ಯಮಂತ್ರಿ ಅವರು ಮಾತನಾಡಿದರು ನಗಿದ್ದಾರೆ ಅದು ಹತ್ತು ಹತ್ತು ಹತ್ತು ಅದು ಹತ್ತು ಹತ್ತು ಹದಿನೇಳು ಹತ್ತು ಹತ್ತು ಹತ್ತು ಹತ್ತು ಹತ್ತು ಹತ್ತು ಹತ್ತು ಹತ್ತು ಹತ್ತು ಹತ್ತು ಹೊಸ್ತಾಂದರೆ ಅವರು ಏನು ಕೋಟಿ ಹೆಚ್ಚಿಸಲಾಗಿದೆ ಎಂದು ಹೇಳಿದರು ಸರಿಯಲ್ಲಿ ನಿನ್ನೆ ಸಂಜೆ ಸಿಗಲಿದೆ ಇನ್ನೊಂದು ಹೋಸ್ಟ್ ಕೊಡುತ್ತೇವೆ ಅಪ್ಲಾನ್ ಮಾಡುತ್ತಾರೆ ಅದರ ಜೊತೆಗೆ ಇದಕ್ಕೆ ಸ್ಟಸ್ಟ್ ಮ್ಯಾನೇಜ್ಮೆಂಟ್ ಬಗ್ಗೆ ಪ್ಲಾನ್ ಮಾಡುತ್ತೇವೆ ಯಾಕೆಂದರೆ ಗೃಹತ್ತು ಎಷ್ಟು ಒಳ್ಳೆದಿರುತ್ತೆ ಅಷ್ಟೇ ಹಾಟು ಡಿಗ್ರಿ ಬೆಟ್ ಆಕ್ಸಿಸ್ ಗೋಕ್ ಇದ್ದಾಗ ಹಾಟು ಫಾರ್ಮಷನ್ ಕಡಿಮೆಯಾಗುತ್ತೇವೆ ಎಂದು ಅವರು ಹೇಳಿದ್ದಾರೆ ಕೇರಳದಲ್ಲಿ ನಿನ್ನೆ ಸಂಜೆ ನಾಲ್ಕು ಗಂಟೆಗೆ ಮಾತನಾಡಿದ ಅವರು ಮಾತನಾಡಿದರು ಸಿರೆಟರ್ನಲ್ಲಿ ನಿನ್ನೆ ಸುದ್ದಿಗಾರರೊಂದಿಗೆ ಮಾತನಾಡಿದ ಅವರು ಸಂಸ್ಥೆ ಸಿಗುವ ಸಾಧ್ಯತೆ ಇದೆ ಎಂದು ಅವರು ಹೇಳಿದರು ಸಿಕ್ಕಿದ್ದರೆ ಸಾವಿರದ ಕೋಟಿ ರೂಪಾಯಿ ವೆಚ್ಚದಲ್ಲಿ ನಿರ್ಮಾಣಗೊಂಡಿದೆ ನಂಬರ್ ಕೊಟ್ಟಿದ್ದೀರಿ ಇಂಟರೋನ್ ಮಾಡಿ ಪುಣ್ ಮಾಡಿ ಅದೊಂದು ಇಟ್ಟುಕೊಂಡಿದ್ದೆ ಸಿಕ್ಕಿದ್ದರು ಸ್ವಲ್ಪ ಭೂಷ್ಟಪ್ ಆಫ್ ಮಾಡಿಕೊಳ್ಳಿ ಕೆ ರಾಜನಗರದಲ್ಲಿ ರಾಜ್ಯದಲ್ಲಿ ರಾಜ್ಯದಲ್ಲಿ ಸಾವಿರದ ಹತ್ತು ಸಾವಿರದ ಹತ್ತು ಸಾವಿರದ ಒಂದು ನೂರ ಹತ್ತು ಕೋಟಿ ರೂಪಾಯಿ ಮೌಲ್ಯದ ಹತ್ತು ಹೆಚ್ಚಿನ ಸಾವಿರದ ಹತ್ತು ಸಾವಿರದ ಹತ್ತು ಸಾವಿರದ ಒಂದು ನೂರ ಹತ್ತು ಹತ್ತು ಹತ್ತು ಸಾವಿರದ ಒಂದು ನೂರ ಹತ್ತು ಹತ್ತು ಹತ್ತು ಸಾವಿರದ ಒಂದು ನೂರ ಹತ್ತು ಹತ್ತಿರದ ಹತ್ತು ಹತ್ತಿರದ ಹತ್ತು ಹತ್ತಿದ್ದಾರೆ ದರಗಿರಲಿರುವ ಹತ್ತು ಸಾವಿರ ಕೋಟಿ ರೂಪಾಯಿ ಮೌಲ್ಯದ ಮೂರು ನೂರ ಎಂಬತ್ತು ಕೋಟಿ ರೂಪಾಯಿ ಮೌಲ್ಯದ ಮೂರು ನೂರ ಎಂಬತ್ತು ಕೋಟಿ ರೂಪಾಯಿ ಮೌಲ್ಯದ ಮೂರು ನೂರ ಎಂಬತ್ತು ಕೋಟಿ ರೂಪಾಯಿ ಮೌಲ್ಯದ ಮುಂದಿನ ಹತ್ತು ಮಂದಿ ಮೃತಪಟ್ಟಿದ್ದಾರೆ ಇಂಪಾರ್ಟೆಂಟ್ ಅಲ್ಲ ಹತ್ತೆಗೆಡೆಲ್ಲ ನೂರು ಗಿಡ ಕೋಳಿ ಒಳ್ಳೆ ರೀತಿಯಲ್ಲಿ ಸೈಸ್ ಮಾಡಬಹುದು ಇಲ್ಲದಿದ್ದರೆ ಮಾಡಬೇಕು ಈ ವಿಡಿಯೋ ಕಂಟಿನೆ ಮಾಡಿ\n",
      "\n",
      "File: SandalWoodNewsStories_63.txt\n",
      "Similarity Score: 0.9099946022033691\n",
      "Answer: ಇದು ಒಂದು ಸಾವಿರದ ಎಂಟು ನೂರ ಹತ್ತೊಂಬತ್ತು ಮಾಡಿಕೊಟ್ಟೆ ಖಂಡಿತವಾಗಲು ಒಂದು ಸಾವಿರದ ಒಂದು ಸಾವಿರದ ಒಂದು ನೂರ ಹದಿನಾರು ಮಂದಿ ಪತ್ತೆಯಾಗಿದ್ದು ಒಂದು ಸಾವಿರದ ಒಂದು ನೂರ ಹದಿನಾಲ್ಕು ಮಂದಿ ಪರಿಸ್ಥಾಪನೆ ನೆರವೇರಿಸಿದೆ ರಲ್ಲಿ ನಿನ್ನೆ ಸುದ್ದಿಗಾರರೊಂದಿಗೆ ಮಾತನಾಡಿದ ಅವರು ಕೇಂದ್ರ ಸರ್ಕಾರ ಅನುಮೋದನೆ ನೀಡಿದ್ದಾರೆ\n",
      "\n",
      "File: SandalWoodNewsStories_89.txt\n",
      "Similarity Score: 0.815275251865387\n",
      "Answer: ನಂತರದಲ್ಲಿ ನಿನ್ನೆ ಸುದ್ದಿಗೋಷ್ಠಿಯಲ್ಲಿ ಮಾತನಾಡಿದ ಅವರು ಸರ್ಕಾರಿ ಸಮಾರಂಭದಲ್ಲಿ ಸರ್ಕಾರ ನಿರ್ಧರಿಸಿದ್ದರು ರಲ್ಲಿ ನಿನ್ನೆ ಸುದ್ದಿಗಾರರೊಂದಿಗೆ ಮಾತನಾಡಿದ ಅವರು ಮಾತನಾಡಿದರು ದರ್ಶನಗಳಲ್ಲಿ ನಿನ್ನೆ ಸುದ್ದಿಗೋಷ್ಠಿಯಲ್ಲಿ ಮಾತನಾಡಿದ ಅವರು ಸರ್ಕಾರಿ ಸಮಾರಂಭದಲ್ಲಿ ನಿರ್ಧರಿಸಿದ್ದರು ದೇವೇಗೌಡ ಅವರು ಯಾರು ಪರಿಸ್ಥಿತಿ ಕುರಿತು ಸರ್ಕಾರದ ಮುಖ್ಯಮಂತ್ರಿ ಅವರು ಸಿದ್ದರಾಮಯ್ಯ ಮಾತನಾಡಿದರು ಸರ್ಕಾರಿ ಸರ್ಕಾರಿ ಸರ್ಕಾರಿ ಸರ್ಕಾರಿ ಸರ್ಕಾರಿ ಸರ್ಕಾರಿ ಸರ್ಕಾರಿ ಸರ್ಕಾರಿ ಸರ್ಕಾರಿ ಸರ್ಕಾರಿ ಸರ್ಕಾರಿ ಸರ್ಕಾರಿ ಸರ್ಕಾರಿ ಸರ್ಕಾರಿ ಸರ್ಕಾರಿ ಸರ್ಕಾರಿ ಸರ್ಕಾರಿ ಸರ್ಕಾರಿ ಸರ್ಕಾರಿ ಸರ್ಕಾರಿ ಸರ್ಕಾರಿ ಸರ್ಕಾರಿ ಸರ್ಕಾರದ ಸರ್ಕಾರದ ಸರ್ಕಾರದ ಸರ್ಕಾರದ ಸರ್ಕಾರಕ್ಕೆ ಸರ್ಕಾರಿ ಸರ್ಕಾರಿ ಸರ್ಕಾರಿ ಸರ್ಕಾರಿ ಸರ್ಕಾರಿ ಸರ್ಕಾರಿ ಸರ್ಕೋ� ರಲ್ಲಿ ನಿನ್ನೆ ಸುದ್ದಿಗಾರರೊಂದಿಗೆ ಮಾತನಾಡಿದ ಅವರು ಮಾತನಾಡಿದರು ಆಮೇಲಿ ಏಳು ರಿಂದ ಎಂಟು ವರ್ಷಗಳಲ್ಲಿ ಕಂಪನಿ ರಲ್ಲಿ ನಿನ್ನೆ ಸುದ್ದಿಗೋಷ್ಟಿಯಲ್ಲಿ ನಿನ್ನೆ ಸುದ್ದಿಗೋಷ್ಟಿಯಲ್ಲಿ ಮಾತನಾಡಿದ ಅವರು ಸಾವಿರದ ಒಂದು ನೂರ ಹದಿನಾರು ಸಾವಿರದ ಒಂದು ನೂರ ಹದಿನಾರು ಸಾವಿರದ ಒಂದು ನೂರ ಹದಿನಾರು ಸಾವಿರದ ಒಂದು ನೂರ ಹದಿನಾಲ್ಕು ಸಾವಿರದ ಒಂದು ನೂರ ಹದಿಮೂರು ಸಾವಿರದ ಒಂದು ನೂರ ಹದಿನೆಂಟು ಸಾವಿರದ ಒಂದು ನೂರ ಹದಿನೆಂಟು ಸಾವಿರದ ಒಂದು ನೂರ ಇಪ್ಪತ್ತು ಕೋಟೆಯಲ್ಲಿ ನಿನ್ನೆ ಸುದ್ದಿಗಾರರೊಂದಿಗೆ ಮಾತನಾಡಿದ ಅವರು ಮಾತನಾಡಿದರು ರಾಜಿನಗರದಲ್ಲಿ ನಿನ್ನೆ ಸುದ್ದಿಗಾರರೊಂದಿಗೆ ಮಾತನಾಡಿದ ಅವರು ಮಾತನಾಡಿದರು ದರಗಿರಲಿರುವ ಕೋವಿಡ್ ಸೇರಿದಂತೆ ಹಲವು ಕಡೆ ಹಾಗೂ ಸರಕಾರ ಮತ್ತು ಸಾಮಾಜಿಕ ಅಂತರ ಕಾಯ್ದುಕೊಳ್ಳುವುದು ಸಾಮಾಜಿಕ ಅಂತರ ಕಾಯ್ದುಕೊಳ್ಳುವುದು ಸಾಮಾಜಿಕ ಅಂತರ ಕಾಯ್ದುಕೊಳ್ಳುವಿಕೆ ಕಾಯ್ದುಕೊಳ್ಳುವಿರಲಿದೆ ಇಂದು ಬೆಳಗಿನ ಜಿಲ್ಲೆಯಲ್ಲಿ ಕೋವಿಡ್ ಸೋಂಕು ನಿಯಂತ್ರಣ ಕುಟುಂಬ ಕಲ್ಯಾಣ ಇಲಾಖೆ ಮಾಡಿಕೊಂಡಿದ್ದರು ಸಪೋರ್ಟಿಯೂರಿ ಮಾಡಕಕ್ಕೆ ಸಿರುವ ಅವರು ಇನ್ನೂ ಒಂದೇ ನಂತರ ನಿರ್ಮಾಣದಲ್ಲಿ ನಿರ್ಮಾಣಕ್ಕೆ ಸರ್ಕಾರ ನಿರ್ಮಾಣಕ್ಕೆ ಸರ್ಕಾರ ನೀಡಿದೆ ಕೇರಳದಲ್ಲಿ ನಿನ್ನೆ ಸುದ್ದಿಗಾರರೊಂದಿಗೆ ಮಾತನಾಡಿದ ಅವರು ಮುಖ್ಯಮಂತ್ರಿ ಎಚ್ ದರ್ಶನದ ಜನತೆಗೆ ಸಂಬಂಧಿಸಿದಂತೆ ಸಾರ್ವಜನಿಕರು ಸಹಕಾರಿ ಸಂಬಂಧಿಸಿದಂತೆ ಸಚಿವರು ಸಿದ್ದರಾಮಯ್ಯ ಮಾತನಾಡಿದರು ಸಿರುವ ಅವರು ಸಾವಿರ ಮಾದರಿಗಳನ್ನು ಪರಿಹರಿಸಬೇಕು ಎಂದು ಅವರು ಸರ್ಕಾರದ ಮುಖ್ಯಮಂತ್ರಿ ಅವರು ಸಮಾರಂಭದಲ್ಲಿ ಸರ್ಕಾರ ನಿರ್ಧರಿಸಿದ್ದರು ನಗರದಲ್ಲಿ ನಿನ್ನೆ ಹದಿನಾಲ್ಕು ಸಾವಿರದ ಒಂದು ನೂರ ಹದಿನಾಲ್ಕು ಕಡಿಮೆ ಮಾಡಿದ್ದು ಇದರಿಂದ ಸಾವಿರದ ಕೋಟಿ ರೂಪಾಯಿ ಮೌಲ್ಯದ ಸಾವಿರದ ಕೋಟಿ ರೂಪಾಯಿ ಮೌಲ್ಯದ ಸಾವಿರದ ಕೋಟಿ ರೂಪಾಯಿ ಮೌಲ್ಯದ ಸಾವಿರದ ಕೋಟಿ ರೂಪಾಯಿ ಬಿಡುಗಡೆ ಮಾಡಿದೆ ನಿವನ್ ಬೌನ್ ಸುಗರ್ ಮಾಡಕತ್ತಿರಿ ಗಾಂಜಾ ಮಾಡಕತ್ತಿಲ್ಲ ಕಳೆದ ಹದಿನಾಲ್ಕು ಸಾವಿರದ ಒಂದು ನೂರ ಹತ್ತೊಂಬತ್ತು ಕೋಟಿ ರೂಪಾಯಿ ಮೌಲ್ಯದ ಒಂದು ನೂರ ಹದಿನಾಲ್ಕು ಕೋಟಿ ರೂಪಾಯಿ ಮೌಲ್ಯದ ಒಂದು ನೂರ ಹದಿನಾಲ್ಕು ಕೋಟಿ ರೂಪಾಯಿ ಮೌಲ್ಯದ ಒಂದು ನೂರ ಹದಿನಾಲ್ಕು ಕೋಟಿ ರೂಪಾಯಿ ಬಿಡುಗಡೆ ಮಾಡಿದೆ ಸಿಕ್ಕಿಲ್ ನಲವತ್ತೈದು ಡಿಗ್ರಿ ಟೆಂಪರೇಟ್ ಫ್ರೂಡಿ ಆರಂದು ಅಮೆರಿಕ ನಾಲ್ಕು ಗೇಟುವೆ ಕನಕ್ಷನ್ ಕೊಡ್ತೀಯ ರೂಪಿಸಿದ್ದಾರೆ ದೇವೇಗೌಡ ಹಾಗೂ ಸಿಬ್ಬಂದಿಯನ್ನು ಸರ್ಕಾರ ಕಾರ್ಯಕ್ರಮದಲ್ಲಿ ಮಾತನಾಡಿದ ಅವರು ಸರ್ಕಾರ ಕೈಗೊಂಡಿದ್ದರು ಪ್ರಾಣಿಗಳಿಗೆ ನಂದಾದ ಗಿಡಗಳ ಕಟ್ಟಡ ಮರಿನಿಯರ್ ನಿನ್ನೆ ಸೆಲ್ಸ್ ಜೇಸ್ಯದಿಂದ ಮತ್ತೆ ಗಾಳಕ್ಕೆ ಹೆಚ್ಚುವರಿ ನಿರೆಂಜನಗರದಲ್ಲಿ ನಿನ್ನೆ ಸುದ್ದಿಗೋಷ್ಠಿಯಲ್ಲಿ ಮಾತನಾಡಿದ ಅವರು ಮಾತನಾಡಿದರು ಬರ್ಲೇಬರ್ ಮೆಂಟರ್ ಮಾಡಿದ್ದೀನ್ ಕಾರ್ಯಕ್ರಮದಲ್ಲಿ ಏನು ಇಲಾಖೆ ಇಲ್ಲಾಖೆಯಲ್ಲಿ ಇರಲಿ ಇಪ್ಪತ್ತ್’ನಾಲ್ಕು ಸೆಕೆಂಡ್ಸ್ ಆರು ಬೆಳಗಿನ ಕೊಡಬೇಕು ಎಂದು ಬಿಸಿಯುವ ಕುರಿತು ಬೆಳಗಾವಿ ಅವಶ್ಯಕತೆ ಇಲ್ಲ ದೇವೇಗೌಡ ಅವರು ಮಾತನಾಡಿದರು ಸಿರುವ ಸಾರ್ವಜನಿಕರು ಸಾರ್ವಜನಿಕರು ಸಹಕಾರಿ ಸಂಘಟಿಸಿದರು ನಗರದಲ್ಲಿ ನಿನ್ನೆ ಸುದ್ದಿಗೋಷ್ಠಿಯಲ್ಲಿ ಮಾತನಾಡಿದ ಅವರು ಕೊರೋನಾ ಸೋಂಕು ಪರಿಣಾಮಕಾರಿ ಕಾರ್ಯಕ್ರಮಗಳನ್ನು ಕೈಗೊಳ್ಳಲಾಗುವುದು ಎಂದು ಅವರು ಹೇಳಿದರು ದೇವೇಗೌಡ ಅವರು ಮಾತನಾಡಿದರು ಕೊನಾಕ್ ಸಿಬ್ಬಿ ಸರ್ಕಾರಿ ಸಮಿತಿ ನೀಡಿದ್ದಾರೆ ನಂದಿನಾ ಜಾಸ್ತಿ ನಿರ್ದೇಶನಾಲಯ ನಾಗರಿಯಾದರು ಸುಪ್ರೀಂ ಕೋರ್ಟ್ ಇಂದು ಸುಪ್ರೀಂ ಕೋರ್ಟ್ ಇಂದು ಸುಪ್ರೀಂ ಕೋರ್ಟ್ ಇಂದು ಸುಪ್ರೀಂ ಕೋರ್ಟ್ ಇಂದು ಸುಪ್ರೀಂಕೋರ್ಟ್ ಇಂದು ಸುಪ್ರೀಂಕೋರ್ಟ್ ಇಂದು ಸುಪ್ರೀಂಕೋರ್ಟ್ ಇಂದು ಸುಪ್ರೀಂಕೋರ್ಟ್ ಇಂದು ಸುಪ್ರೀಂಕೋರ್ಟ್ ಇಂದು ಸುಪ್ರೀಂಕೋರ್ಟ್ ಇಂದು ಸುಪ್ರೀಂಕೋರ್ಟ್ ಇಂದು ಸುಪ್ರೀಂಕೋರ್ಟ್ ಇಂದು ಸುಪೀಂಧ್ ಕೋರ್ಟ್ ಇಂದು ಸುಪೀಂಜ್ ತಿಳಿಸಿದ್ದಾರೆ ಸಿರುವ ಸಾಮಾಜಿಕ ಅಂತರ ಕಾಯ್ದುಕೊಳ್ಳುವ ಸಾಧ್ಯತೆ ಇದೆ ಸರದು ಮಾರ್ಕ್ ನಿಮಗೆ ಮುವತ್ತ್’ಒಂದು ಕೆ ಕೇಂದ್ರದಲ್ಲಿ ನಿನ್ನೆ ಸುದ್ದಿಗೋಷ್ಟಿಯಲ್ಲಿ ಸಿದ್ದರಾಮಯ್ಯ ಸಾಧ್ಯವಾಗಿದೆ\n",
      "\n",
      "File: SandalWoodNewsStories_9.txt\n",
      "Similarity Score: 0.8700920343399048\n",
      "Answer: ನಮಂಡರು ಮಕ್ಕಳು ನಮ್ಮ ತಂದೀರ್ಥಾಯಿ ಮನೆಗಿರಬಹುದು ಕೋಟಿ ಮನೆ ಅಲ್ಲಿ ಸರಿಯಲ್ಲಿ ನಿನ್ನೆ ಸಂಜೆ ನಾಲ್ಕು ಗಂಟೆಗೆ ಮಾತನಾಡಿದ ಅವರು ಸರ್ಕಾರಿ ಸಮಾರಂಭದಲ್ಲಿ ಸರ್ಕಾರ ನಿರ್ಧರಿಸಿದೆ ಕೇರಳದಲ್ಲಿ ನಿನ್ನೆ ಸುದ್ದಿಗಾರರೊಂದಿಗೆ ಮಾತನಾಡಿದ ಅವರು ಮುಖ್ಯಮಂತ್ರಿ ಬಿ ಅವರು ಸಿಟಿಗೆ ನೀಚರ್ ಅದು ಅದು ಮಲ್ಲಿಕ್ ಅವರೇಟಿ ಮಾವಿದಾಗ ಎಲ್ಲ ಪಕ್ಷಿಗಳಿಗೆ ಸರಿಟ್ಟಿದೆ ಭಟ್ಟರೆ ನೀವು ಈಗ ಸಾಗಿರುತ್ತದೆ ಕಿಟಿಗಳಿಗೆ ಹಾರಾಗುತ್ತದೆ ಇದರಲ್ಲಿ ಏನು ಮಾಡಿ ಇಲ್ಲ ಪಟ್ಟಿಲಾಸ್ ಬೇಕಾಗಿಲ್ಲ ಏನಾಗುತ್ತೇನೆ ಬಿಟ್ಟಿಲಪಕ್ಷಿಗಳು ಕೇಳಿಸಿ ಸರ್ಕಾರಿ ಸರ್ಕಾರಿ ಸಿದ್ದವನ್ನು ಸರ್ಕಾರ ಮಾಡಿಕೊಂಡು ಸರ್ಕಾರಕ್ಕೆ ಸರ್ಕಾರಕ್ಕೆ ಸರ್ಕಾರಕ್ಕೆ ಚಿಕ್ಕೋಡಿ ಒಂದರೇಟ್ ಪಟ್ಟಿಗೆ ನಾವು ನಾನು ಅನ್ನದವು ತರಬೇಕು ನಂದು ಉದ್ದೇಶನ ಬೇರೆ ಬೆಳಬೇಕು ನಂದಿನಂದು ಏನಾದರೂ ಅನುವಾದರೆ ಏನಾದರೂ ಅನ್ನೋ ಅನ್ನೋ ಕುಟುಂಬಕ್ಕೆ ಆದರೆ ಸಿವಿನಿಂದ ಸಂಕಷ್ಟಗಳ ಬಂದರೆ ಏನಾದರೂ ಅವರು ಕುಟುಂಬಕ್ಕೆ ಏನಾದರೂ ಸಂಕಷ್ಟಗಳ ಬಂದರೆ ಏನಾದರೂ ಅವನಗೆ ತೊಂದರೆಗಳ ಬಂದರೆ ಒಂದು ತೊಂದರೆಯಿಂದ ವರಗೆ ಬರಲಿಕೊಂಡ ಆರ್ಥಿಕ ಶಕ್ತಿ ಬೇಕಲ್ ಹಿಂಗಾಗಿ ನಿಯೋಜಿಸಿದೆ ತೋಟಗಾರಿಕೆ ಕೃಷಿಯಲ್ಲಿ ಮನಸೂರ್ತ ನಾಲ್ಕನೇ ಭಾಗ ಏನಾದರೂ ಮಾಡಬೇಕು ಕನಶಿಪ್ತ ಅಂದರೆ ಅವನಿಗೆ ಅವನು ರಾತ್ರಿ ಒಂದು ಎರಡು ಗಂಟೆ ಮಕಂಡರ್ತನೆ ಬೆಳಗ್ಗೆ ಏರ್ತಾನೆ ರಲ್ಲಿ ನಿಮಗೆ ಸಂಬಂಧಿಸಿದಂತೆ ಸರ್ಕಾರದ ಮುಖ್ಯಮಂತ್ರಿ ಅವರು ಮನೆಗಳಿಗೆ ಸಂಬಂಧಿಸಿದಂತೆ ಸರ್ಕಾರಿ ಸಂಪರ್ಕಿಸಿದರು ಪ್ರತಿ ತಿಂಗಳು ಮೂರನೇ ಬಾನುವರು ಬೆಳಿಗ್ಗೆ ಒಂಬತ್ತು ಗಂಟೆಗೆ ನಡೆಯುತ್ತದೆ ಕೇರಳಿ ಒಂದೇ ಕರೆ ಶ್ರೀಗಂಧ ಆಧಾರ್ ಕೃಷಿಯರನ್ನು ಅದರಲ್ಲಿ ನಿಂಬೆ ಪೇರ್ಲಾ ಸಿತಾಫಲ ಖರೀದಿಸುವ ಹೀತರ ಬೇರೆ ಬೇರೆ ಕೆಜಿ ಆರ್ಟುವುದು ಅದರೊಳಗೊಂದು ಮೂರು ನೂರು ಕಂಪನಿಗೆ ನಮಗೆ ಹತ್ತು ಕೆಜಿ ಹೋಗುತ್ತೆ ಆರು ವರ್ಷದ ಎಂಟು ಸಮಾಜಕ್ಕೂ ಅಂತಿಮ ನಮ್ಮ ಸ್ಥಳೀಯ ನಾಯಿಗಳ ನಾಯಕ್ ನಾಯಕ್ ನಾಯಕ್ ಕ್ಯಾಮೆರಾ ಸುತ್ತ ಬಿದ್ದರು ಒಂದು ಗುಣಮಟ್ಟದ ಜೀವನ ಒಂದು ಸ್ವಾಭಿಮಾನದ ಬಾರಿ ಹೌದು ಅದರ ನಾವು ಬಡಾಯಿ ಬಚ್ಚುವಂತಾಗಿದ್ದೇವೆ ಕೃತಿ ತರಬೇಕು ಮಕ್ಕಳ ಒಂದು ಆಸ್ತಿಯಾಗುತ್ತದೆ ರಲ್ಲಿ ಹೆಂಗಾಗಿ ಅದು ದೊಡ್ಡ ಪಾಪದಕ ಕೆಲಸ ಹೆಂಗಾಗಿ ಯಾರಿಗೂ ಸುಳಿವು ಆತ್ಮೂಚನೆ ಮಾಡಿಕೊಳ್ಳಬೇಕು ಎಂದು ಪರಿಸರ ಕಸರು ಕೊಟ್ಟು ಒಂದು ಸೋಸಿಯಲ್ ರಿಸ್ಪಾನ್ಸಿಬೀಟು ಅಂತಾನಾವೇನಂತಿ ಸಾಮಾಜಿಕ ಜವಾಬ್ದಾರಿ ನಿರ್ಣಯ ಮಾಡಿ ಆರ್ಥಿಕ ಬದುಕಿದೆ ಕೇರಳದಲ್ಲಿ ನಿನ್ನೆ ಸುದ್ದಿಗಾರರೊಂದಿಗೆ ಮಾತನಾಡಿದ ಅವರು ಮಾತನಾಡಿದರು ಕೇರಳದಲ್ಲಿ ನಿನ್ನೆ ಸಂಜೆ ನಾಲ್ಕು ಗಂಟೆಗೆ ಮುಂದುವರೆಯಲಿದೆ ಕೇರಳದಲ್ಲಿ ಕೊರೋನಾ ಸೋಂಕು ಹರಡದಂತೆ ಸಾವಿರದ ಕೋಟಿ ರೂಪಾಯಿ ಮಾತ್ರ ಮಾಡಬಾರದು ಎಂದು ಜಿಮ್ಮನಿ ನೀಡಿದರೆ ಇಪ್ಪತ್ತು ಗುಂಟೆ ಮಾಡಲಾರದ ಎಕರೆ ಮಾಡೋಣ ಕ್ಕೆ ಹೇಳಿದೆ ಧರ್ಮದೇ ಸುರಗಾಡಿದೆ ಸಿದ್ದರಾಮಯ್ಯ ಇಲ್ಲ ಇದೆ ಆದರೆ ಒಂದು ಗಿಡಿ ಕೇನಿಯಲ್ ಯಾರಿಗೆ ಅಂದು ಕೊಡುತ್ತದೆ ಹಾಸನಿ ಕೊಡುತ್ತದೆ ಗಾಳಿ ಕೊಡುತ್ತದೆ ಹಿಂಗಾಗಿ ಇದು ಒಂದು ಹೇನ್ ಇದೆ ನಾವು ರೈತರು ನಮ್ ಇದ್ದಭೂಮೆ ಸ್ವಲ್ಪ ನಾಕಣೆ ಇಪ್ಪತ್ತೈಸ ಅತುಪೈ ಸಾಗರ ನಾವು ಮಾಡಕ್ಕೆ ಸಾಧ್ಯವೇ ಮಾಡಬೇಕು ಹಕದಿರಿ ಅವನಿಗೆ ಕುಟುಂಬಕ್ಕೆ ಆಮೇಲೆ ನಾವು ನಾವು ನಾವು ನಾವು ನಾವು ನಾವು ಫಟ್ಟಿ ಎಲ್ಲದರ ಬಗ್ಗೆ ನೋಡ್ತಿ ಜವಾಹರ್ಲಾಲ್ ನೇರುವಂತ ನೋಡ್ತೀವಿ ಗಾಂಧೀಜಿ ಅಂತಿನಾಥ ನೋಡಿದ್ದೇನೆ ಬಗ್ಗೆ ಹೊತ್ತೇವೆ ಮೋದಿ ಬಗ್ಗೆ ಹೊತ್ತೇವೆ ಕಂಟೆಯೊಂದನ್ನು ಸರ್ಕಾರ ಮಾಡಿಕೊಂಡಿದ್ದರು ತಿಂದಂತಹ ಅನ್ನುದ್ದಗಲು ಕೂಡನ್ನು ನ್ಯಾಯಯುತವಾಗಿರುತ್ತದೆ ಅದು ಪ್ರತಿ ತಿನ್ನೊಂದು ಅನ್ನುವಾಗಲು ಕೂಡಲೇ ಕೂಡಲೇ ಸ್ವರೂಪಾಗಿ ಹಾಕಿದ ಪ್ರತಿಫಲಾಬಾದ್ ಇಂದಿಗಾಗಿ ಅದರೊಳಗೆ ಆಶಕ್ತಿ ಇದೆ ಅದು ಬಾಳ ಚರ್ಚೆ ಮಾಡಬೇಡ ನಿಮಗೆ ಗೊತ್ತಿದ್ದು ನಮಗೆ ಬಿಟ್ಟುಕೊಂಡು ಮತ್ತು ಸರ್ ಬಾಳ ಮತ್ತು ಬಿಟ್ಟಿನನ್ನು ದೇವರು ಕಲಾಮಾಧ್ಯಮದ ಎಲ್ಲಾ ಯಪಿಸುವುದು ನಿಮಗೆ ಸಿಗಬೇಕು ಅಂತಂದ್ರೆ ಕಲಾಮಾತ್ಯ ನಗರದಲ್ಲಿ ನಿನ್ನೆ ಸುದ್ದಿಗೋಷ್ಠಿಯಲ್ಲಿ ಮಾತನಾಡಿದ ಅವರು ಕೇಂದ್ರ ಸರ್ಕಾರ ಅನುಮೋದನೆ ನೀಡಿದ್ದಾರೆ\n",
      "\n",
      "File: SandalWoodNewsStories_98.txt\n",
      "Similarity Score: 0.8854806423187256\n",
      "Answer: ನ್ಯಾಸಾರಿಯಾಗಿ ವಿಶ್ವ ಬೇಸಾಯ ಪದ್ಧತಿಯಲ್ಲಿ ಕೃಷಿ ಮಾಡುವುದರಲ್ಲಿ ಈ ರೈತ ಎತ್ತಿದ ಕೈ ಪ್ರತಿ ತಿಂಗಳು ನಲವತ್ತು ರಿಂದ ಐವತ್ತು ಸಾವಿರ ರೂಪಾಯಿ ಗ್ಯಾರಂಟಿ ಬೆಳೆಸಿರುವ ಶ್ರೀಗಂಧ ನೋಡಿ ಬೆರಗಾಗಿದ್ದಾರೆ ಕೃಷಿ ಅಧಿಕಾರಿಗಳು ಅರಣ್ಯ ಇಲಾಖೆಯ ಅಧಿಕಾರಿಗಳು ಶ್ರೀಗಂಧ ನಾಟಿ ಮಾಡಿದ ಎರಡೇ ವರ್ಷಗಳಲ್ಲಿ ಹತ್ತಾರು ಒಡೆಯಷ್ಟು ಶ್ರೀಗಂಧ ಬೆಳೆಸಿದ ದಾಖಲೆ ಇವರ ಹೆಸರಿನಲ್ಲಿದೆ ಹಾಗಾದ್ರೆ ಸಮಗ್ರ ಕೃಷಿಯಿಂದ ನೆಮ್ಮದಿಯ ರಲ್ಲಿ ನಿನ್ನೆ ಸುದ್ದಿಗಾರರೊಂದಿಗೆ ಮಾತನಾಡಿದ ಅವರು ಕೇಂದ್ರ ಸರ್ಕಾರ ಕೃಷಿ ಸಚಿವ ಬಿಡುಗಡೆ ಮಾಡಿದ್ದರು ದೇವೇಗೌಡ ಅವರು ಹೇಳಿದ್ದಾರೆ ರಲ್ಲಿ ನಿನ್ನೆ ಸಾವಿರದ ಹತ್ತೊಂಬತ್ತು ರಷ್ಟು ಸಾವಿರದ ಒಂಬತ್ತು ನೂರ ಇಪ್ಪತ್ತ್’ಒಂದು ಕೋಟಿ ರೂಪಾಯಿ ಮೌಲ್ಯದ ಮೂರು ನೂರ ಎಂಬತ್ತು ಕೋಟಿ ರೂಪಾಯಿ ಮೌಲ್ಯದ ನೂರ ಎಂಬತ್ತು ಕೋಟಿ ರೂಪಾಯಿ ಮೌಲ್ಯದ ನೂರ ಹತ್ತೊಂಬತ್ತು ಕೋಟಿ ರೂಪಾಯಿ ಮೌಲ್ಯದ ನೂರ ಹತ್ತೊಂಬತ್ತು ಕೋಟಿ ರೂಪಾಯಿ ನೂರ ಹತ್ತೊಂದು ಹೆಚ್ಚಿನ ಕೋಟಿ ರೂಪಾಯಿ ಹೈನುಗಾರಿಕೆ ದನಗಳಿಗ� ರಲ್ಲಿ ನಿನ್ನೆ ಸುದ್ದಿಗಾರರೊಂದಿಗೆ ಮಾತನಾಡಿದ ಅವರು ಮಾತನಾಡಿದರು ಕೇರಳದಲ್ಲಿ ನಿನ್ನೆ ಸುದ್ದಿಗಾರರೊಂದಿಗೆ ಮಾತನಾಡಿದ ಅವರು ಮಾತನಾಡಿದರು ಚಿಗಾದಿತ್ತ ಮಾರಣ ಮಾಡಿದ್ದರು ಕೇರಳದಲ್ಲಿ ಕೊರೋನಾ ಸೋಂಕು ಹರಡದಂತೆ ಸಾವಿರದ ಒಂದು ನೂರ ಹದಿನಾಲ್ಕು ಕೋಟಿ ರೂಪಾಯಿ ಮೀರಿದಿದ್ದು ಕೇಂದ್ರ ಸರ್ಕಾರ ಕೈಗೊಂಡಿದೆ ಸಿ ಉಪಕರಣಗಳು ಮತ್ತು ಕೃಷಿ ಯಂತ್ರೋಪಕರಣಗಳನ್ನು ಸಂಗ್ರಹಿಸಿಟ್ಟುಕೊಂಡು ಸಮರ್ಪಕವಾಗಿ ಉಪಯೋಗಿಸುತ್ತಿದ್ದಾರೆ ಇನ್ನು ಇವರು ಬೆಳೆದಿರುವ ಬೆಳೆಗಳನ್ನು ರಕ್ಷಿಸಲು ಕೋಲ್ಡ್ ಸ್ಟೋರೇಜ್ ಅವಶ್ಯಕತೆ ಇದೆ ಸಾಧಕ ರೈತನ ಬಗ್ಗೆ ಇಲ್ಲಿನ ತೋಟಗಾರಿಕೆ ಇಲಾಖೆಯ ಅಧಿಕಾರಿಗಳು ಮೆಚ್ಚುಗೆ ವ್ಯಕ್ತಪಡಿಸಿದ್ದಾರೆ ಸಿಗಳನ್ನು ಅರಣ್ಯ ಇಲಾಖೆಯಿಂದ ಪಡೆದು ತಮ್ಮ ಹೊಲದಲ್ಲಿ ನಾಟಿ ಮಾಡಿದ್ದಾನೆ ಇದಕ್ಕೆ ಅರಣ್ಯ ಇಲಾಖೆಯು ಕೂಡ ಸಹಯೋಧನ ನೀಡುತ್ತಿದೆ ಎಂದು ಅರಣ್ಯ ಇಲಾಖೆಯ ಅಧಿಕಾರಿಗಳು ಹೇಳುತ್ತಿದ್ದಾರೆ ಸರಿ ಗಣ್ಯರು ಮತ್ತು ಬೇರೆಯಲ್ಲಿ ಬೆಳೆಸಿರುವಂತಹ ಏನು ವ್ಯತ್ಯಾಸ ಇದೆ ಅಂತಂದ್ರೆ ಜಾಫರ್ಮಿಯಾ ಅವರು ಬೆಳೆಸಿರುವಂತಹ ಕೆಲವೊಂದು ಸ್ಥಳೀಯಾದ ಒಂದು ಟೆಕ್ನಿಕ್ಸ್ ಗಳು ವಿಭಿನ್ನವಾಗಿದೆ ದರಗಿರಲಿ ನಿನ್ನೆ ಸುದ್ದಿಗಾರರೊಂದಿಗೆ ಮಾತನಾಡಿದ ಅವರು ಮಾತನಾಡಿದರು ಮರಳಿತದಲ್ಲಿ ನಿನ್ನೆ ಸುದ್ದಿಗಾರರೊಂದಿಗೆ ಮಾತನಾಡಿದ ಅವರು ಕೇಂದ್ರ ಸರ್ಕಾರ ಅನುಮೋದನೆ ನೀಡಿದೆ\n",
      "\n",
      "File: SandalWoodNewsStories_99.txt\n",
      "Similarity Score: 0.8802950978279114\n",
      "Answer: ಆತ ಕೃಷಿಯಲ್ಲೇ ಬದುಕು ಕಟ್ಟಿಕೊಂಡ ಅನ್ನದಾತ ಶ್ರೀಗಾಂಧದ ಬೆಳೆ ಬೆಳೆದು ಸಕ್ಸಸ್ ಕಂಡಿದ್ದ ಆತ ಈಗ ಎಲ್ಲರಿಗೂ ಮಾದರಿಯಾಗಿದ್ದಾನೆ ಕೇವಲ ನಮ್ಮ ರಾಜ್ಯದಲ್ಲಿ ಮಾತ್ರ ಅಲ್ಲದೆ ವಿದೇಶದಲ್ಲೂ ಫುಲ್ ಫೇಮಸ್ ಆಗಿದ್ದಾನೆ ಯಾರಾತ ಇಸ್ಟೋರಿ ನೋಡಿ ಎಂದು ಹಸ್ತಿರ್ಮಿಂದ ಕಂಗಳು ಸುತ್ತಿರುವುದರು ಕೇರಳದಲ್ಲಿ ಕೊರೋನಾ ಸೋಂಕು ಹರಡಿರುವ ಸಾಧ್ಯತೆ ಇದೆ ಇತ್ತೀಚೆಗಷ್ಟೇ ಆಫ್ರಿಕಾದ ಮಾಲವಿದೇಶ ವಿಶೇಷ್ ಕುಮಾರ್ ಅವರನ್ನು ತಮ್ಮ ದೇಶಕ್ಕೆ ಕರೆಸಿಕೊಂಡು ಶ್ರೀಗಂಧ ಬೆಳೆ ಹಾಗೆ ಅವುಗಳ ಲಾಲಿನ್ ಪರಿಣಾಮ ಬಗ್ಗೆ ಮಾಹಿತಿ ಪಡೆದಿದೆ ಕೇರಳದಲ್ಲಿ ನಿನ್ನೆ ಸುದ್ದಿಗಾರರೊಂದಿಗೆ ಮಾತನಾಡಿದ ಅವರು ಮಾತನಾಡಿದರು ಕೇವಲ ನಮ್ಮ ರಾಜ್ಯ ಸರ್ಕಾರಿ ಸಮಿತಿ ಸಭೆಯಲ್ಲಿ ನಿನ್ನೆ ಸಭೆಯಲ್ಲಿ ಮಾತನಾಡಿದ ಅವರು ಕಾಂಗ್ರೆಸ್ ನಾಯಕ ಮಾತನಾಡಿದ ಅವರು ಕಾಂಗ್ರೆಸ್ ನಾಯಕ ಅವರು ಮಾತನಾಡಿದರು ಅರಣ್ಯ ಇನ್ನೂ ವಿಶ್ವಕುಮಾರ್ ಹೀಗೆ ಹಲವು ರೈತರಿಗೆ ಮಾದರಿಯಾಗಿ ಅನುದೇ ಎಲ್ಲರ ಆಶಯ ದೀಪತಿ ವಿನಯನ್ ಚಿಕ್ಕಮಗಳೂರು\n",
      "Audio saved at: best_answer_audio.mp3\n",
      "Audio response saved at: best_answer_audio.mp3\n"
     ]
    }
   ],
   "source": [
    "import torch\n",
    "import warnings\n",
    "from transformers import WhisperProcessor, WhisperForConditionalGeneration\n",
    "from sentence_transformers import SentenceTransformer, util\n",
    "import librosa\n",
    "import numpy as np\n",
    "from pathlib import Path\n",
    "import json\n",
    "from gtts import gTTS\n",
    "import os\n",
    "\n",
    "class WhisperTranscriber:\n",
    "    def __init__(self, model_id=\"vasista22/whisper-kannada-tiny\"):\n",
    "        print(\"Initializing Whisper model...\")\n",
    "        self.processor = WhisperProcessor.from_pretrained(model_id)\n",
    "        self.model = WhisperForConditionalGeneration.from_pretrained(model_id)\n",
    "        \n",
    "        # Set model configuration for Kannada transcription\n",
    "        self.model.config.forced_decoder_ids = self.processor.get_decoder_prompt_ids(\n",
    "            language=\"kn\",\n",
    "            task=\"transcribe\"\n",
    "        )\n",
    "        \n",
    "        # Initialize suppress_tokens with default values if empty\n",
    "        if not hasattr(self.model.config, 'suppress_tokens') or not self.model.config.suppress_tokens:\n",
    "            self.model.config.suppress_tokens = list(range(1, 20))  # Common tokens to suppress\n",
    "            \n",
    "        print(\"Model initialized successfully\")\n",
    "\n",
    "    def load_audio(self, file_path, target_sr=16000):\n",
    "        \"\"\"Load and preprocess audio file\"\"\"\n",
    "        try:\n",
    "            y, sr = librosa.load(file_path, sr=target_sr)\n",
    "            y = librosa.util.normalize(y)\n",
    "            return y\n",
    "        except Exception as e:\n",
    "            raise RuntimeError(f\"Error loading audio file: {str(e)}\")\n",
    "\n",
    "    def transcribe_audio(self, file_path):\n",
    "        \"\"\"Transcribe an audio file (question)\"\"\"\n",
    "        try:\n",
    "            audio = self.load_audio(file_path)\n",
    "            inputs = self.processor(\n",
    "                audio,\n",
    "                sampling_rate=16000,\n",
    "                return_tensors=\"pt\"\n",
    "            ).input_features\n",
    "            \n",
    "            with torch.no_grad():\n",
    "                generated_ids = self.model.generate(\n",
    "                    inputs,\n",
    "                    do_sample=False,\n",
    "                    num_beams=1,\n",
    "                    max_length=448,\n",
    "                    suppress_tokens=self.model.config.suppress_tokens  # Explicitly pass suppress_tokens\n",
    "                )\n",
    "            \n",
    "            transcription = self.processor.batch_decode(\n",
    "                generated_ids,\n",
    "                skip_special_tokens=True\n",
    "            )[0].strip()\n",
    "            \n",
    "            if not transcription:\n",
    "                raise ValueError(\"Empty transcription generated\")\n",
    "                \n",
    "            return transcription\n",
    "            \n",
    "        except Exception as e:\n",
    "            print(f\"Error during transcription: {str(e)}\")\n",
    "            raise\n",
    "\n",
    "def search_transcriptions(question, transcriptions_folder):\n",
    "    \"\"\"Search for relevant answers in transcriptions based on semantic similarity\"\"\"\n",
    "    embeddings_model = SentenceTransformer('paraphrase-multilingual-MiniLM-L12-v2')\n",
    "    question_embedding = embeddings_model.encode(question, convert_to_tensor=True)\n",
    "    relevant_answers = {}\n",
    "\n",
    "    try:\n",
    "        transcriptions_path = Path(transcriptions_folder)\n",
    "        if not transcriptions_path.exists():\n",
    "            raise FileNotFoundError(f\"Transcriptions folder not found: {transcriptions_folder}\")\n",
    "\n",
    "        for transcription_file in transcriptions_path.glob(\"*.txt\"):\n",
    "            try:\n",
    "                with open(transcription_file, 'r', encoding='utf-8') as f:\n",
    "                    transcription_text = f.read()\n",
    "                    transcription_embedding = embeddings_model.encode(transcription_text, convert_to_tensor=True)\n",
    "                    similarity_score = util.cos_sim(question_embedding, transcription_embedding).item()\n",
    "                    \n",
    "                    if similarity_score > 0.5:  # Adjust threshold as needed\n",
    "                        relevant_answers[transcription_file.name] = {\n",
    "                            \"transcription\": transcription_text,\n",
    "                            \"similarity_score\": similarity_score\n",
    "                        }\n",
    "            except Exception as e:\n",
    "                print(f\"Error processing file {transcription_file}: {str(e)}\")\n",
    "                continue\n",
    "\n",
    "    except Exception as e:\n",
    "        print(f\"Error during transcription search: {str(e)}\")\n",
    "        raise\n",
    "\n",
    "    return relevant_answers\n",
    "\n",
    "\n",
    "\n",
    "def text_to_speech_kannada(text, output_path=\"response_audio.mp3\"):\n",
    "    \"\"\"Convert Kannada text to speech and save as an audio file\"\"\"\n",
    "    try:\n",
    "        tts = gTTS(text=text, lang=\"kn\")\n",
    "        tts.save(output_path)\n",
    "        print(f\"Audio saved at: {output_path}\")\n",
    "        return output_path\n",
    "    except Exception as e:\n",
    "        print(f\"Error during text-to-speech conversion: {str(e)}\")\n",
    "        return None\n",
    "\n",
    "def main():\n",
    "    # Configure paths\n",
    "    question_audio_path = \"D:/IIIT-B-ML/question.wav\"\n",
    "    transcriptions_folder = \"D:/IIIT-B-ML/transcriptions\"\n",
    "    \n",
    "    # Suppress warnings\n",
    "    warnings.filterwarnings(\"ignore\", category=UserWarning)\n",
    "    \n",
    "    try:\n",
    "        # Step 1: Transcribe the question audio\n",
    "        transcriber = WhisperTranscriber()\n",
    "        question_text = transcriber.transcribe_audio(question_audio_path)\n",
    "        print(f\"Question Transcription: {question_text}\")\n",
    "        \n",
    "        # Step 2: Search for relevant answers\n",
    "        relevant_answers = search_transcriptions(question_text, transcriptions_folder)\n",
    "        \n",
    "        # Display results and find the best answer\n",
    "        print(\"\\nRelevant Answers:\")\n",
    "        best_answer = None\n",
    "        best_score = -1\n",
    "        \n",
    "        for filename, result in relevant_answers.items():\n",
    "            print(f\"\\nFile: {filename}\")\n",
    "            print(f\"Similarity Score: {result['similarity_score']}\")\n",
    "            print(f\"Answer: {result['transcription']}\")\n",
    "            \n",
    "            # Update the best answer\n",
    "            if result['similarity_score'] > best_score:\n",
    "                best_score = result['similarity_score']\n",
    "                best_answer = result['transcription']\n",
    "        \n",
    "        # Convert the best answer to audio\n",
    "        if best_answer:\n",
    "            audio_file = text_to_speech_kannada(best_answer, output_path=\"best_answer_audio.mp3\")\n",
    "            print(f\"Audio response saved at: {audio_file}\")\n",
    "        else:\n",
    "            print(\"No relevant answers found.\")\n",
    "            \n",
    "    except Exception as e:\n",
    "        print(f\"Error in main execution: {str(e)}\")\n",
    "        raise\n",
    "\n",
    "if __name__ == \"__main__\":\n",
    "    main()\n"
   ]
  },
  {
   "cell_type": "code",
   "execution_count": 2,
   "metadata": {},
   "outputs": [
    {
     "name": "stdout",
     "output_type": "stream",
     "text": [
      "Initializing Whisper model...\n",
      "Model initialized successfully\n",
      "Welcome to the Kannada Audio Q&A System!\n",
      "You can ask questions in Kannada, and I'll provide answers with audio responses.\n",
      "\n",
      "Options:\n",
      "1. Ask a question (record audio)\n",
      "2. Exit\n",
      "\n",
      "Recording for 10 seconds... Speak your question now!\n",
      "Recording finished!\n"
     ]
    },
    {
     "name": "stderr",
     "output_type": "stream",
     "text": [
      "The attention mask is not set and cannot be inferred from input because pad token is same as eos token. As a consequence, you may observe unexpected behavior. Please pass your input's `attention_mask` to obtain reliable results.\n"
     ]
    },
    {
     "name": "stdout",
     "output_type": "stream",
     "text": [
      "\n",
      "Your Question (transcribed): ಹಲೆಯು\n",
      "\n",
      "Best Answer: ಮುಖ್ಯಾಂಶಗಳು ಮುಖ್ಯಾಂಶಗಳು ಮುಖ್ಯಮಂತ್ರಿ ಎಚ್\n",
      "\n",
      "Generating audio response...\n",
      "Audio response saved at: audio_qa_sessions\\20241117_202316\\response.mp3\n",
      "\n",
      "Playing response...\n",
      "\n",
      "Options:\n",
      "1. Ask a question (record audio)\n",
      "2. Exit\n",
      "Thank you for using the Kannada Audio Q&A System. Goodbye!\n"
     ]
    }
   ],
   "source": [
    "import torch\n",
    "import warnings\n",
    "from transformers import WhisperProcessor, WhisperForConditionalGeneration\n",
    "from sentence_transformers import SentenceTransformer, util\n",
    "import librosa\n",
    "import numpy as np\n",
    "from pathlib import Path\n",
    "import json\n",
    "from gtts import gTTS\n",
    "import os\n",
    "import sounddevice as sd\n",
    "import soundfile as sf\n",
    "import time\n",
    "import wave\n",
    "from datetime import datetime\n",
    "\n",
    "class AudioRecorder:\n",
    "    def __init__(self, sample_rate=16000):\n",
    "        self.sample_rate = sample_rate\n",
    "        self.channels = 1\n",
    "        self.dtype = 'float32'\n",
    "        \n",
    "    def record_audio(self, duration=10, output_path=\"recorded_question.wav\"):\n",
    "        \"\"\"Record audio for a specified duration\"\"\"\n",
    "        print(f\"\\nRecording for {duration} seconds... Speak your question now!\")\n",
    "        \n",
    "        # Record audio\n",
    "        recording = sd.rec(\n",
    "            int(duration * self.sample_rate),\n",
    "            samplerate=self.sample_rate,\n",
    "            channels=self.channels,\n",
    "            dtype=self.dtype\n",
    "        )\n",
    "        \n",
    "        # Wait for recording to complete\n",
    "        sd.wait()\n",
    "        print(\"Recording finished!\")\n",
    "        \n",
    "        # Normalize the audio\n",
    "        recording = librosa.util.normalize(recording.flatten())\n",
    "        \n",
    "        # Save the recording\n",
    "        sf.write(output_path, recording, self.sample_rate)\n",
    "        return output_path\n",
    "\n",
    "class WhisperTranscriber:\n",
    "    def __init__(self, model_id=\"vasista22/whisper-kannada-tiny\"):\n",
    "        print(\"Initializing Whisper model...\")\n",
    "        self.processor = WhisperProcessor.from_pretrained(model_id)\n",
    "        self.model = WhisperForConditionalGeneration.from_pretrained(model_id)\n",
    "        \n",
    "        self.model.config.forced_decoder_ids = self.processor.get_decoder_prompt_ids(\n",
    "            language=\"kn\",\n",
    "            task=\"transcribe\"\n",
    "        )\n",
    "        \n",
    "        if not hasattr(self.model.config, 'suppress_tokens') or not self.model.config.suppress_tokens:\n",
    "            self.model.config.suppress_tokens = list(range(1, 20))\n",
    "            \n",
    "        print(\"Model initialized successfully\")\n",
    "\n",
    "    def load_audio(self, file_path, target_sr=16000):\n",
    "        try:\n",
    "            y, sr = librosa.load(file_path, sr=target_sr)\n",
    "            y = librosa.util.normalize(y)\n",
    "            return y\n",
    "        except Exception as e:\n",
    "            raise RuntimeError(f\"Error loading audio file: {str(e)}\")\n",
    "\n",
    "    def transcribe_audio(self, file_path):\n",
    "        try:\n",
    "            audio = self.load_audio(file_path)\n",
    "            inputs = self.processor(\n",
    "                audio,\n",
    "                sampling_rate=16000,\n",
    "                return_tensors=\"pt\"\n",
    "            ).input_features\n",
    "            \n",
    "            with torch.no_grad():\n",
    "                generated_ids = self.model.generate(\n",
    "                    inputs,\n",
    "                    do_sample=False,\n",
    "                    num_beams=1,\n",
    "                    max_length=448,\n",
    "                    suppress_tokens=self.model.config.suppress_tokens\n",
    "                )\n",
    "            \n",
    "            transcription = self.processor.batch_decode(\n",
    "                generated_ids,\n",
    "                skip_special_tokens=True\n",
    "            )[0].strip()\n",
    "            \n",
    "            if not transcription:\n",
    "                raise ValueError(\"Empty transcription generated\")\n",
    "                \n",
    "            return transcription\n",
    "            \n",
    "        except Exception as e:\n",
    "            print(f\"Error during transcription: {str(e)}\")\n",
    "            raise\n",
    "\n",
    "def search_transcriptions(question, transcriptions_folder):\n",
    "    embeddings_model = SentenceTransformer('paraphrase-multilingual-MiniLM-L12-v2')\n",
    "    question_embedding = embeddings_model.encode(question, convert_to_tensor=True)\n",
    "    relevant_answers = {}\n",
    "\n",
    "    try:\n",
    "        transcriptions_path = Path(transcriptions_folder)\n",
    "        if not transcriptions_path.exists():\n",
    "            raise FileNotFoundError(f\"Transcriptions folder not found: {transcriptions_folder}\")\n",
    "\n",
    "        for transcription_file in transcriptions_path.glob(\"*.txt\"):\n",
    "            try:\n",
    "                with open(transcription_file, 'r', encoding='utf-8') as f:\n",
    "                    transcription_text = f.read()\n",
    "                    transcription_embedding = embeddings_model.encode(transcription_text, convert_to_tensor=True)\n",
    "                    similarity_score = util.cos_sim(question_embedding, transcription_embedding).item()\n",
    "                    \n",
    "                    if similarity_score > 0.5:\n",
    "                        relevant_answers[transcription_file.name] = {\n",
    "                            \"transcription\": transcription_text,\n",
    "                            \"similarity_score\": similarity_score\n",
    "                        }\n",
    "            except Exception as e:\n",
    "                print(f\"Error processing file {transcription_file}: {str(e)}\")\n",
    "                continue\n",
    "\n",
    "    except Exception as e:\n",
    "        print(f\"Error during transcription search: {str(e)}\")\n",
    "        raise\n",
    "\n",
    "    return relevant_answers\n",
    "\n",
    "def text_to_speech_kannada(text, output_path=\"response_audio.mp3\"):\n",
    "    try:\n",
    "        tts = gTTS(text=text, lang=\"kn\")\n",
    "        tts.save(output_path)\n",
    "        print(f\"Audio response saved at: {output_path}\")\n",
    "        return output_path\n",
    "    except Exception as e:\n",
    "        print(f\"Error during text-to-speech conversion: {str(e)}\")\n",
    "        return None\n",
    "\n",
    "def play_audio(file_path):\n",
    "    \"\"\"Play an audio file\"\"\"\n",
    "    try:\n",
    "        data, samplerate = sf.read(file_path)\n",
    "        sd.play(data, samplerate)\n",
    "        sd.wait()\n",
    "    except Exception as e:\n",
    "        print(f\"Error playing audio: {str(e)}\")\n",
    "\n",
    "def main():\n",
    "    # Configure paths\n",
    "    transcriptions_folder = \"D:/IIIT-B-ML/transcriptions\"\n",
    "    output_folder = Path(\"audio_qa_sessions\")\n",
    "    output_folder.mkdir(exist_ok=True)\n",
    "    \n",
    "    # Initialize components\n",
    "    recorder = AudioRecorder()\n",
    "    transcriber = WhisperTranscriber()\n",
    "    \n",
    "    # Suppress warnings\n",
    "    warnings.filterwarnings(\"ignore\", category=UserWarning)\n",
    "    \n",
    "    print(\"Welcome to the Kannada Audio Q&A System!\")\n",
    "    print(\"You can ask questions in Kannada, and I'll provide answers with audio responses.\")\n",
    "    \n",
    "    while True:\n",
    "        try:\n",
    "            # Create a session folder with timestamp\n",
    "            session_time = datetime.now().strftime(\"%Y%m%d_%H%M%S\")\n",
    "            session_folder = output_folder / session_time\n",
    "            session_folder.mkdir(exist_ok=True)\n",
    "            \n",
    "            print(\"\\nOptions:\")\n",
    "            print(\"1. Ask a question (record audio)\")\n",
    "            print(\"2. Exit\")\n",
    "            \n",
    "            choice = input(\"\\nEnter your choice (1 or 2): \")\n",
    "            \n",
    "            if choice == \"2\":\n",
    "                print(\"Thank you for using the Kannada Audio Q&A System. Goodbye!\")\n",
    "                break\n",
    "                \n",
    "            elif choice == \"1\":\n",
    "                # Record the question\n",
    "                question_audio_path = session_folder / \"question.wav\"\n",
    "                recorder.record_audio(duration=10, output_path=str(question_audio_path))\n",
    "                \n",
    "                # Transcribe the question\n",
    "                question_text = transcriber.transcribe_audio(str(question_audio_path))\n",
    "                print(f\"\\nYour Question (transcribed): {question_text}\")\n",
    "                \n",
    "                # Search for relevant answers\n",
    "                relevant_answers = search_transcriptions(question_text, transcriptions_folder)\n",
    "                \n",
    "                # Find the best answer\n",
    "                best_answer = None\n",
    "                best_score = -1\n",
    "                \n",
    "                for filename, result in relevant_answers.items():\n",
    "                    if result['similarity_score'] > best_score:\n",
    "                        best_score = result['similarity_score']\n",
    "                        best_answer = result['transcription']\n",
    "                \n",
    "                # Generate and play audio response\n",
    "                if best_answer:\n",
    "                    print(\"\\nBest Answer:\", best_answer)\n",
    "                    print(\"\\nGenerating audio response...\")\n",
    "                    \n",
    "                    response_audio_path = session_folder / \"response.mp3\"\n",
    "                    audio_file = text_to_speech_kannada(best_answer, str(response_audio_path))\n",
    "                    \n",
    "                    if audio_file:\n",
    "                        print(\"\\nPlaying response...\")\n",
    "                        play_audio(audio_file)\n",
    "                else:\n",
    "                    print(\"\\nSorry, I couldn't find a relevant answer to your question.\")\n",
    "                \n",
    "            else:\n",
    "                print(\"Invalid choice. Please try again.\")\n",
    "                \n",
    "        except Exception as e:\n",
    "            print(f\"\\nError: {str(e)}\")\n",
    "            print(\"Please try again.\")\n",
    "            continue\n",
    "\n",
    "if __name__ == \"__main__\":\n",
    "    main()"
   ]
  }
 ],
 "metadata": {
  "kernelspec": {
   "display_name": "Python 3",
   "language": "python",
   "name": "python3"
  },
  "language_info": {
   "codemirror_mode": {
    "name": "ipython",
    "version": 3
   },
   "file_extension": ".py",
   "mimetype": "text/x-python",
   "name": "python",
   "nbconvert_exporter": "python",
   "pygments_lexer": "ipython3",
   "version": "3.12.4"
  }
 },
 "nbformat": 4,
 "nbformat_minor": 2
}
